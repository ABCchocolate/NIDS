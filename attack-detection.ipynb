{
 "cells": [
  {
   "cell_type": "markdown",
   "id": "cc559a0d",
   "metadata": {
    "papermill": {
     "duration": 0.169907,
     "end_time": "2021-12-22T10:13:33.371065",
     "exception": false,
     "start_time": "2021-12-22T10:13:33.201158",
     "status": "completed"
    },
    "tags": []
   },
   "source": [
    "what happend in this notebook:\n",
    "* EDA\n",
    "* Data Visualization\n",
    "* Feature Selection\n",
    "* Binary Classification\n",
    "* Multi-class Classification"
   ]
  },
  {
   "cell_type": "markdown",
   "id": "8a9e22c1",
   "metadata": {
    "papermill": {
     "duration": 0.160609,
     "end_time": "2021-12-22T10:13:33.692086",
     "exception": false,
     "start_time": "2021-12-22T10:13:33.531477",
     "status": "completed"
    },
    "tags": []
   },
   "source": [
    "Models that used:\n",
    "* Linear Support Vector Machine Classifier with Linear Kernel (Binary Classification)\n",
    "* Quadratic Support Vector Machine Classifier (Binary Classification)\n",
    "* K-nearest-neighbor Classifier (Binary Classification)\n",
    "* Long Short-Term Memory Classifier (Binary Classification)\n",
    "* K-nearest-neighbor Classifier (Multi-class Classification)\n",
    "* Multi Layer Perceptron Classifier (Multi-class Classification)"
   ]
  },
  {
   "cell_type": "markdown",
   "id": "8a8095be",
   "metadata": {
    "id": "DskfeDeASI2l",
    "papermill": {
     "duration": 0.149836,
     "end_time": "2021-12-22T10:13:34.001334",
     "exception": false,
     "start_time": "2021-12-22T10:13:33.851498",
     "status": "completed"
    },
    "tags": []
   },
   "source": [
    "# **Required Packages**"
   ]
  },
  {
   "cell_type": "code",
   "execution_count": 1,
   "id": "f706078b",
   "metadata": {
    "execution": {
     "iopub.execute_input": "2021-12-22T10:13:34.316661Z",
     "iopub.status.busy": "2021-12-22T10:13:34.315447Z",
     "iopub.status.idle": "2021-12-22T10:13:42.703682Z",
     "shell.execute_reply": "2021-12-22T10:13:42.704270Z",
     "shell.execute_reply.started": "2021-12-22T08:56:02.449406Z"
    },
    "id": "CXLfwvHPvXWT",
    "papermill": {
     "duration": 8.547198,
     "end_time": "2021-12-22T10:13:42.704581",
     "exception": false,
     "start_time": "2021-12-22T10:13:34.157383",
     "status": "completed"
    },
    "tags": []
   },
   "outputs": [
    {
     "ename": "ModuleNotFoundError",
     "evalue": "No module named 'numpy'",
     "output_type": "error",
     "traceback": [
      "\u001b[0;31m---------------------------------------------------------------------------\u001b[0m",
      "\u001b[0;31mModuleNotFoundError\u001b[0m                       Traceback (most recent call last)",
      "Cell \u001b[0;32mIn[1], line 2\u001b[0m\n\u001b[1;32m      1\u001b[0m \u001b[39m# importing required libraries\u001b[39;00m\n\u001b[0;32m----> 2\u001b[0m \u001b[39mimport\u001b[39;00m \u001b[39mnumpy\u001b[39;00m \u001b[39mas\u001b[39;00m \u001b[39mnp\u001b[39;00m\n\u001b[1;32m      3\u001b[0m \u001b[39mimport\u001b[39;00m \u001b[39mpandas\u001b[39;00m \u001b[39mas\u001b[39;00m \u001b[39mpd\u001b[39;00m\n\u001b[1;32m      5\u001b[0m \u001b[39mimport\u001b[39;00m \u001b[39mpickle\u001b[39;00m \u001b[39m# saving and loading trained model\u001b[39;00m\n",
      "\u001b[0;31mModuleNotFoundError\u001b[0m: No module named 'numpy'"
     ]
    }
   ],
   "source": [
    "# importing required libraries\n",
    "import numpy as np\n",
    "import pandas as pd\n",
    "\n",
    "import pickle # saving and loading trained model\n",
    "from os import path\n",
    "\n",
    "# importing required libraries for normalizing data\n",
    "from sklearn import preprocessing\n",
    "from sklearn.preprocessing import (StandardScaler, OrdinalEncoder,LabelEncoder, MinMaxScaler, OneHotEncoder)\n",
    "from sklearn.feature_extraction.text import CountVectorizer\n",
    "from sklearn.preprocessing import Normalizer, MaxAbsScaler , RobustScaler, PowerTransformer\n",
    "\n",
    "# importing library for plotting\n",
    "import matplotlib.pyplot as plt\n",
    "#plt.rcParams.update({'font.size': 22})\n",
    "\n",
    "import seaborn as sns\n",
    "\n",
    "import joblib\n",
    "from sklearn.ensemble import RandomForestRegressor, RandomForestClassifier\n",
    "from mlxtend.feature_selection import SequentialFeatureSelector as SFS # for feature selection \n",
    "\n",
    "# importing library for support vector machine classifier\n",
    "from sklearn.svm import SVC\n",
    "# importing library for K-neares-neighbor classifier\n",
    "from sklearn.neighbors import KNeighborsClassifier\n",
    "# importing library for Linear Discriminant Analysis Model\n",
    "from sklearn.discriminant_analysis import LinearDiscriminantAnalysis\n",
    "# importing library for Quadratic Discriminant Analysis Model\n",
    "from sklearn.discriminant_analysis import QuadraticDiscriminantAnalysis\n",
    "\n",
    "from sklearn import metrics\n",
    "from sklearn.metrics import accuracy_score # for calculating accuracy of model\n",
    "from sklearn.model_selection import train_test_split # for splitting the dataset for training and testing\n",
    "from sklearn.metrics import classification_report # for generating a classification report of model\n",
    "\n",
    "from sklearn.metrics import precision_score\n",
    "from sklearn.metrics import recall_score\n",
    "from sklearn.metrics import f1_score\n",
    "\n",
    "from sklearn.metrics import roc_auc_score\n",
    "from sklearn.metrics import roc_curve, auc\n",
    "\n",
    "import tensorflow as tf\n",
    "from tensorflow.keras.utils import to_categorical\n",
    "\n",
    "from keras.layers import Dense # importing dense layer\n",
    "from keras.models import Sequential #importing Sequential layer\n",
    "from keras.models import model_from_json # saving and loading trained model\n",
    "\n",
    "from keras.layers import LSTM\n",
    "from keras.layers import Input\n",
    "from keras.models import Model\n",
    "\n",
    "# representation of model layers\n",
    "from keras_vis.utils import vis_utils\n",
    "from keras.utils.vis_utils import plot_model"
   ]
  },
  {
   "cell_type": "markdown",
   "id": "967b395b",
   "metadata": {
    "id": "hK87yYPmigPF",
    "papermill": {
     "duration": 0.151789,
     "end_time": "2021-12-22T10:13:43.006432",
     "exception": false,
     "start_time": "2021-12-22T10:13:42.854643",
     "status": "completed"
    },
    "tags": []
   },
   "source": [
    "# **Reading And Understanding Data**\n",
    "\n",
    "* Load dataset\n",
    "* Some statistical Computation\n",
    "\n",
    "\n",
    "\n",
    "\n",
    "\n"
   ]
  },
  {
   "cell_type": "markdown",
   "id": "a87c0bbc",
   "metadata": {
    "id": "XgFIb5Z1UI_X",
    "papermill": {
     "duration": 0.151623,
     "end_time": "2021-12-22T10:13:43.309810",
     "exception": false,
     "start_time": "2021-12-22T10:13:43.158187",
     "status": "completed"
    },
    "tags": []
   },
   "source": [
    "## Reading Data"
   ]
  },
  {
   "cell_type": "markdown",
   "id": "9e963c6f",
   "metadata": {
    "id": "YFhwuslWsKKq",
    "papermill": {
     "duration": 0.153979,
     "end_time": "2021-12-22T10:13:43.619136",
     "exception": false,
     "start_time": "2021-12-22T10:13:43.465157",
     "status": "completed"
    },
    "tags": []
   },
   "source": [
    "Have you ever wondered how your computer/network is able to avoid being infected with malware and bad traffic inputs from the internet? \n",
    "The reason why it can detect it so well is because there are systems in place to protect your valuable information held in your computer or networks. These systems that detect malicious traffic inputs are called **Intrusion Detection Systems (IDS)** and are **trained on internet traffic record data**. **The most common data set** is the **NSL-KDD**, and is the benchmark for modern-day internet traffic."
   ]
  },
  {
   "cell_type": "markdown",
   "id": "81e5e6c4",
   "metadata": {
    "id": "vC_NgGfGtPaq",
    "papermill": {
     "duration": 0.155536,
     "end_time": "2021-12-22T10:13:43.936038",
     "exception": false,
     "start_time": "2021-12-22T10:13:43.780502",
     "status": "completed"
    },
    "tags": []
   },
   "source": [
    "This data set is comprised of **four sub data sets**: **KDDTest+**, **KDDTest-21**,** KDDTrain+**, **KDDTrain+_20Percent**, although **KDDTest-21** and **KDDTrain+_20Percent are subsets of the KDDTrain+ and KDDTest+**. From now on, **KDDTrain+ will be referred to as train** and **KDDTest+ will be referred to as test**. The **KDDTest-21 is a subset of test, without the most difficult traffic records (Score of 21)**, and the **KDDTrain+_20Percent is a subset of train**, whose record count makes up** 20% of the entire train dataset**. That being said, the traffic records that exist in the KDDTest-21 and KDDTrain+_20Percent are already in test and train respectively and aren’t new records held out of either dataset."
   ]
  },
  {
   "cell_type": "markdown",
   "id": "42507986",
   "metadata": {
    "id": "my1NXEA9t1vV",
    "papermill": {
     "duration": 0.155768,
     "end_time": "2021-12-22T10:13:44.243094",
     "exception": false,
     "start_time": "2021-12-22T10:13:44.087326",
     "status": "completed"
    },
    "tags": []
   },
   "source": [
    "These data sets contain the **records of the internet traffic** seen by a simple intrusion detection network and are the ghosts of the traffic encountered by a real IDS and just the traces of its existence remains. The data set contains **43 features** per record, with **41 of the features referring to the traffic input** itself and the **last two are labels** (whether it is a normal or attack) and **Score** (the severity of the traffic input itself)."
   ]
  },
  {
   "cell_type": "code",
   "execution_count": null,
   "id": "e29c0969",
   "metadata": {
    "execution": {
     "iopub.execute_input": "2021-12-22T10:13:44.559915Z",
     "iopub.status.busy": "2021-12-22T10:13:44.558768Z",
     "iopub.status.idle": "2021-12-22T10:13:44.563412Z",
     "shell.execute_reply": "2021-12-22T10:13:44.563941Z",
     "shell.execute_reply.started": "2021-12-22T08:57:28.896356Z"
    },
    "id": "G6eNs0qhgTdJ",
    "papermill": {
     "duration": 0.165846,
     "end_time": "2021-12-22T10:13:44.564116",
     "exception": false,
     "start_time": "2021-12-22T10:13:44.398270",
     "status": "completed"
    },
    "tags": []
   },
   "outputs": [],
   "source": [
    "train = '../input/nslkdd/KDDTrain+.txt'\n",
    "test = '../input/nslkdd/KDDTest+.txt'\n",
    "test21 = '../input/nslkdd/KDDTest-21.txt'"
   ]
  },
  {
   "cell_type": "code",
   "execution_count": null,
   "id": "6ffe7c97",
   "metadata": {
    "execution": {
     "iopub.execute_input": "2021-12-22T10:13:44.891334Z",
     "iopub.status.busy": "2021-12-22T10:13:44.890502Z",
     "iopub.status.idle": "2021-12-22T10:13:44.893222Z",
     "shell.execute_reply": "2021-12-22T10:13:44.893725Z",
     "shell.execute_reply.started": "2021-12-22T08:57:32.283912Z"
    },
    "id": "TSdvFAkVhBbF",
    "papermill": {
     "duration": 0.176908,
     "end_time": "2021-12-22T10:13:44.893909",
     "exception": false,
     "start_time": "2021-12-22T10:13:44.717001",
     "status": "completed"
    },
    "tags": []
   },
   "outputs": [],
   "source": [
    "feature=[\"duration\",\"protocol_type\",\"service\",\"flag\",\"src_bytes\",\"dst_bytes\",\"land\",\"wrong_fragment\",\"urgent\",\"hot\",\n",
    "          \"num_failed_logins\",\"logged_in\",\"num_compromised\",\"root_shell\",\"su_attempted\",\"num_root\",\"num_file_creations\",\"num_shells\",\n",
    "          \"num_access_files\",\"num_outbound_cmds\",\"is_host_login\",\"is_guest_login\",\"count\",\"srv_count\",\"serror_rate\",\"srv_serror_rate\",\n",
    "          \"rerror_rate\",\"srv_rerror_rate\",\"same_srv_rate\",\"diff_srv_rate\",\"srv_diff_host_rate\",\"dst_host_count\",\"dst_host_srv_count\", \n",
    "          \"dst_host_same_srv_rate\",\"dst_host_diff_srv_rate\",\"dst_host_same_src_port_rate\",\"dst_host_srv_diff_host_rate\",\"dst_host_serror_rate\",\n",
    "          \"dst_host_srv_serror_rate\",\"dst_host_rerror_rate\",\"dst_host_srv_rerror_rate\",\"label\",\"difficulty\"]\n",
    "\n",
    "flag=['OTH','RSTOS0','SF','SH','RSTO','S2','S1','REJ','S3','RSTR','S0']\n",
    "\n",
    "protocol_type=['tcp','udp','icmp']\n",
    "\n",
    "service=['http','smtp','finger','domain_u','auth','telnet','ftp','eco_i','ntp_u','ecr_i','other','private','pop_3','ftp_data',\n",
    "                  'rje','time','mtp','link','remote_job','gopher','ssh','name','whois','domain','login','imap4','daytime','ctf','nntp',\n",
    "                  'shell','IRC','nnsp','http_443','exec','printer','efs','courier','uucp','klogin','kshell','echo','discard','systat',\n",
    "                  'supdup','iso_tsap','hostnames','csnet_ns','pop_2','sunrpc','uucp_path','netbios_ns','netbios_ssn','netbios_dgm',\n",
    "                  'sql_net','vmnet','bgp','Z39_50','ldap','netstat','urh_i','X11','urp_i','pm_dump','tftp_u','tim_i','red_i','icmp',\n",
    "                  'http_2784','harvest','aol','http_8001']\n",
    "\n",
    "binary_attack=['normal','ipsweep', 'nmap', 'portsweep','satan', 'saint', 'mscan','back', 'land', 'neptune', 'pod', 'smurf',\n",
    "               'teardrop', 'apache2', 'udpstorm', 'processtable','mailbomb','buffer_overflow', 'loadmodule', 'perl', 'rootkit',\n",
    "               'xterm', 'ps', 'sqlattack','ftp_write', 'guess_passwd', 'imap', 'multihop','phf', 'spy', 'warezclient',\n",
    "               'warezmaster','snmpgetattack','named', 'xlock', 'xsnoop','sendmail', 'httptunnel', 'worm', 'snmpguess']\n",
    "\n",
    "multiclass_attack={ 'normal': 'normal',\n",
    "        'probe': ['ipsweep.', 'nmap.', 'portsweep.','satan.', 'saint.', 'mscan.'],\n",
    "        'dos': ['back.', 'land.', 'neptune.', 'pod.', 'smurf.','teardrop.', 'apache2.', 'udpstorm.', 'processtable.','mailbomb.'],\n",
    "        'u2r': ['buffer_overflow.', 'loadmodule.', 'perl.', 'rootkit.','xterm.', 'ps.', 'sqlattack.'],\n",
    "        'r2l': ['ftp_write.', 'guess_passwd.', 'imap.', 'multihop.','phf.', 'spy.', 'warezclient.', 'warezmaster.','snmpgetattack.',\n",
    "                   'named.', 'xlock.', 'xsnoop.','sendmail.', 'httptunnel.', 'worm.', 'snmpguess.']}  "
   ]
  },
  {
   "cell_type": "code",
   "execution_count": null,
   "id": "146216fd",
   "metadata": {
    "execution": {
     "iopub.execute_input": "2021-12-22T10:13:45.214162Z",
     "iopub.status.busy": "2021-12-22T10:13:45.213472Z",
     "iopub.status.idle": "2021-12-22T10:13:46.217514Z",
     "shell.execute_reply": "2021-12-22T10:13:46.216782Z",
     "shell.execute_reply.started": "2021-12-22T08:57:35.059694Z"
    },
    "id": "mu4fXAznhB6z",
    "papermill": {
     "duration": 1.164753,
     "end_time": "2021-12-22T10:13:46.217703",
     "exception": false,
     "start_time": "2021-12-22T10:13:45.052950",
     "status": "completed"
    },
    "tags": []
   },
   "outputs": [],
   "source": [
    "train_data=pd.read_csv(train,names=feature)\n",
    "test_data=pd.read_csv(test,names=feature)"
   ]
  },
  {
   "cell_type": "code",
   "execution_count": null,
   "id": "93bcc63d",
   "metadata": {
    "execution": {
     "iopub.execute_input": "2021-12-22T10:13:46.537982Z",
     "iopub.status.busy": "2021-12-22T10:13:46.537296Z",
     "iopub.status.idle": "2021-12-22T10:13:46.617082Z",
     "shell.execute_reply": "2021-12-22T10:13:46.616506Z",
     "shell.execute_reply.started": "2021-12-22T08:57:38.679591Z"
    },
    "id": "mRCm4uU-hFw8",
    "papermill": {
     "duration": 0.236696,
     "end_time": "2021-12-22T10:13:46.617220",
     "exception": false,
     "start_time": "2021-12-22T10:13:46.380524",
     "status": "completed"
    },
    "tags": []
   },
   "outputs": [],
   "source": [
    "test_21 = pd.read_csv(test21, names= feature)"
   ]
  },
  {
   "cell_type": "code",
   "execution_count": null,
   "id": "8c139206",
   "metadata": {
    "execution": {
     "iopub.execute_input": "2021-12-22T10:13:46.929597Z",
     "iopub.status.busy": "2021-12-22T10:13:46.928887Z",
     "iopub.status.idle": "2021-12-22T10:13:46.996364Z",
     "shell.execute_reply": "2021-12-22T10:13:46.996911Z",
     "shell.execute_reply.started": "2021-12-22T08:57:39.404275Z"
    },
    "id": "Aerw00jLh4pN",
    "outputId": "2e679869-58fe-4b66-f18b-e45e366e847f",
    "papermill": {
     "duration": 0.230878,
     "end_time": "2021-12-22T10:13:46.997105",
     "exception": false,
     "start_time": "2021-12-22T10:13:46.766227",
     "status": "completed"
    },
    "tags": []
   },
   "outputs": [],
   "source": [
    "train_data"
   ]
  },
  {
   "cell_type": "code",
   "execution_count": null,
   "id": "49fdc278",
   "metadata": {
    "execution": {
     "iopub.execute_input": "2021-12-22T10:13:47.319314Z",
     "iopub.status.busy": "2021-12-22T10:13:47.318569Z",
     "iopub.status.idle": "2021-12-22T10:13:47.335473Z",
     "shell.execute_reply": "2021-12-22T10:13:47.334907Z",
     "shell.execute_reply.started": "2021-12-22T08:57:39.964868Z"
    },
    "id": "nJsnY25htWvD",
    "outputId": "8ac42646-5511-4667-d343-ffba43fcdece",
    "papermill": {
     "duration": 0.183209,
     "end_time": "2021-12-22T10:13:47.335626",
     "exception": false,
     "start_time": "2021-12-22T10:13:47.152417",
     "status": "completed"
    },
    "tags": []
   },
   "outputs": [],
   "source": [
    "# remove attribute 'difficulty_level'\n",
    "train_data.drop(['difficulty'],axis=1,inplace=True)\n",
    "train_data.shape"
   ]
  },
  {
   "cell_type": "markdown",
   "id": "ef7584bb",
   "metadata": {
    "id": "F8yAoyCsUPe_",
    "papermill": {
     "duration": 0.156111,
     "end_time": "2021-12-22T10:13:47.646754",
     "exception": false,
     "start_time": "2021-12-22T10:13:47.490643",
     "status": "completed"
    },
    "tags": []
   },
   "source": [
    "## Data Type Checking and Statistical Reports"
   ]
  },
  {
   "cell_type": "code",
   "execution_count": null,
   "id": "8316b234",
   "metadata": {
    "execution": {
     "iopub.execute_input": "2021-12-22T10:13:47.963355Z",
     "iopub.status.busy": "2021-12-22T10:13:47.962339Z",
     "iopub.status.idle": "2021-12-22T10:13:48.049176Z",
     "shell.execute_reply": "2021-12-22T10:13:48.049855Z",
     "shell.execute_reply.started": "2021-12-22T08:57:42.452233Z"
    },
    "id": "A6SVqr3EnPzS",
    "outputId": "af9cb89d-c743-4a9d-985b-8bb0f85a7a47",
    "papermill": {
     "duration": 0.248261,
     "end_time": "2021-12-22T10:13:48.050050",
     "exception": false,
     "start_time": "2021-12-22T10:13:47.801789",
     "status": "completed"
    },
    "tags": []
   },
   "outputs": [],
   "source": [
    "train_data.info()"
   ]
  },
  {
   "cell_type": "code",
   "execution_count": null,
   "id": "e5b88b8d",
   "metadata": {
    "execution": {
     "iopub.execute_input": "2021-12-22T10:13:48.366775Z",
     "iopub.status.busy": "2021-12-22T10:13:48.365706Z",
     "iopub.status.idle": "2021-12-22T10:13:48.634919Z",
     "shell.execute_reply": "2021-12-22T10:13:48.635458Z",
     "shell.execute_reply.started": "2021-12-22T08:57:43.085133Z"
    },
    "id": "lpUo7BhojW5a",
    "outputId": "3e138bff-97ad-445c-d840-f843d59a43e6",
    "papermill": {
     "duration": 0.430867,
     "end_time": "2021-12-22T10:13:48.635631",
     "exception": false,
     "start_time": "2021-12-22T10:13:48.204764",
     "status": "completed"
    },
    "tags": []
   },
   "outputs": [],
   "source": [
    "train_data.describe().T"
   ]
  },
  {
   "cell_type": "code",
   "execution_count": null,
   "id": "bb8c0fba",
   "metadata": {
    "execution": {
     "iopub.execute_input": "2021-12-22T10:13:48.967719Z",
     "iopub.status.busy": "2021-12-22T10:13:48.966982Z",
     "iopub.status.idle": "2021-12-22T10:13:48.975022Z",
     "shell.execute_reply": "2021-12-22T10:13:48.974336Z",
     "shell.execute_reply.started": "2021-12-22T08:57:43.917822Z"
    },
    "id": "wRg5GZPwtth6",
    "outputId": "4193afdc-6b68-48c8-b92a-29675bd6a721",
    "papermill": {
     "duration": 0.186278,
     "end_time": "2021-12-22T10:13:48.975165",
     "exception": false,
     "start_time": "2021-12-22T10:13:48.788887",
     "status": "completed"
    },
    "tags": []
   },
   "outputs": [],
   "source": [
    "# number of attack labels \n",
    "train_data['label'].value_counts()"
   ]
  },
  {
   "cell_type": "markdown",
   "id": "dfdf0e5a",
   "metadata": {
    "id": "-hIflPGkVDxW",
    "papermill": {
     "duration": 0.152831,
     "end_time": "2021-12-22T10:13:49.283504",
     "exception": false,
     "start_time": "2021-12-22T10:13:49.130673",
     "status": "completed"
    },
    "tags": []
   },
   "source": [
    "# **Data Analysis**\n",
    "\n",
    "\n",
    "*   Data Visualization\n",
    "*   Data Mining\n",
    "\n"
   ]
  },
  {
   "cell_type": "markdown",
   "id": "9f338d3f",
   "metadata": {
    "id": "3Fg5hx3LfS95",
    "papermill": {
     "duration": 0.196792,
     "end_time": "2021-12-22T10:13:49.635099",
     "exception": false,
     "start_time": "2021-12-22T10:13:49.438307",
     "status": "completed"
    },
    "tags": []
   },
   "source": [
    "## **Univariate Analysis**"
   ]
  },
  {
   "cell_type": "code",
   "execution_count": null,
   "id": "a1c2d72d",
   "metadata": {
    "execution": {
     "iopub.execute_input": "2021-12-22T10:13:49.979978Z",
     "iopub.status.busy": "2021-12-22T10:13:49.978873Z",
     "iopub.status.idle": "2021-12-22T10:13:49.981184Z",
     "shell.execute_reply": "2021-12-22T10:13:49.981733Z",
     "shell.execute_reply.started": "2021-12-22T08:57:46.333046Z"
    },
    "id": "GN9jmjBHkaNR",
    "papermill": {
     "duration": 0.171408,
     "end_time": "2021-12-22T10:13:49.981910",
     "exception": false,
     "start_time": "2021-12-22T10:13:49.810502",
     "status": "completed"
    },
    "tags": []
   },
   "outputs": [],
   "source": [
    "def bar_graph(feature):\n",
    "  train_data[feature].value_counts().plot(kind=\"bar\")"
   ]
  },
  {
   "cell_type": "markdown",
   "id": "e84fe177",
   "metadata": {
    "id": "vM5IYMkvlVdb",
    "papermill": {
     "duration": 0.163395,
     "end_time": "2021-12-22T10:13:50.304188",
     "exception": false,
     "start_time": "2021-12-22T10:13:50.140793",
     "status": "completed"
    },
    "tags": []
   },
   "source": [
    "### Label"
   ]
  },
  {
   "cell_type": "code",
   "execution_count": null,
   "id": "c11f19cd",
   "metadata": {
    "execution": {
     "iopub.execute_input": "2021-12-22T10:13:50.643715Z",
     "iopub.status.busy": "2021-12-22T10:13:50.642743Z",
     "iopub.status.idle": "2021-12-22T10:13:50.646922Z",
     "shell.execute_reply": "2021-12-22T10:13:50.646359Z",
     "shell.execute_reply.started": "2021-12-22T08:57:47.338550Z"
    },
    "id": "f47hlRLXkBej",
    "outputId": "1f9934a7-8ff4-4561-eaf3-3f20550ebd6b",
    "papermill": {
     "duration": 0.186386,
     "end_time": "2021-12-22T10:13:50.647075",
     "exception": false,
     "start_time": "2021-12-22T10:13:50.460689",
     "status": "completed"
    },
    "tags": []
   },
   "outputs": [],
   "source": [
    "# number of attack labels \n",
    "train_data['label'].value_counts()"
   ]
  },
  {
   "cell_type": "code",
   "execution_count": null,
   "id": "d075429f",
   "metadata": {
    "execution": {
     "iopub.execute_input": "2021-12-22T10:13:50.988677Z",
     "iopub.status.busy": "2021-12-22T10:13:50.987833Z",
     "iopub.status.idle": "2021-12-22T10:13:51.384941Z",
     "shell.execute_reply": "2021-12-22T10:13:51.385647Z",
     "shell.execute_reply.started": "2021-12-22T08:57:47.820485Z"
    },
    "id": "4WgIVCivkRMD",
    "outputId": "4b30b0ac-35df-483f-f710-3fefe043a7d1",
    "papermill": {
     "duration": 0.580151,
     "end_time": "2021-12-22T10:13:51.385849",
     "exception": false,
     "start_time": "2021-12-22T10:13:50.805698",
     "status": "completed"
    },
    "tags": []
   },
   "outputs": [],
   "source": [
    "bar_graph('label')"
   ]
  },
  {
   "cell_type": "markdown",
   "id": "395f74bc",
   "metadata": {
    "id": "-cyloisHvO-l",
    "papermill": {
     "duration": 0.154557,
     "end_time": "2021-12-22T10:13:51.697125",
     "exception": false,
     "start_time": "2021-12-22T10:13:51.542568",
     "status": "completed"
    },
    "tags": []
   },
   "source": [
    "Within the data set exists **4 different classes of attacks**: \n",
    "\n",
    "*   **Denial of Service (DoS)**\n",
    "*   **Probe**\n",
    "*   **User to Root(U2R)**\n",
    "*   **Remote to Local (R2L)**\n",
    "\n",
    "\n",
    "\n",
    "\n",
    "\n",
    "\n",
    "\n",
    "\n",
    "\n"
   ]
  },
  {
   "cell_type": "markdown",
   "id": "cb8b32be",
   "metadata": {
    "id": "AH6F2t5GvxAr",
    "papermill": {
     "duration": 0.158054,
     "end_time": "2021-12-22T10:13:52.011278",
     "exception": false,
     "start_time": "2021-12-22T10:13:51.853224",
     "status": "completed"
    },
    "tags": []
   },
   "source": [
    "**DoS** is an attack that **tries to shut down traffic flow** to and from the target system. **The IDS is flooded with an abnormal amount of traffic**, which the **system can’t handle**, and **shuts down to protect itself**. This prevents normal traffic from visiting a network. An example of this could be an online retailer getting flooded with online orders on a day with a big sale, and because the network can’t handle all the requests, it will shut down preventing paying customers to purchase anything. **This is the most common attack in the data set**."
   ]
  },
  {
   "cell_type": "markdown",
   "id": "cf8294b5",
   "metadata": {
    "id": "ctFneZ3nv5Cf",
    "papermill": {
     "duration": 0.154994,
     "end_time": "2021-12-22T10:13:52.321343",
     "exception": false,
     "start_time": "2021-12-22T10:13:52.166349",
     "status": "completed"
    },
    "tags": []
   },
   "source": [
    "**Probe** or surveillance is an attack that **tries to get information from a network**. The goal here is to act like a thief and **steal important information**, whether it be personal information about clients or banking information."
   ]
  },
  {
   "cell_type": "markdown",
   "id": "845e9edc",
   "metadata": {
    "id": "5ivtLeKFwUYe",
    "papermill": {
     "duration": 0.158679,
     "end_time": "2021-12-22T10:13:52.635273",
     "exception": false,
     "start_time": "2021-12-22T10:13:52.476594",
     "status": "completed"
    },
    "tags": []
   },
   "source": [
    "**U2R** is an attack that **starts off with a normal user account** and **tries to gain access to the system or network, as a super-user (root)**. The attacker attempts to exploit the vulnerabilities in a system to **gain root privileges/access**."
   ]
  },
  {
   "cell_type": "markdown",
   "id": "27064242",
   "metadata": {
    "id": "PWmweApAwz_W",
    "papermill": {
     "duration": 0.157179,
     "end_time": "2021-12-22T10:13:52.964135",
     "exception": false,
     "start_time": "2021-12-22T10:13:52.806956",
     "status": "completed"
    },
    "tags": []
   },
   "source": [
    "**R2L** is an attack that tries to **gain local access to a remote machine**. **An attacker does not have local access to the system/network**, and tries to “hack” their way into the network."
   ]
  },
  {
   "cell_type": "markdown",
   "id": "fa8f0250",
   "metadata": {
    "id": "h9T0Y2smxPvC",
    "papermill": {
     "duration": 0.152912,
     "end_time": "2021-12-22T10:13:53.272965",
     "exception": false,
     "start_time": "2021-12-22T10:13:53.120053",
     "status": "completed"
    },
    "tags": []
   },
   "source": [
    "It is noticed from the descriptions above that **DoS acts differently from the other three attacks**, where **DoS attempts to shut down a system to stop traffic flow altogether**, whereas the **other three attempts to quietly infiltrate the system undetected**."
   ]
  },
  {
   "cell_type": "markdown",
   "id": "4766d22a",
   "metadata": {
    "id": "7ZBSeyOSy4kg",
    "papermill": {
     "duration": 0.155034,
     "end_time": "2021-12-22T10:13:53.581434",
     "exception": false,
     "start_time": "2021-12-22T10:13:53.426400",
     "status": "completed"
    },
    "tags": []
   },
   "source": [
    "In the table below, a breakdown of the **different subclasses of each attack** that exists in the data set is shown:"
   ]
  },
  {
   "cell_type": "markdown",
   "id": "9a201c7d",
   "metadata": {
    "id": "RP9VEgYjzCIx",
    "papermill": {
     "duration": 0.152603,
     "end_time": "2021-12-22T10:13:53.886486",
     "exception": false,
     "start_time": "2021-12-22T10:13:53.733883",
     "status": "completed"
    },
    "tags": []
   },
   "source": [
    "![Untitled.png](data:image/png;base64,iVBORw0KGgoAAAANSUhEUgAAArQAAAHNCAIAAABgmX8ZAAAAAXNSR0IArs4c6QAAAARnQU1BAACxjwv8YQUAAAAJcEhZcwAADsMAAA7DAcdvqGQAAAAhdEVYdENyZWF0aW9uIFRpbWUAMjAyMToxMjoxMSAyMjowODo1N+t1BIoAAP94SURBVHhe7N0FvJ/FsT/+UkGKB3cNrkGCBHfX4u5VKvdW7u/+b9tbuRUKLRSKuxV3DRAcgrsTCBbcIVDh//4+n2+Wh2OEEMg54fm8+trOMzs7uzszOzt7TkgmeOihh77UYDQwwQRf+fe///3lL39ZO3LkyK985SsTTTQReoIJPmhLNOjL+OCDCTj39ddfn3TSSTn3A98TTFD1/LtqG4wb/PuDCf71r3+NfPfdySabLB4ZdeBafvkgLqoQujmO4xZdeOHfrQ/5U6tX8kRMPPHEEZmgOV+9FV9u/3+DBg0aNGjQoEGFpjho0KBBgwYNGnwETXHQoEGDBg0aNPgImuJg9PFB9b8G4ysa//YVNJ7qi2i81sfQFAejjya4x280/u0raDzVF9F4rY9hTIqDDyp8+ctf1oaD1lZ/dL+FEDiRLJ/hhP7Xv/5VPiupFiqRFvJp4Fe+0vpvBNKVgVqcyOS/HShdkUTnE6LEJ0kzhsiQLxrsnTUYgUnRiFhVi+OTWWKlyEMxYxD56EFkVD7DgUI0GCso9uSaujsqk7cw4YQTvv/++/ECGV3oBDlO3TvxLA5EQwhtkcmnNp+hy2eDT4TKqC278UX++5d8smpSUDF1+OHAP//5Tx4MnyTkU5dW71e/+tV04WRgg88CjKyNkVk7NAK/7tACn8UpaeMsTKfPkCjpKxjznxzERkxg80lPhSmUoVwzaC0+TugQhhRrQroimV7IJ4QO9AaRxOEDbRmSZUSyGt1CaMwvJmIB9qmM0bJnbKVlPYGL4Jevfe1riOIUAsVrEA2I4n1EXW3EGowVxKTMy8jF4KVNrnH04jvyPjmryEQDovg3HJ+h02ZI+SQAdQI/XQ3GDPEgY8aS//jHP3K7h1P4/IKOfHEKSYThmD4JlLEhWhM0GHtgbVZt+aMiwgyHF8LUlqyIKWfmAnLKOCW+08ZraXXxu7bS1zfQTvpjgGKvEscxFoTjk4w2ltIyDU6YkQyTEohZ9eJHTK+2WJwMTlr8+CP6MyQ0gZbqCj4N1xLmwtY0o6r4tsQngFn6cIq0cXZgovwlDQgc/BgnVqrM0xbThV/omFd8x3TaXEvkuUYXTroCA7V1Tq9Hr/NvbBjzImLqYtK4hkcmmWSS+AWHR957773QZEJojfVZ9xQiJwgdmSKJKHRrpl6HXuepHsCM2lg1Ro5VtRDParmmXPbxcjzl0xCeQsd9xLi4aCPQR9A3vBab1xHLx3Hsj4i/fKIheTIy5PGLsyaeeOJ33nkHEX6lr89gTP4SpJiPIZKY3nrrreeff/6JJ554/fXXp5tuuv79+08xxRRuYha54447CC+55JJ1i8e+CXeBjo410e6tDIwbwoeYOMLxgV6X09e//nVDfMqJ+NrI59KKEp8TTjjhu+++m+FZA2aI0YdJolDbF/8SJFu2fWA3prj66qv5K4Zin8kmm2zeeeedccYZ+QWTfPFCy6AVwtElN3H3k08+6XP22Wc3avrpp08XkNQWU/cVMI8N9p6/BClmZGSHSKQl1+DMMMMMCyywgHOX5WGmKwRJJ0VvfpgXr73xxhs33njjqquual8pkTGN5Wuu16IJiwqerTS1eo2FzFKGfP7ou38JEutphw4dyshyYNwBtnP33XdrBwwYwB1S0wsvvHD//fez/7TTTjv//PMjDLn33nsff/xxYtk1TDXVVI7bnHPOKfFKibpoK729BF14oa/9JUismmhnYYRPp8kJevXVV5PzfU4++eRTTz21nNmvXz+fTpb20QpTTjklH/EU5zpQ1157LXqOOeYw1lnrbf7qAWNeHGhtlfnOOeccFmFE1sGUW1dZZZWll16avQ444ACm/NGPfkSegJgW95HUohPfJJmsfgySjGJxnwitXvy0esuQcLTEEPEo0Aw4ThomhMAhqauaanTR14sDK+evbFw++u53v+tTMkovy9jOhhtuyHGJYGKYiftYjPuE+yuvvHLmmWcOHz5cFzgkDsNWW201yyyzmIIqwtrKLS0llfo+gN5WHCTYLrvssr/85S8uDMbnjvhC6vnGN76hIBPMPMJfWkO4I0RcYAsJ16eeeupnP/vZoYceqpjGp8cQBG32aBQxA3M8yRuYsVGiHWWKcYC+Xhz8z//8j1skORBYntn/+Mc/quH++7//G+fWW2+9+OKLecEBdJcstthiW265JUcce+yx+Fzf3nX1GOOdLbbYQqlBoPJSUxyMfbCq4C/mbYXfyJF77rmnbJl3LycSwJxtttl23nlnGYNrzj///DvvvJN8UqVcOnDgQJn2xz/+8WqrrebA0kxVjlWfwJgvlBXY7tRTT73yyitnnXXWlVdemTmWX375t95664gjjnjmmWcIqIhlWxaJfAI6NKYWzZRs7bPyRQuYPh0D/CTEdkflqrSglyRbEwgRJcX6ZCgxKcnwk/jIIyLzRUPxhQvDHbPBBhvw2tprr73iiiu+9NJLRx111BNPPKE3Noy5GDDOQiOuueYaHpez1lhjjfXXX98r1jNIGMhusX81Twvo+meDT4REr9PkBDH1JptswlPrrLOOy+Pcc88dMmQImRwozhLh7N9KuFXJXsweJfDss8+6jUQ+4fSipTAuoyRHw6euODoyECLx0GAMIAe+9tprJYnlcI0YMUKGRLz55pvHH388F6y11lrrrbee9+UZZ5zx4IMPknz77bf1OmL8vtFGGzmqDumLL7549NFH8zXNfJfU1+CzhtPx+OOPO3ocwSObb745f80777xnn332zTffzI+PPPLIKaecwn0EVl11VRy59I033lBJyLSOMA1cD22NfQFjfuaF79NPP80iyqIdd9xxhRVWUM+Kb5WU16TzINeIXamKXRjLIbnuuus8Og1RYelNCfnyyy8PHTrU7eKRxMTUEmZEtxRhuOGGGxgXnzBVJr3iiiscoWuvvVa+oz+45557zjnnnNNPPx2BT1gZ/uqrr3rjok1HZ1bCYQjMLxRywdt+zMue/fv3X6WCu0cC2meffdjWY4Vx9EpAbn0m5QLZSgkcu3HHjDPO6Pli1JprrumV49568skn6Y9VcwDSxmsNxgAJV1adZJJJVN5MvXqFbbbZZp555rnqqqv0Oke33HKLp6dyge+cAhUeB8lZl1xyich3BOgBetQZqrqzzjpLOvNpCq0T6pbCdwAdw1deeYUS8rl1uC/DGz9+GqS8jjGdPrQ2FuYUPpI/eXbppZfeeuutc+7Sq9pbZpllBgwYoEubOp7T3Tp6ncf4scHYBTe1qVG0s8YjXlPLLbeca06VMGjQIM5y07luyDhEc8899/bbb69XRnVI77//fiWgLsjxQfB7pbVvYMzXaqs33nijbYtXYYrDfD5ZcK+99soPmQFHq+A99thjyT/66KP33Xef+kDyosGVg7766qvx77jjDjIPPfSQi5xlFdQPP/ywzwsvvJBMVQD884EHHiAjuxFQahx33HGqEJ676aablAXklRennXbaBRdcQIl5r7/++hNPPNERMleWB/Toyi6+OGCBEPbOYmnDDL3gggvKQXyBlrDOO+88llQW3HvvvUqxiy66SNoiqTJwD6nMPEY9bmhwGJwTGZCFfcbIgIZM2uCTgunYM67xqY1JcSaq/ggCWh1w5JFH8oXIV0A///zzToeb3qlRNKBdJPzCcWL+/PPPV0aQVB84IJiOLf/S4Pg4ONdcc43DUsr6TGo6EzWX0BiD9eK7uC+cWBV/0kkn3WOPPWaYYQb8yDA+/+Yz3o/9fXpNcXF+sl3JttCao8FngNg2Lgv4IoTTwSOppKeaair0/PPPr8KbbLLJ9PKae81AGtDRE1cWDX0Cn6o4UOHONttsU089deHYPCu4ZjBFsDtGy5QKq8cff3zFFVfcfPPNt9pqq379+p188smspmhwCS200EJKLUWGgyFJ0TN48ODnnntu0003Ja8Wk+zefPNNZ8Moycsrym1Em2pDRjOpp5JRnrBetLPOOqv6Q+6bcMIJLYbDCEiRWjJgFm3W/MVBtqzlFATLiOzcAZjJ/hzhymcod4bKQC3MnhtvvDGTqtV40ChummaaaZQLBx988OGHH87yCmQFdSxMoH4YtOgGYwBm5BfgpuHDhz/55JNPPPHEsGHD3P3KtRVWWIFtvTsdjUUXXXSzzTZTjl911VXqZl1OzbrrrivOVc/vvPMORzgOKrm11lpryy23nGuuuU444QTni9MRL7/8smerU8mJSgqlRlmAgWUlYTb4pGA6ZnTQKme2r3kc3tHrpl922WW//vWvY+JcfPHFEuYSSyxBjMyrr77qoJ155pnqOTj66KOHDh0qy8lpOVkUVpM0GGuox3zMmxaH8WVFGQ+8V7lj2mmnXX755XXNMccciy22GK9Jg2+88cY555yzyCKLzDzzzLqigdqiJ23pCtELMSa5u2xSNAvl3ArVZluFErBRMUe6GHHbbbd1x0hVL730EqayIOUVPPXUUypiJdg3vvGN/v37U+gs6X3ssce8h5ZZZhkZzU3P6N61Ko9JJpnEDUenW8pxot8QdZzsaUmrrbba+uuvb2HoVVddVdmBtipiWQ9hdPbyxUHxDgskVeEUH2kxgaTbyFOSwV0YygVRjmDM2267jWfVyHvuuSen8IJy4dJLL/X09CrlkaiCTPQFNPJYRBzE4C51NbFr3rP+pJNOUhzIR0q0yHh0rrLKKso4x+fCCy8cOHDgOuus45ODRP4dd9zBRwJ+4oknVufJX9yHUGffc889ygL1BM7kk0+OM9100zlTDpQAUEwY5eDkLENW1WAMwHoORehyOoCFteniZUfp8ssvlwPdNFxvlOJPDnzggQduvfVW1blT6V1EwNnkF6OaI/ZZgOVjf3QhwD3l1XT//fdfdNFFqmq+23333Z21pFN+1LrXnFOV9/bbb5//kMFAfKDKEJ98x/UInEBva4Jehk/1kwOpxINeKinb0/p89NFH2TEmYDKE0viRRx5hNdF/++23C3qSDDfTTDPl1zOq4/x4kypDJLg555zTaZENjznmGKUDBygO4OGHHz799NPV0co3ekxHlXw36aSTuqLkULW2VSWpyZgKiOQ4mnOoENnCFw02bvsxAiMjcJKemBctsqecckqSnqqzzTYbryXivVR8erySUa4tvPDCO++883e+8x1nw5vV1cJHPB53k6FNMZGT0GDMwOyMyYaMqaoGJ4IX1Lvf+ta3ZpxxRjJ6GZ8AwkHgNcUc5+IYThhfLa6deuqpnTVM3kFLW/KXLneSfOcoOVOeO5xLT5ye2cFERlWLavCJ4ZRJdJzCkmyLg4ht0fhOjSpNArzssstWXHFFB4rxQdZyGH2qBryOVlhhBXrmnXfe6aef3kAatMS0DcYiSsCXmI87nKlll12WL3gEcq0svvji5PXGHc8++6xMeO+99+bncJiUGFj0lLOZtj5LL8SnSt8DBgyQYqQkBhLi2aoIVuQOHTrU/h2G2E7cDx48WEYzxENnySWXdHlEwBPHTSP0Bb2HzimnnPLOO++4lth30003zc9qMO+8806q+KN///6Ge866ojyhBg0aZCVctd12262//vqeQRLcUUcdZVX0G6s3FxUakXVaUrWDLxZsvHgklklMV35r/feNd999txtoogrJaHpjN05RfqnGjjjiCHUAR7hguGDjjTdmedlNJFBOMwubwpBEf2viBp8cXMOA7OzRv9NOOzkjO+64o+eIutk5EtsEGJwAI8ehTk28ll60ltdoyy8X+EXLNZDKT7vAAgsoKRxM3pTRVlppJR6kwaj33nsP0Tjx02CGGWYYMWIEU+c0sSe/yFEu/hxG9N///vdrr7125ZVX3nrrrcuvDJhd5TfffPPNM888riUx4NPjxw1EVWT4vTVHg7GHDiblhYI55pjDveOwrLfeeqoED91LLrmEE/lU+8QTTxx99NHuHTeXCl5R6Pg4vJQkGZbTp0uyRRuISXPm6m0Y8+KAOYSsPKXmdTHYqpwiBw0ZMuTGG290c+DYuTh209xwww0Og9S29tprC/dHHnmEBjZ6+umnTzrppNlnn10ttuuuu8pQt99+O80XX3yx+it/NnuPPfZ48803PVvpnHnmmaWz1G5KASb2ybhZA44cyjdur1dffZUb3njjDfdWrJ9jmUOV9guFRKeWX3yyRhzE2i4Ylrzmmmsefvhhd4+uRRdd9NFHHxXoZOCxxx575plnnArD77rrLrnMJ/MyrAPgAUqD9yjJzIWghHASYoMxANsyICPn02HRxonlbmBkLZrBuWCppZZyxzgsPrnVMZxkkkmcUKowHShedkjvv//+1157TZE900wzTTfddFNMMYWD41rKgZLOOgSJT3SDMYOj5Dr37HFSGJ/vOMJFItfp5d9TTz31lltuUWQDX8TgWl08G0fjzDLLLKrD/HlSzo1Mc74+UzCys8POWsBBa9HqA09Tl1f+JNYrr7xy+OGHa3ffffcVV1zRlUcmxwdBgKeSaQ2P19JlisyC09vwle9+97tt8hPChiUsda5LRay7m1358tHgwYO95jfYYAPXdv6DqzXWWIMFHQlGceXcdNNNLm/V9BZbbMF8Yt3F/+KLL+q65557vFzXXHNNZ0B9IKM5V56z5DfffPO55ppL8pL+jH3++edVIaDcVlnnD1IpBUjeeuutI0eO3HTTTZUjFmN5yyyzDAdYCd+YMaeuvY3RhrQcX2q5mQZHveK0BXo5EtZVKLZ+oaOcevvtt10SLvs777zztttuY6vFF188v9FUh+G7RdRYDz74oC5pS6GmAohbuYypCfCmym/eeefdcMMNDaTcLBzNOGiTjoGpxxFalpHB7SJrzl6kgqr9vJHZ77vvPvfKtttum3vFwpg0NQEBMc9BLO8Tk48uvfRSGcoBcSKuuOIKp2OVVVYhc+GFFxqbQ3rRRRfNOuusDgh5B8ohcnDUf7Q5LCussILyvaStTIdorWlc4IMvtU9cia5RS6n8Ul9XRY+zhXYDRmZzR0zKijcdH2lzu+22m2aaaZyy/fbbT0E2wwwzPPTQQ8RweErdNnToUHlV3stNQxWmPMnFzun000/PGvi97nx19kIcNUG1zglar0r/L55bny1Gb7wXY1gt+HRleBG51+ao/qJDWULZ7RA5Vs6OOo9TjjnmmPnnn1+vW4wf5UY+InbaaafJtMTkWJdgSsP80TqaHerWMRt356sHjHlxELjLJ598cre4vOOmeeeddwSuvOMWkVNcIQJa7TzttNNKQy+88MJbb7016aSTSkCMwqaeNd4uTz/99Ouvv8586C233NKZYXfyjpNMh1Au5E/AzTbbbAaaK+Zu/Xffq6/OyuTN7glLnjs9fxdZZBHXGH9QYrrkOP5Ohh0DZxhCc0qEvlgc2H6pDyyba0Q8o7GYy0OXyFYZcJx98RGTumNefvllds6fFcWhRKvqYmpjpSqmULRttNFGHE1tMXImgmryvgGr7T3FAWNqGd+SVl111XxyTd2PYtthEeqYbO40OYw5iQZyqKvFPRRHL7zwwrq4zCnjTS9ROmeffXabVYLj+3RSnDU1dFxpIjNqx6EfuyoOah6pr6uix9lCuwGPzDzzzBKjIyMBSpXcJMupp+3LK8gBzB/eIgAcQcDlQdiWPUOJ2Tj/Smh851Q6pAo4nLxEexc6e6FyVzuERv3ldeKq9dmSHDfnq2ewuXOhRSehSZjuIK5Mr9YLShd/ufKUfbzDXzwoZ6Z1MHlW2W3LLiySmNwtGKhyvqIHoe2FGJO/PhmyK63olHrc3/IL9zOQyGYLFzn+M888IwgYFEdZwGRG+WTEYcOGIfIrGXy5jKGFvrNED3mvW8dAZnQS8HM82BGfvBlNkQQneRkb/eTVa6p1kphWRV4GzJL0YlqSz3awjjbIVxO1cuXIvvnXJzNgaNtXkLEGOnZw37tm+IXX+DSStjl8+HCfnjVMalRrcDWEv1ibsIG63ECG4IOJmAUQPhMqvR/WacGvv/6mwijn1uKrntZNPE7Ahu4MOUUJnnhmZNHL7GjQJbwFPGbsrOUX1Z5z5OCIeUzJSBmhenPfcLpTI3SLp7hVLxnyqkCqzGUKhLHEcu7GlR+7+uuTP/TIB7VDHLq3/fXJCST5KtnJEXNkmBrT+fIowkezNlfGzgTkRs7l/bnnnju+iB6meOqpp9D45GnLLL0HXXih/dcntzo+mKD1tw4jZP6I9MK/PhmcC77QMi+C42TC3Cw5DrbDL/gSqZPFjy6gDOQsrcOVP9P9+OOP+4xzo5yA0tBwHGIZFfv0Kox5cWBj0oqWsWwsiUarC1/Uhh/5DpsnlrFoXQgtmoxRxsaUaFmMJCJViIFkoq2+hsxblBRV5TMDaaCHpC4c/NGH4fT33eIgRsuuGS3pptpRyxfauhd0ARldGcVi5ROiEB/Nqo66Fl2Yma41cR+B/Vp57ykOijHRjO/TqhLSgB9nWWdWixMXcBOibCF8LWS4Ln5EkCSgF+ETUxe1zkgOoN6cFARtZD5/jB/FQQwIbJtDpIupWV5rgyEiGZtHIESUGCg3YoaD4CN0r0IXXuiDxUEMrkXn4ORopDd7if3JxC+p1UhmYHu/o7zvlJWrB2Es5GQhtJXi3oUxLA6+gIgX+25x0KBnOLfOaq/6yUED6LvFwRcT40dx0AA+2ev5iw3BXUtFDcY3NP7tK2g81RfReK2PoSkORh9NcI/faPzbV9B4qi+i8VofQ1McNGjQoEGDBg0+gqY4aNCgQYMGDRp8BE1x0KBBgwYNGjT4CJrioEGDBg0aNGjwETTFQYMGDfoSPqj97yPogtWgQYMxRFMcNGjQoPeiiz/jHlanjk6MBg0ajDma4qBBgwYNGjRo8BE0xUGDBg0aNGjQ4CNoioMGDRo0aNCgwUfQFAcNGjRo0KBBg4+gKQ5GH80fhh6/0fi3r6DxVF9E47U+hqY4GH00wT1+o/FvX0Hjqb6Ixmt9DE1xMLr4YNS/Z9+ZaNCgQYMGPaNDwmzyZy9HUxx8Aoz6B/5H/dvkH/6T/w0aNGjQ4OMhbTZlQZ9AUxyMPpq/ZGX8RuPfvoLGU30Rjdf6GJriYPTRBPf4jca/fQWNp/oiGq/1MTTFQYMGDRo0aNDgI2iKgwYNGjRo0KDBR9AUBw0aNGjQoEGDj6ApDho0aNCgwbhC8wcReikmeOihh9tkg4/BBJD/Due99977yih88MG/2/0N+jYm+Ne//vXuu+9ONNFEX/3qV1vflbub/1h13OKDL03wvvP2/vuTTTbZl0c5o6Nf6v9lXOOvcYq44iNOyH+4+MGXnah/f/DvkSNHtlPnV75S/Jn/a9CroDh4pE026BH//ve/RbP7w50hvr/2ta8htDhtiQZ9GV/+8pfff//9f/7zn7zMrTgpDtLbYFxhgi9/2XHjl0knndQ1w02t8vyjfpmg9vVBUxz0TrRc92XZUqU34YQTIrSKg39/0OTPXorm1wqfDC4MbUlPKoaK3aDPgytz8Wjz2Ti3N4AXqidm69y5UeKUxjV9Dv/+97/UAfEjjDplTfHdezHBPffc1yYb9AjXhiSVmuCdd96ZaKKJEt8Nxg/wrMz19ttvTzzxxF/96lfzA6Hi8QbjCqzPF+++++4UU0zxz3/8I4WC4qBcM9D85KD3g8skzAm+9BVHLMkTWodrgqbO66WY4K677mmTDXpEXjAIWUmqmnzyyYW4TyFe9Tfo20gR8PLLL0822WTqA+7GiccbjENww3vvvffGG2/MMMMM//rnP52+oN1doSkOehPijI5uaNdzH3z5tddec74+fFw1xUFvxQQPPPBQm2zQI8oLUoiPHDly+umnn2qqqUR7UxyMH+BfeOaZZ7l1sskmxVEeeOp0uIcafM5QHLz11tsvvfTSXHPN+cGo3ya0vNL85KCXouvioDpeX/rg31968cWXFAeTTz5Z6+cI5Jr02VvR/NcKndF1dpGMFL8IMa44mGWWWaaddppWKVxLTA36LuLKYcOemGaaaaaccnIcn41/xzk+mOCDN998a8SIEfP175+T2dkvTXHQm9B1cRCX+d+I555XHEzdb8q2N6u2QS+Eso13mv/V/9cTypMl/19lqPrY5n+9/39dI1dO/qhBMOr6qY9t/vd5/w88MT/44N+tZ2dVnVfnrqNY879e87+gI4fHcsQ++BJX/rtKoumrSzb/60X/+8jPdBy5/Kq1OnvVuRyVIDuj3lXdlC1v5/R2h8gUtdpMp9WFqLfViF4ES8qqLA/C7HMouxhjdBgeD7Y/xgsU545dJ3dppfHMdJ8dPrsTFxcUR3T47AEdZOqpT9foaBgnGBdrM117xsz8mXrzc99dx0j4/BfwGWGChx76yJ856LCx1jVYObLzhvFzHiJDABDp7QzC+eNdHSQR/6z+4/IIoPNX0JCJwOeOrn8JZp1WmGW/++671a8V+qWrT8Div/zlL5ct1NGBE8t3FgvqfolNEOPBH7ywLTt+9NHHZ5hhhsknb/2Zg7GLYrfEeaGbP7PSM/79pQ/eeqv1a4X+87Z/rdAF6qmiW6GukVz0r3/9K04JEWYEOqCcjvpRymdxZbqgBz2fM0r4AdpStZDlfaaLNEv1/60pkM8999wkk0zSr99U+RxbM8f+o+b6EPFC+PVtjsUtUx5tmcVKygHv0/gwMRXz1dEyaoXI1KFXq6sQ2h4yXQlHdNGcseU0an06nz3o+exhDaP5v74EIatl2Ni8BxD4WJkgXoM4ro8jW/jMPRtbpR2ncd5gzMF98V3xZj2/pSsnrpcg5xSy1KzNZ3o/F7BMyzifEcqOsscw6wizB4ExA1UdFCYS2h99GR/JTbbExFrbg56NmCs8JVIZUv+VbQdEW/S3/FN9ko8eCL/U7xk1LmDLo/m/vgQW1jIyIOKCoOr/eGQsoDuMCnO8QMuzn8V2it1iOhE+HhmtDyNeSP6Bckyqzi7AfaW3O7EehvcqJBShryy4B9TzW3XI2nDjaPXWPYvTGjM2EIV1ZNL2R1/Gh8VBzAfo6spu/yUwVWcXKEZhCOhsow745z//qaWf7eK/0GC4loBWl0lxMqrB2AJrFx/FzqPjtc5oOaxyWcbmE9LboEFfhAAW0vCxkdxBpiS0cpQIaDGTS3sbyuIt2FLLssceKBzrOj8ePeS3EJjhh45kgx7wYfjGgnXD5TMIp478LgB4Jdc59FBMVK5pac6oMDNEWYD46le/GgcXyQafBT7WtnUHFXTmBJXbPz6lNshVwYyxlU8E01WdDcYZOCJe4I64xmec1R0i2SHsOxyQ1hGq0P7uBSjr6RB12U77YyzAFONm19ldh73k05bTO9aRUDFLsaqJeo6fvoKP7CHm07aCZVTxVe+qA6cw63R3+NrXvkam/DQVQXmMWI3+YMIJJ3zvvfcq2S6mazC2UHzKxSnLYv8we0bE4jtEgqTqGa9gX21q7KEYSsyL80xRfNFgXKEV+pVrOhM9gOPiO5IOEZ9yKE5+4Bq+9rMIpE+KajcfwpL+8Y9/lAUjMMuyxx5sv0sbdscfC7CjbMqOwrFTn+FjhsYvAmMF0VYmevfdd7WYdUSyb+HD4sAGclW//fbbzz///IgRI9566610BR12KJ48+rWvv/76a6+9xjT5+UG7uxN00RCrvfnmm/S//PLLzhXkr7KXMTFj4j5qzd6MGD+EFv3OO+/E4HFNJdVCxLqDXh5/7rnnXnrppZEjR/qEzyC5jLdgqxdffNEpY/acuAbjEDkXnCKJAcJnD/lHr5bv8uksPPvssxyKfvXVV9FFSQR6CbIjrdxrkXIvvPLKK5baw2Y/BejsUm13/E+L+DFEOO6vuCPFEI7Nase6axIMac3FsFKrz8B6CirxPoOvfPe73y2LZruhQ4dedtll11577Z133vnAAw/I/jPPPLOuFJiInBxtYPO33Xbbddddt+iii37ta1/ziRlVGaLFxMlw5+eSSy65/vrrb7/99jvuuOOxxx6beOKJZ5hhBiUCRx5//PEDBw4sv5swNscMoUUrI+iBzIKvjX6cdFkGbTgpVnCyEgJQOAQoLHOF1oVOG4Uhymdo+qeYYoqvf/3rEU5X6S3MDnSd2RnZRRAxnA5EHXVtRSBMy8sG61Nr0UA4vU8//fRBBx203HLLcUERqAvX1Wp9stI111xz+umn8+DNN9/85JNPzjPPPPk3JiKZto/C4qXLySabLDsK6pYJYhZ8CD+EFl2X7Awy0gezTz/99NNNN10JP6C2TVVK8lknGL8EfH26sgwIHUl0PtOmV2t4esO0HssoQ4q8NkSma2kfF7Dk99//h0Q/zTTTjFpEaxfV2vx/tdovfWicD77UXnyrb/QWT4b8BRdccN999y200EL5T6nrVoqS0KDXEfP5wgsv/O1vfxsyZMgbb7whIRx66KE33nijlfTv35+SjIp8xnb2YNrMFb62s2TRUNqIaYMiD0U5ugzJFF59hx122JVXXikP33333TLAwgsvrDdxmIFlxkJAmTd6tJjdLdK0tf91wARcKUVPMsnE7e9KJBqicJSSD9UWfiXfWWcb0RA6rnGRqd7mmmuue+65Z6aZZuI1OyVWVNXnxcmntqyhw6Thl4UVsWgAT1wWFgzuzXfffVdETTnllBNOOCEZozJL0GHSMHsVPlwrq7mtTzrpJHFjP1NPPbWa65RTThH6Vh+B+h5sLEZ8/PHHr7rqqmIyeyYJPrU+yURYSXX00UffeuutOI66LDxs2LAjjzxSmDKfV+zFF1/MuIbQYwjCRKk5ojZTAH7RHOHwMSW7nEwgABkYmky1/Ha5A1HVQXnpKvI9wEAt+Sw4n0GUhFPn94y6JDpKQHDXOZmxTBqifGoLUVdiR2Hy7wknnCCCdWWbSXmRoQedgYUv1v/yl7843v369XODnnfeeSKEwUfHSn0asUOMAB0IbVzTA5goMgIvLzYEtYCZrg5q01WAGU59OjSEeP/99wuztBnSmmaUttaASpU1hBltiZyMwklX2jDHCVz81f/q94zFtP73z3/+o82ouj8M8WrBBW1WN8iu+UKxq+SNfN0sEGbanAvycPXVV59xxhlSmeOgtrjooosQk08+uWRiLDFOzyhnpKWoQlFbQCZiQaGztjI2/Eq2LZB1RgwyKQI/XYATAYuxRxm++gvCp1Tle9RZaonMorY1QUXjZ6xPCsOso94bTtsZ7f/V0TW/6IyGfKLLksIve+wBkeEXrbLg1FNPrf6dlNYtc8ghh7z99tvZbCXbQn3Gj26hBdpwynrqAoWvhcwYM7qtXKDG4j/xxBN//OMf8ztEiHAQVTyLbmnslfhIISPXa3ersGcFb/ozzzwzSUeZqQojYJ9aFnevsEu2TeCpp54iw0DM4RM/JmgZpnLJueeeO3To0I033niXXXbZcccdd9999+222+7NN9+8/PLLSVKV3y/knuZL2tj3ueeei33DdzMNHz7cm/Wdd94xF05atQXmiy++mPIiJYWFWfNDDz2kZMbMYuixI8otWIGZu83U0UMszkYjQvcAY0lmg2BGGnBypBHUIsKsRLoFJUADRCfj2Kz1P/bYYwxCRpcay8oJPPzwwyozXsgUYFL2eaSCDZIhn43rYgS3OxORx2SHbBD//vvvZ4roMa9eNMvji3VKwr/kkktM970KP/rRj1ZdddXDDz+cI1pzj6douWSUc5kFEAxbCIgATpHsjIgFa665pocFy7/00ksJb/51oPioqEXz4IMPPsgvPvE5TpBnFh7hfa5pTV8dikcffTQDOYjYvffeayDJMLUcajqxJKIoT5eD4FPXs88+K2bUi/E1ELBCY9OG2QvBILYjmN97r5WmLJsFENmIxSPKprqEXmLJAFQ5U9JOzoKNO3dsy0cxAoJTkkA8nJQC66233nzzzadQkC3XWWedZZdd1mIMf+aZZ1i7uAxHUWgUI/P1G2+8QSEUO1OOIAwIiYsYL3NuFiMAfGbBRhlinbzs04xZJwEDcTLpAw88YDiZbEo1IDGuXSFKaEYU5TSMHDnSJzuQt8hMx6Qe37qyQilIxJo0y6ZHC/n8pChriJ5sNpaxDLSJtFkwoktEg+WRkR65Y9JJJ11rrbWWW265G2+8Ua0glVk5Uwh47mMQKG6FmJ0eLeCj7ZQd9EbMGaFBL2F5zydVvIwmlpS7/vrrzzjjjGylFLv00kuZVBrHN4prGNm87JkFA36I3obWrxVCORtnnXWWPTDoJJNM4lN1Of3001v6YostZidHHXXU17/+9ZlmmilX+LHHHssNc8wxh3f/nXfeiXnLLbcgmN4oY+Njfo2hHYxf//rXG2ywwYYbbjjxxBOLUcOnnXZawtTOO++8TpHqZPvtt+dUgagSl+Aov/3223UtssgiSWSKFb34nO3xOt1005mIDxxUJ8EQaU7mnXDCCS1y8ODBV1xxhRuRsLM6++yzWye3nX/++V4JmORdjfPMM4/FmMU7AG1tlp0osQWL7xCdZiy/VtCLCZiUkwHRqTC3Hsypp56aGFVkdHUXCroSQJHRirzjjz9ehN11111WK6TyM8/bbrtNUWybl112GZo1ZCUGpyRPGUyOQMsX0pZ5xSL+hRdeyEd6xejcc88ta3Ai4sorr8SXOBjN9q2Zs04++WTWu+OOO9hfOsO3KkdF7ltqqaUsj/FpOOGEE/bee28Bk32Zq9pNn4TF59cK7FDfiEBKHrRrOVGkcQ1a9GpJBujunAulVxgfffTR7Gk4y4sTcchZUhi1s846q/tGNjnuuOPYX5zfdNNNzN6/f38COMsvv7yVKAv+67/+S0oaMGCAqW+99VaHV60mmE855RRivCZsOGiuueYyqakvvvhiMSAwdElnc845J6/Z75/+9Ccnwgminx7bF07ks+VsjYa04wTVrxXe9N5tf4/6pbVFulgtUtHjgNx++x0CfqqppsR3hJPriYXobv26IuCJIr/T4CAwhYuZj5jIk8P7j20FPCc6d7/5zW9WWmkl9gRHwwUm47t+nDLO5RFXjuNDYTk+rO3kOrDKa8bndJpnm2028yZvWAnlAVr94ezfcMMNTis/4ggMS/rzn/+84oorWold8/7vf/97CZkeMvxOXjbgYtnJ/WQxv/rVrwSPHSWL8rK7zYJlEomRmGrGjJYqNshYsJDLPzl70kknSRQLLrggeXnyt7/9rV1IraY+7bTT2GrxxRdPYqxipBX/IXC6QpsvJnmn9muF9uOKKWhAS/IWnLvcMvCDWKZ7/S2QIekV6iqxccJs5cpgT5NasETn/HKB1skyi025cUhGcwjLyHSMefrpp6+wwgp2SuHPf/5zR2+ZZZYhoOvvf//7wIEDf/nLX6qiHGEXjbuScRifkiOOOEJlYCBrO9Smli21jOxqYGQwC5RY7VX4yII8aNxqf/3rX1nTYZOq3BzbbLMNs+oV/QJLHItm+7FJidKuWEHVKXDFqNARcxdddFH8bSBh2yZGM+PGyrThRIahlbHxfVqpSqALZdoUDbIVm6Z8O/vss5l7lllmUZQ4pe5IB8DsBAS6BfCBsOByemQ6ekwhscosTqakaQqB7iRwjFpB6PCltVmnk+DwmD0LAzOiAdEDSBbvoh1Uh1YG+d8KDEKDXYNVZUhnZLhzSEMmdT1YqqTACFYr1ESVXm9Ntwv7S162ICh9WgA7kBG7CyywgCE4++23HybNPCLXqGYWXnhhHjzwwAMdD1uWCp2Qfv36SQGKp7/85S+uJQPdNEyt8BLWhh955JGSlMVvtNFGnJXVSoVyiqItv1EbX8ERIZiFERS4PCvn/t///Z8Uppcp4laGJRPhzqjrERKciHaC1NyuFlc4qFlFLL9wihAV51zJvH/729/Ii1XJyJVgOhGu1BP/aCGBdrgEDy+7fkRLHH3QQQeJGYEnJtHW4CzIXIoSdaEFSGqUGI4pnDx91ApUWWQ9Vk3RpnoNLMkKQT0kbn/xi1/84Q9/+OUv/5cF9DJFDhSQ6Xn9uZttWf0tq0h6rCEtOAL0qJ88VKSFKHS+zjnnHMdECnJAZCdnRAnuEEl3/OWUSUeyEC/gU+5UciiC1yzPwTGFfEWbtWn5JQTXc5br08kVFaaYf/75ZV1OkQANkYS9FiJMm4DBlLgUDe4/akHm9IlpIpFGxhWLL1co+xQlLjBLBXrARaX6sUFzuSktVajYOKgPEreSjLhKYgf3pXWyagwbIqne5xigDHS/Sp7SZk6ZjI2ZdfasPCshxo/sZqfOC3fwgnPkXhD5ZKT6Y445JrZlEPbhESvP2NLaY7Wn1k+UuTI/QXEhigR7d+nokv3kTFZiFpdLrj9WdZq4zLGl36d5zS6uGFk29snIzqNDLf1S22vROhWBTa6yyiqskEenXYl7IaVkzqux5Z/qmBXzIdiOM7hhyy23JIyPI6Q23XRTJ0cXMZpFEs184JKmKnzmy2EwJIGFoIFaFlQguxfxucQ1yanc6Txgqif4XhkoOxsuOzB9bkRr5omJJ56YNl70ONtqq60UhnQ6LRLuBhtsIM9ynuwpHeMTpoS8jLDLLrs422UZ2ipCPvKLgw4ofKPs1KNB8LmtrVxXfjKx9NJLW7BdmyjCnSHg2DxW9akVbeuvv/4SSyxBpyh0Q9v+yiuvrIty+/KINAWT/s///M93vvMdw020xRZbsLwhToW4N5CAm4C5vvvd79odO4hRrxl8wwcNGkQVwhNkr732kvsYUDrbbLPNdt55ZzqlKrvgU2YvdYDVOjPs//3vf595e9jX+AG+49wDDjjAnWGz3OSB5YZgFp88wvtk2tI9gqnJlyEsucMOO/AOlzHvIYccsscee6iAmZ2vOUVk8ohWHUZeVedt6pJQyksxri6jJHTOdcRcS7vvvvuuu+5qFhq8gMU8xyXL77nnnlNWfzzKgXWhErMMseSMb7311tYjohxk7l5ttdUs1aQJ46y8V8HKszAvmYMPPthmv/KVr3HKY489YhdspcuWbaHn4Iwe2yQmknfbbTd5jFNcll7/m2++OQ2RoY2JEOGw/1VXXYV2THy6KlzGXOlkOao77bQTmkIOYk8VGJPSYCJJRqrhSmMtgE7DIevEV8/RfOKJJy633HJ63frbbrvtxRdfvPfee3tcKU089wm7rW1TcvaQEw/O7FJLLUWnYkUIcb18brWuIiHB6eh77rnHeqwtM1YG+JKK0zHfd999XaKCXIIVS+wg/KxBpTj11FMLMJnTg8TypBT5dqWVVqLQZ9aPhigcMxjuCLgyJc8o5E25etlll5XKfHJKyT+dYUj8wsjimQHjDkyrVQ1vt912CiMCrmS0E0dS2aTcdxActNxTBGiLKoSCyWFRTEiqyjIecQBfeukltSCbsyRJa3ObcCvaIjOQiy3DeTQXAzrXyruf//znuSXldhnbvDxo1xaG2dvwYS1mYyzlnthnn320AwcOtH/ZX8xJOuzIMcwnuIuHGIU1xQcL5qKlxKUuntxAMpfSW1Xl9LraxZAhhlOFMJAwmjUd7JjVpzAlKfJEBsu61RR3RrEgGeb22MJ0/AS6T8JietFFF5UEDz/8cE9ekaRQ8MByxmhWIpBPeaHOUFYTNsTJl1McMI9mjrQe+3XqJGK0ldiddZoU4u8uoYtkkZEaLr30UgvGpIQqISWeItwzaEh9YJR9rbHGGsOGDbNIhXzKVbdRxGQEiSDrJMY4rhOVkHSg1ibvjNlaihWHweNALrM1w10PbnS7tkJxz1/msn6lld4cfvmIubxX4NBDD1Ux3HDDDbooJMm2XCNxbLPNNmuvvbZ46ME+fRFxfWC/IbyqhSKCze0XJCCVH6LIF+HO4CxtEfaJpkqsCsgw5V+zqFyXXHJJpZsnFDhE8iPnik98hTtHuA9cGNwnpIcPH+64iQdjn3zySZFw4IEHcpyTy/W33norf0lkIsFBUN94VnoA8K+HsgWLB04UA5YkVSnB3QEJLRNlYXWD9BKwntamFKm2aSMWbJ2OjKwlJi0+MumqBvUEwmzoZKE9GNZdd121eJJSSXpkaKOZgM+YJcoxuQPtPkuqcR/84Q9/kKl4h8FVG063q5crM7CEBJ2JB17Q5Sb2llDS4VDoOkFLI3oVK4gkWCddJWclXCxF++R0z1MpV6K4/fbbk7Hdglk8zVmq1nQ2ZV5MsaEOsDC0Fcr87ioZwAvNjcAI6gkx5iaTGWi2APnTs7hYOGotL0Q3INlFlsiuqTLWLjy7Q4Muu5C7Iqa15mpQ14iMTRGD5CXAESe2bCIOFeRA0qeEKbnlFMcdsVIsg8kCLqMhQ4ZQKK4cOje9fM4URilDScJiiy1GPqOEAWFEa00VKHRgMV2FfLTffvtRxYlqjrZEr8SHuUy0SUOOmZhQ5LKCd6TsbxsCnYAdMnd8FrBF7MgcBGJcFmcFfEnKjQLsonabeeaZPevlI10k2S4OY2g3tyovsYVvJZ68jhM9Ql/ZIVh1US6Lbbrppi45wcphkp1HsGpA1aZ2IyOvqRJU8caKA8NzvB0SYhtvvLGlOgYCXUFtUvW1S86o6AdLEp0I+7LHLAnS2xm6MtYoWzDKXKULU2sxPvWG3yXSSxUNCI6QVmwE4cQ6iqxHlV5gEMx4gVOsmTHFq7JATUYJAX6kkwBtevMnJLIRdaug12Wgx03Wn7qEcneJ1lgbwTFW6DMdGWBwlce555671lpreZFMMcUUGT4eI4ZKRMWAgY3np83gM2HTM6hKVBhiOCMLZpoxRSYmAQZXLqjR55tvPulSDLjRZUky66233jXXXMPRMouKQWEhdMGV5jqxGMP50TpNIbwHDBig3jUvnc6CiUyqYlYQeFRJc+StwdQ2SMwUwsykodPC6Gztc4ZV2Qug7SKc0DZrwXZUrb19PHsGI5DkC8N5wXDHirkQhuvVxjsILX48mOEh8IHx0VGSmHEVbbLJJvRjpqogFm2Y+QwRGUM4EQGYNsJBca7byNEeOnSoy1uezM8RpQhqMx0xi9lwww3lw5Ty5LXEqAooJGxT2SAO/QSApKlB8LCGQkHpcN999ylVl1hiCbNI1xKvB4lRVgtGaenRVuo/MWhIG21hBllemLFGDyh6tNkjIjqNLRHOIPYempfRDBWZMlwLhmiViS5BNZ9bbIUVVvCscuK4QBmtSCIQPTEybeGkjQYeYWrzas2VCHEAPUr1JiR6IdpBo7Xuk046SSggbEZ8uD+EdTEZuDbw7Vl+UXCxPiYBV7UDiSbp7SK/gATnSKy//vqbbbaZm1hxQJvnrNSTUWah0FtfpYwTU5pdPeVNZuD222/vFhegWY94vfLKK+W7Pffcc7fddvPM8kZ/4oknnBPPBXXM3nvvvdNOO5maTqqY3gVJA7jG+FV9YFNcSxXJ73znO1tvvbUzZlUWECSkCsJsf/SISLosLcynNdsRbV57888/f2R6RkwdeAV6ncvsFumhz5KUJ6bpVLQmg9smSRz3vQiG7bbb7nvf+56rRcFrDUYJShtX4RV/XXDBBRyNyAq1URunxEryzs9+9rMf/OAH//mf/8mVTgIXsNVhhx0mO7Cb2lFYY7aWOwr0t6nxC/bFAoMGDULHXAylhp5uuulitEqq3dUlSle8nCFar0zRWPV8ySNJ/HhZ8g75H/7whz/5yU9Er5JaiUBgueWWk6TQSgHhbT184bGlUKPWYiR0MfOjCv/xH/8h8JTCMpfqQX0pkKLTkezXrx8NUpWrRbWRBXgjOr/c7RhSKLrC751uZSJbU7YqfGNP65RqnHS09WfZ2h78UgaS8Z5JHoN77713pplmcmsCARkvJ0WuE/NGQfKVlnyUoJ0dBTePOIY//vGPHZ/8bDJ6YtjIQ4KhfAbzzjuvA/7CCy+gzchBUpw3EmH1nMeuvCdlqQ4lVTJzzz03C0hxPG7Gb37zm44wv1NrOCCMDVHN0FKbxTOg6Vz/ubEIqP5BPkGLJcnZdMsss4ywtBGpw/Nj9dVXp5AGeozKLurE6IMGlpTZEGpWZUeWml7PEhUwAUzrMWP43SEC0SC2qS1jS0i7Mtw7CMzHHnuMBZQ+aDDWwBCA4HRVEV9cccUVLMCwTCHNsj8jGBt5bSY1C8QymQJ0yR6iQkjwkZCQpaPN8jJXL8SHvuQYl/eZZ5559tln31/h5ptvPvXUUx02ceY8iCE5S5iCcGFfhrN/PhDKF198MaN73+R3nFIPeadU/uJvhnCRbLvtttKcEuSOO+5QAdBD/5133rnVVls5OTEThYzLoE7ja6+9Jl266Rk6xR39xx9/vOuQPEl1gJvP4fn73/9+4403GiK38oTZCSgvMPN7WUFgaxIfVW64Y4899u677ybvsJFP60hYPG3JAqazHkRpuwSx9FqP1ilVuKhU5GUZWQC5YmVtm9LbQyhYgF6qzB6OLasALJ6t7BohcxEgNmLECKUDPut5x6s/BJ/jrdf63R8MRcCktIlgtcXpp5+u5OKjwYMHH3zwwbQlajOXgYbbAo7VrrrqqsLgnnvuYRNTHHXUUS4w81500UVHHnnkUkstJU0wKT8yY6kLx0uUFCPYHGxvMhUnzzKpuk2kkWE9FnBGerBDiRNOiUKfrO1CcgqcBVlYWAoYh0XFcMghh3CiU+ZgCvI8atUEzuPRRx+tSjBcyzsye3435DJDcLSLjeMozM/kTLrppptylkrCUTXjySefzHECwwKcAmK33XabURbgnOZyTcSaJccc3TvBEXvssYdbxH1m5fvuu69sHo/E4CXIu0QkEVrP4nPOOYcvbrjhhhNPPNGTkfElB4f6vPPOc9zwJToKMyRO1GaKWEzG50SZxPFhbU8Rh/fNN980JPIBySDMEGTAre+6OuaYY7jMYiRM3rQYYmQ22mgjOl3Sm2++Ob9gCoO8iOS3pOLzzz9fPGRVhgAxkVxfOSQOGVCkCRsbFDOqf6l78cUXN8SN8NJLL1122WXLL7+8ubTSgjhXjkS5Nosf4wjJesBKxJ7r8xvf+IbzZQqliVpHXUV5Tk0kuwQ9VpLUnU+jfCK4T45ylQh1ve4g94ULzuvfUVLim6KMsgxEVCEoUe0pUOQ971LXCms7O1ygSssQRjCKeX3GqokEwiNHjmRVp3jNNddkSVGkuFSLCw8P3VJbZNLehq9IcKEslI0Esdwh74tsrczikbHQQgsJCFvF0ZsrlrmZTPSwsltc/hLHwJouewfVhmM4Y3OrOTbEGEvu4yrCQtkL1VObzMsvv3z11Ve7ViVcfC9dE7Ej1/KTtOgKJGY69jVca3YVuoNkLG1uPgnOvNasprYGl6hQyFx85pExyyyzKCCUFzZiJXotyTFzIw4bNuyII45Qytgpa1g8s1h2gMYJwfeUWFjLcBWy08STbVqY+BY9+eP9+Dk8RVVn1OODPOVCWepnB+YSeWLUqlzbOI6r61nd41QT22effUwnQZB0VdiXUpc8swhllxlTxHe5Swg7gQJXkbfLLruwgNm5Xk7ZYYcdDGQlFiNvCvICw/vV0d1///15hIMyNW3y18CBA11d7aVXe2xTfQ1WrmZiRgHQZlV+qZzW2hQzOgusJ/sz4NJLL02Ss4pAiZDOoCf5lLwMKyVJf9dX/z2tWGVMGUeIqiw98bnARcWPKaPZ37lQNIgipa0S7Uc/+pFSwFtEmpPK99xzT/NyEMfxF9/RRoMF77jjjm44U8hNugSPufh65513Vr/ar7vHzUpYrnQJbbnllu4A66xvpLW9cefW7v5TRlBf8Zf1K44HDlzOAd9www3EcxYMOZiVZNfrx+caYrfeeqtThpZDmMh03uIsz6rSIHsyneDnBZnHMRHzbgh5X+FluMpbMKy33noOqWTFnqmeaWN8x0fGoFaqZOFMnWiBrNDs/IupHOHZnH2ttObU25qVyDwW4Pgr5ZWqdmogYS6m3KTytoARn5IqVSoGBZN0JOp8OrYywxZbbGFSjwQHWY5iuldffVWSNBbEhiBcdNFFLcZeqLXfH/zgB+xsrlNOOUVOS6UCOGlHGx3/hkSI/elBsJUjJmUpc6VlG8HMdctKxGKrzkhXOYyqHBOVP0/KuW6TueaaS8uVjomWbe2Rl/HNQkmEQ1BlXoQu95fc6JQ5MmyignRf7L333lmYuorfPaF9GquXzeebbz4D1dxysqPq8jIXYzrvQsLFJGzsEZNY1tzaRm9CuzjIyoSvMBLZolAISl58owznS5ayQ2mL7bR2xaDgImQR7lxmmWW8WXW5C7k2OlkWStBTawgZ9jWXOKBn0KBBgjvyJnXnuRdpIOOQWIOay5LMzvrOan5MqmvhhRdWWjqizqT8SAn9dKo2lHimE808hG/9DgBhrrVaHHzCCPL40j0PWSRtuhy5+MyqrF9Lm+Wl9dm5OIB0kTGF5M6SDpj90kMJpq7Qke8AvUBJprZHVqXHLHa3/vrr08baFEr9Yv1///d/GZZZ5BqmoF86I8kajMNryibWi49wDLcvar0JZAeWNJ0QT9RaAA2xKg2MzFZMhMbZdtttHScrd0g4Gm1eGuIXqZlkdhEj9FFYfIoDViobsWuGiokQds2zjBYDxq1AIEN6sIAuklo+5SAhdOONN6qDf/rTnzLsnHPOyZUKbgL8jhC3CGfB244rrUQXl7G5nM6bBBwZh5TfaTaFasBAXhPJcTRhYjgORQ6LsyCX5VckboVTTz31N7/5DW3mcngVxzbl7iEpDs2YvSNaexgX6LI4sF8Gca1YHpfZ9ZJLDmAlMetcJGXpilli9mpsR2SPCPtV7TGagfSoxqQFA1nDEXA0BLlD5CQKezEvSBiNTFxjODFOjI/oIU/AEFeUY2gKHAIyTC6eTI3OXrJIwHf6uNIuzMsj/MV3CQBMl/qyyy5rDZUFWolLTHI0nbp4VsCIMXyLzG8EImasUBFRBuoyi8UbJZ5NhLDODTfcULlPONNRSz5/8o5OYS9IMHVV9hv9wCDWkuxQHGS/WjMiGIF5Gc3uZKEwtREGy2hTHwUNLKklQIkp2Jl3cHjBpROOB89zzz2ntqYWk6HMRT4aSgvZftYm9iQ9N4tIYyUZlZFTclkb14gcx4ewgazE+043vinIszmL5W4VJ9zBodzKBdGQAMi8vQcTKDaLabLEmBjilaxesmBcHFsl5vjZpKen1icZ/JzJGEgbbZCijwxhtF5d5OnU4hilF5OAgRIlftYQVSEIIHxmlpK/gH6LVOBznuGRjLCBenEiZmzWQJ5kVJEkgNPSVe26EHUlCJ9oE4kVPkZjRn+6ImOKbE0bA0YJMRxEl4gRaANjs6QsAEcbPR6Lf/zjH2+++WZdYCBTyDuGZKyBmPGRroQgPiZ5dGuyajHhpM3UUVKY2jJWm7H4YCWG2E62FuG0fRH2YvFyhwMsispGYiUbj0PR8SkBFmZbhE9ivKO3BwvEkrFzPg844AAPuHPPPZencGJJoCRiMTJO2jIwBJBE45jdeRTPmGjyEaMhrWWHGSJzOf7y1A033JB0j5mw0VJiIKZdo3vY12cK+37rrbdHjHg2T44KrZVnXwwfwgpzwvwPx2e802LV4rwzYgcakuJimRgwAogYUOszBmQTCoNwdEVVUOwcPdVSWxyrQmO6I/nLCo3KIc0aTO2ayUokqJTdRTOZcszjl+gvqyqTgl6csilLNSp0VCEiEz3haLMeMphGWTO10dBaRM2YhegBlFT/35JEupvd1v36TZVPCizepFSRRGcx+SST1WJqs01EZ+jSZgvGQuHQo802//rXv5522mlDhgyJwlhMPgdiZa5iE2dBNsCkMJoxdaGz1HRpMxydgehsKmJsSCbHM5GGIEPSAoqqXoVWuGdvkD3bUrZXzIqZ5AU4dmI/dmuHMS6ZfMYohkdJhtAPOAl9MunCwS/OxqRNLz0ZQhU+gaxKGz5kDdrC1+I4ToZkCsD3WY1oT5QpEOQzkFj0pMunNl2ACNOQLkEmRCQR2pgiM9bHmqVNdUI9PjKj4VFoCoTWCrWCNc9WM0aedyITDWja4rJwYuoyBBOR5ZXPSGKSRMQgaERm10ZYGzoTRbnPzohYn0b2GNre6x5kYRuEmAinOzsEMX60ZdSkk06qxMzYMGmAwgnMyy/adImuzFh8UT7DCTN0vGxgmFk/Aod/pen8TAjT8kKAKUKQjHA+ew8sqRyZbN8aY58wtejYvAeULZMnDIjo0dYtEyOkZdVc85EM0CQRGeUTimZ8CzZQi3/VVVcdc8wx7qqjjz76qKOOOvTQQw877LAjjjgC00WVIKHHwDIpDVleaMwsLDRmNIfOGmIEBEn80IWvzaWli7x4KKO0BIwiEGFIb5Y0FlEUZoqyTnRmhGyqZ2TZ2Us0sDY6xgS0B73qHx0mAVfGCy+8wPKHHHIIXxx++OFHHnlkPtH33ntvWQOUZZQVFhosgEC2Ux9FwIHKSURnnQF5Zq9zeg8+ND1j2Y+NASJWsJOsPmLZcHrBltDqX2IqTW2U5NjoVQ1EOC2Z1AeUdLBI5A0HklRhFg1ZVdFDPwG2Rmdt+AaSjwwiQ4ihE/RoiHKf0U8GgaNNQoyMrszVGjPK910iMu2PChmCj04bJp2hu4MtlAAysMOy8bPaBRdccK+99kJQCOkik7FBRiEyqYEs2WExmIYgTFT0FwIq2ZawFh9hPRZZ1wz5hKK/r6PzRmIuhK6ELlOIw2KuRGMxRWfoiqlDG6JdccUVt99+e6qKcsz67D71Ipg9n6U3fJx8QllMPhE4BpKEMjbL1ms9U0899b777puflGRJJYpwfNY5vQoWps0usuVwAou35fDRsV6XqLbYGkistBkYg6QXoiTTJQZ8xqFArK5BMinhAXpjRmOjIX/UcaqppkL0q4DWYhKj1hBKit8NsaOWrlHIZxYQnSWDaU2dUaGD9BKOTBC6tAmYwoEMxNQVZrRB1f+pQCHNVCHSZkdZuU+rzXpwYvMu0aGLKgY3HHxmLM0DBw7cY4896hvRkowXuID94xefCnfVc7FhITLWqLgJrc0iA5/hQxZmbOFkUhxDCrMXovVrhTZZbamYIOvONgoRJmRj+WQgveJSCeYtpYvpGQ6hK0eCJFqvSiKczFLMFHk0heEbkkoCQWE46c0CYvTQGY4TSUTuQnzzZiCQz6HF0WuIFp88OmLRow1hCIJYkcdR2pdfK0RtQV2swGeWAW1WV7AwC6aQfFkJIpwwtWU9xc5ZOY62rasCTlxAEmgDROQNzPBogMgUjuGIqMKnKr0+I5zVAknMtHWUrt6PLDW/Vpi89ucrY4pql+291K3EApg46dKG6IzoEZYpo312lsTJRJlRGzEoU4SpzTLCjzzaehJFaMwMjJuinxPRTkG8Sdh6imcJaNGEiWVGbaE/f1h4d79WqOgPrw2Sdlx2OkqgtRFghHx2gK4M15btF5oNyaCZSBvL4EPo2BnoSVf4Pg0xaThawyHyPrURiBJdhqSLfMSiJ8rDR5DE10YJD/ImOpLhRww6EFrIcKjPEk7GlgXg6M1E+Aif2U4Gjg4yozkruuOvFTRmKasybxZQOGF2WFKXyKrKatvcUT5C6GJwZkdnF9pcB3V5n4bEd/g+IxBkScS0OTho/IzKyiECkQSq8ll6tREOUxvJ3oMPHWxxOQApP7OZdNl2NoAZy8ZYbIFmxNilyORTV2qFSDJELvtwyADCKAjTELQWcNCUh0+4iKHjEkBEZwZmXjKYRZUdZRROtGkhAml9Wl5LupraZ5jaMqo7EIiSoP5Z9CQL9Axr1ma4jZQh4VMStTaiDW2pxYydFxkOGRpyJ/mMZTKwkmp5MEQmgvg0NGZorYE+IbMH6KD9PT4iG2RAKObKSYG4ANGDETI8QxDFqhlYrE0swRz5wi9TBIUOP59ZWFkeJiUmKnTEcBARy3oyi5ZMGZ7P0L0QWZvWOrPHDqtNV+iyqc4gloHa2KecqcR54WcWwIkNgeb01hFOZtfGoVVP61Nvuhg/fNpwwtQSCMdnBLQmoqdwCsqqyEdAW2eGgPTW1QZlirRlbJEphK7SO7ZQt142HmeVSTFD9zx1Bz1tqtIjl9o10JCuunJo7arydWS0uTJwLKYI44cIhz3TG8l0Ba3JRh0fvVo0hE6XiVqiowS0cVCdE4SZ3jonlx2EU4YXIigD0xaitB1QibT4H4aO71ikmLLdMUraftBlS9VmW7uFcHRZR8TSRlUl+KEF02ZgZ36doDD7p4QY5dGGjgBk5xmCTmAVZoakNqxzyhQBJo6x9cVkSObqIN8lyESscxtQWF95lyBfyq98arOq0GFC2azezmrrHDRhiE5IFegzDsIpXVBoMnE3QluXgczeWkptjx3QQ1dfgS0UY1Z7be+obhlgHHRnRxTo5YIiEC9j1q2tF8oRy2cIbSTRiNKGaEl/1OnxDmRebWbE91m6AEFDiKDwQ5e2t6EYRFtfcOi0ZIo9u0SGFyXFmGjM8IGSfEJ6A3R9GcSKeQGdz/TWx7a6P/pbiegpvTgh0tKDIBOi8LV1jhOdNnOFGQLCLHu02vTWdx2ibrQw63qK/NhClFteELrMWIh0dYm6PLS0VMJMkb0wdTglbcannbNoXFaWVPFaBH4xS+mNcBCFoUPojYvrYugyvMgHVluX7A71UW43o9ofFaIWn6oiGbXlEzpzOmAs+/gLiHpE1tGD0XsGhcbGcwKrxAp+5sIJAfVTiplJM6QIk8EHHGGUYA0T0WB0ULcVk0Jl0TaTYWPtnlFk6leCFr9w0FyT0x75IlOmg/IZmZIdMHEsDy1VUYujt4OqMl1fR+xgg7Zsi9zS7vgkYHAGoQroKeclvYjMks/AjOGj0xu6gMJi5HpXJBM/bVYlgFOm9gnhQ919GSXvl1Ha8IsYJRGOADqf4fc21K2d9QehO/O7Q2QYodCF6HBn132txYk39RYT+QynTnfgEK5PV5QEkYH0xhGtWUd9lrFkEFBmx0xvaMIQQgsZgoiYT4ThCTn81shRC9YCZl0P1AVa0qNQhvfGcBkvUTmoHSjdIW5TycZbSQHh45RwSW9dFVovFKZAoer96j8WTRxEeXqdlmgr4digjlg4qNu5oEtmz4jO+AXBLznJxSnQgTZLQZtb6SldPutdBZh1VSbl7kQClNdPB3SpqtfCam2KNRD1ldd9N5rIbaGNR9JGMyKWrCZpX8PhB+nFLJ+sXWTQGRVmBNLmM/FQ5NEIbZiRSYufhJDPCJQhkM9UhD7TpS0gEH7vRLWJLqDLyrNf5opwZ2T7BbG8URmSsaEDvZgZVXoRGRJ+iNCQxQTFtq0l1vih9SIMpAHhM4cOh3cwK9mOEM+66r04xpYFQOaNcoSW5kyalF6E80ur8rvyojZi2iys6Kk624jCrlfZ4JOCcTvYN5+sHEPns4NMHcVPCEO49sILL3z44YfLLQIE9NajJ4kgEQPVbO24ySf65ptvvuaaaxAgkspwvQmUBj2A0drUqDPTMvEoQhvD1vldoq5nwtp/RA68wC9FAJFU0gEcF/0EijCgBQlCb6IoYugUBNGWdBB+l/ohAn0L1mw72mKSunE+Fjk7DHV1hVgGk7Wjp9LcQiS7RN1ujuRdd9118cUXFyPrLWOpla+1RT8gCOMQK6oyo09ddKJffvnlU089NX+JUGQMCUHAFrjYFoYMGVKmy9T4RbJ3IrvOlmOWEPilK/weQDJmbH+PQvQgYhaG8llsgkaE05IeJY9JHorCKEkv6DJdVuUzYmWRRSzZO9pKl8/CCUEyn3qthOYMj0BktHoRmcUnsfAR4UR5BDI8i4xyXQj8G2644aabbopAd+jVEdNXEE8U+IwzQgTtvo8D5yWYDDn55JNvv/32hKzPEhP5LDSUYCIDcTkBx0A7ePDgCy64AEE5Sb1pi2SDnsFKMRSLFbPjoMvn6CD2z5D8UAcRPQhtZiETBxXlPk2NiEyRD/TmMzJZJCSQwFxJEFprCNNniL6L7CUXJ8KGsvWK/sjuPnazNKjFoUvJ6If0ls8QHewPQ4cOPe6448qtkFEcR7LQ+dRbcrcWExE+OsJawH/22Wf333//cLJryKc2n5deeun5559vLA0deqnFR/c2ZFWtTVZL7QDMbKcYpEvEzkXAftGYhUaU3hCxj5bm2Lx0aUMEaDJAGPIZAYSxmBELB0LgUwvOoN58hogSYoZrcURC+YR/jPqjcpFPOGUIlNOdWcr6g+jHnKj6C83Q0O6rphAk+VdC2qyu0FNfgzFDvFK8GMcAujA7Q1d6S/S8+eab71b/ak7u+KJBV8DrPhMWPvVGJgQ+Qtcrr7xCVWTwI9mgB8QRAbpl+lGGLV0xZuGPPuIXwyHK8+aL5vi0EmxJkkGURJBPQ8iUXohOY0t+IQA4VX+LIwC0pQtzDBbfe5CNIIoRZEg3COIT7SsWM+TVV1997bXXQlc9bc2Mn4m04cTOxCKZezp0Wsct/7BZerVWSyZiE1Z/YymCQm2uDTLUloOcISFoECFmlA1GjBhBOG7NqDph+Ouvv56p6aGfEkyItqJzXMAi2+uso74LC7ZUtA3GRFCZrbUX8BnhHmBgtkk4SjIQIkBbCMDMjO+9917xKXkLSJdWb/RojSUW/RBVETbKZ+kq+FrtL6tIG6AzBOjUmi7RUoiIRZ5M/J7tkNeiy4wZgl//BALE6ERkCAiSN954IzSZtAXEtF/57ne/m+8GPYP5Ylk0u9f/bYW6feM2ePnll0uEgd6gGtE1jIqwUXDqqafOPvvsb7/9tnf/448/PlX17ywIEbM/8sgjV1111RVXXHHnnXe+8MIL008/vQrRQMI33njjZZdddvPNN8tQ+au8fQr9DTfcUHDceuutgwcPpnayySYzhUmNyuwNeCf/tgKjtVmdwJIM6xaZeOKJGTA+hfSGE7ozdLG2y+C0004TPzfddJPifdiwYdNNN92LL77ILxzqxM4555yEeZkTPQSJPf/88+SBBw3ndMJXX321+2zqqaeepPrXd4YPHx5m/r2GaaedVrRYrSfsjDPOKFquvPLKhx56aPLJJzekvs4eFtxL0MO/rSBdWz/wyGuvvfGVr7T+IzS9YVbCbXT4LGDSFN/nnXcehRtvvDGaF1jSwWFqIVH+Ekmuv+GGG1hS++CDD2I6etHMtpdffvn111//zjvv8Omjjz66yy67WNOZZ57p5F500UXXXnstv8w666wkneihQ4ea16YMtwbypjPpY489Jvz6jfrXPg3hVkDIDxa51157KS+OP/54gSpyrBbkCgHD0RdeeKEI2WSTTQwfOXKkSal16hUN+ccXspFxh47/8JLFx4CFsGyrJWapJDHTVYhqXEcUGcbUUnL77bd7H/OgrnvuuUeelPcwhwwZstBCC0WSE9nHJxmf3OcMOnFOFtuyMzGL4XG44447Cp8v6HR+WdjRcwZ5mTC+FI2g0KoQoVV1JjKQ66+77jqJOnrIuClwuNh5zwl10o0SSCUIyZDnPrjvvvtEmiGEzeWkP/3003a6yCKL0GYXgkE4LbDAAnot/qSTTurfvz9L5rddt912G8Pao/hZa621ssKWBUehrLwpDkYXjMVqsWOH4kBAhB8BYS37n3HGGVzLSTJL4gaKhu5QZOg84YQTnnnmGflIqrr//vtvueUWQSxrqAz+9Kc/5YoC0Ww9Sy65pCEnnnji2Wef7WDgC3RPjcUWW0x44ay//vqCY//995900kmXWmopkSGJJDobBMzeuTjgjnhEK784eNI9zzrtco0YcNKKDPm0nREBR5fZf/jDH1IFL730kqQjuSj+nP+HH36YN+eaay5XiKTjAuBBOeLuu+/mu1VWWcVcjrf7XnIRZs75k08+ueyyy6othIRoyePS1WUjvGyuPfbYgwbKQd3wwAMPDBo0SKYol0R3C+496LI4yPr/8Y/WP0ouwh2Wq64aIl9POeUUbsF4hEDZXXfbNFwORbh3ta5VNjzssMP4xbFyjjiC6Zwvkscee6y87KAxr9R8zTXXLL/88lKBY/7rX/+aML/wgsvYiWN59A9+8AM0DXwkg+csu2Puvfdew5dbbjm1mhvrwAMPFAymfuKJJxIDM888s8y+3377uQyopcEl4TL7/ve/79iqPGSDBRdc0Dat5yc/+YlQpE1xQMkWW2zhZSIbiBZxApZEw6KLLpriadyh87/K2D44yaK2/Pe//10SY5x68iSgJVPitjMIxOmgqj7qqKNYnsGZ+vTTTzd21VVX5QLHZ4cddnDL8q+i+eCDD95xxx2ZVNJ2uh0ZfhRIKjzJ061/5JFHioHwyTPsgAEDOOKAAw5wsuRhh1eydQzd69ZghVmngMlqMR1hEcIFlDj4TqidLrHEEmQOOuggud1SWUb9IRgEFVXWbzr1vSH0C7mBAwc63b/97W8TaQmVZZZZxh7/+7//e8stt7Ra69lnn31khm233ZadabZOXQ7+X/7yF73Cww0iFcw999xrrLFGsW1ltg/R2kibbDCmKOEIaM4+55xzfvOb3/ytwh//+MdDDz1UDAkXaMt1A2PzgyN6EmQCYs011/ze9763/fbbixuaBbQ3hEhy/hV24kDSVIgYqH40l3yx5557futb31p44YWdMdEQ5cLdMZBxpBXPHVPIiR+7pAbFRAjZ9ve///1f//pXlwcXH3PMMZj1AOjBnomN0K4Bl/p6663Hs3KKK4cvttpqq3333dexv+SSS5xqvpY+dt1117333ltZ8Oyzz6YgEFTSJScau/LKK5977rmG6JVxNt98c/Hwne98Z7755vNcECSiQgi5ijbaaCN87VlnnSV+SobtnBT6ChiTtdnNG+hXv/qVxCf4VUgc5EqOU+ptd6CBKnYgBgh3sPvDReKNDm5c7pZbGVO7wgorcArjS7jeoC4ey3CfOX3bbLMN+6+00kr8Sy15Cp966ilnNl1yN83zzjvv7rvv7pB6KSoUiLl+OHG77bb75je/SVKux5HE3ej8q6wXGBtvvDGHWmrcqtd1lSxhAWJDV9kCuAAYRHTRKYTcK0cccYSoa2+7N8HKAWHxrmc5032Z5Km1U3y9zGhf1YguoCtKGIQBuWyGGWawcR6UCd3lhuvVOhGJf/UB0zlTaG7685//7PGtpPv2t7/N6aeccgp3M6wafY455ojLXOdsyPIuXa53Zgk7d44q5PhrLdhistp4RKv09zBTlxgiS/OOk2h2NZCDbJ085YRK2gJYTcAUnoK2YEmLL764EoQSkyoINt10U0pcCmYhPOecc8oY6g8T0ea6ea6C2dVY4k39qtSgU+iaiDY5QRSVPFAHJYBoioOxgJiSn9jaIRfQHJlY5H5e4bDI9IAcACCJpkp+WWuttRR37nKpSpWQx81ss83GwXrd9/KL8BUHZhc3AtS1scACC6gKd9pppw022IAYhRbgCSJ61BNepYRhXL8h+gYcdQZkLi8/GcdRzCebc7QrmUz8FfnuUATiEc93+dob18XvMEsK88wzj0ud74YPH06/mo/yq6++WlHoMLtajDIpp0tSXo38qEB02vlxxhlnRHiDioGhQ4c6+d4o5jJEBtxwww3zD+CuvfbahNM1foB3lEG2nJtDKeyMeJbxCESmEF2CqSMQB/mUfKebbjoPL1eCc7TzzjtzmTccS7q/l156aReJisTt65JgTDnXO9UNsdRSS80+++yOqgLCYqITuCn/ODI/eqG67D2IPfj4S1XnzHrfO60ucj4y1v2hQMS//PLLxYMiktoll1ySHmugwSJbSx+VebLy0DBR9Y/femta27TTTut9aakKSuGEGZnegyw+hEtdBSNZ2SBYsPpbLtWbe7fssTMiwJUIVs0xYfb8S+gMGLuxDCLJmbYAzaEMxUfufguYcsopFSWcTptDqkpwEgnIqKo08l72vO/qVcAxsivcRU5VlmEviJz0rAphXsnZGbck7lajOK1kdtttN7WCoPKa18oG7ODmdqgfe+wxMSDnuAW23npreiau/hl9i5H51Zr2SJu7X9hceeWVtFGishFg9913X1ZorL3Qs+OOO6p+dMk2QjFHxvK6w8dktAajCaGQFKOu5+BEAwdr87ATLonI7kCDxO3wG5vYQuSXYT61Ap0eSqiVjOTEyy67TAT4FAQiz3tFlLhUnAHDxZZoEMSUP/TQQ2GWi8HCfPYcHF9YsHabGnXOEczr2kaUXskLCKCZV+twVj1dwCi9OZCclT9YAJg+ec0slKCFEL5HyYABA6Qnb03PYoWdsdxnOp4lwO8eIjKLREa57Oa5KSQ8kjxHsp5g5plnNimZZJb67voumIspbDMPpnhB66p2nSBsMy30HOcRQ/AFte4A9beTmM/JJpvMG/Tpp5/2OWzYMLX+BRdcwNoOY+a1BmEw11xzoQHTUc2MhhvldgnB+M5jfh1JAEfWVgTwl+cdGZPiu6IwbcRKxIlR8aZiBU1AorBgc1Wba8UVAdBFiRbcK+jBgweffvrpHqMyhlvBxUPPOAKDdO2FGAfBDi5Cn+HboIo8fwYznJ5RxGRgChP2PhmcCxAR0EVzMVfLgtUPeHQ5bmdUcI4M4QVjvdEZXAF38MEHH3744XnpLb/88mpuVWl+mohQmLbcP+qPl5klmtFa06k4BRK+SRGudpv1qfJwxs8555z86oeklXC0F6DyUZl40EEHOdpxqNvdM0Dpc8IJJ/zxj38cMmSI+0VmWGedddQBHoqKA3e/x4BCUFjal7rB2hQcSk+arUcr3vKvgfeApjj4tKiHslYwxQcCIvGhZhemcXkR7g7cnHgiCfmRF81oz0HXAAFlgbJx4YUXFp2eMupEE+GbuvywkTw9Ykh809C/f/+f/exnhrhmBBOBrKfBaIKF+VF2Zme2xdFyq9ObXu3omJSkgaAI8JmYkXpwDMdMQcl3XOnNKkEo/N0of/3rX++4447cE1IAGWPRd911lwR61llnyf6LLrrouuuu64Wx+uqrU0tnHB1hn2ZHZw2t1fRxsJJ9iep82hQwJjdlywQgRohMZ5BPr9Zwo5RcMmkGal3SyjVMb8oDDjjAA9HF8I1vfMP7Xno1KiWX2tFY4WGUO9hAOrWsHRegS+kPIbTGqj+cbjIWYJRUTqeFqfWpjaRefLQIybLNhcBHCAnKfZpO5KDFjOtn1VVXdW2sueaaa621lmXnz6z1KmTLaWUwFUzFbldsimb3KMK+wu8O5GNnRPzCJgamN7+RYTR6ZEgy4UuPsW3MNWjQoPyw1gladtlll156acbU9cMf/nDbbbddZZVVBMP++++vXpGZN954429+85taBdypp56qnjBFZtTSWQhA5PdBYBkihCr53OvO3a/cX3nllbfYYgtxpZcwVdbzne98Z4899uA4o8SeCLTglVZayXo233xzWf3qq68+5ZRTTOTsC6H7779fDbHMMssMHDjQHXHllVeSUelKLGwrlgRG4qTD+6FLNMXBp0WCAMQ3c0si++yzz+yzz574c6Nsv/32+QfleL0S7BrkE1ggFBJSAu6VV17x6QK4/PLLRadUIiA8U7bZZhtn3uFRtBpi9vnmmy+VY2JLHXrggQeKwnQtvvjiSuB7771XXZyjWE5Ig54Rcyn85QKpCi3FsLybe/rpp69EWsaMWHfgTQIGQhwUefycUnxK0IkT972zLVvtsssu3/3udx3m5557zmtGQhEAHE3GQ/bPf/6z1wanW4n85SaQaIQEVVUEtV6ZdCLi7two4wHsSMtoHlLuPCa1QfnUs0mejW212XgPrimSVMVQK6644sMPP6ywdu50OUdPP/20hDt8+HDZWQbfZJNNnCbGV2cbKNsq0L0sHVKfWo6LH+NQSrJavfX1oGHaaad1u5x77rnufsLO+3nnnTf//POrGGxE8ffII4+Qd7V4RBJIchcJ7hWf7hhVo0mpwo9afAtGSESbVvBStH7VRmR6FVhea4+WJ3l6XCVWJc/ddttNrkPzL7Sku4HApidGsFk1nOSpDjBK0suPTvWq5tk5v4/nPgeHPU29xBJLSK3OOFvxr4gyxFFi9kMOOYR8SoEtt9zy8ccfd/quu+66M88805XsefaDH/xA4D3wwAPVQlpLNRfCdFlPmN7xHvdoq7r22mvNm1mc36222mqzzTaj7e6777YYGzHFEUcc8cQTTzjR8rZZxJ7rn9OPOeYY5a9r5Uc/+pH3CQ6d0tFiiy129NFHM5pdKGueffbZ448/fu2112ZMhl1ooYUYhFqz285NN92UIOwBrThr8GlQ3J9EoEaTPkSqU+3cClPFoLCLWBHuDMONEjEJLPHBi3x5+OGHizwBpFdBgL/aaqtxs5ClloBWFjNq7rnnNvWxxx4r4HAEq4tE2RvlWhGj3jzyyCMlDnGZ49Sau8FHUXdTcZxc74iymGuDm9Rb+YwYxMgfi3Im6QSqStZLV/jOv+zDrTworagvucxF4iWB7zLwPHI/cbR6xeV02mmnKRSS+3iWTnWhaKQzEWJ5tuATQX9m7Otgf3v/7//+b8nuzTffls033XRjbdkgO0DPrtFLJo5gHyW4V+Pf/va3hRdemP7bbrvNifN68/DilOOOO05rlIrBDe0A8tHOO+/8q1/9Si3uYnvmmWf4yyPB8ae5bvDoz3poJmBSflRlev95Gqrwnn/++QcffNClSIPq/4ILLuBWweYJqwgwnCuFxAYbbHDhhRfq4mLJAYdaU1gML6Od8VVXXfWoo45y/wkA6cikKW17FSyVcaxN0GpdkzbowrNTlc3WW2+tSLIpvUU4AzuDSWNtN6W7U42l0vJidsXSKYvSs+SSSzpEPMWJdBa/8LVr2L3r8e1TBcCM3GGUM8WM+DQ/+uijwgN/lllm4TJ63MRigBM96LMGc2lpzmJog9AqSC97AnfeeadkrigUVLTJyRRyseCxPA7lMtFlXmecKlvwTlAKcPdTTz0lVIx94403Xn/9ddWMea1WHfBf//VfQpGMOBQSAkmlqxdnzz33VDoY6FJQHKgzDGEQqyLQJZr/lHF0wUN8nGASVWoxYZeugJXTi1CHOpzcKZIcyPgAioYukV6t2PIpTTjeIk/EmEuRIUMRENbSiutBkMmD6lxlhLlkkwUXXJB8fuo1zzzzOCEEFMiiypIsQEiJLRocvLLaavIGLRfLJp3/U8a4A2SKpZZaime5FUgaAmSKGX2G6IBIAq/xHVdKCj5TAjrYucgd2tlmm23AgAE8Rafyn/ush5cHDhxoAbknrJOktLXDDjsoQHkzakUmplcOVW5NUSoRuGPEhrmsk4x84XnhM6vK8nozevhPGf/1r9bDXeVkUwMHLrfGGqsL7ZwjAoyAcPrIVAO7AGEtFzs1+TODztoCCyzAwnK0Asth2X333eVu7pa4icnIHLHCCivwEb5XvjxueQ6sUZIyy8vOWpq5aY011qDTRLI5j7hFMinnkuE7GjjIJ81Wsu66666//vruG6MsSalhJbYjZiwgf6qUfvsyhB5HmxIrd+T512FX3FDoU6WYbGCdskH5wxDjAu15Lcb6O/w9B1kVfwl197dnjPO18sorC2Zd9i6wc0Di984ofArRrkC0vTss7JAftgP7x1MOnVOw1lprsbM0y6GcTpi1nThJW+mvYjCp6OI4huUdpQAzUkiAo+nRJRtzynrrrcd3KTGznSym2lzrdr/ooot22mmn4cOHm9o73sm1gH79+lmqDM8s3L366qtzsZCzGLNgqh44kR223XZbZ5+8qcmLNKlDSHgQGigYdNmvT2FpGUaR32yzzazKAgQSMbPT6VKwgMUWW0yryzrTdsAEXpltskGPYL7kGrQYcth4MV1QuhKaXMUlmD4R9XDpGZE0EC0suNOneBVAfK83EBaCVeBims59Lz2JcvM6ReQNtzwcw4URZlZLWHzg+yzrbE38hQerspWXQY59m1tBV5uqwiCSJU/FWeiI6WrJdQ82d2GzP/cRFktcqSCIOzgLU/6izacYIOAzS8osvIk/cuRIfMkuseeT3xMSfCpNSChSngeuKoTHDVdAkDHK52iudpzDMt96S737bH43V+HDH4f+61/tX+pXx83Ra3kHX1vCO23kO6P40UXLLIyGQ14Gd6+zD3syI4WxMwO6DJxHmZ0X+EKqTQyQd1WwNqbhLmnnlCOcTdchDW4dnPJaEAaucB7MMgyXuDk6NyJkRqryswHLQygLsrtEDs0WgNBLFcIoU9BpGWgLJs/p2UU2+3nCpNX/Jz1+ya6tpF+/qfIpAC0yqypEhtg7AmIKTgmtqzMIpIttnQVPZBWSY2UUp+yyyy7777+/K9wRcHGyEkfwLNqJ47JECM/Gp8ylTMG0HpNyAd+Zgms4AifrYVvlI0kuMCrCaWkrS8W56qqrdtttt9tuu80Coj/HH3wqMvBVHuJBwPApAQNtxHpoE29qU3oIW7MwsCkcfJ+UJMiVIILNenDoNNDCaKbQgim0cTox8+QwvFpg13mgKQ5GF8xX4q9zcdCgr8NB4twui4MG4xDSbA/FgcTb/v9xjcRP+6NBDbkpZdCK7qI4GCuQnCEXs/z8i1/8ws3t8a3LjJi//vWvZWyXawq1seUsqsC8CoghQ4ao8DApL3zXtnmVbrvuuuu9997bXW4h3Nvip7ccrQYNGjTou2gqg94Dxceee+45YMAAF7N388ILL7zvvvvmley2jszYgktdUZI6YNiwYU899dTw6i88RWjh6aefxvFY32233dQl7WGd0Avjp/nJweiC8wRBXPhZ/ORAeGmbFDOukMo9PznIHyZodzQYp+grPzlo0B2S2eS2iv6sfnKQn6tr0SHee++9999/X9LOL24s46vVHz3JDw9aY8YGWj+vGPUrjyeffDJpBMdcFpCf+YOsokz5+te/njX0CTTFwegiLteiP7fiIKHW/mjwWSKmboqD3oamOOjrSGb7rIsDs0BuZddw7uCc4tQNWUbrJh/1l021ho0lZPa6zkwXAj8/sTD1x/7oogyEcZuFmqPVe9EKt1qgjAGioTPa3Q0aNBhLaB+t5nCNOzC+IiC0a1j7z3+2/l0uRNpgrP9mAUwdteU6R5RgSJfFjE5lUJDP8McJmuKgF6FD4fkpIyPDo6eO0tWgO4zbgr1BX0QOV0Gb2+BDsMlnaxZXb67ktKkPwo9H8AExFh3kytdSq/7Q0lxXnmpAVwd+lygyIYJ0jRM0xUFvQaK2Az5lcCS8wDlpUxXa3Q0aNBhLKCer3jb43MDguZvzmYLgKxVCYCYNhv4sUGbPSkxUfo9QPiPQA4qScY6mOBgLKD+5il9LBNRD4WNdHgFtIhg9YsSIN6u/TT16OgcWDpSBpa0TQObll1/Of7SNLkeo/qO2Bj2gs21D59EALMmwoXtGEasbPwqh/V2J1T9D1zlBCTnoLF8nAN0lv4+ibvDavlptbBuBDpbsEpEsYhmez/rYMmPp6iD53HPPvTPqX1WAuosb9IBi2GIxNqw7pbQhukS6HEnEV7/61fwNBGFSlacX/bmqfZa5yuyFgPrshei8PDBX6JQjNGcuKMN1FT5m9HSeTkvm/ffff+qpp/4x6m/Qj8A4QVMcfFp08DQid0aHeMLHCbNL1LsIC47DDz/8tttuCx8HEFFYmKHFUxmOMDaEVngJzdNOO23IkCHGJkwzsMHooIPZy2c47733njbQG5t3iXRleHFcQoW/wvFZukqbfIcAvXXUmaEj7DPLQ5SxdXTJ7HOwiyCf9qqNRwoz6PBZR1wQc4WuzNn2AqIItGaq3Qoh0urlxCOOOCL/RGQkK6kGH4MYKuYNwaSxKpNi1ru03UFmI1+Mf8wxx9x6660+M0rLj5G58cYb33jjDcyRI0cOHTrUwwmdKciYmgwagan1Qrv++uvDJAAIKOupJvwQOGRMjTA8YqUrdIj0lomSmV9//fU//OEPL730UmTGIZriYCwgP6cSefF6CIizQQSkC90a0A0iY3g+zz///GHDhhkSPdoIJNpwIplg1ZU4i0BCUxe+5akM7rzzThwoqvCjsEHPKAZnLm0MiBO/57N4rTvE1IkNfgmBk+GJEK2u9OLrRWdsQWGGTyxMY5O/gMJCQwQwoaWiisx09V0UA0L2xRLZFr/EZZCdxpjdwVgmJWkU5FwYklGZpd6yLfkiYAi+9uyzz85/zIYJFEagQc9gsRiqbq44roP7GDlEZ8Ts3vHRNnjw4EceeSRd5Wzy7IgRI373u9+99tprPt36v//973F4M5oNzFzliPG1F9qRRx6pkrCYzBKPI/KfStJPnmQ8njWTCUEy8qVXG6beCGijB/Ott94655xzlAg4ERhXaIqDT4skqcQBoONsLU/X47LETZfQlYElgCap/qUQTDTi6aefvuuuu+65554XX3zRJwjHe++9V1wqM3URwKTBpLrefffdxx9/nHz+AR56vjbqn3lN9sx0DTqjbpm4LH7kiLg7BGPW/4Npnz37N8Y3VtrilOeff/6+++57+OGHOSv6X331ValKdri/wtvVvznrU2Hn1snwxInnzoMPPuhtNHz4cPwsGP3KK694FQmGJ554QgCU9dR3BD2ss6+AGdNma1q0rxLkQcQ+Fk4ECztHLgyW5yDGZ6XAYXGdPFBB1s4QMz700EP4jz322KOPPkrGXBNV/yoHb47mvF8kCLkuoo55xT/7l884lAGTM7Xsybz5rxN7QMweDWhJz3G4++67eTNHjHNvuOEGLyVMB80xUUOgn332WfqdRO1TTz0lAJ577jk0Vfx7xRVX3H777TKtUoCkODFXen16v6HNm4P8zDPPOJUpOLIYAo6wlTjF4iSn0gqzTZIWIFErPnwmMxcBRGtj4wjNP7w0uojD4i2On+Kj//CSOCgZgZgguPLKK8WTUJhpppkyVlc5A13CcAKRNMXxxx+/6KKLLr300mL6lFNOufzyy930wlR8Tz311LPMMou75De/+Q35Sy655JZbbsF/77335ptvPtO5PA4//PDrr79eOhOdBs4wwwxrrLEGzZkiCx63wdfbwBrO8GSTTZa/9jxMtkIDi6HZU7KQPnDyF12wZ4zpVPfg36IBvF3kAnp47brrrlMlLLLIIia99NJLMWUZjuPN/NzIM2Lo0KH5rdCCCy4oMAw5/fTT5RrQZfgCCyww8cQTn3zyyS6qq666SnoCesgrMcsCQkCd7v3o8h9eYka7cFa0L7zwgl3fcced6ubppptWfRCnRJprtN1tmVXza+OzzjpLmvZMvKkCS84zzzyTTjopg3PTCSecwNROtHa66abLv5vg9KnI9bpmllhiiWOOOWaVVVZxZql1T6Rw7Fum/izRtoObkmVq//BSy018xKFJoSzvFKibJU9ZS2+8yVP1WrwDqmBohUTO4FFHHSU/y3v8Bc6CI6bgO/LII3mZnhlnnPG8885zTNRzs846K58ml55//vmOlTTLv/POO68SXB52Ep2jAQMGnHvuubpWXnnluJUGoTJw4EAl4+9//3sLtnLTObxUzTXXXNo//elPtuz8krzxxhvVFksuuaSdipCLLrrotNNOE1SizpUx++yzW7PiXureaaed7H3cBk/zk4OxgAQlIteD4PvlL3/561//+le/+pVWPOHrzQGoRnwMaBO+Hpci0iipR24SK+J74YUX9l4RPXQKXxnt6quv1iXghP6f//xnsWWWk046yU0j2sjLmC6znKscM0CYBZEZG3SHWCn+dWfzLLdKBIj86+wQt7pjXCThdAYlXAkIGeTMM8+cfPLJF1988X79+h144IH5EagHxBFHHKHm4zXF31//+tcTTzxRDHCuYoJzFX8qxcMOO4yXFQT4ev/whz+4HamVtsSJMHBRKUnPOOOMCy64QJxkeWltJHsZP2Avrue4g1/kdxZzcNJry7kqegAB54ge18Bxxx3nsDD+3HPPzXQqcg71dtx///3xVVqA+OMf/6iI5ErJ/bLLLnMH9O/fn578TDuHHV0s36AHiNty5TOXGP7tb38bV/7v//7vxRdfTIAlE7ToSHaGsTxCLPYHN7S71llQxDtW7mClnlNDRiKVM5VxaL5T6jlW5pJOFQ0CwCE64IADnnjiCc+w2WabzVFN+U7JHXfcEf2mEzOufK53ZuV5M1LlVPp0WtUEZAYPHnz22Wcbm8N+8MEHO+YWqSA46KCD1PRWOOecc0rjDm82yCAGInrY7+eApjgYOxBk+eGY4pH75WWVr9DxppdKvOO5mUwPyUJvPZHRpqTVGojYYYcddtttt3XXXXedddaRoUSkjEZM79JLL7377rsT2GuvvdQN7glBKc422WSTffbZZ+utt95xxx2nmGIKyglnAebSNpmrO8Q+QZKOw8yzf/nLX7zj1fiKLQfemyB/solt3SI5zz2D5vzyUjrg0O22246P+IvO9FK1fYW9994bR5rYc889t9pqq1133VVE5Xelyy+/vFGbbrrpGmusseKKKz7zzDPlN0rkdVFruFest6x6oqTL4vHxyfXeXp6DLhWvw2uvvZZTeCdeiwC67tAO0JWzSR7BKY4SmztoKmx1hoyvOucRVt1www2dJnnck9RYTl9ooYXir/yjeTnC9KB7nrdBEDclRNnNfXnyySdXv8B5QPL83e9+V/5oXs/GNLZNVbTiTHm9xx57bLvttt/85jd5J8XB+uuvz0fODsehia233noqhrjM/e3gCIDvfve7kvaVV16p8lthhRWmmmqqb3zjG/mZIsmyWkuCFDcOmsPonAoG8SNmJAcygkQhIkXjWwmOlRil9DS7FVqGLL3WWmtJ2q+//rqwIVPtYxyjKQ7GAhLfAe96TNTzwp133ilbIXpOFunV0hYxMac4QKhwPQS9F52cww8/nLZED2EPx6WWWsoQHDJi1xDHSWSvtNJKgo/Y7LPPvswyy5RignLyxvqsr7xBz3ABDxkyBMF0MeP111/vYk4v4Odu6BJMDQZqjR04cKBU5VPemXLKKXOFyyPeMbPOOiu+Xi8ejxg+pZmYlhNlqJVXXtlzRKXyt7/97bzzzqPQQ0dr9kGDBnm7GG6U0kF5qqbJaq0BEb+PB7Aj5kKcf/759mj7aDYcNmzY0KFD0WXXPW/ZkBwT8ssuu6zLAOHoSdYjRoxwjhQH6jmzuKgU+qpDXlAc5DHgbMahZT1lUr1UteZo0D3q3mHtK664IlcvsGR+O1aOVWzbJXRRVW9d6tKjLmfHk90ZSRfEL/xFMyaIAVD8OTgE5p57bkfP7MQyKlPkUxukizbE17/+9SWXXNInnY4wwqE2hVgSV3rFiZMOb775piHXXHONQJLVxdX+++9/9913P/HEEy+++CJVLJAtZ8ZxheZuGAvIFS62uDyZoqQJn6H1hqPtEom5tPSQp1ZriGrj2GOPfeWVV3wqQueYY46SCknmyYIQhZCBIMrJ6BJn+PSUM2ZJPiHTNegBDBgrMZeWnX2iGR8qkZbX4t+PBUl+MZDXotDAuA+NiBMr2dZny0mV4wiEVo6oEaUSHClvwQUXzNRZp7E+IzzRRBNFLT5keKV4fIAdaW2wOKgAEwc/nx+7a5IZMvnkk0eYwbnJIZK+QWZnTKeGbRFbbbXVPPPMQ9LnxBNPnLmyEpwspmXr5td2ow2mY/NcpT6ZLiZFsKfzEk6Eu0TkEREG13DU0uAzYnxqirgbkZOF5jgyTmXRgON2p8Gqsra0uopOYwmQ9ylg1CJZM2Rqn/RYSWbBTJdlUD7FFFNEAxkVzG677ZYINFCbBRsFoT9nNMXBp0U8V3wvDjbYYIPEX/gDBgxYYIEFQrcGdINEg7YoDAdx4oknip5vf/vbP/jBD/bZZ58ZZ5xROJpLrzBCGEKYDGH01FNPLcq9Gn2Cd09+ag2Je0RGhdmgB8TUzOg1sPrqq7MeMB3Lr7baapgRwyET23aJWDtmD+KL+NFnyQhpcbSYGYWoBn1w5513XnrppbvuuqtgEBKDBg3KpZUhnlncnYF33XWX5bnMogRojvLxADbrlNmO4zbppJOGaadzzjmnJyOaO7SVzXqKc2JxARved999sjaaa9DTTTddanH6nbv/+I//+M///M/dd99dTmfYqM0slhHPlvMVPcXyDbpD7IbQTjPNNGuvvXb4PmHppZeeb7758qntOXqp4o6cBXAu0ubsoAmUJOmTj3J2qFUCOjgPPfSQLp9vv/32I488suiiixIGHGKERUJ+FEeV4U899VTyA4TIChGRQVOoK6uKHhyncu65555llln+67/+S1AJrQ033ND2S3laAmkcoikOxgJSCvAlCIj80nfxxRdXE6y33no/+9nPeD2eTlB2iQ4CidoElkh65513nqhw+umn33HHHa2ArWY0XcpbMERrrAfl+uuvf/LJJw8ePPiee+5BKBSiNrNEczgNPhZMzbDywg9/+MPNN9984YUXXmihhTbZZBNHOrU/q8ae6AzpjAiQjENlliJcEgEiHCAPyWsRAHQkn3vuuccff/z666/nXKrEQBZ5yy23nHHGGffee+8ll1xy/vnne+N60FCSUeMT7Chbtse99tprySWX7N+//6qrrirVLrjggtlv2XXP2y9nzWHJ+bryyitPOOGETTfdVK2/yiqrmOXUU0+9//77hw0bdtJJJ+klb3ZtThwHxVmYWRUmYvwz+1hH/JgqSiL91re+teOOOy6yyCK8yf6Sp7dQMSMjh+gMXTE7kPdZOCHijhSUKr9XXnnFMQTV9gsvvEBMfXDKKadce+21js8RRxzhWOU/7/r617/+1ltvYaoYhJYkfNFFF919991nn302OmvLFMJAi86OnEoRUhYTSV1ay9hyyy1vv/12qh577DFrOPbYY60KXy+Q10Z4XKFtzQafEiUKtYsttph68Be/+MXPf/7z/+//+/+UhEIEv576O0OGChElcrrEpJCkeZtttplkkklkpdNOO00962E0/fTTv/766yLJyRHfhiQ0Z555ZiFo7N57742+4IIL8qd75p9//vIjLG1iLsHaoDPigiBnO7Zi+f+pEM96tesqvbnIq0FdQ29c4Ek62WSTJSHymuepBITmbl0igSQxfM6thrYCbPbZZ9cuscQSkqYK4Pjjj7/uuutmm222ZZZZ5uXqb3mTzgx5+OGHjzvuuAsvvNCra9tttxUkRkXJ+ITYnPWYRdHGHT//+f84dzvvvLP4jwHjjp6dEi/E5l5y3o5uCHXVvPPO65bSpRD83ve+5xD9/e9/z3/Vtttuu80111wO9dRTTx3HZQpvABUkGqwBp8HoINZL67Gew1U59OceOclXcdPHIqFOlXOUnycl90477bQOF2KqqaZae+213es33XQTerPNNlNG33DDDbmVcRycE088kbv33HPP/KcNnnmO1VFHHfX888878nDmmWcqFh999FEJIf89s1nIJCat1qf0a82Qnwe0YqJKFF5uYkbcel14Og4ZMsR0QsvK1bgTTzyxIfmv38VkFI4rNH/PweiCn+JdNLe5a5MX0iUgkowSi3rdx6qE3Nb8neyT3i4RDapXwplLoNAg+OaYYw4ZUITR5m200koribD55psPB+HNZEiG+1R0u1FUDyLbDSTcDclP5+Q+QZnzkylCNwjYpPPfc8BiMS8OOOryF9sqy/QyYPiMCaEzsEtEhmdlHEHik353DEfLZaZ22ef32YT5180kAHyaCGGU1vOFJBf7XHfddV1UIoRzzzvvPMT2229PrS41hCxjoE/aWiurra1O93J0+fccZP12ZndMxyOLLbbo7LPPgcdf5UQQK9tvDe0E9ncxOJ6DBw9mVVeCgbRttdVWs846aw4I77CkAp3TJfTVVlvNETMqJ5QjyJD06TBya+at1PclO3/GaNvBK5zpyt9zEPOwEhdIj5zlOAj7/NeGlUjLtvjakr66BCXyZ4zPFwsvvHB+ZGsUz1LoE3/uuefWOjWOTP/+/dFzzjmnSY8++uhf/vKXqgrnzrFaffXVedlwSZX3xZhzJySopc0xXHnllQcOHIhDidmJKdwNET826Gk3YMAAykGQyMNUAeWiKxUDvnlpVomqFZZaainbJGMNkox4K4GU9nPGBCrlNtmgR3BPbgj0u+++K7DER7rwQWSLQgLgDcevifUMKaGfz+7w3nvvCS9i5EVYNFcqW9cDWpcWDaajM/UEPo4WjWNslLjnfBIrY/OmodBwwpm3AeOwideAlOTwo8NnpXSFw4DF0bE2muV11cW6hLFp4y8EYcN5BD1y5EjlJpdFD8ko90l/JOMvhDXg6Cq+puGb3/ymm2m//fYjn19b6EpUGFUW5hOy5t4Pa3/rrbdHjHg2KbhC+2etdqHwjlnQAtwe//GPVrTj2H7E7LSYrjOIReDHP/6x0tADsaaw1UWmmqhd4he7pbfMkqjAyUkP32cx+xcWrFf9f8sOyOeee86116/fVPn8179afyaAldgtPophcTIw7sDMJ9tqOyO98qeYj83TZmA0JxOii07IXM8888ygQYMuvvhiFYCzk1mSjRHF71lnkipO0ZzF+8SM8iIcMQq1mS76yxqI6SIfJk7GAqLMq/2c0TcSRG8GvwK/ioPCET04cbNWV12gSxilTSwWhWFCVBVOvRU3AihxhtDi6Eo8lUgtAmVghBENOqB+FGMxYDTIAWbMmL1YG3xqI9wDIpbhPuWyuJXrEZiZXSsBxXeRrHdpCVtJCgscUNbMXP13jLIPgYztgNZCR8XGeIDsfRTNBe0/OOYzOw3Rw37TpVXrsx7hnNwQRQZYO5/gU0ssRvaJrno+NHt9bQ34ofpfT4i5ckAgnJgxR6DLkC4wxHGIZHEHxKGA0JvTkSmKg2hWfSZ40F2eoAiTycAynOaczURIWT9kFD2htfQnrjI2q82nScuMGRKZcYX2yhp8GpSwQBRnl2jIpwDSjo6zk9pIGqIVJYk2zIRgia3wEZAAbY2vBZyjkk8CCPdQGTvOI68PoW7Y4tBCQOz/sSYteiJZ1+azjMXnpsIRAIgMSVtyDSRIIrbJJpusscYa+aQB6vpDALr+2UdRtgYxgjAPjylwEJh1se4Q4bXWWmvTTTfNZ6Wt5SxtED3xhc+04bOzriBieoPRmf0LDjbUFkMVx5XPEu31eO4OsXn8EiXRH1AVIgLhIGTvqaaaat99980Pg8vsiNCmjp4yME4v8RA9mJGPMI6Uiwgze0Fnj4RDEA4yhExdOWJc4UPDNRgzFP+VACqcfGrj7LTdoR4HGRiF4RdOolBbmKGJ5RMQZACdXoieMNEhypDOqBS0ZAo6c74IiN2YEQodPsSAdULbAyJZxKhiUm2GlxCKnfMD0nC0ISC9hCEZR3bDXGqppfJ38uBHssv11JlGFbRZFdqsCm1W70OMU8zCitqy/dLVpREKbDA5mvUGDBgQpiEZVbZPVfxeB2ZRHgGfmRSKFxr0jNiwbq5w0tbNXqzdJVg+roSMKvI+i1/KhY1ZBXgLE0000XrrrTfllFOGGZk66lOjochEcwkAtLbMmLbwbRMnTCgERGE4JIOqZ9zgw5U1GGNwp1Bof9TiQNtlEPSMckjKEKo66w8RoEtIpRXfaX22Yr9CEQiztA16Rt13xYCFSK+2cHpAZDKkg0fKLEWmrrADM2PzI1AJMfygrrbeBnW6T6O+kZrp2vxiqBycItAl0stuhkAZCyEq9kcIyKh8luPZZW+DHtDBUCwZOm3prTN7AAFDuFL73nvvhVO66m0IIJkh4eT4BHFrhItA8TWkq05A52AICt90IZLqieFEuN4G6Prn54n2Khv0IfQcLrq8IxNtCfQIhy6h34OGgEAHmc6cBmOMuiM6WLUzpw4Dk1yiIbT6IKMKWqKj7eWgzarQZlVos8ZTMGDQ3m3NdAXhNOgTyG94RxPxb4cAqKMtNwrl2H4R0BQHvR3CsaDNGg0krNvDquukBLrDkz9uMzpoj6/QZn0B8PlvNhYO2qzuQSbe9BbhzeJZRJDPnrV17g0naLMqdOaMl6ibrgNigaDNavCJwbZdm3esgO+Kg7TORf5w98cifg/arI96PGh3fJHQFAe9FO2Q/ORBKcRTChibtigJJ3SDcQuOCNrfo40y5N+j/uOuulvHQGGDBuMB8qcN6q+gkvc+FiQ/VpjaoP39BUBTHPRG1CO1HZIV2qwekTsjbY6K9r333nv11Vdx8l/LfLX6U7X1R2d3aM06CuFQEuSzwVhB28QV2qzuwfj8+NZbb6HrvwHtgJ61de4NJ2izKnTmjMfIZqH9XaHNqtBmNeiViIMckAsvvDD/rPYnQlxcR7vjC4mmOPisUF2gXaDdPdpoD/skA0tMZ6AiYNiwYSeccMI/R/19nKmy60RnZGz7o0IHTofe8QmfdVKIJetod1TozKlD1/vvv3/44YcPHz4cnT91pf6rBrVH1emeEcmgzarQZlVos3oZ2ov7CDDbvWOGtpoKbVaDcYS2Gzqh3d0JOQLlaXT++ec/9thjPci3dFVAt6qAUVVFHaUL2qwKrfFfADTFQW9HOx5HG4bkyndalAX5vPfee0899dSiTazryqMznM7IMQMyRSyaG3waxJIBe3Zn5xCdocLju4MPPvipp54iZkgyF2alrIVI9oz6XGVItYSu+SE6I0P6Ltrb+CjKxgtiDWgPa9DLwEdtqsIGG2yw8MILx3ddIt4MTT5EDyjCQWYZv9H82wqji6RgLVqCrv/bCiB0tEXm3Xffffnll1977bX8p+pBJAvRAZJ7ef+R8XnWWWehb7nllosvvjj/EuNMM82k1TtixAjMyy+//M477xw5cuSMM87opn/jjTdOOukkC7vkkksGDx7s8ujXr5/PRx555KCDDrrvvvsmnHDCueaa6/bbb7/rrrv69+9vCP3XXXfdrbfeutBCC7300kuGTzPNNBdeeOGVV1756KOPTlnBdP/4xz8Mx7/qqqsef/xxG6fZ2LLm7jbVt2AX+bcV6n+UKbuL2bWs/eKLL7755pvxLIHwQ1QjukXM5a2vUDPLZZddxs68w8jcZCK9PnmW++6///73339/hhlmwOfuU045xfBzzjnnmWeeueGGG84991yfRs0777w8ctFFF3GNEjDBQOb0009ffPHFUyAef/zxtCVXWvkxxxwzzzzzWP/DDz98wQUXCIAHHnjgq1/96nTTTRdvvvDCC0LriiuuEBgi2RqECj3WMMkkk1izrgcffNAW8jfGt7dX4WONMAbo8t9WaP1fyzWtBVvbq6++mn99iu+4w0bQ+Ij4rhrRBSolrd6rr756+PDhTzzxhDi/7bbbjJ155pkjMHToUM4i8NBDDzlEVhL90ZxZWroa9IS2C7r8txUYuaJbf98wyEUcKupyykpvaTsjMhwRAR7kJmdBoDoajhK3Xn/99ZKkeMa59NJLyThBxIx9/fXXRTX+kCFDHAc+zb9+5CDICZQ4lTInzdNOO62FdVjVeImmOBhdJBoSCp2LA11JSYkzadQFkGwy++yzy6EZm+FdgkBk0Lls/t//+3/St0wtQUvuLoxBgwaZ17E54IADlAWme/7556+55horke7l/W9961vOlWh2Bm6++eZhw4YtvfTSZIT4s88+O/fccy+33HInn3yy+2CLLbZIcXDiiScqJrbZZhsC++67r6OrpjEFGcOXX3552famm27661//Sq0qIf9SsGIi9UFW3vPW+gpsocvioNwBbOuide/KIE8++SSbTzrppOmFyBeiA+gBhOLgBz/4gXuIX3hW2adWW2qppdy7bqbf/e53SgG5zAXP49NPP/2cc86pYthnn324mzwlvHPjjTfmX3yRwn77298SFpNCRQrDJPnTn/50k002mXzyyXnTWNfbDjvs4GKTEH//+99vvfXWakdRZC7rQV977bXqDIlSABxyyCE+TSSSEdY8//zz2/5//Md/PPbYY+ZSgghINYpwYgECH7v9T4Pu/uElK/Scs/HzzjtPGF92WesfKJ966qlUOZwivMuRhB78Eg8efvjh559/PqfEIGogtp1tttlUyX/6059smWWcCPeHQ+HERbOBFmCutroG3aJt/w7FAQ/ENbzAnkJO5pQ/JU9hP8cccziPTN2SG/Uf8XaH4mvET37yE0XAYost5srff//9+fTtt992vpTXCJotQ1pTT6+66qrOxZFHHqn+sxJZVK9RK664oqpd3sMX846eM8v7QgI4vQRAe/rxDk3B+2lRwlGUiG8444wz5F+55qijjkJIta7qIhyiM+QXAUcJVZTgvPPOO8J0/fXX/853viO/e7u7Erzw1LzidfPNN//2t7+N7/wceOCBbjUaPJ6MkvoNcTecffbZHn+S/nrrreeoKB1cNqJcojeRA2Mu972rKLHu8tO1/fbbf+9731trrbX+/ve/u1qcJSeHzM477/z973/fHaOMcEcaXv6+pvEeHMcCJ5xwQvGsW/zoo492Z+gtLusZuUIIy4ASzZZbbsnO2223nQvYVWSK4447zu3LfaqHPfbYQ25yf/MX77i0VAPf/OY3N9100x133NGVLABWX311aevMM89cZ511BMPuu+/Ov+57yUupkT+Q5W7jJp7lNZ+ynsKOZj5VTPCm58Euu+zCm0cccYSJFIXnnnvuuuuuK4RMt+iii8qPdNqgSHBrWja+gfmZViv6K1D+eSbKxDBCjfKb3/zm4IMP5g4HQamUf54/IV3J9oQosX4W8GRU7uy1116OlQvsb3/7m1kU2a4Q1TOD2DU7uD8yJLtu8OnBCyAXSZ7/93//d+ihhzpi++23X+KfneOmHk5ZBALyvA8Ix1Yd710kyCVA50XQSm5ieKuttrrgggucLDLO4yqrrML1Hkj4amjlL+9T4hytvPLKztfee+9tAQ5Oy/Gfe8B//miKg7EDQSMTiRgFqSTreY0ptlwDotyniyHx1B0I5/KgSjbX+lxmmWVWWmmlqaee2mNFfHu44Ct+J554YnHpOYgzyyyzKIHzBJTRZLHFF1985pln3mKLLTw6L7nkEheJh47XsJsj6dJKCqFF04YGqV8xQefaa6/tzMiDCg4PZapM4cy4ZqaddloHzHQWk4Hj2SGxozY16vzbKVfKWa7YcOQUn+4hbtKL87F2iECszTuc643rGl522WX5VFUnVSnp+Folt8gii0hVLmDPHfLcR3LGGWfkmimqfxRYKzDwKeGgyy+/nLMUcEsssQSPe/dgWpjYEEKzzz77XXfdxaHXX389PWoar2Sz8KYb0aao9f7m08GDB+ulAd+lSEb74IMPmpG2jTbaaNCgQaKLfhGS33y1t/e5w3rMrk698847Uys4fSob5ULKVhwCgMiQztDLg3YHbG6DdrfgggvutNNOygJeZl7KL7roIp9KLhdM+edYjXWflQBoMAZgw9KqPp0pOQ3N5h48Cr58RqBnRCa+NtwnuvopxSQqaRHOrXKgRCp6Z5ppJgeN+8QMeXlvqaWWUppfddVVToojkBJTVCy55JIbbLCBqHCytt1226uvvloqoFbv+I2mOPi0EH8gEBOa+ekTouSLV199VQoOh2SYnWG4jKYlJiLRko4IxskoBQFaJZufIbueL730UqlQKC+88MJJlI6BW9xwY4WvK8FTD9+n05KAjqTPCat/0C+0KbSGJ/Fhuh7MgulGsX5XlKvrwgsvNK9LyNu0tegKhKH9Md6BZeIRSYQxcdA4CNVSeUSycM9GiBPZ01jCnu/04Bi1wAILMK989OKLL+aXAuEzMsnyy9fUBLq0AW2zzjqrt46BrnbvZkWGZGqsdKYssOYbb7xxtdVWGzBggM/nnntOyhs4cOAbb7xh5WgO5db8OF3SVByQkTGlSKGly0XrysSxfmuYZ555rD9XLzqhPk4QgwtRRUw4VojDJo888ggipyl8iExn6KIEwZ525FDQjHZ2nGVYeumlXQnqj9NOO81DVrX92muvkTcRyQzMRA3GADGdVlwJvxyxgGtEqVOWUOcmRLuvG1Su/tDXaJo9jfK7iXh2mmmmCV88S240o++///4TTzzRIeJok5rLeUwIiYoEvBXmjAgAdH2i8RJNcfBpIUoEUCskK7hTBZAoROvVikWPD3TPSSTJLqq0QpbmXOcGYmYitPzlPefd5pXjFbjqqqsqgd0cJMnkugLx7Vx5a5axGZ616TUFQqBnFr3OQM6DT0xXgpY8prJ6vfXWW7+Culs1XX4xrzfEeIkYDcHCCq8YMzb0mJh88sl1oWPMakTXKAJaOl3M0Uybq52bmFpxxh0k43Flgd6ppppKCuP0jDW1Xq6J2cmLtx//+Mdeul42Dz300EEHHcS56kWjXJzu70UXXXS55Za74447rrzyyrnmmkvFmZ8kzTfffLy55pprCiQCq6yyijXgKxDXWWcdobXhhhvqXWaZZZQpVkutyxIBJGlOdLW2V60txOeDWMky7NRnrIpQQ3sg+rTa0VkSGWBnNIOj6aGZU1iY01VLrPGjH/1os802YzEFk7KJAHmjLMBE+WwwBojBEWyY5FmMiejXr5/yl52Jify4qTuQ0bais5Zm0Tky6AjUgUPn448/fvDBB0899dTK6K233nqXXXbh90xHQCVdNKNFhXX61AuVmvETTUyPHQi+RJK42XPPPfP+k9BVBnvttZfa82Mvj8QZmXI2JB2pJ7ThWtEpNFdaaaVXXnll/vnnX2ONNeRu8srt/Ampd955x8vehWHsPffc46oYNGiQIdTSILObZZZZZnnmmWdef/11HPndnZGFETMKkWTn+nFPmNHlpBQw48orr6wi8e40XXojP/6h7qkkGpwpp5zym9/8Zl7zoDL41re+pUpj0uKyCHeHRAg7e3xcdNFFqQO4YPDgwQzrceOGdvG89NJLXi2KPLSLHAwkaWD0ay2ADG3PPvvs/vvvzxcueJHmpqSQX3hNTXDssccKDFf4gAEDeO2UU05JBWAu1Z6JlJWmFlH5TzBEr4BBeDcrDnThPPzww/ZuLvNm2bw/bNiwq6++mgy+7Wuzx88TmXfnnXe2u5wU63SFK17LedFm5a0B3YBwZIYOHfrII4+wntNx4YUXLrLIIgzlKXnMMccoqrbaaisWdl3ll4bZsrEGjpPt9zVwQRdeiOnSCjZHbN555xXekqcidffdd2d5XaMfY9wBhU5aA8M5i+b05sxi+nQQxLN0qlZeaKGFpERBXilo+feGG2549NFHldrOxRlnnLH44ouLgQwczSX1UTT/tcLooh4NQk1pKe2WLulbbyIvf+pbepV/pWx1aP6gNbEM7xL1UEOI3eOPP1568hwU3/T//e9/p3OFFVZwLd1yyy0ehbL2TTfddNlllwlokS2O//a3v0lnAl18qxLI77bbbt6jnkRnn322KdxtEqjbaMSIEffffz8xt77tbLPNNvnjEdKf17DZ33rrrUMPPXTXXXd1OXmNXXHFFU8++eRdd93lSlB2eFN6RWXB2vri+y5sgTUY0F3bZlV+0cYjtiwveNwsvfTS+YOB+clBB9+F6IDCd7Medthhcp97/fbbb2dYYcPs6gzK899B3H333VLSjTfeuN1227m/n3/++eOOO85RtTZzWcmll1769NNP06buFABc6VZztxm4+uqrux1tQS476KCD1lprrfXWW0/aPemkk2j+6U9/mue+dxJXynr33XffddddZy4hpArUS4kbUXQJM9WAmJE0LdIaLN5ibr311quuuspK9tlnn/yQtuzus0CX/7UCIzgU7Gp5QtShWGyxxe10t912nXPOOQk4NU5ExHpYIRkCxJhRMa3kyn/8du+996ryFVtvv/22s+NMOXGsxOwOi0gw1ihGYJloiMIGPaL150JUcrX/WqF1NIANWVIp4CBIXMssswxvKg7yn8tCTN0e0z2qqPiSaJc5XeSS1fXXX7/HHnski6qPRYtQp80BOeSQQ3baaScc50597BCJbWHgbHKxolmN6FOQOCbOi9ZRXWCBBUzB41lYNe14iKY4GF0kOhMKnYsDXckOCFep21pOd5GvuuqqJPETSZV41yi9mUUWFrsef7JecpBP8eoyUFBLf+57N5lwV0DssMMO7hUCJ5xwgofUGxUMRJO0WpeKyvfdd9+df/75RbYlSfHyoF5PSWMHDhyo14vWp/Un39HvprFNZ9WkzzzzDLV6PSg9Gclky1lez7vrE7CFzsUB2CBraJliscUWY6uVV16Zc3NVl43HGj3YIQJUHX300WoL9Msvv8yw3JdKa9ZZZ3U3c41CjfBqq61GzKQ8ZZRJ3fHylMJCwWepuoSZsUq9/A5CwHjgyqeG8xR/eUlLuD45t3///qo6Y0nOMccc6oMXXnhBsja1uTbffHNiYkOQUA5iBq26nX766QWk4kCxK8kaNd1002277bZiqfxw67NDD3/PwZe/3Pr9jn0tu+yyK644yHGbZZbWX05gI/iVQCs4tRnSGXpz5Vx++eWI/EDFkVEPrbPOOga6OTg6/x0QsTXXXFO9JUKisz5RS12Dj0HH4oD1QgBadOWIOV+DBg0SohHQfqyFRXWExapZFHYSl6wopGnTxb/PPfecM5JfPDlWKj8OdehUJE4QYadGDhRRIpykd5TVWo/sZwGigvdxMhEUYvzDBMqiNtmgRwiCEnzu0VlmmUVaT1eBHNGmKuRTa1QQfpeIGEL2F8TiWz5yGUjl4YtdbU4LYWt47bXXJCmP1yRo8lLkBRdcoCyQyEgmhcl0jpz7xklwTmQ6nPzqwRbcGQ6S40GhKRyJ3Pp6nQeZkXKLcSHlx92WBD6tgUFori++7yJb8JKWJvLzgDr0diDq+x2dvcetLCYBebj8+te/lrBc3i5y+YjBCST9cYeLmZt4x/XMiRzHX25o1iam5QjuppCMlnOpxY/T4y+eVWcQEEJG0WB2AUAgi+Fic1FO2EDDcexFV6LLYiwvw2lTKf7Xf/2X1GnUlFNOmcgkXO3vswJ7W+OIEc/K123Wl9q/6OULTqt5JCtpH9LRcQoYziws/5//+Z/ejocddpg45xEGyXlnFvZkYRZgujxkydf1t9YxetN9AVEcBOzkehY5/fpNVX1yU3paYkH7e5QH620PyFh+0fKU4yBxiVKEw+L9w5viXE5zulXV4jYHRLak3EDex+F33nco0M7OD37wA8RBBx2kIHYkpT7xYApDIER7BeMdmmr3M0TiZjSjJ2KiLZ8iWxoSjoIYU+sT8imUHTA3t6CXsMKRwTOWmC5x7DxkrF7nRAXgYGDiKALcgmYh5gwY5UhgOj+EyTgDqQx0oXHMlf+OjgwmzWVr4/EJCeo7/TSbLWPZk3N5hP0ZvBgTzcLszNrxnZZMKgMC8QW/GItJwCe3zjrrrNwnGMhQhYnmQXFCA7Ve3hxtoC6fxIwVFZKjgXF6QoW8YKAfKIm8LnckzRZjiPSa1WrHFSymjoqTnk+A7M6WFUaMY7/OhRtCly0DATbHwWdAwpmrjs6cBmOAyo0fIpx0jQ4SjfzFj/zlHHGroyHy+ZEqXUIaP2IJ8nhZLzGBnfOo5W5ikqouAo6Sw4IwEP8TLayPovm1wuhCNAi1xIQ8IsKSH7tDJLUF4fcA+rVFUiCWTFTaEDkG+RSsWhwVLg3LLrusIM5Sw9eWzwAzcwFC7ssZyMWDSJczloIj8mlzRUVhlFey4wPsJU921U/nfeEUZofeDp9dgkyMpvXyXm655VzJPsMhUDdmXM/4iPQmKxX5+AI/Q/SGDtKLqPNLnOCkt446hwBkPfjp0nqB5e9miEyYUfiZortfK1SwivZiRhEVu+K0qY8DScZ5//3355xzzvnmmy8Rbl+xQLHbKP1tVEMbjD5YrGU0wS+xdPjrkyviI+btgMj0gLpM8V1CNwSOVm8JWi1fS+bpymGBEBGWVEVFfg0BOPW2Tox/aH6tMLoQBOXi7O7XCpCQgjEIGvoTtUUJlFDWq63T+Sw/Cpbd3n77bS9FFTEmTtYQYTRV2sKM5rTuIa2u+hp8Fn44eqlFpLfwo1/bd5Ed5dcK6oOP3U52DaO58ZbJKlNLN27Z/GATvwwPETE0xBc+01tcE6RuixIoA9ERRpThgIMfTpjRhs4oyKiiRBthfMhPDlI5mRdHV1nAZwQr7e7XChU+3GBZcKFHB3aR68HxQU800UR2ZDg9xVY+wyGPyMAGo4nYjeUq+kvd/VrhU6KDd5yOymntpJcuNBej49nEf70Ej3DkxQO+o4oWFZgl1OtKIjxe4sNc02CsoAqtFtrfnwRGJUZD1JWUqI1AWhCmCVkcVfAUU0yRd09hao0Sx2lxCjMymKWS0JWWWkSODZncQ9FQV4iu9LUX84WC7Qft749DrKR1uXJTLBkzRgmb60WnC42IIwDhE7OAa+IdtN6iDRFamxQZzYSjEF0k0VrM8NGtyUbFQJg+yRueggYyRJtZxi2yYGh/f3IY69S4ACDHJ7uDbB9ikDAb9H7Ea1DonIVEchJafOozXsasxzO+Tw+tRAUBwkC4LVFpblPjI8b92W5QUEJN/JUQTLwKSr2QsA5Ti98SqhCBQhcN6IjhFPn01tsgGjrzwWfORh34rVnHr0PymW4nruQ7iAE7IIaF9vcoTvtjFHpgQvu7QuWfVjzU+eG0P0YNtCT8NqsGzORQWdL6iYWZ3nECi2lTH4VVfaKFZS91Ipqj5BOpajBuEWclRyWSc9bqoZJeTAin9OoKkRwr4BPqYt7zKV0BJhhYhoyXaJ+HBp8P6mHaAYmzItAhZEsohyi9PgmEmZ/6Jn0TQIcf4egR05g4YYZffy2FT8xnqalzTkK3xlSIZGuOUcXHeAnbzE4/JVgpCQWRz/Ah+otr0IjQGZLe0qUtiF/0hg4TMEmWGcsonDDzGYRJhoYo8Vm68CNfJuowfFyh8zLGYF1RUq+5Q4Rf7IYoe09XHZ05DT4lYuegzeoRxVNBGRg+WhKrelqo+zdE6BBB+PXeIMzCH4/RPgwNPg1KStV2CJry2aH27A6R19azcJQH4eNEoWCNDEKCy2eRx6mP1RUxtEpCG/nChGgL8MuyowcnCB39hgSVYHundU6fRtlFZyLo0nRdIpKxHpAPXYxcVLVMXLuSQxRXls/I5DNtUMbWUan8SPqr42N7tYk9STafPch/Pih7rLngQ+PEXOnqbI06cm3YTtlg5EskR5W26AkHcAozZyqcCJSuogEKM2szS3rff//9iv2FQzEI1GmIZTA78LtE7Fku/tDaKElbnAssX2IYUxcZSiKDNpwAt+b5VAuz1n/bUsZGMxTNhah3BYXZeVRvQ8t2DcYKSoovOaK4P0SJrS6RmBZwiRWfUVhCEGiIWr2A4zOpzaT5r9TQhpB84okn3qv+4cQRI0a8+OKLJCkcPnw4JpmiH5FRiEydNWjxM3s+C42fIUAJ+sknn3z33XfDIQAhwunrsPFsCny2qcoOWpz4BVHM0hmxXlR1sF66AjROFBaa15jXJ0QmwmSgRII28ggyiGpECy3pGsJJF4QJVEVbBzoyRVibrnyOE2TqYvnKEpgtCySwES25jzt3ZQsRi7byWRA+YSiaQ6QrtAvep7Evv/zyc889V3q1VgXDhg3TEs7Kcxgh0xXNXygwiLa+d5YJWFtbmKNjHzIZGAuH6TNd5VMAR0YLutLq5UQJ7Z133omGtPDWW29JqmSAH/NnFTMkiBMD8unS1vlB7oigiov23dGr0D78DcYYgkBUCTVBUIXZR9Jl4oOM2rMVX6OCtTPSW4aXwMoQ/HAAp5W2q+ycSdGYqXzD0R522GH5T1HOPffcc845ByFh/e53v3v77bfRGV5m9GkIwmcOjC7IsvEpr4d4GYVwb+23335PP/10NEQzPoTTp2E72XjsoK1vymfMjrbfMLsEmQikraeDlHdQTJfPQA464IAD8g81Zfb6dKHJ3HDDDfmr/aIkSO94CVuzUwZBJzjRTMIssW3dDh1MWkfdYtFWIPg7xDxEBpE6oHCs55lnnrn11ltxfF5YoTWsBjX6n/70p9dffx3NoVyGKEcsz9MvGmJD1kNoiz0DruGgMOu+6AxiOUcJDG34kLFhphcTEf/GX/XWzf2Xv/zl0Ucf9fnqq69ef/31OOQfeeSRgw8+2BAp9KCDDlL8YZIPykbqTHS2U/T7LPGWEiFdvRAfnp8GY4bERAlN4PvEMUIvoMVBEegOCR1tQirJIp8RoCGRFJ0RNhcifydBCTuShhuIeVMFxBtvvHHGGWdIakZZT1QVZM2ZDuikDZHeQhiITyzD0RSed955r7zyis+8hHRFW9bZ51BfdjYeg9hX7IbGscdiBAROPnsAAYhx6ijmTSosfjQRV3Iuvs8sI3xiiEpf6x+O23///Z9//vkM1Eu+3DrjK5iRcWK6WMN2RSOmjWfv2mLM7pAhRVUGsl5ydz5H6W/5nWQ8SHNiAFPrFFx00UVkQJUwdOhQMrrSGyU5lWhXznHHHVc8a0gEtF8osEYcpI0RYpAw01tZtNU1OmBDGsgnf5azhohOKNpi8MigI2D4+eefn78v+e677z700EOjkNiE1T9zrzjw3ErGC3SVjZQZMwtmQiuf6cVpSVQbbEXex10N4wRtYzUYY5TzLAi4vwSBeEpyEQ2RwUn0dAkyGZggA3HpkTFixIg77rjjvvvuo80D8fHHH7/tttvy0y3yRuE/+eSTXiEqAMVsmX3QoEH5C91wck5AFBqoBKbEW18XJPTfeuute+6555prrnEqSnxT+Nhjj+myGMt4+eWXw5T4HnzwwfIbCqDWqm655RaLyVFJV0tLH4ddsI+WocJxnYTA10YgnO5ApoQKu7ESW917771czFwxuDt++PDhbHvzzTc/9dRT5JnR/cGVE088sU+vGU8ZRcDtt99+1113SU+5wwzhOBeS92gWmXAaP+zfJepbY4HsV9z5FOQxHU4CPmJdIkeDR9iWzYcNG+Zo5K+aZknHjS8eeOCBd0f9W9U08z5J9r/zzju5IHycyy67jF8cIgqzPHztiy++yEFvVv/o5WqrrcaVTtCll17qQFFu6twNPa9z/Ebch2Dbypytm5hBQFcEWCnHpEvEj0VedpKsnn32WRZGixCQyjjXEUOT4RdpjZepNaOTRThTcB+89NJL1113nbyKb2HTTTfdiiuuSL8jmRXSz7MJj8wLsvRDDz1koFgyylxWJaLuv/9+YsLDkCTSepD0QjR/Q+Logu95MREgnup/QyJm+IJAy+Xu8iuvvFKmcPLzd9xiZngkOyNj9SIi/Oc//1n4DhkyRNK/+uqrJRc3ipySzznmmEOwCr7jjz9eVhKg4l6JYK65554bX8E7++yzzzrrrB40FG666aYulaOPPtp6DHctidFJJpmEjBkdmyOPPPLGG290kBwGc+UfTqX5iiuuePjhh3Vde+21qgq189lnn501WPD888//zjvv/O1vf5tmmmmch5wKs88111yG97DfXghL7e5vSMwBZiie5QLnHJ2/dbhIouO7fHYADYFkccYZZ1x44YUSkwtGsphzzjmFE5vzjjs+rpGPrISXmXe//fYbOHCgUo9PVWAs7F7ha8tYcMEFTcp3So2JJppolllmyb+In2X0sJ4+hC7/hkRbE2Dcwv7K3EsuueS22+5QG80880z4EFHbZ/MejKDXvSLRe8c7QQyr5RHGP/nkk50dR0PwOwJOyuSTT07y4osv5kFucsCZvV+/fjPOOCPHnX766Zzo7l9uueUGDx7sFGy00UYumL/+9a+qgQEDBoiugw8+eO211+a4U045xWpFmvvGaq0hO2ovazxE+5h0+BsSucbGQ1fn4wMRzsIyjDQrWRGAnDK96Ah3iQjw0YEHHsi8kqdTJoPJw65qJ5crHRzHymni6KOOOmrNNdd0cOjn0P3333+DDTagx4Faa621ECeddJKqUapfYoklVBWnnnrqhhtuaGEynrU5p2JAJnRI56v+oU63Pp1XXXUVF9uCjD3PPPMYLn6OOOIIGdjhtQZTyx7WwOOmtuySRnoP+nzi6CUQLrwbB8svv/rVr37961//5je/QZx//vkpVD/25Ge44G4dkeonk2eddZbUs9RSS8k4//d//ycWpX6f4jh/jEDMyTLy5vIVZCLZx0mQa4Rg/hwihTl+FglOi4t/mWWW8WbNL7PJ/+Uvf3FRLbLIIiuttJIMSIlXEWEHVR6kdrHFFlMHnHjiiWoRMb3ssssadcghh+RP5ZjF2hQE1uYkOGOOYvjaPoc4IrCFyrEtjgvgl7/85e9+97vf/va3v/jFL9R/4adl5BDdIb0SBPPGhgsttBAl6gCxwYBCxQ3kFlEKsLxSgLw7Rld+Uc1HbiyVBBnJ6LTTTpPppNrFF19cgtPONNNMeULxnXY8RkJLK2UL4//93/911pw4Kdj7TFfcEfdVI7pGjgajyeaOm4wvhlUG7qcTTjhh5pln5gumdtmLfAdZ9axqp9MJWnLJJWV/s3t0chzjK84WXXRRvbnPvBc5UeFO2LFyWOhxdc0wwwyzzTbbVFNNRbn6ICtJjRJ6fAR/dZsN2Ao4S/LkSpA/tRdccEEcFMv0kEITD0VY0SZDTj311CzvaPzxj3+UD/v37+/TxazmM530yB0GpuBwr+ePF+TsYMq9ygjHzVGVgaVKxy3JXGupikIKCciftOGrHpxixeWgQYOkZe8ocxF+44030KZWzdMmPUqSAlWXlRjYC9EUB2MHHJzwdWVK/eLAGzoPfXEpqhL6icIukSucWJEUo4J7zz333GqrrXbbbbennnpq6aWX3nnnnXfYYQeR58IwysWw00476cVZddVV3d8u9QQcJVrHycLyLtHibLzxxnvsscc222zzve99T6Gg8lVhOIR77bXX7rvvvummm37/+993Klw89Bui0t9111233XZbvZnRp+Fbb721GsVTyRTmWnnllffee+9vfOMb+XfMnDpztTY2XsAe2cF5Pvfccx9//PFHHnnE0/9Pf/qT7ScffSxYI/DIEBguEsUcz377299G40866aScu+OOO66++upKNJfNPffcozJojx/1Vp5yyimJMT5rzzrrrMLAwLx+tAsvvDB3ZyJO6SGZ9nXYoNYeBaq3mjtbwpW73dxottIV1yCqEV0jhiKJYEOnabvttnPH0+m47bvvvk7EPvvsw1MekZ7+cj2nfOc733EEOMthuemmm9wTCgXFsbvEy9J9zwtvv/22SkVByVOrrLIKX7S8UiUKN4RqW4G40UYbuXV0ZcHtNX2RYNfZPlriOuigg9yv+RWP+izJM5YZffsk3bmbJc8tt9xSvhIbjht/wQorrKAc54goTE5G84tRkFODo4BLVcdNnIVDGMigV1xxRYnUSRQMzz77rNpCNjjyyCM32WQTAbP55ptLsNLy0UcfLR+aTimwxRZbSKS77LKLriFDhkgjiYesobehKQ7GAnhXOCJc594Ql112GU66+N5rTxCgRUDCsQdEwCigU8bJw8Jt7UXuoUlAlzeHUhRfiepxI5EdeOCB3iipDDJ7Ai6qopZCV4u6FUd8y1CKD5WBl40r3zHICsnIZYrcHAO3lFyJP8kkk1hD/mUafG8sE3kM0UZytdVWy6TTTTfdIossouYgowuzTyO2Qjz99NPuHkQeFvjyvqSAJsA+MZfP7pCB7LbOOuucccYZXrpuMpx5553XQLeFa15yVFxKMfyCyZsJLcqBwYl51+pyqfCLt2mcC5ndJ2TUeAz2Zw246KKLym98tc8884w3IjoWwElXd2DVtFS53bmA9WTz++67T70r4KNBeHsaPv/8856kigbXRmbnDgF///33kzGQvyrztw4pSY8ENaWKzRRhmoibtD4x4zIoQZXPLxSYgh3s3eUqecYjsY80olBAJOf0YJ90udc5JfSAAQOcEbQsp+yTPDGpVTSo29AkZdf4BeIaRObSi8Oh0ZkpCEuVmUgiDT3DDDMIGzHz3HPPDR8+3OlOdTjFFFMo9L0lVJP8K1Evt9xy2Z3ELp1KvClEeiea4mCsQTzxtOgRW4kAwaTFTJAltirZLmB4m6rgU+TlGkiwdgijxLTyU03gUAk1CUuqSojrhZyTzAtRlYAO6ExVCx3OiWjOEIVIhDEpzHb0kk9G8wk5h0VDQcb2XRRjxv52ZLM+0TJO4RPT6tJ2iZJfeMrDYoMNNvAikUqOPfbY4447Tu8FF1xwzDHHiBMX0txzz60Io5y/dEW5ln6TlkjgSgrj5XDq6yGcgeMlbNlmtamewwmREC17J9aDHUqX4VwTtbyAzxEiHBFHaMFnzI42S04TF/hEEMsytJbhnUrmzDPP1IsDFEaVIfV1IrRfQMRuTIFgihin8GPhmCicHlAXoFDyRLB5WqrSxrnsby5EYCy+XgNz4pLfIm8NBKI/wogEHp3kCUStNEht+FGilWO1+D7xg7IvU0Rhb0NTHIwFlKARWMrS9dZbj78hXV7kKVoTCj0gQRPawEKDsR2GmwtH3vFs2nfffb///e/vvvvu5U+4QLIPyUKQf+ONNzyt0PSPGDHi1VdfdQ95uSov8uONap5/33HHHbPPPrstoLMMLRqBaWy6gPJ0Pfjgg7HDO++8o9jP3RZOX0csoPZaa621YslgjTXW8BqwR9aITM/7TTJinJtuumm77bb72c9+xnELLLDAqaeeymgnnXSSJ863v/1tzF122WXKKaeM44p+YxE4+AjQVeYtNBRi/AZTMOnGG2+cayAQzMsvvzyCfVgsRNXzMShirKcsEP+e/tFglnvuuUfed7769+9/33335WcVhjz99NPPPvusQ0Rs5MiRqRX4go8sgx932GGHI4444v7778ekLQ4lk+WFBtrQo7nU8Qy5g1lMzG+xxRYlejElz/nnnz+cmChd3YFMhNmWwhAZldYntTnF6mxveq5EG/XYY4/hW0yUZDiHInyiEfFRlEDRHPmZZppJfXnrrbcSCB89/fTTewYQlm/l3kgiHPk555wzSiLf29AUB2MNCSO1oXfhzjvvLKyXXHLJzTbb7Cc/+YmKIeGYIOsSokSvQAGET/WmVtwknhCZIuFLzCjH6fXXX5e57r777nPPPfeG6r9WMFBXZkwca30aIn+ddtppgwcPvvbaa+UsF96yyy7rIl9hhRUOOeSQK6644rbbbjvyyCMVCptvvrmcWC2nNVHWkOstyp0rLWRt1V/6cuHQoUOPPvpos7g4M7u2zyFbDrJB23dh/PCHP9x6660XX3xxzkX86Ec/mmKKKeyRPLH6qM4oArSdfPLJSoGHH35YrfbWW2+5b/hIWvGpLONK5cJdd92FyZJaY1k77jCdxURPpbjlGlHn6uK7p556KusxioA2MuMf4hTYdNNNVVRu4sUWW2ydddb56U9/uuCCC+aMsBtrFIt1CSbK5YRmN5JavlC9XXLJJWedddbtt99+wQUXnHDCCYp+B3mTTTZ54YUXnBEV3jXXXHPwwQfPM888AwYMMNw18MQTT/BCXDPppJNyitturrnmOuCAA5zTrESvKUTOiy++qP7I5fQFABd064VYntn33ntv5dTSSy+91FJLMTVvqphzdqAt3T2Ku/k02dIozs3x0UXGJyYZ2Y9mLpa1uNjR00VGm8gh5tQbe/3117/22muYRmWiLIZM4hBhun79+lmzoy0TCgOZ9rzzznMF8DVhjpYbJd4hQ4bIvcLVwwA/GlpKexma/5RxdMF/CSm0yONvcZMuQaNNuGjlCPcHx6+yyiqeNcstt5zQKYHVXRyQ0RYZelzhCy+88CKLLIIjs1x88cXbb7+9jCN2H3jgAXWo+8kyHqogK7399tvSont9ww03VDRIba58mevqq6/2tFp11VVF56WXXupiU896ypDfdtttHUJhPcccc1CCCcOHD7fyb3zjG9aM+corr1CI/sc//nHRRRc5t8LakqQ2mnfaaSddjtbAgQMJy6TeUhtttJE0HbNYrbZPgNk7/6eMHAHxyAwzzMCzjKz0kQUWXXRRpksvxMsZ1R1Yg2s8Gtz9igNvUAO51fNIOD344INsyIAEcDwvNthgAxeMss90M84441VXXeV1wq1GcYcEJB4GDRpkwcOGDbv33nulV97Ra1WZER2i76LL/5TRBhnTLvlriSWWmHfeedlh3XXXXXPNNVgyTok09BCEJDmO8HXXXcd6a6+9dkznRKjVFGqs+uijj0477bR77LHHLLPMMvPMM/Oyi8RJ4S+pwEsgNjdKxcBrK664ItdwymqrrWYxXHb66acrwSlRf2+11VaOLSUqA752Hm2hBM944K9u0N5Xh/+UkQdsnM2zfV7mzYUWWmjllVcW/FoGgfiIQNqeQZvk6W2W29eMEhQ3OSxKBEfv5ZdfVlNONdVUUiIX86+Dz+MvvfSSopBPJU++m3322ckTeOyxx5x6p9KBlTOVC+eff76yj0Pp9xiTnNWOMr+VS8Vig+Tjjz8uge+4444mevLJJ88++2wvMXxvOYd311131Ztg0/bCPNkUB6MLQcmFCc16cRDvlt4qYX0gGjwHJSwJXS+mriKD0xnpikw4UoYbIvEnRqebbjo5SP5yTkw955xzCn1nSYQJepG90koryUrhEJh88skVFpSghaykZiwlToX7xqc8mP/Gmn5FNG30EFhzzTUlWXeYiRxju6A8hxOTcjJZ7ayzzuqCtDaTKoPwTbr66qurDCaaaKLkO2LVbvoALLVzcQDcnY3YtfPPs2Cz+OzDuWr/cra72y9rRJK5+EWdYSKGZTfZUNfcc8/ticnCPMsFnsIeIgKAUwSbooT7uFKSElS00emT17iSTlUghdIZ0BZ/keluPX0IXRYH9lXt0V5bfw6D9URmbu7YWVu3QA92SDAzJmvzSJgiWWyblP0VxOpjFqaTMH9xAXlHQx3sdjdcl9gAL92cu7hGl5YreZxnKaTWgp1rSszCsz6pjfIe1tnH0d5Xh+KAl0LY+MiRI5lC8mRYUFQxSOnl2R7sk/c3G7p3STJskmeykNPK7PKeXo7LETaXxKiLyxw3+VPxx2v0cBMn4juPQkIMiC5OlPEUeXEfAaoIywM+k3URsjTvE/YsFDaGWJ7iwMtq//33l1skW2EzYMAAC0tuifezkd6DCbxU2mSDHiEISsJVbwojcYBO+OaeIJDwjZhPLa9nYIjugoAGKd7wKIyeDAxwfJJRt4owhyEZsMMoHMIk9VqSw4BJvhJpgZhwLALhpCt8n1o0IrFLYQgco8wYMfyyKfwMb621+tlpCCDZ+2H7luoNIYnLLG1utV97lw5C22AcnY3rYtv4jkCUVOM6IpZJG1PTli40DfhQLInvRWKucMqQGFkvfubNJwF0WaFPiJi278Im3nrr7REjnpXN26wvtfdrp1/5SvtvDa+M4P5o/QCZR1wz2lH8VqBCNbYjCFBFkkAsFs2Mybw+dcGo6Vo/P/NZDW3b1gKiPyAJiPwoGx0fIciHiBMjHLW6shHMKB9vYI/V/7f2hXzuueeUuf36tf6Ys08GKGZkW16r+G2kC2IZnO7sU6xXTg1tsTy69IZJ3mccFPcVj0QbEIizykBq8ckTxo/mEJlIr0/wqSWpNQpx3XXX7bbbbrfddpvcgkkDnQmwzN6aspehbyeO3gCu5XsEl9fjI13QEqpCDVObz+4gXBKL6CgpQzJcm0iKTMIUfJo9XfkkjJOAxtFC+AhtBMIvsJcIAOEMh5yoQpDJAkLTH22YsUZ6i0yfRoxQt1X2FY791lNDq7srZAgrBbFYOPFXobWxYb036SZikTGjhaFxwk/w9M5E81kgxgkdC0jmVfvvFHOBrvR2B73RowVq0ZREfz5zLnyWEwFkormuP5EQZGwpMoo24KZw0Glbq+xxneMrihFKZVCsFJsUQ/WAhD1Tcz3hyGujKi0ncl+0Fd+lFydz+dRmeLq08SkmlPMVeShZt8xF3lz4ObaYk1U/Bo5kXWfJq70QrVU2+PQoKYP743tBow1d4qkH1KOkBFyYJeZCFOQsBYbUe0sQI4pYh+HlM2PrgWverD+cOh0inPIJ4XSW7Ouo+w5dvxug7gIo2+8ZRayD8hDplTuivGSxpBt0fRTkM6Git2758cYLPSDbr8zS2myMFouNDmKiyGtDlHPX4VRqcwdwinmT98sCfCbj5zMroQE/kmkNj6qgRFRWEg2RDOp00R/Uu/oosmuIGevGKZbBCbN0dYnSG50ZXg1t8eua6wLafNbb+pDQZTFB4acFwtxhF9FQB85ss8327W9/e+KJW79MiVpEObMtod6HjttoMAYoPi5E4iNt3fcfe5jrIViSTtpClFNU+PXpMgVmuVSC0GQKMwPrMhDlnRHhEBmSz6DOKfm0LtCnkY103m922sEd2i7RslqF+mchitnDzCdX5kcI8akpcjfUh9TXViwPBOoLHv8QI0ChEcK5aj+0iTZdPaDIVGrawhlePsvR1qZKK2eZUwiXazsD9QJ5fMIZmK466iHUAdGfFuqRENTpPo0YRxv7aNGxDDrMyHwsipsin7GFKI7QhtNBoENvQemNQFDoEB264lM+ipumr/7qM8srvu4wdS9EL13W+IfP7SSLy39Wv8DOp3mTVhr0LRQPIoATe20S+UIhBzne0aYmcOLwO6d7XgtfCxHOZwQ6Q29GRSaHt1QeiYTQmFlGg3GO+CvuiOPq3kHkV359y19NuhnfUOKvJBEoyaXB6CDHe9yCy2QT74z6YvpWchlfwS9J/bwTN2HGU4BfP2657IvjOvR2RumlKrOUz3rRrwsndINxiHhBW9yB4KZ4Suuz+LSek3s/muLgc0LCBdrfnyWSjxCmE5pJXg36HJJWuO8ftb/gvcG4RTnCvJPDpf3qqD+jk7OWaiACECfmhkjbcx7QW84sv78/6h/foiqc0VHS4PNBnNLZFzj1Yo7Xik/7CpprY3yDYE1EJmq1rpbQDcYimDRof49tyCbaMoX7ANHcB+McvJCCwLHyGTpdxTu5BtwNWoUCV4Ym6bM+pDP05u5PERBJLShBQuATI4CuBo0/yAah/T2maGv57O0Tp2sh0yHERkr5eArQenOo+wqa4uCzQhWZH6LN/eRoj/8kSCyOHDnysMMOe/XVVwVrVDUYTdQt1rZpJ7S7K4E21SMyqjPa3d0grnzvvfdeeeWV3DHtYaON6Bn/0N7eR4DZ7h19tIeONhIbiHPPPfe6665DdzhfungtNYFHP8dh5qp47bXXCOfur5R1AV1RaEg+4ayzzrrrrrtwyly6orPvwF4+xj1lv58Sn0aPsZ8IPKI1sHgW3nzzzeOOO06L1isM4rhI9hU0xcFnhVbgjEL9M72jj/aw0YYhyRrvvPPOQQcd9MILL0hVfati/UKh7baukF5p5YwzznAP8WP4nwiZZfxDe3sfAWa7d/TRHjraKENOPvnkwYMHI8qtkMs7vZXuL5133nk33PD/s3cecFYWydpfXSUNCAw555xzzkGCJBFQEcEcQEVXN333fvdbd6+6IioqiCRRDChIliSSc845xwGGzMAMuLvf/7zPoX05E0AZZM5Qzw/b6urq6n67q6uqz5ywGD6X/gULFnz99ddqgiOxBIGASo6tJD///PM1a9aIr1Gg9WqEIWkEFvRmgiHYEY3lzIAsEN+rX9XXZgEJhxEsOUg2OMsQLZchAxI8qaQgGemBJt+EBlwc9ecrmCoRYCD4l6/8/Gigvwda4cOBID8wD3Lj0IILLCwLDqES0CoBSsdMELQ6STaObQJiUgKa2C/xtYPg4sWLXByJDXQhP5A8NOahFxLgYBXQwFPzb1mFBgoMnErBUwuyfx4WP6wHV1W04yQIuvu7sPKUWkmatIBUGUJ/+9faAu6FsbGxVL2uP2+curBTtH733Xdr166lI9UZM2ZMnjxZ9oMMoC/y0gY0E/gaTgSqSCzOnz+PEgg49FJJ6oCMN3h4Q0/hnkWLoD0F0GpSmQS0Qd5aBo8A4PjopKgqJXAQoMlZDgIwEYBDEwho9LYbMdECwsjgWmmCdjpFs6GootRLtnBoSuN9QS0EnICKMIH9tsL1Qp5Cu8v2+39bAQvQrU5VGeLhw4dPnDiBWcgygK7vidkHAq4UuJpQzps3jwvKunXr7r777ty5c2OXjLVnz54pU6bMnDlzw4YNWGGBAgVoZVxGnDhx4g8//LBly5a0adOOGTOmR48eOXLkQE942eUtAUuk31bwf7+ewJqzvPL4R44cYc21+4BegquKiA82Fw3YxtatW7///vs5c+YQOc6cOaNfbkVg+fLlhBD4S5Ys2bdvX758+ZgJG8qNMyYmhi0uXbo0cQJ7QGzhwoVkDMynUKFCaF65cuWqVauio6OnTZs2e/bs48eP5/V+TSOJ+YQLEvxtBcCjcVx4dtw0d7UjR6J+//s706YNfLO4e6kMGR1PVePDCbB0U6dOZWFXrFixf//+PHnysPjwjx07xmbB50yx6ePHj8+fPz/H/7PPPoNo2rQpo7MR9J0/fz6bQl/OI4F8woQJ33zzDddH9GMwyB88eBCFlSpVwpbYI8DpZuOQwQZgMu1Dhw5Nnz5d0yAssbnwv/322xIlStSsWZMARsKxc+dO5PVVgEk8WorEHSG/rYD7DHC9DI/HZzF53qioKM6F3mOhHMiZsSPiQxpYbcCK0Yvt4LCwkqgtWLAgfLqzWWRpnLKlS5eyWRwTVpJZjRo1irM/adIkmlhhDIBzyiZyGNkg+Vg0bNu2jSPJXq9fv57Fx7vCR//Ro0fxyZw+nDMc7OSJJ57InDkzIwLtlP9BUj4sObheaIO1tZivSw4AfEqaMB2sEz81cuRIrBMj27VrF0YWGRmpjpQiEoTTA4Gq//7v/964cSM2h1VhkQsWLMCtZM2aFW/11ltv7d27Fz5jkSLQq0KFChjo4MGDOQxMDLeC0+EYPPbYY3jVpMc1CCxRgskB28FS43rwWXiQsWPHsrOsf5EiRSK833mjo5K2pBdZeogT//jHP0jjqELjTfRrSTt27IDPJopPhgddvXp1bIBQgZcpVapU1apVSRTwX2wx7gw3xHYTMzAw/N2gQYMYBT6ZAfEse/bsZcuWTQX7ntivMlJybWOVxo0b98UXX/zww6y1a9dFRmbNlSsXTSw1pR4/6UXQsR02bBjbmi5dOiKBfqK3Ro0ajPL+++9z9OCfO3eOMEOMb9u2LSEBgl1r1qwZZ7N///5kaeghpBHyodk4ggcKyc+I65kyZYJPaC9ZsmTDhg2JHKT+2kSMiqCi3+JiiH79+rHjGBU28OOPPzIQZsbTafeR/PTTT8kR9cuosj09RZggNDlgJxXUtaEs4Oeff05SRdrEwpJ+YdsBIQ88bGLPSyurwRZI5q9//evmzZu537MXnCxOEMvOIYL5z3/+EwfOoIzFKaNLtWrV2O4+ffowN+QpSfW4A9AR6zpw4AApQq1atbibbd++/e233+Z8MRYbx/4yQxI4ug8YMIDkHteB/axevZqBnn76aUbU9DQrPYI4KR/2Z4UbBfstN4S1YWecf4IHwXvEiBEc6XfeeQfn4l6YQlhEfLgm2TclColAXbt2fdYDNopmmsaMGcMd8aGHHnrllVewP1zGBx98wIWDLJjQ1a5du5dffrlXr17Ehjjv1WkFNik3XA/826SlU8wePnw4rkE7C0EVL+OEIdg10fEhp6DXG7kaNm7c+DkPOH2yPZrwOMQ/Nq5v376k7MWLFycPQGHr1q3xPvXq1cMSqB4+fBg3hyNj9xHGW5EF4luZIRdT3Bym8tprr+XMmZP7DdbIrNwMUx9YEAL5G2+88fHHHxNucdAkWHhtPTKtQMczMSDJ1rB6HCvC8zPPPPPSSy/de++9Ssq5O6JWZ+rRRx8lxrNN6kV40O4TDLJkyUIWzsYBUgG6oPO+++7jft+gQYPu3bs3bdqUraGKfjqyiaR0Tz31FGqxAYUZ8g+ehYSgc+fO8F988UXmQ/RCXuZHwodJMJmOHTuSczA9nk5PEQ7A/hOIiywUEMFZIy0geHOyOGWkXOS7MTExzn1pWxODVoMSVaQFRPf27dtzUjgRHJMlS5ZwTDh93Ou403N82GgSL/adLmgmwLPOPXr0YPFJv1hqMjb2qHfv3qgi8CPDwYfGEtgd1GIP3Mdw79gJCR/D/eEPf6BVtsG06QI0PaAnDRdYcnCj0N5zULXxZJ2ffPIJnkVVDG706NGYJvT1RGjZN5KYF3SrVq3q1q3L7YFLDE6BoMJR4eKIxyG6EP6LFi1KhOAaunPnzmXLljENHAcZLuGkS5cu+CymF14WmQKhTSGEc1nUzrKqeJmhQ4fi1iUj+B1BCOSzINKkScMG4fSnTZtGwvfggw9yKaGJbADHhP3MmjWLjSYIcbPBEnBAOLWMGTNmzZoV/UQO5NesWUN3ckTsgd1HLU358uVr0aIFVxlutMiQLCYdF8Mabj1HjhzJLY0lgiYZIoIuXLhQe+QJBrcvCSi14iht2rSJ/JtrH5Gb5JvVW7x4MTG7Q4cO5G3FihUjzEdERCCMfnoxBATZwMMPP8xGzJ07lxsnaTp7hwxbxl4jz/UxQ4YM3Ck51OihCYXNmzfnZkwXLIHbKtaFNmbOKM2aNeNos4nPP/98o0aNsAHGounNN9/kzv34449jEjyUHjkVwD0IBj9kyBAWEA4Le+7cuU8//XT37t3azaSNWduNDMsFWGqcZOXKlVnw6tWr4w9JnREoW7Yspwy3PHv2bEyFneL4aDEpO3XqhCTHkxsXGsjL8b10IUsjJ2CbJkyYkCdPHmi2Q7/gSlanl4tIx/G9DEe6361bN7bbP2FNjwdRNSxgycGNAgvAqth7nWEMCOOWKcOn5GKBMekAyESShjsqCJcsWVI0eSjOiwsHV0/8CIEEpvTjg/BfxCpaMVCqcl6YOC6JWSGGT5Eewy+FtowFxAWQGbgdZOXxLHgZlprdETPpw09f9OD3uXOwR0QFrh3cMvEy7BF5Bt5qypQpXB/RjCqGoNQuMwQEtkFCwF2HBIJIhvfU6BKWJbDjjMX1SHw3tIhUBh6WzJtn5wEBBKvEAaRJm6ImTzZhIIYA+8Km4Na5IJICkt+vWLGCs0zkUHKGHoQJFSysaEBHVpiow8ZNnDiRLtBEBXSSpujNRhB010ZoJtDsHfuOAaxdu/bkyZNwAK3MHPMgLOlBypQp06ZNG9cFD4AnIaGkClOGAZE6wEOx4P4jxrrhPDkXWg2ttpoSAzJabeSJ4qwkTDYXwARkzOwUp4yNxmFKWJqhCfZ0oW/69Olxnm6FaUKG/C86OpojP2/ePLK6H3/8ke2uWLEiRsimMBw7rjkUKFCAk0gvqmhAOUTYwZKDG4V/47EDTIozDBPDwiJhkktypYOQrSQGGaj/tCOPLUo/fBwHtovVEgN0z5DwhQsXyBhgZsmSBfNVZsDo8JWvIEM1oNFwffDvKWAfWUkSLy7lVN0e4QKIFlpb1hkipKMf2i/0nD9/Hnv405/+1KtXr7p16+Kt3nvvPTaLmESo4MbPtYPbIQTyinBOLT7onXfeIVy1bNmS7o888gjWhWaanP1gAJTMx/G9rqkN7kmrVKnCw7Kw4nMAuXyzFIAdSXpTHFhntqB3797PPPMM90VO2YABA3bs2EGohs8aahk5aAQwCI0IkwmMGjVq9erV1apVu//++5966qn69esjQJxAJ6MTbEQgqd0kpXv77bfhN2rUiL1mxLx586KKeZJ5kIMiqcfR2w6g6Y6p/M///A9qhw0bhglJ3j11uIOtpMycOXPBggV5fC0sT8fKEHRp0m56sgkDAe2RPB40gKn1R5s0DB8+fMuWLVWrVu3cuTPpIATC2iAlc6pCMDp96UiT+MT7iIgI3Pt9993XsWPHdu3aNW7cuGbNmqSD+AGSBsxDo+OHpTMwibA9gJYcJA+wPFkzx7tPnz5cQbAYDAXjxgS56MtEZDoJAg0qJQmBtmnTppGccnJIcrlnNG3aFN/XrFmzOXPm4LnwU7iSqVOnYrUMobfVIIZd4oC4zZB3S234GugtB5mBvBJxgp0l8MDBj5AovPjiizBpYuspJZYEZCTchAYPHox/ZzcfffRRYtu+fftwK+vXryf5w93gsNjZpUuXBvyK97dtzAYb4A7KRZZkol69eoQK3OjGjRuPX/kTuAwGGmGqTIaO2v1UDJ6xZ8+etWvXJpyzL+THDzzwAFUeHLDaWpmgdEJQ5sf6jxw5ctmyZSx+165d27dvz8KyR1Rp4qbIgWJTOI8cMa0zUODhTp87d27StfLly1MlnKuJLcAJXLx4EQ3aDko2kTPL4a1evTppRMmSJdnQvXv30sQ8GzZsuG3btjVr1iDG6GPGjBk7dixNPEWlSpVKly79wgsvcMAZAqaeTjNJBeDx2cTnn3++bNmynC+WjuOA8yQY86RAMhJOEG5BWBy2FYKqOHSE4BBps5o3b16hQgX2ZcmSJTRJLb0oJUzJLkuJQHem16BBAxJ0nECdOnWwDdwy9zTcL0eSU4w2No6UbtKkSew7GqSKviFDhAXs0wrXC3bX7TEugCSAOK0m8SmhIYjT2F/hwoVJKskxud5lzZoVvuw7CSCD9UgS4vPPP+fWQjxYtWqV3urMvYT7K6k0V8wNGzYQTpYvXz5//vwOHTq0aNECz4jw3LlzMVPc3Lp167Zu3YrrpAs6QXAYQyJgiRL7tAIRl1ZcOVcEMj92lpvHgw8+iCRO3xlGYJUTWWc1IYnxLFq0aOXKlZs3b2Zn2aZ7772XOIGXYdeOHj3KNZTNRWz79u1PPPEEQyBDwCA+1apVa8WKFXv27KEJsd27dyNfoEABUgoUYg+PPfaY5oMGBEg+sCVNSWU4IrGPMrIpXKo5DuRJLEK1atVZyV69ehJOWAGgXDzpcydJwGLOnDmTXJyVJDNDLfuLWkyCM8WCswuAhWWRiVtffvklqT+ZOtGdpT5y5AhNbCg5xK5dux5//HH8AzuCKoJE5cqVOZV6GaBMmTI7d+7k/goHeRIFEg52jYyEowqfvWY4Is3ChQtJF0gjcAX0YveZFYcaPUSjyMhIpn1Nr5JiEDQ/kh6Cru/TCgEoo8VES5QowUYTfXnY1q1bd+/eHeeJAE160iTMGA2UEmPFWDfSNeThjx49ulChQmSNnBd2hJJdZr/YDvaCY4K/HTZsGL6adJ8u5BD41WeeeYaJoRBtRYoUYS84/osXL5YxcIpRBRNvwJxJGji/NMEkaz906FCvXr00eaBp6xnFSfmw5OB6ISPT1oYkBzJHSrVyzsuVK8eNsEmTJjVq1MjsfdTVE0zKsoEbApDkcm/AmnFD+A4Cf5cuXapVq4YY5ov7Iz8FpNi4iYceeojslXGVDkdHR8PX5bJRo0YRERH00iQNSYBlT+x7DgT47CyXBjwXHoE116YDWrXCouNDngvLyZQpE76PPeJuQZU9Jc/AubBZVGNiYtCDIyNU0IWkgVHY8bNnz1IlFJF0su9IMhkcE9csgkTFihXxuXguJqb5EKKwT2wg6VmFBRJMDvDm3qMFHpaIQiSoVat2o0YNOS8Scg8OxEkQ6OHgIEzmx6HjrJGFE4MJS2T5NBGVdR3kTLFZXNx79OiBAJIsPvZAAoEYeTk7Ak2mTpWTq7cinjlzhgmwEWwT+olG0HSEjwFwGUUnHPpiUdgGgzIW283E2N+OHTtiAFQrVaqEhaAZ4yER4aSTSTD/pJ8uJSE4z/jJgXsECJpYcFaPNcGY9Q4P5xVFSDhBOBm2g4Ule4MJh83ijLC2HB8UarOI91zeEGjQoAFVkm+8JVsABy/Kdjdt2lTD4RZY8NKlS3Pry5cvHxvEU9BEMooGPAbTZk9hMhCq6Mju4P+hGe6KrQaQ9PxTFO7Ytm1bkDQkCTaVPdbWcqoxEb2k7IAJBikPeAEMAnlAExAdbI4HCWgIaPxIp06dcA36MALJAX5B91dJ4rAIMNglDghTpgkBYgZN8AkM+B18CqcLDnDWaUgQWlW9A1kOwoEmtQLROu1UaVUpSCxYuRo0UToTwo9gIeyyPsat3cGuCOpsJduKGC6JmeBfaMLpsLm6iEiM/UUMj8buwyeroEkdGQsZLMQlponNKuWDZTt/PiYq6jAZQJD1u8Brs6yed90MHBkIqv/617/TpAn8Dcj/sNd8cHfiACpYT9aN9SQkiyPleisAq0qMmTVrFqGCw0UTGQDdlVUQTtgvqtA6gGwZHRkChRxPlKOBs0wswQCg6Y4YuwmNDCOik62EA41toE2zYj70QgnadMABrSD4JCkVPIj3/8A8IclseOTIyCyqcphk/BLT4/DIlCyF+MDJJPa8NLEyiEFQJX6zPiwaTPTovoQzpJX9VQhns2hlHzkmdESGBYeAycaxQciz5lS1uTpczI3dYY+gScdRKCNhUPHZIzSjTS9CoBBtCEAnMf8UCEsOrhdsKlaireUkx08OQiBhycteRScG5GWXwfrvfte8efNHHnnksccew/VgW8DfirCMEsuDUAiBlvuglUFFJD2uQdC5VXIgLxBs8KAd9OOXrqqzAfYIgm2iZIPgqJSMCG2fXCSS2lYJyAYg4Did2mjng5xCSqczTMEjJpgcXHmuwClwRv7vf8P0RH7JBqFKYN1YVR0rLR0cHTGq8EnTq1SpMmXKFL0L0glowdURJvMRB5rSNalUU3DsK9unXlQhxAwhRFMi7PQLak2xuDL/wDwhk0gOQPzHEVP8BAUciPqEcK2Mf5XUyuIT6dEATUmTO0EqkYcA6guHfVcXV6WLXz9N8KGdMdAEn5IqI8qcqAoIhxECz2y4GcA4gGhZhp+TILAtCSAM3bVr13LlykFg8eoLpAoZaK9TAGQGGC4cbJSqJxg8RfApURKQM/xysJKUCS77rwDd8R1AVemkygY5pqAtw7moqnEpFWPkpNQE/ApJJVWFRl5DpD7o6SB4WBECfCFYvxbcEsm/qy9gkanqQAE40FxGe/fuzX0RWhmD9g6Ckk0RIXl1BAoPEJRSqyqS0MApEV8QE0ICEJL3GoP6/fLhDu/pg4/jrcrPTyq+n5kg/JsVUgLCvJwhCGj0+G5rHBhClgCN40VA/BBIgzbIHUb1hVZVu4YGEWGHsJx0CkfAhL3z7Dc7OEEqEfiFhZ49e3JBEd+ZF9UQe8U0nXJnl0CvN8RXa/hF8DYz1E85qBUE64kDGfWVYbhN9Pdlv9QqJjvLZUgEJTurJmQogX8ytErMAQMIUvFA3yAVztBTsAhaFtFey6+EjpI7QY5W1KHMlClT3759CxQokOACEnuQZ3f8m+ufkl+z+CqR1xDiaH8R9o8Ck1KtEAlOIByhFeBxALSDaxWt53X8BKGVcQslB0hHOCxmiNvUXrgdQUbZnqZBVRy1IgatPdIcXAmkBHnsxyl0w8GnlCrXGhYIzNtwMyC7CZi8hyA3SSAvS8KGsDPyVkqYcNCgVhHiUHUmKL8mPkbsrBC+u0oarhNaYcGttiCOX+AXAQ3xHQRM7Sy021D/Jjq3BS3boHSmQkmTWuXCoDVDMUOQIDMc4XZBi8Nj/YptUV+3vJTusDiCRXZiepMBNLugVqqUTlhVdRFHO6KdUoABLnQhpiYAIRo+JTppdSYhWmrV5DqGA3iiBAxPjyPw1AK0+MH6FY5fOAROzJ8Ta+ncKjkniR7tl9sOBW9a4ZCRI+Dp+9kYAFXEnDYI1x3C8bU1ooHbZWi3lWGBn5/ckFzADvzGIYgJgvWEQCsW5jdHwdmWgLX5ZehCKzKq0iQzdX9gM9wIAnsWb9fcwqoViJnEgiPjb3Xb5IcTcE1uE2UY0CF6HGgNcT30DVI+JNg3HOGWQk+kLUgQTiZBqMkJoAdo/SHcNkG75UWYqsKJA0xiD3xolXAUPFxHfwgBbmhGoYtrgqAKU1UAx7W6XiLCHdf/FNfzyC4bQFJnR3uhrfG3ai/UKoj2D6Htg8NeQKsJMSBam0KrqpRSAjSi+IDujO5awwKWHNwo3PYDd4AdATCIBPlJA0m5DFVFUAJGBBDIyHyVLMtGJSDTD/T0+CLgi6BJNKUjvJYgodJpcFUnhqGr1ckAaOBXJTFKMUUITlK01yM4EGKqOr4jbhW8hQ8iyPpVYC/cdgBpE1M0G+eGcJK6pDphSu07EJNSBJKuF/DTqQ/OCDEbLYBMj6og+jqNB23aBZ0mraf6QqNHHMmIplWEawUQqNIGuTlQ1V5Ai9CeivY3qaM4QhrvS3kBTPUSGMgvFqZwK6zFBFo0x4GGI8J5hvhwkuQETkxKWCWNIhoiREB9gcS0BRJ2aim1/tIAX4SDhCWvUnBM4N++lI+wt62UAEzHIcjy4DflkKb4kIDfqnBSjgnhXi4TUyXXF2esl7xvcZdNy8pDoD9gu1np6uMk4YsOuRKFqELMCWgOABn/w2qq4vhnK1XQaICGcM9IqVb1pSp+yOgpBP5tcoCZIF/wt4rWxvldjBOQewKShPALi+PnC/5eIuIjoM5DsB7m4EGwEICxXTHGIJwJgSSsSEvhFoQuLKmq6u6atLwwNaJbeacBqxZNEwKiIejoTS+gTb38milFOIWOcBsKxzElT1W9wh08BUukBaEU4eCq8ZtCgBJKVgwxdEJoC4AckVsx8SnhOJ3snb8qbarCd6q8xgBEO53xSxF+2u1muCBocIZkgcxLhiXIOGRklCKSgAQwI1Rh0551/ex0aHURF+gkUCUh9Q8qoEGhF0IclHj9ghxZPAT6pdZxkNHoEGJKQIBJKf2UqgLE3FjCsWPHDh06hAbXRTpjYmK2b98unTqWnvjPmvU4Ug5C1BoMQNYCZLQAs8Gc4MMRExtzxyRBBMzLM3LZGLScON3Fh0ZnQPQKpFld0C8DVlJL/g0fDTp6bg6UVCkRFtMgaFmAlt0tGoR2hNVzxz/pmzddtF/aF6ly2gBDnDp1ateuXYhRRYZW7Q5NbE1UVNSmTZuio6PFoZTC2xPmc28UGBmlTNAP+BiWLA8gIPeRGHQAnB6E9ZldNMg3IaCxVAL4WLCGgOl/k4EjBPQgzNGCry4iQkyf0eGrpEqpqoZQyTTQA71w4cIDBw7AcdNDm6AhKKdPnz516lR1FGhFoX5tCE+qIRwf2glTdSWtHu83gqZkSMnQHlHKQtxBcKBKE5aDDK1BbuJAUsKUVNWd6tq1a7du3SoZmCD+SVQXzQRwInSc4etcMAFa6evv6LoLrnsqBU+X8AOyDlpASpZIHFXdmsDRSqoaH/7VkxIgzWqCAOvWrRsxYgQbpO2ghIkYxKJFi/r16/fFF18goy4qgXbzdoMlBzcKZ0AOjqOoifHJN8GPL+yHDoBomayY6g6BQkerlLvRDT5g+1cOD0yg9IKqK4HzUHRBIRx0QquL+moaNLkSDoCmVb0GDhy4Y8cOCD2mO9V6RvVav379qlWrlO8zSTHB8ePHSRp0uyKnge9mBVDolHhrFkxWDAY/FHFFYyHYCCYKU9YiY1NC7IkkDFkXwvTFIKWQUrZHOXjwYG6TEPqrHISTlwxMOOrurrZUYWLVcXFxMGXq8LF2nReD4HdoQOvJwmqV4LN617NiSMqPaYO0/miTZqrSvHfv3jlz5iADDUdbhn7w9ddfkwWWL18+R44cblulTdXbDfbbCtcL2ZmsBEtyv60ABwNyxifIuDE7mA7wHZEg0O+AoZPAouH06dMrV67Ud3lSRezw4cNEZWQ2bNjAuJkzZ8Ztbdu2bfPmzSdPnkyfPr2+0Fs6o6KiEONI4JXcF/9xJHbv3r1mzRrUwtQ7nuhy9uzZ7du3o+rUqVPw0cM0cHAHDx5cvXr1sWPHEIPP0y1evPijjz7KnTt3ZGRkrly5eNgjR47gQ/fs2cOE06VLx+Iww1mzZjFE/fr1SRGYG0x0Moddu3ZNmjTpqaeeypQpE+OeOHFiiwf085iUelKgCQdWLfF1Sy4whH5bgQX5DYYzXCcS/G0FNsg7d4F4AI1Jw6OJGtaokAMf+In4UFJLd0wai9XXnp45c4ZDhxlwBrFzjljWrFmxdpRgzxyonTt30hFT0UHjNGHDFy5c4AwyNHS092Pra9eu5bRi0ojt27ePA0J3fX0yY3mTCs7KEakXwQdkBXh899sKxF9KFk0rQKmVYXMRg8PWUNU6q0wQrpeE8Vd4m6NHj+J5cI9yZSjUT2E9+OCD7BSbiDwejK2EOXz48KJFizZo0KB69eooRAk6gQZFrTfObQRLDq4XGIfsD9qfHAAZEBbmeavAF7ATIwl+GzduJMrmz59ffZGUz0oQTrlD//79icc//PADHmrZsmWEef2YKZnvZ599hq9ZsWIFwRX95LxTpkwhqHMk8EclSpSIiIhgJosWLRo1ahRJAF5pyZIlOXPmRDgmJuaLL774/vvvmR7xmDyjSJEiuDkOLX6QLjAZTr8qy3GaPn366NGjYeIT4eOjyQaGDRvG6EwYT0euTRLw5Zdfklhw9ubPn3/8+PFKlSoxgdmzZ6MHX8kRXb58OUpKlizJnHGmEydOfPrppxkXmnE5nGQMTJIEpUKFCiwU60nJwaaMvzg3Awyh5ABXEmQZUgASTA50oEgOIMh9Z86cuWjRYgwve/ZsSkwxP5mN4HVMAMjIzDgp5Ad16tTB5jkd33zzTe3atVE7b948zjVGW6NGDWz1k08+4RRgydhqXFxc6dKlaZ0wYQLnFCYpBfPkDKKKs8AZgVAQwuA5BRxejjCnIDit2yjkBJ80JDlgBzjpXAbYCAgWBL80depUXBmbwiWefaSVJgiX9sWH9lolkm+99Ra3lGnTpuH62AKuLuwUlxY2hZ2CYKfYRzYRb8YoeNQFCxbQnVykbt26zDCwN967CDU0dHCk2waJJmKG6wT2hOlAcP5lQHiE119/Hev8f//v/73xxhvffvstTYgpyHmdEoCapEp6cCU4FG4tzZs3x5sQ0Ym1KCFL4PBAcCPPkyfPjz/+OHLkyEKFCjVq1Khy5cpY/6BBg2JjY4mypBe4S2wdSa4ygwcPJjNAyVdffZUvX74WLVqUK1eObIDYz+ikIEy1TJky6KGcPHkywZ5Eh8jNmWzcuHGtWrU4Y/hBhPGbHDAyADIDTjsaNJ+GDRuSfQ8ZMuTQoUM8C5IkBzwLPpe54RkZgsOm5+UEon/gwIG4g6pVqzZt2pRTOmLECHyrFkGXBq2GweAH9oOBYUsE7DfffJODxon7xz/+QdqKQUqAUsYjOkFgt5SoqlmzJmGD04TZc4ksVqxY3rx5sXPSAk4f9kkqgGFjnGQJnBGO3tChQzk1dD9w4ADnggtDvXr1cufOzd2Ak8up4eiRqX/66ae0ckI5RAQ80guOpze4IQC2gA0CbBaXhL///e94TpXfffcdmYFcK2WwQ0JAAA3yn/iNzZs342rwJzhPVh6Px+UEa0GGuwqXLtwRm4jxYDD0YqfwtMWLF8cLMR/5LumUcm+Q2wuWHCQDZDoqL1y4gGchWOIg9u/fP3fu3Lfffvvw4cMY3DWNG0hGFkkXHNDzzz/frl275557jjDM7Rz7Roarbc+ePR944AGYZAZly5Z95plnOnfu3MsDp4IDQJawZs0aunfz0KdPHxICvBLRt3Dhwl26dOFs3HfffUR07kznzp0jjaA1f/781apV69GjByMSvJkJYR7/iK9s2bLlK6+8QivHlSMUERFByMdpchNq0qTJSy+9hCo8LBnDwYMHjx49qsfBwz777LMdO3bUDDml+G7UcvwQYJXGjh17//33d+jQAUfcvXt3tMHR41NqDkhCGwwOOiOAs8a1jwsiSTMBgFwTy5fNyGyUjCYGnTisrkGDBlgpCfSHH36YMWPGxx57jBKbjIyMxKQxdayak4UNt27dmiQYW0XzuHHjdOtFw+OPP86RJOEmLUDtU089RfXpp5+mmjNnTg4shw4OcYucWKMbgDvdBPUPPviAhACfwz2EXO2dd96BUCtgqYNUPKCE7aDEsZCBwSEnwPPgPPv27Vu6dGkuV7IKnOcjjzzCXlN26tSJOxhquSllzZqVvbv33nv1p08gzXJEtyEsObhRyEnJ7CiJslzN4ci24GzxXroPiCbpp9QdQskvzgV306xZMzwUTcRIAvCGDRtIPqhmy5YNU0aMY4ArxK8hhg9SCgyTdGTXrl3p06cvU6YMYoxLFCfeQ3PXIXHmDtSvXz8SF3RSPXPmDHlGhQoVuOVwCeNyg/5cuXKlS5eOxIIkg1PKzQzhihUrok2T5DBTcpY4e3hJDjaJEUcaAflHxLhmcaNi/kgyN479qVOn4CMAk+Tg5MmT+HT0A2al9z3oeKsX0GIaDA46L1gg9kaJf9fhwsBWrFgBgfnpQCGZtP3QHYPMkCHDk08+uW/fPiwZgrxcClGisTBL2eo///lPbHXo0KExMTEbN26UEjJv/Z0RSTqWLFmSQwoNEzMmtybGUOUskIJLpzre5mApHHH69On58+e7KkvE8uLH5C6SDtJsN/KU0PIbzZs35wIDgRskt8NPogTkzp2bvAFt7HvBggXZLLyNhkCYcTWQNohSxG0ISw6SAdiTAiGA0J881QSHEutUNWlICYT0QBB3IeRWYOrAAFmwaAQ4DBDIU0Jj7jDl2uglGbyny4jJJDJnzpzFA+ekR48ezBlvyO2fKxH+Cz84aNCgmTNn0pHrzoMPPli0aNG4uLgpU6bgGckkNApzQODAgQP9+/cnzCuf4LJFWkMrAzEBJDV5aI4f09AcYArQdMyUKRPjMqt69eq1atUKYc3fSUIbDA6yKAzDf7iwLh0HCJkNwEplS4kBGSwToyX2U2KEpMsYnlTRCo2YDF6nBlvFYhs3bty6dWsEaGIaiEmSUj/B4Kn/Od5ASCGa1WQAWhCWiz1lfeBo6aiybkALSAh3S5ogkFGAh2BHcHduqeWRZDMBjb//vSyEElq9GFq3HYMQWCzDjQCDw+xktVgbXqNDhw4ycQCfa33x4sVVRUBEfNDkTB+DBmhetWoVfIErCzd7rBwxDJpWmFRLlCixcuVKXbXpxeUeAYI0SfH58+ejoqKweOSPHz/er1+/CxcukA3QRB7Qt2/f1157rVGjRunSpcOXLViwYOvWrU899dRf//rXl19+GSUTJ07klv/111+Td//xj39E+L777hs/fjxMjhNPrQO2evVq7mp0fO655yjLlCnjzTfwpJqPzh7yPE6OHDm4UcFniZhz/vz58ar6gwX6+/TpkzNnzsjISCbsNFD+xtDQhpQM9ggTxXQ7depEtJaNgbJly3LidBd0ByppSIxrKwlxpUqVnnzyyWHDhnEW0IBaYoziSuHChcmhna327t07e/bsXEPpq7EwacxVZ5NMGg6AZqpiOhkIb2RD8EV7LQhpWceOHVlwryWwxaRfOE/ttThqig8E2CwWmc2iCoFTkvfAGNatW1eyZEk0A73ORKm9QIA50BcmvahqlCTGuk1gycGNQubljBJv9dhjjxEm69evzx364Ycf/stf/oLRY7vXtDYpkRiWin8hYI8dO3bevHmjR48mOUAbMqhiUAhsGjzyyCNLliwZNWrUnDlzpk+fPmTIkHvvvTdfvnzly5cvV67cgAEDZs+evXDhwo8//pgojvxDDz0EgUIOz7Rp0wYOHMiFieFiY2M/+eQThuMg7du3jyE4lsgvXbqUvosWLdq5c+eJEyfIRbgzMc+MGTMyJZj0ZUroZBQm8O2333LqlIMzyUOHDmluZBWTJk0ic3KvvoIiRYo0b958xIgRP/zww7Jly+j73XffqZWhlfHILxgMIcAIQfv27clliSLVq1dv164dYZv8gFZMSIcFmaRNSK3Y3saNG0lPOWXk1ti83thIur927Vryb7Lqpk2bYqucGs7Ol19+OWbMGNk5R4CSETUc45K1U4XJOYIJDQFohWlw0PqwYtD4DTzn008/zW0EPPjggzhP7hLaIBZZS5oYUIWMVpgu+D2cCY7riy++YL969OhBk7cJweQMQgop8TYuvzQI9lHG64VOuKwKM8JlKMhhYfJBznC5HHP/IDBzKcdzVa1aFQGZrOKoxEIg5ZQiADEVf8RdnxgcFRVVr149Lu4E5u3btxOSOTk6LQUKFCCI4r+2bdsGn9G5vhcsWBD3RIrAxR0+ZUxMTM+ePZkYl3XSDmL5li1bdu3alTVrVk4jd6C8efMS+5HkzrRjxw76kuVwMUJgzZo1MJE/d+4cF7VatWoxNDctlPBc3KVIL0gp9u/ff+rUKeZMnlGsWLGKFStyJvVy66pVq9DAmvTq1YusIjo6mociTdFbHZkhrbjmAwcONGzY8P7779cfC1lbBnKL463TTQRD8CBMTy/PBLmGW40EP8oY+F/gxN3BMaxSpUrp0qXr1KlLctCgQX0cPTuIgDbRHSivUygwYGzs4MGDgwYNat26NckrFktyQOAvU6YMh+XMmTPYNolCkyZNihYtiq1yOjgmWDsZCbbKfQDzxuY5npx0hkOe4ZCn5KyRMeMKyKoZ7siRIyTBJPTyHonNKjUi+KSsJEmA/6OM/Kd1YC/kPLnY4Ac6duwITRNQ8Jan9XqFAl+BDAQCZGw4Ty4eOD1cEPcTrmpdu3Zlo3fv3s3Gde7cWcLsOxvKJmIw5HzseI0aNaTElbct7mBpgqQhSWAoLuW8ePEisVPfl4IvcHaJcUO4ywTChG1OAlW9bAWRmMGhRIQLhARdjLhmzZoETjKAatWq6TqyZ88e8oMWLVrIA9KREfE4R48eJaaSi+ilTk0YR0bQxUNVrlyZMEwXJknCQbznkPAIhHDkkWSex44dQ/j48ePEbPh4RqZNE8Nt3rwZAgfHtYxnBOQrZOUkSffee+/hw4fxj6iVwJIlS+BzkyMDYMKRkZG4S3wutwH4nHBc5OLFi8mctEqcXpIbTnKePHlw9PhNrRV9KQV6BambAy072RWBgccPcg23GpjA+fMxUVGHFVw9BE8KVp02bXrMEiv1jgZnAYMJ3M51UthQmRBlYvZDd0qMed68ec2bN8+cOTO2xwEnVBQuXJhTQL6LrdK9bdu26MHU169fT8ZA7CGGYdWMxelT9oAqBiUgMbfatWvLG5AckLswf5SQ/qKNFEQvniMcmESqhrZAYE84+yxaZGQWr8oKBN0mm4gki0/JsrAvYiLGugHEoGEGFMUDrW676Uue98ADD+A8CXD4Ma4lXHLg7927F5eozytqN/E8eFq838yZM/WCKxq0L7fD7iQBSw6uF7JXmYs/ORATyMQxOOUB4tCK2cncqWLiEJ6+UCAjICOCoNulS5cnn3ySVnqJiUJGkQx86QT+aTA6VQSoSp7SKUGAKTl56ZEwM1cqI46YrkpHnUwpDznG8Lk8cewRg6mJqSOtVKHhqBUaoMEdfsTEBMjjUjVJqsi7LjcPehZLDlIasIsEkwNsAyNJkyYdu4YVeRaoMxI0eCgRCEDLGhMEMhJDHhsmbMvUpZa+GkLmih6qwPEpHZMqduvEUIt+lLgLA71QDuGNfFuEHx45SAXoBJIDlsvtlH9BtAuULCZAAFVwgs1XwzkWZFDYpk2bRx555NFHH1UrfaXBdUfYjasqNNskAanyT+Y2xM29jd0mCLEhd/KBi7XXhMwXoA37pspdnzs9nKCEBxRqOHfkVHViMm5X9U8moP1KGHZKNJw49IVW1UGSUqsSnQAxtKlVYG6uu8YVDSRGKT563EwgXImACAHaXzUY/NDlG8ioAPYoE/UjxKhCgBE644TWgUUe2t/Lb/9qhZA9+yWlxM1BmuEgpibKJCZze8K/tloxShHAbS5wCxsf2gWADM6zbNmyOE+YatX6O50itBHIAzjS4EkFxeLDKXTErwPdyWZEiJMCYWZ6o5CFASyMUrYFHEdMVUUkCJowFJfGorZLly5VqlShKpOldEM4poyequO7KsKaGxxo9QX6YwRMgUERc5IqxZQGqmpVRycpAjjNIiilRxrEFB0QuiImGWgIJ+9of1IljsHgh7NDVa8YThDO3iR2TcgOIZxaIIMMKZ1aIEnZKgSlWl1VXcRJcAiv5XaHWwq3Mh47GNEhxHcrmSAkScT1Xk9K07179woVKtBFkIC2QJIAvqNFiOOgJgc5Z0c4d/2LoJzAwZIDw7Xht0VsFKOpWrVq3rx5g6xkQojFU2UgSkxWZsrQv8LiDQaD4RZCnk2+iySgevXqub0fyvIakwHSTClCPtNr+cX4yXt3hTytPLB0pjRYcpBSoNiMWXvmF/jrmlIErOcXQdqSQFDOg6riA0cztIj48PrdRASHuaXQXhhuBwTN7jdHcPjbCDzyTXxqxVr8513eH3ogFLyDy33dkLb4cA5ZNMqTEL4m0CBVzFmcFAhLDlIQsDYsRuaCiev9Mmq6eWDQS94vH8rWdcBSsskaDAZDCBRulSKIoyxB9I1D7pHSpQi/2jkzMSmRwxcTQlA1JcCSgxQEWQZ2A/xWeJPgmeLPr2i5sRxhMBgM4QI5TDwn4GYlLxpsSw6gE4UMgWYyAw0RbLtuoAGXG5ii94eJ+BlGynG/lhykFGArlDJuSgyIBFNNNwMMIUCnSZNGKYKsFqYmc9viNn98gyHswJkFN/hqf9KQt9QQot3N6hdBfZ2bVc7htaQsWHKQUiBbARAADpb3q1+5uk4w0JYtWz744IPBgwefPHnSpcbBZoPBYAgT4Lic+8JzJq8fQ/Odd945e/bsH374wXFE/CJoVvv27Rs+fDj+9uzZs0OGDDl69KhaUxQsObhRsNkuf4Sgqu0HjtBbY64J6XE251T589MQjqqOCHS4QrhSiE9TXrhw4b333ps3b97hw4f1zgOYyf5ynMFgMCQI+SK/QxNHJSCC+qtJABm/70IntOsoQgO54ZxnplUCKv0eWxwAc8aMGVOnToUjDe7PCk6tiIAu33B+WtWDBw9OmDAhNjaW5GDAgAGHDh1SU4qCJQfJA88qgnsPoD3zCCLI9dlZfDg7hgAQhGr0EL8J2/qGNQTgxMXFQVPGxMRgr7JjZJCUAFXMTocKIICwNMC8ePEiBMIwo6OjsfW2bds++eST2bNn1wQoXV+DwWC4qZDbATgxEQ5ybuCaKQJNcpuuC54QX4eXgxBTvlHOUL+qBUdMhmYIxHCq8pDw0alWQjgOE/30xbWKiRJ6UZUfhgOoyg9DB1R7Q9OL4dAPlL4UKFDg4Ycfvtv7bfEzZ874n0tPkRJgP7x0vWDPnP2xx/4fXtKFW63svYyGZPDYsWNsf9q0aRXm1TeJvadJrahCz65du8aMGcO1fsmSJSdOnMCe0LZv375x48YhQzl//nxGKViw4KxZsyZPnrxw4UJMTV+NMHjwYFTlz59fVvvVV1+dPn0aDWvXrp09ezZKyFvJXqdNm0avbNmyMUn9lp2DS4pvH7Bi+uEl99V7hpSAxH54yUNK8aSGayG4UyE/vOTcJk4VGg+GwJEjR7i34DapApwnkshAJOGX/M5z586dEydOnD59+ooVK3CeeEJ9h5tc3w8//LB8+fLjx48XLlwYYbqMGDECgR89LF68mKFz584tx44HHj9+PE6YiW3ZsoV5tm/fnukNHTo0U6ZMaMOj7t+/Hz+MQ+autWDBAmQKFSrEfM6dOzdnzhyYlKtXr2ZE+LiXqKioVatW1a5dm0xi0KBBPXv2ZDjvIZIKEL8xLDm4XrBnsmNof3IgpgwXArDxBOPRo0djNNu2bWPX8WsEaUyNVk9ZokCA3AJtZK9vvfXW3r17GeXUqVNz585Nly5dmTJltm7d+uc//xltzAHL++abb8hqMU2q27dvx7Jbt26N5HPPPZcrV66aNWvqqPz1r39FoGHDhjNmzHj33Xc5nPCJghzCNWvWlC9fnpSiYsWK3vQDj0kXiOCcbhvwyParjCkQlhykCgR3Kl5yEIj3+BwAH4/06aefcikimm7atIlQGhkZSZOEA+4pkYPp8gYEGOKf//wnXpHEAkdKbEZJ8eLFuaPj/TZu3MgB5/6GU6UXlyLc6SuvvMLQ+FK6b9iwgTDfuHHjiIiIpUuXvv3223hUlHNbI6Jjh506dcKxEzqZcJz3Ci7ZA1fBAwcOoHDHjh0zZ86ke5YsWb777rtvv/2W7jzC0aNHmUmpUqVII/C6r7/+Ol46NjaWi1z37t3z5MmjB0nsAX972J8VbhTKLkVjGcRgrAHT/Pzzz7/++usPPvigf//+GKUMFwFJJgiFfAgUctEnJyW1fOaZZ1599dX69evDUdOhQ4eKFSuGYfXu3RuzQ6xNmzYvvvhinz59Vq5cuXv3bmQYCCgjURXNmB3TOHjwYKtWrV566aUHH3zw+eefT58+/aOPPtqxY0dakUTem4vBYDDcdCgW4nkI5PirUaNGEb9HjhzJ/WrgwIE4TwK2c2LyookBAbShhGhNVK5Vq9bLL7+Mo6tbty7pAgIkHOChhx76wx/+QGhv1qwZQ+jNgATpEydOPPzww3jRvn37rlu3jtQEn8m1nnsgzhZVLVu2xJNrIObD3Sx79uxPPfUU8tzExo4d27RpUyRxxZs3byZ7oDvyTIOx6E4Tz7Jo0SL4PCyleyK0UaY0WHJwo2BfsUhnl1ghaQHxGz55JVUu9/v27UOSVnVJDCih1LWemF2kSJEff/yRVANLbdKkCaaJJWFSNLVv3z5nzpwkm+Sh+fPnr1GjBllqmTJl6IuJMxCTwf508PRShA4YJZkv9opZY/SkxsigkOsyktJPCQITMhgMhpsJOU/RhFKSg6ioKPmuCxcufPHFFzt37pR3xSkl4UIRcCEWh1a0aFE5zw0bNnB3atCgAd3hkAQQ1OfPn0+Qxhnu2rVr/fr1EHTHx1aoUCEyMrJatWq4x8OHD5NkLF26tFu3blzG8JaNGzeuWbMmwsyHGaZJk6ZDhw44YVwxvheiTp06dC9dujQTiI6ORoyhSU2Yw/ceeCLlInLFeo8FE2N0b+IpCxYDkgFsrewbiyESHzhwAEJNSmMJ2DLcpIMu5kKp8Iwtkt4SyLFOkuhhw4YtX76cJmTSpUunv2gojSCuMzp8DaHMABr4DwyQCWK4MDUTCDqiliaNDqCvmcekbmihDAZD8gFH9LMvcpDn5MRBXLx40f+hPvwSsVyXdSDJJOCOLXeeV199NXPmzAsXLiTbGDFixLJly+AfP34cL7d69WolB1u2bCFpUCICP2/evIzIKPhGveuINIIpwZdmZAoVKqRpUCLDENDI05QpUyYIQAhAp/zw4sWLSVAYbuvWrTyL4gLCdAf6cwNwM09RsOQgGcDuYhMQ7DGhlywSDlWF2Fy5cpFUyv7ETwwIiEAbiSexXy9GNW/eHFX9+vUj8aQVVUAEhkgv5GWLENg3JijrxP4Qo9QBUy8EMGvNGdCqt+qII/M1GAyG3xL4H+IrzhMa3wXg4DkVm/FycJyHjA85N7wZTuzkyZP4tFdeeeWZZ57BeRLg33///fPnz3PjypEjR8eOHTt37tylS5dWrVpVqFChYMGCGkt6AKrQQ4kzRw+uWL6RUtc8TUOzopQXlQyEHDLE2bNn+/fvjxtnDg8//HDv3r31W1Bq1Sj0EjR0ioIlB8kD7S5Ghj0R0StXrszlnhhcvHhxDJR8k1aisiebMOhLKWuDIM384IMPduzYUb16dYy4bt26R44cIRVADNvyegROgpIASlkYHPhoKFy48Jo1azgkHAzS50OHDiGGcs0BeZkmTHQqOXCAL+s3GAyGmwpcjVwfbo2bNBFUzhNHWrRo0eeff57gjWfDXyEJoV4JQq2InT59Gue5Z88enCd5QI0aNaKioi5dutS4cWOiO0S1atVIC44dO7Zy5Uq9kqo4jWNkGjhJlMDJmjVrzZo1x44de/DgQSI9t398KTPRfJBk5ohBMy4loIlsQH4VH07HUqVKMQ2eQm8Ig6+paiC6Sx4OCDyGD/E5vyUsObhROJtgs7WXrVu3/stf/vLHP/6xb9++f/rTn7j6E31plbDXKWFgIgACi8mWLVuxYsVGjBjRr1+/jz76aPbs2Y888giZtcK2LDJgTd6I9HInR0TXrl23bdtGvkzqOnfuXH2+EVtkGnSEUHfsEnBaoOFodAj0QxgMBsNNhTwPgMDt3HfffTjPV1999TUPTz/9tP6ECuT6EoO6owc6R44cRYoUGTJkyHsecIDdu3e/5557mjZtWqdOnWHDhuFU33777SlTphC2s2fP7pwzjtH5Ugj89rPPPks+gSMdMGDA8OHD1cpAmrb8pJIJqn7/Sd+MGTM2adJk0qRJjIUPnz9/PukOiYuUkCUgiR66pEzYRxmvF9pISmisAVOT1YpJCWRklCVKlKhduzbX/SpVqmTJkkWtut9LQ3zQS8Yt06Qk5bxw4cK5c+doKl26dI8ePSIjI+Pi4mjF5hCATz7LWGTBgQH+85+YmJj69euT8BYqVIg0HEPERjkPZcqUQVvx4sWxS2YOR1MFKGzQoAF2jEImAJ85iJDA7QMe3L7nIAXCPsqYihD4nCEXEv/3HMjn4JogaJLzrFevXqVKlbgOIUCrkIRfck0QesmWizv+E1+NnoceegjniUvEkeLxcIy4u6pVqz788MN4S3pdvHixWrVqZBXQOGr8AK1c93PmzMnNKjo6mlheoECBhg0blixZsmzZsqhloEaNGulPtIyVO3duujAHHoRxa9WqRXdyFDTjlvG6PBHPhbw+YQ7ozjRohdDbF/SYEA4h1d8Sd3C/DJKGJMEmYQ3aKvY7X758pJzQjinrhOYiDsGuy9zFh8bmpIcyPiTsVMl6MEHsjCqmo9wCK8SYSDiQBKQOlFge3RGjKX369OjhjGHNZ86cocqRkBJ6MXOmBwdtcOjLOeHY0J0uDK0sGIKmwLRuG7C2PPLOnTtz5cpFfnC7PX6KBTer8+djoqIOEzOCrN/5X9a67VLYsAMny/t/4EBBHjlyBKcUGZlFVQrOGjLykERuwieuCVDV9VqOESAj7xQf8mboEcTEucEk/KMHJVJIKwkKehgIjpRzy4KOiIiglVHwq7TiJ5GnxJFC4BYoaYVA7NSpU4QAHCYXMAZiOLrL8eKH6S6PKpfLI8OBYGhSECUuuuwxFu6d+QSe8Gq3wyghnN8SlhxcL9gk2R+0Pzlg/wAWJkJiEJgaZkRVRg8TGekJqIsH2T0doT1NQbMQR4QL29ifhHWEAtK+oWWUGKLk4VCiHyOG1qzcZOgiMaUFmoaaKG8faAEtOUhpwHgtOQhryP/gUTw6NDnAh+msIYZTwmvhvuSmnNtUmfSRRAYBOTeAPA7NeTloMZ0wNJAMYFxK5wk9HQHfyGQkA818cLzSQ5VJIk+rJkxHje48PzLeaMFPsTm/Cp8SWr2g9eyiKVMI7GjdKLSdsgYIWQw0HAi2XLtOKVNIDAhjQBB0lKTrKKsS0Iw5Ym3wMTKNpSZnapQyYuC6q9T0AISTFyHoQAYrBoPBcJOB/8ELidDFBjjvR5OiacBhJe5CEcAxigAhTgy1OD340K5EW0DUq9KK61NaoDlAwMQbi9Z8kAl08LpIjBsXMrQKcNxs6Q5HwhBwJADEdIS/TDkIztXwq4EpaMvjGy4ctbLr19x4WbPsFYJeLuFQ6oqpSYDSaYOQLYqDGIBAzOWzAJsW0y/ptQRBk58jmdsWt/njGwy/JfzHDUfkHJr8FUyVzpslgZB4rNJ1dIR8KQgMc+Ub610rjlcOU3okDM3EJEOJvNwyNE3KIRzg+BXS0Y0IU7QeEwJJIDpF4aoIYfh1wEq03zIUMdlvETIRSsdJDP6MVRzBrxZguHCwLckDWv3mFdIkgl7wEaMUX9Cs3CQpGV2EwWAw3GzIm0HgjkQ4UAXyeFQRED9ByMUhCSRJqY4qxVHpZFwThP9CpVa/exThd+NUgdy1iwJ+tc7fAje0XtYVU9qcTK8ScCoAAHi1SURBVIrCNcKV4ZqQEQD2m532rCXA0X6L47X/LJkgJClbAWiTvNSKQKfjS79rFVSVmKri0wVQ9WsQE4imo2uScvFV+vmuSr4sQqXBYDD8IvjdF26EKiEWRwRcE26HJjiqJgYno3u86y6ma5WzogTIIKycwLUyAWmApoQvwnFUulcXmJ4bS/kBQEZMOBD6g4X4XnuQ7+cI8rEhnja+4xVH8xTUJMLN3/8gTjiJvn4EH8lwI3BX+WDd23hMAcD3W4Ds45pAWPLoZAtdL0fAR612VyUc16oRXX4qVY6gFb5frfqqRMbfBOAHKQ8hVeTj4uKCFYPBYPglUNQE+CWciTyPnIxKeTPJOFeWGJAJcV/q4jhq9etRk4bWiNAQ4lPqzwdqEtMBbQCCLi4tQF4ETAdXhYgfLwQ4ElDpIGHKEL6D42syIfD3hXbTuyYsObhRYBMhW8IGwHGm5icS3DxBWxiseNuszBToeCCABmSkxNkrUEdKN5YDTNeRKjRJg2QkLDpkCDXpKeADcfwlUA5Eq5QbDAbDL4V8FITzNsDR8i3X9DB+AfV1l3UXDqkiJqZogBMT0z8HmOpFk2PiJOEjRhXaqZXzlFuWpBSqL6CLEgI1UbpAIG2UgCqtIvzuHVCVTpj6YIVoTR4go6H11EDymhuESicpwkECIbDkIBnAJrltCIG2ASS4+iFADFWSpwqNDYl2hB9YhkqaZC7iU8VE7va+lZMqfFRBSF7YvHlzdHS0BJAH6g7hfxDxvfbg6LRKG1B39/6GVAP3sAaD4abCXYGAczUQ+BZcjd8XAed5EgMCdJESNERFRa1bt27Dhg2HDh26ePEiTAVp9EuzUwiT0vlAVQXcpiYD7eRFwPSHZ+DvCFAoAWj3LHpM8dETExPjxhUBnGdGQPIQYqqVKpCMBGA6D08THH8riIuLw+3rO28kFh+SBNBXLb3hV4B11JYokcQCgPYYIrjKvkSPaoJAADEIdcGIt2/fPm/ePGjtpZRgAVKOmAhxlDA6Sbf9anXClGiGOXDgQP1WKUxSUU82ODRAzE3eMTU9gY7+qsFgMPwK4KnwNvgT/Ax+Kci9GnJHwUoi8MtAEHEnTJjw7rvvfvLJJ8OHD+/fv/+IESOOHTsmx8hAQPLynIyuJrk7WvGTCKgVjoOmKkIcPYLSDnFEwHQDUaqJXtAqwd69e+fMmSNJevn10EsE4XzatGnc5dR92bJlW7ZscbNyBECe7vrwBXwpVBOTxM8PGDBg3759VBlOs9IQCcL8+42CRXe7CFhuv5FRYl6uNYmdELSplGwwRjNu3Dh10U5DUKIfE9EoKmUBagJUZWHOMjRDKWGGYMmSJQcOHJB9U4ovYQANB9BFCuG4HALwUPBRq9Yg12AwGH4tcDgqnW+RCxITyF8lBidMuXTp0sGDB6dJk6Zy5coVKlSIjIwcPXr0qFGjAr7viqPzf2pAQINKRofQBIDGxenJkUKroxOjKg8JIWEISUpAJYCJHvGRIepPnDhRkurIrLzG4GSQOXXqFMnNyZMnGY5RPv74YyUHVPUI0k8VQk+nidFKFQHpQf+UKVPOnTtHVWAIIVi/AnWx31a4XrBeLKJWjd11v62gJjh6dZ39YA9kBG6bEWC3/BoSBL3UitjOnTtJdbdt21aoUKECBQqgk02FuWLFChLJdOnSYfcSporY2rVrt2/fTpWJkRlgpvPnz4+IiFi/fv3Bgwdz5sxJE7knWSc5QbZs2TgntWvX5ths3LgR46NpzZo1HCHUxsbGYnx0PHToUKZMmeAweRQuWLAgV65cNDEHbC5r1qwyQeCIsAbrab+tkAJhv62QihD62wp+d+h8I+5FLhQOpZjQTiA+aHL+k+6ffPIJZ/mf//xn/fr1q1evXrVqVVwcHqxjx47IrFq1Co8KB+LYsWPMh1MPh1v1nj17qOIMcac40syZM8PE4yGGBdKX+SxcuBDnjyPFneKWcbly/jThPBHGITMH/D9uOX/+/PQiQBw/fnz58uW7d+/GW9IFJmIfffQR+gt7gMOUcLybNm06fPgwYvrC++nTpw8ZMqR48eJMAIUkB3RnwoQG1OKl161bt3nzZvTjrpkJHpulIC7wCDwg7h1hmAh/+OGHDz30UN68eZkq8yQ06BexgbeKATjakoPrBUsmY4X2JwdishnYFgbBjlKywd9//z3ZKzuUO3dugo0zXLf0CQJtCrSY0TfffKMfRyCKo/PTTz+dOnXqjh07sA+sp3Tp0jTFxcVxDGbPno1xMOjixYsxaMyIWP5//+//xVwWLVpEl7p16+7atQvLwOixTg4A/CZNmpQvX/7zzz+fNWvW1q1baSpatCiHYdiwYZijOBs2bMBqSRpOnz79+uuvx8TEIEw+waMxSQbiqXmipB8qXMBTWHKQAmHJQSpCwj+8BCHniWvF53DBxcMQXPE8OoxyMs4Dx4ccLAJ4JJRwIye+khlwnBmOppIlS3KfKVGiBGHyjTfeINgT4xlryZIlBNcaNWpw48Irfvvtt7hH3C++FE+Lkx83bhyeEB9LnK5YsSJD/OUvf4GWJ6T7kSNHcKR4Y9w13njGjBn4WLrs379//PjxHTp0YAJoxoHrCkdKgTChfe7cuZMmTTp79ixDM1XC/MCBA1evXo3vRZIupUqV4vG5JaINmYIFC7Is8FkrLn7Mec6cOVzzCAfkGaQ+5BmkQXRhJl9++SXLyH1y5cqVe/furVSpEonLyJEjO3funCdPHpQMHjyYObAsLLt/VR2dGi58txbYCqXsW1XW/R//+Mff//538laI0aNH+1+QTwyybGnD0InTRYoUyZcvX7NmzbAtbP27774rVqxYu3btKleuzH6TOiCGqZGFlClTprUHBiIVpaQJw8W+69SpU69ePdSSb2KyTZs2bdSo0YkTJ0gnGQg+Fvnjjz9iJS1atODwYNljx44l6lNt3LgxCQfmzikly8GmeTSMrE2bNuQQH3zwAQqlBASewWAwGH45FNop58+fj88ExG9c6JgxY/BmeFeaJCb5JIAvQr5t27Yo7N+//7vvvktEJHDS98EHHyTE0sp9CUeXM2dOvGuVKlUI/zg3OhJTZ86cia9r2LAhrpLg+sUXX+CEcYb58+fH45EToIdIzPWJWxMuF9+LDEGaoXHFdCE8t2zZkgDMXY47G/yjR48OGDCAvuhs3rw59zeSAFIKLnjE5ly5csEkpyFXwJ/XrFkTB0uuQILCxJhwrVq1KOlLcoBP5l7KnLnvMU8E0N+gQQNmQuIyfPhwfDKpA6qYFUEEPvOZMGECrpsh8OQ8Jg/LDZD5ozkkMwDOmVtycKPwB3UWmqv80KFDyQfJW6OioubNm/f+++9DszFJW7aUoEGqsBuSA+wG88WYsG+q3bp1Y6dJRQnw2AE7jdE8/fTT3bt3J4vEONjvLVu2MAeU0IoNcR46derEvR/DfeGFF6i2b9++Z8+eJNTk15o8dzI4DzzwAMbH5LHO3r170+vhhx9+/PHHyRWYP9kottiqVatHHnmECfzhD38g4SX1pnuIbRkMBsN1Ao9HiRvBQ+K4uNtMnDgRz8nNngj33nvvQSCA80za1chzOgE8ZJ8+fXLnzs0tHA9GMCbVIPAzCn4P4ezZs+M5cWVPPfUUbparFH0ZhVac4f3334+jy5s3L170iSeeQIwSN8hkEAO4Sjj4Ulxl2bJlib7nz5///PPPCd4oRP65557jLsdACK9YsWLt2rU9evQginNbe/TRR7nQ4zzLly9P5kEaQeDHyaMTF33ffffhybmD4ZbpmD59+iZNmuB+6UsmQU5AcsD9EIfPs5DEMAFyi3LlylWoUIE57N+/n0f46quvUP7SSy+h7cknn+zSpQuLo/VZtWrVO++8ExkZyVikR3Dgk08A1o2qFhBYcnCj0GqqJMklPcSmvZYgkzRz165dygz8Sx8CBLAkwFZhKJR33303TKCPoERHRw8aNIhEmGwDUz558iR5LraFiXC551CRZZMZ0BGDRgNjkdXSCocslblhcwxEFasFsgaqKCHJYCCsioEwOKrw0VC9evXY2NgDBw4wMQwU09QjYFWkpevXr4eGQ18Ig8Fg+EXwPFzwY1zcNxYvXuyPUjg0oh2+SB5GTQkCAXXBiUFTcv/+05/+9Nprr/Xq1QvHxfX9jTfekCujFd+YIUMGNOPWyCH0eUJAQoA/RA9TioiI4LqVxnt3l4RxxbhWpkESQNiGj6vEYeLkmTx+noHg050QXq1aNQhk8JN0HD9+/AcffEC6880336Bh+/bt8vYAGYbDJ+/YsYM8hosf2QbunWiCM0cMeWQg9KTqwsS4MU6ZMoWg8MUXXxB3EObREGbdyB54NCSZsPIS+gJyr02bNjE9kg+tqh/IBylLDpIFLKjbZpYbcwk2eGBv2CTRCIiID+09+ypVcDAXqpToxLbI9ch2c+TIQYkZkQ8iOXv27CFDhmBDpJ8lSpQglrshZD0QcKDFl0KVMjVKZgjBKNgWXcR3vSgBuQXPRROQKumRcCqDHtBgMCQfiNwJX42ca8LPZMqUiVI0HolAi4eBwNtc81QiIHd07tw57lFRUVGZM2euWrVq586d+/Tp88c//nH37t1cqxBAufPS8myiAb5aozMi/lA3NPiaFVWiL6PolVdNiVIhHIJeyENo8u5B6IgDx3tzrcqaNSsXeoI3YrRKCdPAk8+bNw9JEpQKFSrobYMaGg2UGsu53IMHD3JRJCNBIf6/Zs2aZDNI4s8pJSMNZDZ6TG56pUuXZjWmT5++du1arS2aXThwXUAq9Oy/MbSUlIDIijl27drVRWUIckz2w5MNbLOI+HBWon2livFJHiMrVaoUtvL888/37dv3hRdewOKxAA4S2SjGBP+ZZ57p1KkTe0wXoC3HNOmOWlJjLIOEUa1HjhzZs2cPTchTIoZlwGe2ZBgLFizQAUDJunXr0J8rVy6qpCCkwJrkiRMnyHzJReir7jANBoPhFwG3g/eQVyHI3X///bp5w8E7NWvWrGjRolRxd3B0jUkQ8lfByu9+N3ny5C+//JIsgXDIEHREOZqdhwSI0QuO82AQYkKgTcJwGJqqRsc3wl+1ahXhllbSgoULF1auXJm7eKFChVasWKGkgXFXr16tLmXLliXneOCBB1588cWXXnqJezxMnCqlhqY8e/bs2LFjCfDPPvvsE088wYNzIWQgQKtK1FKiU/TOnTu5HHbv3v3ll19+5JFHSpYsSRemhBtn0XDdzA0xMG7cOBZErazwY489xvVywIABp06d0gPydACCqjjAfHoyQKupkhjcq1cvonXLli3r168P/corr+gFHDaYffJ6JABtDzLQqMLCyDQPHTrE9kM/+uijmODIkSNJLbEhckz2FSvJnj37yZMnFy1a9MMPP3z11VcYBH1lBOjRiNBkrOSqQ4cOnTBhwvfffz9s2DB6MRwyEhDN4cHU0IYA444ePfqzzz6jI2kpYhcuXBgzZgyjz5gx4+OPP+awkfdoIHU3GAyGXwp5D5wV95Ann3wS59m8eXN8S8+ePbkL4btwMrquSD4xOAebJUsWbkrTpk0j/uGyJk6c+MUXX3z00UflPSAgMYVYQinKoRlFA+HDqcobU8JEDL70axpz58799ttv8bq4yh07dnTr1o3JM2H5YZznqFGjSBSQpGPt2rWLFCkycOBApsSV/dNPP128eDFNaMaBHzhwAJfLiKQLGzZswM+jZPDgwadPn2Z0upNYAEYkG2AU7oRoJjuBgL9s2TLkeUbmwwxJSuhC/oHMiBEj5MYh4DMiHp4uGTJkIE1Zu3YtSQPC8B0YUYsD7KOM1wuZCCU0C0qeyBKLL+PGaCRD1ORmX6lSpbp167Zv375ChQq0sm2STMzEpVyqVMVG16xZQ35Qo0YNck8S1a1bt27cuHHv3r358uUju8SwcufOjcXA379/P0MwKMS9994bERExf/78Bg0aFCxYED5pBNa5e/durv6U2AcDNWzYsEyZMpgIBteiRQtGJ9MkoyS32LRp0+bNm5GkF8c1b968JLYcgyZNmsDcsmULKfnjjz9Ovsw8UU55zaOb8sEK2EcZUyDso4ypAsGdCvkoY4jzxKeVK1cOP1avXj2cJ7EcYfjOwyDm9UsAxFfpQSd+DBrfiL9auXJldHQ0HpvrdcWKFWklAONRoSWMAB61WrVqONvDhw9zHZK7Rix//vyEdka/6H12sUuXLtzZPvnkEyaJnyRCR0VFtWnTRh+OKFSokL6oYPv27bTiRrjC4ScZGj04VRw1mQTOs3Pnzo0aNWIUgAc+duwYyRCaSQ5w4EeOHCGKMz34HTt2hIa5bds2XBPTZiZcAilJofDYdCEinDlzBl+NZM6cOekITZCiiRFJPljGhx9+mIDFva5169ZkIcyHuZFA4NJZYcBy8ZhuOygD38PgLazhGpAZUUKzMRgTdgyt1WRZKdlpZaPQrK+WG8DU60tAGuIDMZrUnY7QbPzSpUsxPiJ35syZubgTsHft2sW4bDYbjAD2BxMLYGhCNeY1Z84crJmkct68eVgScR3lmtjRo0fJNpgwkgT4kiVLFi5cGA6PQxdGxKDJSBiIFGTfvn24YwbC2ujCmalTp86kSZPIQNHD2SOxoIum7Z4ufKEHwZuwsKxekGu41eAwnT8fExV1uESJEkHW74IJtIewT0lTPThZ3v8Dfg9SkS8yMouq//53MKJTlS8lquFPoOU/IZQfePKJXkJowsU5PYihB2+JHyPjx13jr3Bo8GldsGABjhEHKGGSA+JuqVKlSA4ItFzqNCUu9MR13e7IaUgOCKVw8J+vvfYaJZGehEDvbWT077//npnzdCdOnEDbRx99xByGDBmCKqZHgCc/YLgCBQrgmdOkSQOTK9+SJUuQJ8NgFMI5npbrJQEehfj/li1b8vg8CDkHEZ1r5+nTp5cvXw6Tux+umwSFbKNo0aJMg+4oQYYRaVKqgUMjlUEnCqdOnUrWRTRhdFYGPWQYTJ444lZYa0hpycH1grViX7VwIcmB7JWlJwbLRp1xOwEtvbonCLcrTh4ChapSohaDgEBMkv5TRNVNABoBJ4mYkgPEAAQCTjM0gBaBvJ/AdhkCneQo1atXJ/PA6NURJkCP9LuOYQqehUew5CClAXO25CCswcny/h/wD5AhyQFuQ0fPqwaAb/H7NGglB8iohB8fapKXE0EJaKJ0CiGQlD+k9KullDCEOEBdIKSBXrg7ou9//dd/de3aVWPBYYZc1cgGuJK1b9+eSxqh95tvvvnjH/9IFTFakUGboCEgvEGCz+4nND2q8Qmnyj0CYAh1dE+q1pCqX0a0SgQc4Wg7WjcKLT3QzrGmRFMIxxcBH4iTIFyrk5dCVSllEBBOMmQgNwEJOEnEICgliZhfswAteL0DwIDgKzOASJcuHSknp9rZEMLSo2kYDAbDr4D8iQi8CoRKgIeR35OMk4wPNSHvCOfNqDqFzmupVKsrHaG+0MDpkSeEqFu3rr4hQAKAJsTatm3L3WndunWzZ8/evXv3Qw891KhRI1IHBDQBaQD0hQOckhBC00uQcEmGewQpV0fRQK0hVb+MaJV+AgSb7JWD6wTrRbzUqvlfObjlcCaranKBTFO2q0T1woULa9asqVSpknunhX9ElzGEL/QI9spBSgPWba8chDWuRMSAf4CM/8pBuIAHwStCEP7z5s2L/8cxwiT8c0EiOuAqY2Ji9u3bd/r06dy5c+t9D3IsQDIuWqd82NG6fYHVOgRZPsisIVSmTZu2Vq1aCWYGqQ8JLojBYLhtIZ+A3+MKXqVKlZzeT9nBJN6TIihpoDVLliyVK1du2rRp6dKl5STdRT/sYMlB2CMQqG9CqEanzoNSXfciVYJj3YwJGAwGQwoBzhAvJwdIQoA/lEt0fhKCGxRZgjiUMMkMlD04sTCCJQe3KUIsNQnD1RlAwMnI7g0Gg+E2QXynp0QBEP7de7PkLQWYekWBJhHhBUsOwhuYHaYJXOT+RaBXEh31mgHWj4wOACVVtaZi3A7PaDD8tsDP/BoflUIgNyhviSekFA1o0gsGoik9l3zV579IGuDIo4YLLDkIb8gKhSAr+eDOAxAdbDAYDIbbDHKDEKQCzhnCEVOl30mSCrg/PYgTXrDkIBngN4gQ2h+zrxm/3WtQCZbuhSlHoBCz27x582effQYhMQc3nJPXh2ocgfzx48dPnz6tjpL3l64jAi7nVZO6xO8IRwRDiDAYDIYk4PczlPIbYvr9jJ9IEM75iBag/aqcmwJOWALxR1SJmAh8LIAQ/LT7a4L+1kDVcZyY44QLLDm4UTgzEgEwMuzJmRTEpUuXZHnQnkgC8HoEWlX6tVGigdIxgfhgy5YtI0eOVPWy95OdEFQlDIcSnU7eqYqLixs0aND27dtVVamOQHro7lS50s1TcJqBesFU1d9kMBgMIZBXAfIkch3OgYT4nCTgBPySdHQeCVruyC/gRgRuFPlM+Um/sD/Mx88S/KUf4oRdZgAsObhRYFJsP6UgU8DmoCFIJGWRlPHtJgQYkBPDKM+cOSMzBWjDWAV0Ul64cOHcuXMQWL/HvoRMTEwMVaL+qVOn6Ks5AJhUL168ePbsWUnCPH78+GeffbZ3797Y2Fg4yAB0AoSZgF4tYCBmBfP8+fOIoRwNklQTYmhAM1Umr+e9y/vmpcDYBoPBkDj8gRMPg+eR88HV4GdgypM4b5YEJIkLQhh3hFPCa6FNauFTpaRJP0goJu4Ob0ZHDSExvJw6ikN5u8F+eOl6gSVhKDI+TNb98BLAdDBlGbSqCOzfv//w4cPp0qXD9N1HWRCQhvigO5JOBnsdPnw4RP78+SnBkCFDiO6FChWCXrVq1bfffrtgwYJ9+/ZxADZu3PjYY48RoZHJkiXL119//cMPP2zfvj179uz6uZojR46MHTt22rRpS5YsOXjwYN68eQneH3744dy5cxmISZYpUwY9U6ZMmTp16uLFizdt2pQrVy6ekcl88cUXpBEzZ85kOEanPHTo0Pr16ydNmoQ2JpMmTZovv/wS5fRCc+bMmfUgNLk1CQswYf3wEk8EHeQabjXsh5dSBdipwGYRd/GH/h9ektNTSZWovGfPnqNHj+KXOIk4Ew4jrQhDXPNgIoAH3rVr15gxY3CDK1asQFXhwoXxeAcOHBg3bhwe75tvvsH1wc+XL1/69OmXL18+fvz4GjVq6JOHCLz//vtFixbFl0qh5ib9tw/slYNkg2wIEIk/+uij119//W9/+9vbb7+9devWoMS1QF9HACyYGAyh8/Pdd99h6Njo7t27BwwYsHPnTtE//vhj4MR4v7TxySefDB06FKOnSuRm9BMnTtD9s88+mz9/PkzsfuLEiRwbiLTebw8qcaH61VdfwSenJrNZuXJl//79OUsITJ48eeDAgeQH6OHUzZkzh9HXrVtHE/kHQ6CcUVBCAgHNVAPPcLum2waD4ZcCp4G7wIfgZ3Cef//73/Gf77333rZt23BHeB6JISAiQTjPo+jOXQWaK9OIESOmT5+OtyTnGDx4MH4VV0mVa8+oUaOQ0R9YuWihgSFwa1y9PE2B3AWOPp5wu8GSg2SATBZrw7awS4zvn//8J5dpwjk2SpQ9d+4cTQgkYdzutTWdBMwRk3UvztMX0IQektz9+/e/8MILr7zySo8ePdQFMU4XRo+ePn36/PnPf6aJW/7SpUvJxMmXS5cu3bt379dee61jx45oJit//PHHM2TIQLV169YcDDKAJk2avPzyy6+++urTTz9NIjJt2jSNfvr06V69etFUsGBBpoRw+/btGb1v377z5s3jtv3EE0/86U9/at68+ZQpU1CuCTPu7XmoDAbDdQIPI4+Hx8B5fvrpp2+99dbXX3/NRYXk4J133uG6IudJq7okCPQgBoE2/C2+t379+rgs0KpVq5iYGDTQeujQobJly7744ou4rw4dOgwbNgxvVq1atZw5c+ItEUAJfq9q1ar6PVtBmm83WHJwo3DGDbA/rHDkyJGnTp1SE5ZNLNdPKksmMaAEyIKxRSI9kVVGSV/SZ3cRnzFjRuPGjStUqEBoL1OmDHFa38xFd0L+gw8+mC9fvixZsjRq1KhcuXLc5u++++7y5csvX76ckzB79myYnTt3ZiD4aGYUem3cuJHEomvXrhySiIiIuh5It1ELKlasWLRo0cyZM9OFmaChevXqjM4xkzAj6rdN9RIC0wZopq/mHF7gEYKUwWC4+dCJI6hzyz9z5oz8Hpd+Yvzu3btpxe1QJu1PEACiK1Wq9OOPP5JqEPIbNmzIvQX3iFqcGB4ya9asEA888AD+ed26dfiudu3aTZgwgfwDDn4Pp4qvw0niIekonbcbLDm4UWBwMiAZNPdmvQJPFWBemDh3a1lt0naGjLqoykmgClO9IJQlEIDz5MmDmI5KgQIFoJEkGKdJk4YmjU7YJtIfPnwYfu/evQnkO3bs+Pbbb4cPH/79999zBuiFTs4A8syZA8Mh0VgMhFqybE0mR44ccDg5mox+Fh0+HFIE/UyRpqeXDQQ0BymDwWBICHgSHAX+CuA9zp49CwEff4J/48aCa5Ik7kVEgqAXXTw1gQzg5Zdfxk2tWrVqzJgxH3/88dy5c9GGAE34KwiQPn163Be5CN1bt269ZcuWXbt2bdiwgUG58CBAFzk6aG+Q2wuWHNwosEVFWRlfxowZuVjLmGTNuXLl4tqtVq9HwqDVL6CXDRSqKckJ3MtruXPnPnjwIDTylMeOHaNV8pcuXZKtQ8M8cOBA4cKFla8899xzL7300v3330+kHzBgABw3JYQ5SDEeGEs3foZAkioymoaSdyaAPODpAMp1fgCtdIRJq+YGrSaDwWBIEDgNSjwGzrN8+fL4DVyKvApXHTwYhDwJMpQJQp6KvtBkGFzJXnnllRdeeKFjx46owuPhP8lCcHF4SLQhDAdkz56dvqU8zJgxY8qUKU2bNvX/4i7d5QBvN1hycKPw2yummS5duhdffLFmzZr6OEOxYsX69OmDfctqrwfEYErkCxYsSOYbFRWFNf/444/79++Hj323bNly4cKF69evh79jx47JkycToZFnJhDffPMNXU6dOjVv3rw9e/bo9bSRI0eioUCBAq1atWJuHAkOJF3QhiS9KleuTE4wduzY6Ojo06dPL168eMmSJW3bttURVYmweumdjHohQYdWArQigzZo4M6qwWAwJAi5CDmTiIgIvKWcJ4lCiRIluM8UKlQIGUFdEgTdlWTgi/BvH3/8MR6yTJkyLVq0wLnh02jFE3KV+v777/FyEOPHj9cfQ9HM0G3atJk0adLSpUvvu+8+JQToROHtmRkA+yjj9UKhTuZC/FbsV5MDJkUTFpk3b17Sgtq1a3fq1Klr166ZMmWir1oTu0xLPwQl5qjrO3ZMgF+7du2BAwcOHTpUrly5+vXrk01j9ytXrqQkhMO/dOlSr169OGCDBg2KjIyky/z58xcsWFClSpVu3bph93v37p05c+b27duXLVuG9cPXOxUWLVq0efNmxqpTpw5zmz179rZt2xCgO6M8++yzWbJkGTVqFI/TpEkTnRYyax6EvIHh4HAI77333pIlSzLt3bt3T5w48fnnn0+fPr2el1IrFhZgqvooo7IfQwqBfZQxVSC4UyEfZXRODy+ES8GT5M+fv3jx4ngkgvRDDz2E+5Izwdvoxq+OIVAIR4wSMdyaPs6Ni8NPNmzYkDsVXnT06NHZs2fn0oV7hI8bbNasGToBnhP/mSNHDmIiHkDuzo3rDXJ7wZKD6wWG4kKdPzkQU6CKMRHUMfHq1avXqlWrWrVqiNHk0gKZb4JAhhOCGBoQI2VOly4dWTCW2rhx4/Lly5cqVapo0aIYMaXe84gpk/BynBguJibm008/ffHFFzljFy9eJF9+8MEHc+XKhSpycNQiwGxLly79yCOP5MyZEw7nBP1Zs2ZlnuQ0DHT27FnkOZzIkN8wEzIPuvBETI8mqgULFoQDzSFHZ7169dCGZoThNG/enCZoPa+WJSzAVO17DlIgLDlIFQjuVEhywDnDV3DiiMH4EBxgkSJFuFbVrFmTOwySuBH4SOJVOJWJHUxkEEAJJUrKli0bGxsbFxdH9xo1anBDw8txa5oxY0bfvn1xnvBxqh06dOAmI3/FFe6bb765//77uYChByUaTpqDw9xOuIObYpA0JAmsRLkkNKE3X758+rsUpiMDoiQqY82ET4wJ41OwRwbLoxWObDegLh5oAuhBA4SYdMS+6UvYRq2OChoQg48YVUCAx7IPHz7coEGDyZMnkzpwMEhfkERG00MbYhBk4nRRpKcVJk16bQPQkSoC5CW0AuYAqMJHQFUOs6ZBckD2A80oTIlJKhmiCSV0CRcwYaa9c+dO0inyA+hgg+GWAss9fz4mKuowCW6Q9Tv/y7y3o9cOL3CyvP8HDhTkkSNHiMeRkYHvF/JaAi+U4itwnnhLhIFcEyWuhpMoVxNQ4QEiQchZyeUiTxWPBIfjLJ2zZs169tlnN2zYgPdDBk+INsRoPXTo0JYtW/r16zd06FD9FRh5javpeSPcXrCjdaPAvGTB0DImSmgI5Z60UlU8DnRIBJKHkIlLFVXSAowYJkFXAgLRmiaAZkI7HOSpQhC5M2fOrClJiYAeZQwwKQF9UQtTYnBQS3fpAQiEVElQkEES/fTyx1HEmAlVtcJh2moyGAyGBKHw7DwG3gNCpYMTSBryPFKCsyILcdcemFRhQkPgDJFRExckcoJRo0Y1b948f/78yGgsmuh1PeOmSlhykDxQ4PebkWhsixJr83hXCYRATZKEltWqCuHSYQya27nT4/ISwDEgL46MjIRGTGatwyA97jA4AQgJIBlyDNAsSYCwmhxHEN/fC0htWCPkiQwGww0D13GV9xDcWZMjchz/GZRr8nMSg2SQl09zCkUXKFCgT58+0NxwxKQV1wpy5szZrFmzHj16QOP60CBviYBzlbcb7M8K1wssSTYKHf/PCiQHAVu7Yr5IurguIxNHNieZEEhGSqTTVWlVidWihOSAEqiLIrRebIiNjeWiL2GaMHQmhqQ0SEY0fTUKVYFWqgAZ+qqVUgMB+JRiqqSXIyQAoSlJJqA3TKAJ688KeiXGkBKAcdmfFcIa8g8ChyzkzwpyEvJ18iF+eaAmOSUIEGy4GuqlU4wkNI5LXbz2QBPOUD5KPs1TFnRf+luwoO4AWgQyjr59YEcreUAYpnQGpCqWB0fGJ8AJUvGgJpUyXL9FOnsFhH8COYTExBQ4dSIQ0Bzc8fBPQ5ByWiUgeSfG+XGjS8BP+OEp+JnvehkMBsP1I0Fv6XdE1wm6UPr9p3wUnpMmtUo5MgLeD46a6AVgep2Cf6SgSpPzwxBev8D1jCr+1jUB0RIA4shpCzBV9fcS4KgL8BN+/m8D8+M3CqxHhN+wIBxfoPWaWysTFFR1b1MQB50yKbRhK24IaDhUJUYpVdAYPYQMSzMEzs6cBhEIqKMeQRwRjgMkTClC8AsAf5PBYDAkAbxHiMdQNQkPkyCQB/i3YN0HqVKTHCAclV57wFWqVRyGc07SrxD6su+X9Cn9UV+aHS3CceLnEGqiFMQHNPkl/YDvH/Hm4drLbbhBYFuytuuBJCmxANGyGCwVjo4HluFidohmhNUkeRFeSwBwEHBdAsboM00xhZCqwWAw/AbAOwnB+tVIjA/kskIE5ANhKprKAYqpKk1EejlJ5/TEB5JUKzSAlpiqEoOD11XgV6vEpIESjt9pw6RUR6fca/mZEKTB6VQXNf0G+DlyGJIL7J9DkOVBVpIYsB7tPZAZYRZ6sUsCQE0ydGdVCIgG0HqTgfjISwYB4KoQfrV+JMa/raCFMhgMyQccy030Lc5x6fC6qtygfCaQb5Q/VKv4ABkxnQYA0/HVBO72fgxCMmiTTgmol6r0gqA7HKp6x4NoQJMnGxRGoWsCagpWrob43kRurpsKPrPhJkFbCFRNbL8dJIm5YEZYlZhAHErFfsRkUigUHRjDA0yZI/LurxIOMIPUFbFgxQeYCfINBoMhZUIuSw7Qwbk7xW+gCI3rg5ZHJdIjACENlOIDdZdO53URkBMGzkXTpIwBiKMmZFQV4fwqBJIayCnRrGhyYoI4fkmggdxwNwOWHCQz3G75NximQ5AVDzI1ekFcvnwZSQgMgib9iUuWIX6gg0+taDEdpI2+yMu2/JJwAj09QAPXZDAYDL895I78CDZcQXxOCJwABB5PTo8SH+iaCO1yd3Kz4lPCpElukyq0JFWVNmhKJ0xHAnxI9eLFi1Q1EMIMjU7ou7zPjsGnShcnQBcNCgfAoQoBBzE/JCDE5yQ7LDm4KWDbZEPaP7fxSUPCWIYyShm0DEWAj6pLly5BIyCmBtIQbjgxkaeKCcoc1UqTdKqqJgg/4nNuK1znfhkMhhtEiKuhioMSoENakwBejmOrk0tfMaXEUxb0hwAaMQi6SD8+UDcuVaUKAfUVBwIONFCThJGkVU0ogYbwC6McICZtAFp3NimRJAQlTaIBkmKqF2IaC20wJSbiJsF+W+F6od3V5rFDCf7wkh+67iMviAn8dAhkARpl9erV0dHRuXPnxhRQNW3atDRp0ugLjg4fPrx8+fL8+fOTikZFRS1dunTDhg3IZMqUCQ4a4Jw7d+7QoUNr1qyhy65du06ePMmc58+fv2/fvsyZM6Nq8+bNK1asOHXqVI4cOegCNAc3vSTmmVrBI9sPL6VA2G8rpAoEdyrktxUEv7fBAQrQ8P1NIKTq4JwnNDIXLlzYtm3bsmXLcIPws2TJAvP48eMrV67MkycPHhIHSxf4iuj4Rlz6nj17Fi9efObMGdwmjnfVqlVr165FYdasWRE7ePAgbhP/OXfu3B07duBF6aLuDIGbXbRoEQ4Wp71w4UKGQzkD8bw5c+akCnC5J06cQMCb8u/0K3f79+/Xd8syeWRiYmI2btwI/+jRo+nSpdM3OTJVHoTu69ati42N1XykE0hbssOSg+sFe6DNg/YnB84c2T+VtBKVx48fz16ePXsWW2R3lSdCBHQlAmff4McffyQhaNGiBToxu759+2JAderUQWzKlCmzZ89u06YNKcLw4cMxl507d0IT2MqWLYvAoEGDOBVbt27dtGlT4cKF582bh8Vv2bIFScx39+7d2N/333+Pac6YMYNYWLJkScb1P6DK2w08tSUHKRCWHKQKBHcqweRAnofy0qVLuKlx48bh0AjSefPmxXP63WZirkkyAdfp4euvv548eTK+Dr+H0ytUqBAhGX/44Ycfnj59esmSJQRgHCOHvXjx4uQB//M//8OFasGCBeKTW3Djwm3iyckbSpcuTYBHzxdffEH4x7GTJdDKDQ33znAoHDhwIB6V9IIRx44dW7BgwRIlSrz11lsXL16sUaMGcyMu4Jm5ztWuXZuHGjNmDJOUPAq5pOXLl487Hi591qxZ27dv1/2NoclUqH700UfMjScivyHDqFSpEkshv8389fiKQYHlSA4kFasM1w92BRMRgYX97W9/e/PNN//3f//39ddfx57YPECrZBKDdloEQR1b5CDBgYiOjiZdxbw4PBMmTChatCgBfsCAAfCbNWvWsWNHOCNGjMCOkSfDJbcoVaoUCUSuXLkOHz6sJKBt27b16tWT8VWsWJFW0tXBgwfrRQ4HRglSBoPBcDOBt5HTwzfiJPFgf//734mpb7zxBsS3336Ld5J3pVSXxEB3VAGyik8++YRsoH379k2aNDl27BguFD2EfO703Mhxgx06dICD92MCKCeu47eJxPhS4vR777134MABxHCSNE2dOhW1eGNuZQTmVq1a3XvvvSQZ77//Pn741KlTyOO0EW7atCn6ufczBzIAYjkumr7y/OjEOcMn82BoZti6deuWLVuSQChrwVcPGzasfPnynTt3bty4MXkDCQEPTrYEjatv164diQ55D6mMFsTFlGuuzy+FJQfJCbYnLi6OFG/mzJnHjx/HjLjBv/vuu4cOHXICIpIApkNZrlw5TGrv3r10wWq7dOmyc+dO7rXYHFaCxZMFk64+99xznTp1wsL69OlDGosNyRC5Zj344INYkl63SJcuXa9evTDo7t27I4B5QVClL9r0JgaOltJPZ20Gg8HwmwFH9PHHHxP5CKg4T/xbv379iLU0XeeNBd8FEKZ7mjRpuBo1bNjwj3/8I+GWVlxfbGzsww8/TGZAIO/Zs+fatWsJzHd7P4TLbapHjx6EagSI4ggghoesUqUKl3jU4h7JJ5544gn8KnjllVe4g+3btw9XvH79+pdffhl50pGnnnpKChnOzYqS+YhJiaMmqyAD4JJWs2bNBx54YM6cOXh4wgeBg+5FihQhFXj11VcLFCiAZyb/YOisWbPyII8//jje+y7vC20FhQwgB55csOTgRqFgzK5AsIskp6SN8ANG6tnErl27yD21f85c4gNhtYogupMf6MUDjKZbt240YYjr1q2jqVixYjCxNmSkOUOGDDVq1Ni+fTsHAzNCICIiQicKWyxcuHAm7/cSMTt6FS1aFCZzTuv9ErRyZw0NH7NT9bbFbf74BsNvBhfk8E7chhcvXgyhIAoTz4nTk0vEX8GXcIJQaET4nnvuIczjPLmncTdbtWpV9uzZ0QAyZszIfV3uOkeOHHhsOUl6VapUSXw8J7cp7lq04l2h8eoIAGI2vhQZ+CVLlmTypBF4XVTRhAAa8L0Mp8molB6IwAy85yKZIDn4+uuvBw8e/OGHH06dOhVJ7pB58+blUkeVrOitt95CuVSRc/BQw4cPf/vttylx5nhyRtdCaVkgmABEcsGSg2QAe0+pfcII2DnCs5rgsLXurYuyjATh9hVC+922bdu5c+fu3r0b6yxdujQ2h5WTYNatWxdDQS1iUkgX5qCqLIYMQHylq8gjQBdowCSR1EBiIgwTjpiUgakYDAbDTYZcE0EaF0RglvOBQ5k+fXqiIAROSW72mpBj7Nq166OPPsrdCbUTJkwgAOOTuQhJGzKAJtwjwhoazwktJRBIOsdIiTwClExPzhYmNGLy9ohphs6RugmrF6MwAQjUwsmSJQtpCtkAIBHp2bOn0o4nn3yS/KBAgQKIkT0MGzYMPfj/F198sUmTJiQ3O3bs6N+//4oVK6RWk7wZsOTgRsH2sKPaIQjygC5duhCM4UugTZs2pUqVEp0E/EroC2rVqrVnz54pU6ZUrFiR/KBevXrTpk1buHBh8+bNaSVRxdpWr14NjfVcvHhx5cqVGggjll2KwIbQLBMHyFMyCiVNEDoVyFA6wpM1GAyG3wjES4I68Q8XhOMicuPruBTJd+G4kvZLcnr4tCNHjnz55Zf4z+eee+61115r2bLlpEmT8JBqJZw7Hwghr4sPlBtkrNjYWL/PFFOOdJ8HmIT5DRs2wMmXL1+ZMmWOHTvGLU6ad+7cefz4cSnnWZgMfUF0dPT+/fvpQvcKFSqkTZuWSNGnT59nn322devWTC9nzpw4/LFjx5IEMG2AZmZO8gHz1KlTpDt//vOfe/fujZ6NGzeiX9o0FkTywpKDZIBsCNvCArAPUj+yvHbt2jVr1qxXr15/+ctfsmfPzgazhUBd4sNtsAh2nV4FCxb89ttva9SoQbV+/fqrVq06ffp01apV0YbdYPQDBgzAbmbMmPHBBx8cPHiwc+fOmgOWjRKANjhSSy/OG6rEpBRfx0M0cE23LW7zxzcYbgJwbgkHMOc/cU04zxdeeKFt27akBdB/+tOfcuTIgR9zoToxICNCrwcsWLBg8ODB3KaWLVu2d+/eSpUqoR++c4Yo5MalS79cIgRMBDQTCEaEj4w8JMSZM2c+//zz8ePHf/fddwMHDuTix6W/SpUq3N/ee+89+JMnTx4yZAiRHg10r1u3Lne2r7/+evr06Z999hkphfS3b9+eCeO0J06cyPXvnXfe2bx5M13IGNAwbNiw2bNncw8kycD5489PnDjxySeffPPNNzwXF0JyjhIlSmhW9NK0maqeIrlgH2W8XrDuirXQ2N89Vz7KCIe9wQ4oodmqzJkzy1waNGjQsWNHdlGtlE5DfCBAXwhn5cjHxMRs27bt6aefJqnERLCMevXqkXYgExERUbhwYVJIBHbt2nXu3Dn4HCrEsB5y8EaNGiGGzk2bNmFMDRs2lOY5c+Y0bdqUvlRJeDHKhx56SEmDBDRVbwq3F9ga+yhjCoR9lDEVIfCef3yU/6OMcok4HxAZGYnzJJZzF7rvvvvKli0rp6Qyab9Eq2J/pkyZcMLr16/nlq/3ZnFJww9z+ea6z32d8IwYh33NmjXdunVjPosXL65evbreN8AMV6xY0bVrV/0CPv4T+XvvvVefcmzcuDG90JwvX74nnngiT548JBn45+3bt2/dujUqKopLHV0I/6VKlSKzgQM/Ojoax5I3b97cuXOTMSCDA9fb0chdmMBTTz1Vrlw5wgpPgfyOHTvg071Hjx4FPBw+fBgmTTwFzhxvz3Mp+lAybS2jymTBHUwuSBqShNsGaBJDLIMNVpPiuovuSjlDqp5gUq+MSR4ByWgsYj/BmzCPmZJ1YpqMW7p0aUkig6FwBphPyZIlCxYsiJmiavny5dgNBwwZqmggm9HnYlHy448/Vq5cGZum+9GjR9euXYvd0ySdECq9Sd1G0FPjSnLlyoVzCXINtxqY8PnzMVFRh3HuQdbvgi90ebDXPlM65IUEDtmRI0fwZpGRWbxqoJC38bsdaCCPJA5NfkcaH5KkRBLPBkEsZyyYBGl8IwTekrhOdEczqriXc4/Cu0KTHOBC8YqIcU3HhTZp0oSYjTbiMelCzZo1R48e/be//Q0njGbE8KikIAzExezrr7+uVq3amTNn8MBkEj179hw3bhzjooHkgIwEAnkuY7jiChUq8CyXL19melu2bGEI0oL8+fPreWNjYxnx0KFDXFHKly9PfqBUBl8N/+zZs6QXZcqUIdVwD8v8oZEBcETcOCw5uF5oG7T0IclBsoOdBgwHjcWIefOgh0pGqwpHsOCsgCUHKQ04PUsOwhqcrCAVoEOTg+TyOleP8jOdXMAbjx079o033li2bBnRGhDg5TOjo6N79epF7K9YsSIhf+HChYTwwYMHR0REcElDAEm5F8pk9Oc322/b0Uop8Bs0+w0wo+vZeAkHKwaDwXD7we8G/XQyIm/evPXr19erF7q5aaDMmTOTHODAV6xYsXbtWsR69+7Nzf5u75MRcuzX6cxTFOyVg+sFW3tTXzlQahmsePCnC78Bws52kxdaf71ywMG+zVcj5YBDYK8chDWu+LHAgYK8Sa8c+HGTPOfJkyf13kbyg8vem7t/uvJrT//617+ioqJ4NBKCokWL6o8LalJfETdjYm6IZIcdrZQLz7QSRYIC1+wVH95QN9HCDAaD4beEPFvygvCfNWtWvXOLIfT+AEoRpAJ58+atXLlyhQoVIiIiSBG4SbpUQF1U9ZQlAzzFN9dvW3KQUvBLtzlB+ZtqKwaDwXB7AtcKSAUolQ2QLigzoFU0TRKG+Xvv96LEoSqx8IIlB7c7AiZvKcXVsAUxGAx+EOkp8QzkARAEe7+XEH333XcjRt5AqzID5QQuM0hGx4KqZNSWICw5MBgMBoPh2iAeK/BD/973eXW9S9ElASFVF8gdJyxgyYHBYDAYbhkUMindpVyA1ocCBLUmAYQlT+k0qCpCHMcXIWGIn678ApOf6QcBHv5dV34pSvJAgV+gl96lqCo0HHDR+/JmtcbFxanVTcwRQghfGgAr4Dhe+82FJQcGg8FguDVIOs6p9fLly8oMQoJoYggJrkB6QtIL/9CiJe/vBe2vgju9X2zyJwQCYv6cgLGoArrs3bt30KBBFy5cgDls2LAtW7Ygo8nQ6vUIPCMlTPHduCoFsgpUudziZsOSA4PBYDDcSigE6oV6QEylVCSGoAkapiebKJyMCCfvlAjSrFIcJKnqbwHQxGm6QBDjJSAgoz8iAEK45EVTShule2kBaCb79u0bOnTo+fPnoefPn3/gwAFU+bXBp4TjrzqCEtC6bNmyUaNGwdGINxuWHBgMoXBew2Aw3FS4AOwCnouRwEVH4mjSEdHFZnDx4sWYmBjkFVNPnTrFbRs+VZinT59WF0ATIGwjhgCcM2fOXPJw4sQJjU4XtFHl6u91CgAazrFjx6Kjo9FAqT8cAFQhjx7UUpXa2NhYkgmeokuXLkWLFoWpzAA99D137hxVMelOX4amianSEQ5A/1wPtCIpBMa7abAfXrpesFtshswFg3Y/vGRINWBz9cNL+kWTINdwq2E/vJQqENwpQubdvh9eIuzhVwmcxGCVXNy3bdtGyKSaNm1aRU21ciqTOJg0oY1y5syZW7duLVOmDB2J32+++Sa+unDhwjQtXbp0xowZ1atXP3jw4NixY5H84YcfVq1aRVOhQoWQ//LLLw8fPrxo0aLJkycXKFAgMjKS+zqSs2bNWrduHZ4/f/78jEXHb775ZvHixQsWLKA7VXKFqlWrIoDkuHHj5syZs3HjRpxJjhw59Mv7zz333F133TVt2rQ8HnguBFAyffr01atXkx/oZ58gBg8ezITHjBlD0/r167H87NmzL1++fMSIEfv37yc5qF+/vr6YOYnVuHHYKwcGg8FguDUgUSDwQxD7ua8Ts99///1//OMff/vb39566y1CI/FeHw6U/PXgyJEjn3/+udKOlStXDhs27LvvvqNK09dff719+/a4uLiPP/6YuI7m9OnTkw3069fvwIEDBGzC/EcffQRN9KULmcGgQYMOHTpElag8ZMiQ+fPnM1Uk4WTKlCkiIoLYj1ou+siTE3zyySdI8lzw+/fvf/ToUcYlivOYlIR8cgIIpsGgu3btIgFiPiQlJBDwz549y4ijR4+GyRBLlixhQfSiBZIIkHC4l1t+0bL8UlhyYDCEghMYpAwGQ/KAMJZAJCO8KfZz6AiuBPW3336bmzogfhM+T506BZ9YG+yQOFBCzEZPvXr1uGGTIlCdO3du3bp1SRHIPIi7EO3btye4EncfeeSRl1566a9//WuvXr1WrFixe/duKTl27Njjjz/+pz/9ias8l3WCep8+fai+8MILkZGRQ4cOpXuTJk1ee+21P/zhD48++igjdvNACKc1R44cyP/xj3987rnnTp48SWKh6dGLrAICeSamlyiefvppNPft27dChQoDBw5Ew+XLl2NiYnLnzk13mpgkSQN6qlSp0rBhw+LFiyNMRnJT0wLBkgODwWAw3DIQKUXExsaOHDlSbxeASXX8+PHcv9UKnGR8KKGXQLFixXLlyrVu3To0UBJfyTBOnDixc+dOOJUrVyYzePDBB5Ek7jLijBkzGFFXf5ilS5cuXLhwpkyZ4MybNy9DhgyLFi0iWZk5cybRfeHChWe8n2ZOnz49gfyzzz5DjGwge/bsJB+rVq0i+ShYsCD3+3Llyr388st58uTRawYMqhs/k7x48SLa0ECyMmHChMmTJ6OKqeplBpS3atUqa9asJAE1a9ak+7lz5xBGCTOE8L/n8ebBkgODwWAw3EootBO5ibvuTkwg1HVfQVEcNcWHXjZAAOLuu+/mkk0U52pO5IbOmTPn2rVrFy9ezAU9S5YsDDRmzJipU6du2bKFeEysJeprXMbSL+ppUOYTFxeH2MaNG7du3Ypko0aNGAgQzkksiO4vvfQS+QTdlWGQl6BNT9S8eXMSBdEaQmrJEkhWINC5adOmbdu2nT9/vk2bNuhHwHtPRnrNAZqOyNPEoCKkB4GbCksODAaDwXDLQKjTlZrbdpUqVZQBqCxUqBCXeGhiIaExIH0tIIxkkyZNCNvLly/Xz+dWqlRpwYIF8+bNa9myJbF2/fr1n376afXq1bt16/bss8/26NGDiEtf5QeUCsNp06bl+l6+fPlHH330scceQ6xBgwbMED55ANf9cePGwa9Xrx7CjEtE59JPRkKrN5ff6W2J0qmJMTqtSGbLlq1IkSI9e/ZE+SOPPNK6dWsyjEyZMiGsZxckTwmtXIHMRk1UgeibAUsODAaDwXCLQfjMkCHD888/X79+/cjISKJyxYoV+/btmz9/fkKgMgMF7wRBE0CMkuBKoOXG/8UXXxC506RJU7t27enTp+/evbtOnToInzlzhis+d3pu+VQnTpxIxCXA+0dRsG/UqBFJBuGZDIPIPWvWrIMHD5JJLFq0aNCgQbQy23Pnzp09exadyFP99ttvt2/ffuLEiU2bNr333nsMqrs+Cil5Fgg47dq1I0c5ffp0jhw5MmfOvGTJkg0bNrACEtB7LCAoGV1JACnCpUuX6EKJKgH+TYIlBwZDKG7qkTMYbksQ3hK+5hL5FPw4d23btv3v//7vP//5z6+99tr//M//cFknIipmK1ImAYIoQB49hNuqVasuXbqUtADllStX3rNnT+7cufVBxLJly1aqVGnw4MHvvPPOJ598QrwvXrz4sWPHNBMGoiR+E6GfeOKJtGnTkgcQ5sH+/fubNWvGEAMGDNi2bdvRo0dhvv322/369RsyZAjzfO65586fP488nI8++oiUonz58mjTrBga5SgkEenWrVvRokXpheT777+/fPlynp30gkcgm6GLk6dKd4iSJUuSgnzwwQdMlVYJ3DzY9xxcL7RblNBsrX3PQeoDm2vfc5ACYd9zkCoQ3KmQ7zmQU6XUpR9OsWLFanggrBJHCYqERmQcoY4hkBIRKrNkyYLNtGjRIiIiIl26dLqslyhRgoHw3gUKFNBnBbm4d+jQgTidL1++IkWKwKxQoYLeQ8CIefPmLVSoUExMDL0yZcrUuXPnhg0bMg1SjYoVK8LRewJoJa7XqlWrcOHCOXPmvHjxIt3p2717d1Rx0WcCjRs3ZlaXL1/m0XLlykX6QlNsbCxM5taqVSumAUFywFMjg0I0U+VxGBQmqQYcZshAuCk6CoHnvwm4g/QnSBqSBHuArWgn2Hv9KUtNhlQADjObu3PnTs6tDl6wwXBLgcM/fz4mKuowbj3I+p3/BmmvfaZ0KGbjQT068CUEhL3IyCyqEoJdWsChI/IR/wA0gZPQq5v0FSXB2B8fOr+4aCeJKmhdu7nOAbTBoVSeQZrC0ARdhInZMKEZ1GUk0skEqMJn2gRvmPQiBMBHhiZkJCYBCL3sr7wB5cgwGVo1K4TJFRBDD7OCA59WqhDgwoULVOmrodGm6woC0MiT7nhjBqFeyQ47WgZDKG7eeTMYDH4Q8AiBohW/OX1EVqqKrIrlag0IJQJ1AXSnI2oJqMRglwoQ8mmiKhm0EWKRUS+COsL00l/9AQph0qS+XBiUNCiE0xEOIRzQhb733HOPMgOpQkBjAQiqKEQVwm4OcOCjlpmgVhwIZQaSQRvVwIQ8p0RfxqXVcW4eLDkwGAwGw62BywwEBTxKwiSBEEKZAVWvPVFIUpEbYaoK7Qq3gFY40qNRdHeXgJjiA8VvmhSkgSRdzIZwmtURbVJOSdXrFJTUM6oLgICvjvA1FnC9ENBTI4O8OK4LNBwIIdDh5sCSA4PBYDDcMijaAYVz4I950ARFCBdEk4BCqYM0+2Oqg8aiSXz/0BrOyUO4+dAEnIzgqhDSA6HMxmsPII3vbUyOcEoCSq8e1MEvzNNRkjfAdPykEUhGPATrvwQ/P6HBYDAYDL8lFA5dtKN0HEovaAaClEoxE4Pr4hdztNMDR0wXyFVV6QiPHeSAELVA85RaVSUQ0ovShfyAxiut8Qk/nFq1UirG6xWF3wbBGRgMBoPBEL4ggiqUpjK4h4LQn04uX74szjXhLcmvXBNLDgyGUPy6V+EMBsOtwq8OgSkf/lcL3CsKvwi/bnEsOTAYDAZDyoJeRQfB+u0KVkDJgd7VSHKg91F6jTcXlhwYDAaDIUVACQEI1m/sZbwb6ZtCoFQgLi5O70O85nsOkvGRLTkwGEKRil+iNBhuEQha14hbNx7Y0OBHkJsQghI3DcFh4iHYHA/B5njAF128eHHixInHjx9XZqB3Pga7xQMCQeoKPDW/BpYcGAwGgyG8kWAgFDOsQR5w+vTp/v37nz17VhxSBBGJIfjwV5Ag83pgv61wvVCypjvlT/bbCqkRbK5+WyGt942qhhQC+22FVIQ7Qn5bAYcqv+qFsEDku9P7kmC9nA5fHEq/B04QTmbp0qWnTp3SLy6eO3duypQpaMB+aN23b9+SJUuKFi2K8Pbt26FXr17NpTxTpkzp0qVDYOHChYThvXv3Ll++PEeOHDDRsGLFCiSjo6Nx+/oixVWrVs2ZM2fTpk0bN27csGHD5s2bUYJaxLjonzlzhlaUMCjzWbduHWp5cBRqhrGxsfRatGgRHRFG7K677qLpwoULEt61axeczJkzIzlmzJhRo0YVKlRIP1ZJ9z179iBDX1YJnXr26dOns7A8zpYtW/Lmzev/ooWk1y0xWHJwvdCmaoktOUiVYHMtOUiBsOQgFSGB5MD/DjsiK6F94sSJRFnCLQFeXx7sfK/K+JAMetD2/fffL1iwQL+QRPD+05/+RESvW7cuEfSbb74h6jdr1mzy5MkE3d27d5MiEFB37txZtWpVDv4777yzcuXKHTt2bNu2Tb/SNGLECCL9gQMHtm7dSjwuXrx4REQE+gnt+/fvJ9tAElVE7vr167/77rvICAyEHlIKAjkh/8cffyRqoJPUZ9iwYbNmzaI7486fP5+coGLFioSVsWPHksqQVcBHf548ebJkyfLll1+uXbuWQYsVK1a4cGH4TIlBmRJZC88LH5085uHDh8lXmBLPQrrjX6vE1i0J2J8VDAaDwXDLoLhFaCd4E4Zff/31N95448033/zf//3fzz77jJAJCIFJX39pdd9KRPyeO3duTEwM8osXL+ZqTixHSVxc3LRp00qWLAlBAkE4b9++/UMPPUTewNWcLAH5qKgohCtXrtyhQ4fs2bN/++23RPE6dep06dKF2L9q1arRo0czFtG3e/fuDz/8MHxG5EbRoEEDRj9y5Mjs2bPz58/fuXPnatWqDRkyZM2aNVWqVOnatStiI0eO5BmPHTuGzgoVKjzwwAMdO3YsVKjQwIEDz549y4QHDx5MPoRw69atyaLIKkhrWrVqRTrVrl27UqVKkTD169ePhIlqp06d8ubNO2DAALIEZk5KwVhNmzalL/PRenpr82syA2DJgcEQCs5VkDIYDMkD4lNSoZ3y4sWLH3/88bx5806ePElE57r84Ycfchv2yyQNhcNKlSpBcC+/fPnykiVLiNNcxFGIWq7yDRs2JE7fd999jz32GPd4bufEY+73J06cYAgyDHICQn6LFi24tX/11VelS5emCyG8pgfSCHILMgxokobY2FgG6tu3L1X4RPHcuXOTcDRu3JjMg6jMZMgzWrZsee+993LdJ0dJkyYNQ5MZoJOxCPDc9S9cuMDMT506xZyJ/SQfL774IukFCkkjSBHgkHOsXr16xYoVZAblypUrXLhw27ZtSUfmz5/PtJk8OQ3PRX6QKVMmLdevSwsESw4MBoPBcGugGEbIJGBze165cqU/CeA2vHv3bpru8n7w0F2FkwAyRFzCKknGuXPndu3aRagmdu7Zs4fISuQuWrQoETdDhgyjR48eNmzYuHHjVq1aRS/iqF6fIGanTZuWLsyHSzkYOnTokCFDuNaTZJANcKdnIOSJ08OHD2/evDmXdX0ZM3rIG9APres72pg/fHIC6b/nnntQQhr06aefzpw5c8uWLXpkMoAnn3xy+/btpETvv/8+88+cOTOj6O0IZB7IIMxaTZkyhe4DBw78+uuv6cUMNX/SBQjNjflrXHF+BSw5MBgMBsMtAzGMYAZB+OTKS2QlWMKEQ3wl+BFTEZBMEiAKShVEs2bNFi5cuGPHDiJxMQ9kAD/88AOBnFEOHjzYr1+/6OhoInfp0qW5aiN26dIlujMWF3cCMFA452ZfpEgR4i4X97Jly/bs2ZMpMQSJy3vvvQeTiE4yQV9Nle66x0sbJcLMCkLzXLRoEakGIZ/RuevXqlULWpNv06bNY489Vrt2bcRIDt55550LFy7QhB50ouTy5cssER2ZD1lOwYIFO3ToQCaEPAKS0XBKOAC0iF8KSw4MhlD86uNkMBh+ERTGiI4EY1KBRx55hJIgRxNl+/btuYgrviryqVd8SA9ADOEqVapERUWNHz+ewEnMrlq1Knd0LvqNGzdGePPmzevWrSMM9+rVq1OnTox+8eJFRkGJ9EhnREREiRIlIiMjEXvmmWdIAvSiAunLsWPHPvjgAySfffbZbNmyMSg0j6DulHRXvKcUHxDjqS5YsIDhnn76aSZAEkO8R4Be58+fHzp0KEP07t37D3/4Q7t27ZhzTEwMArQyLmW5cuV4nAYNGjDu888//8ADD5w9e5b0hYFQzqCMgpgIgabAw/xyWHJgMBgMhlsDRTIFNoL0U089RdgjJ2jZsiXB76WXXsqSJYtyBUkmBlqJgpQAPcTLHDlykBxwLyeWcxdfunRpXFwcV3+0oTNDhgzff//9pEmTvvrqq7FjxxJxCdhEbqIp2tAAQTx+/PHHZ82a9fHHHyM5atQogjdXeVqHDx8+derU0qVL79y5c8KECdOnTyeQ67UHlDAHSsQo4ShfQS00yJ07NxGdudERhUwMSfoisH79+o8++mjMmDFz587dtGkTOQ1zyJQpE7NlAlu2bKlTpw75wYABA5g2Gvr377948WIEWEAyDJQztEo9SGA5kly3JGAfZbxesNZuxdkG+yhj6gObax9lTIGwjzKmCgR3KuSjjEDBjAgKQZwjIlaoUIHLMVfnokWLcir9CPaJBzTQnRgMiLUMcerUqaNHjz7xxBOZM2eOiIggBjds2LBVq1aI4b2Jplu3bj127Bg5ARkD6UL+/PmJu2vWrClYsCDJhKZUoEABFJIB7Nu37/Dhw+XLl+/evTvdR4wYQT5BCNi1axcx++DBg0eOHCFyU82XL1+VKlXoxWwXLVrUpk2bPHnyoC0qKor5dOjQIWfOnCdOnNi7dy8KkUGYzIDnJWnIlSsXY+3ZsweFzLNXr17FixdnlOjoaJiMy+IULlyYyezevRsNRKKHHnqIcRlu5cqVZEJ6oYUF0Vq5mJXE0iWGO7Zt2xYkDUmCxdV+Q2NPWED27NnVZEgF0CniZHI+8VBBruFWg2vP+fMxUVGHS5QoEWT9zv8GK3vtM6WDk+X9X7Eq8GG/9OnTR0ZmUdXFLIn5S39UU5kECPbEcjrqAo38oUOHOM4EThIFWufPn1+oUCGyDcmfO3eOoH7hwoW8efMWK1ZMn2MsXbr02rVrCcalSpVSkqG3AdJKaOfaQPZAnsEQpBoxMTGMSC9CO9cJhBmLEdOkSaNRmMzs2bNr1KhB5kGV+RDUa9asyXygie4IFClShFxh+fLlmDcBhZmTBCCGDLMlysABygbIj5khgx4/fpyBCEPIoAEB9C9cuJAHoQv0NZfremDJwfWC5bbkIBWDg8rmWnKQ0kCYsOQgrKFIjwf16GskB34CuCB3zWiHcw5SngbkAUyXMVAStuFIP63EVOjLly8rxquvetFEFyI0JVW9MxGmRgmo9uSlX0xUISA+whBSAp+8gSoDKU2BTwkTSRILlGsO0oy8SqqSpJR++IwF4YTpSIkqmIwlnWoScSOwo2UwhEIn02Aw/GYgniWBoFDicBEUgthJ6U4xAZWqAjNVF1mpElCVMSDgBpIAJQKiBQmIk5iLQBU6kVHGAEEXhIFCOEw40C5voGRumoCn4+fQTpNoSkBVT6dWNKijxoIQX11uHJYcGAwGgyGlQIFQCLKuD8grUipYOlAloLrATBUxVQU3kIIxQdcx4bjsQaWu8pJUEkDV633VqxdAehw0NF2UowhSC4GwfxrwpRamf6oOYkpSk6GKKqfkxmHJgcFgMBhSIRRZFT4V1BU7KRWnuXlLACaE1ykI8REL4QNx/E0QLlGQtru8jypoOOlxVQF5l4XQJCaQDAqdcoGq6y55DSFJCBSqNT4QCFK/BJYcGAyh8J9hg8GQHCA+/ZoQdZ1w8U/h2R9uqbp7OXwRMCkVVgNCV049kgRdaJooEfNHVveHBgkDtWoI6VRfSUqbJxiAmhALefEAJsJuIKccwHRVCGZLXwgpUZPGdRMIgVP7S2HJgcFgMBhuPQhjCSLYfC0oUhI+1cVFSiUE/ugrjiQhxFd3AQ7dJebnA5iU4gNohKVBQ4gGaICWPDSAUKs063ULaDU5SEbKBadHQN4vQ+k4IUiQeZ2w5MBgMBgMtwwKe4QxF8m4E/tjIVU1+S/cIXBxWlUXiQFNegVeHKrQqkLDccIQemFArcLly5cVemHSSgkNX6XkQcgrBPA1bpB1BTDVGqx7EBME61ceBzC0n09H1zdEiV7wCFaSA5YcGAwGg+FWQuE/EB698CYCiCmZn65+f198KHVwkZuq+kpPQML7FDp8BXv46uII11cdHcHQdKR0HEHycJRehNDAVdWLUkQS8oKrOsLlGWK6UnCcEKgVBOu/BD9Py2AwGAyG3xIuhAMId2V3BCGZK7KqIXdlPyTgxcGrAiGhl6u//h6/efPmgQMHxsbGiq+EAJ0QdKejJkPIVxIgnUTluLi4jz766PDhwwjQ0eUEbpKpEpYcGAyh0OE3GAzJB2J2ovdXTpyitcKtDqA/El/PkUTYxXgAAVMEoGn79u1Dhw4lV5A8HLro9QBSBH2hEExAq6ZEKyA5+Pjjj48ePape6KSEj7ynKXXCkgODwWAw3BoQgBViibWqEncDwfxKaOfiThN8qkmkCMgrqIPY2NioqCiFcOHIkSOU7hUIhFEFTp48ScgnLUAYvicbyBjOnz9//Pjxs2fPIqOh0em+cejcuXO0+kdMlbDkwGAwGAy3DMoAIAi90ATmDRs2rFy5kshN9CU8qwmIThA0uXwCDQMGDFiwYAEces2cOXP48OEXLlxQd0V0Av+XX3757rvv9u/f/8MPP1y/fr3mQOusWbNgvvPOO++9996yZctQiBISC3IU6MOHD3/00Ufw0WbJgcFwe0FexmAw3GzoEg9BACb0Hjx4kID9+uuvv/nmm3//+99XrVolMckkcTAVwkVnyJCBxIIAf+zYsa1btw4aNEhZgt5eQBJw6dKlwYMHT5s2DU6WLFm2b9/+/vvv79ixg+qSJUs++OCDmJiYjBkznj59GiW7d+/WXyJQcvTo0YEDByKZI0cOVCGvEVMlLDkwGAwGwy0DYVtXcMoRI0ZwXx8/fvz333//ySefcH0/f/48mQFwsT9BuLyB2B8REfHSSy+dOnVq+PDhZAaZMmXq2bMnwV6JCAJEd5rat2//8ssvv/rqq3369Nm5c+eECROI9/Dvueeevn37vvLKK5R02bNnjzSjkMxg37598PXjim7QVAlLDgwGg8Fwy0DApiT2nz179uuvvyYboKrX8KdOnUogV1qQ9Gv4hHyXYYCyZcs+8cQTo0aNWrhw4QsvvKAfMkYhY9G6fv16iNatW5M3pE2btkKFCk2aNJk7d25sbOzy5cs7dOiQK1cu+IULFyZ1cL+J/Omnn3755Zfly5evXLlyYMjUDksODAaDwXBrQJDm/q3oe+HChXPnzokDiOIXL14kY4CgigCE1ylRKPb/3kPJkiVPnDhBvCczQL/6wocg/+Deny5dOqrSnDt37ujoaIZDPjIyUnwka9euXapUKU2JubVo0WLZsmXHjh2DQy9NO7XCkgODwWAw3BoQgAmxirWZM2euVq2ai7hEaG7tBQoUgMOlX9E9MUgPhITPnDnDLb9JkyZoGDly5OXLlxkC3OX9RHKePHnIA06dOiWdP/3009atWwsXLpwmTZosWbLs2bOHocGlS5cWL168dOlSZEgOevTo8corr5BwjB49miaYDESZWmHJgcEQCtxHkDIYDDcTBF2FWA5d+vTpX3zxxaZNm2bLli179uzly5f/85//zJ1eUZ9Arlt+EkAJwgT78ePHr1+//uWXX37mmWemTJkyZ84cvRJAE/lBmTJlcubM+cUXX+zbt+/YsWOzZ89etGjRfffdxwTIJyZNmrRq1Sq9mfGdd97ZuXMnaulL9lCyZMnHH3+cjggosUjF+P0LL7wQJA1JAtvCRGSdWNg999yTIUMGNRlSB9jckydPZsyYkQvENd2Q4TfDpUuXz58/R8AI1q/6cT/bpnBBcKf0kn769OlU5Zwpoiv2FypUqFixYsWLF2/QoEHbtm07d+6cNm1aBLjHS0aJQnzQF7csgqD+5ptvPvDAAx07dkQh0X3atGktWrQ4cODAzJkze/funTlzZtQuWLAAycWLFy9fvpxE5OGHH86UKVOePHnWrVu3Zs2a1atXkwFcunSpR48eJA2ff/45k8mXL1+RIkWWLFmyYsWKNm3aMBkmpgmkPlhycL3A5iw5SN1gcy05SIGw5CBVIOHkQJmBjpvKokWLVq5cuWbNmgRsQi9MQFoALWGvXwL417/+hWYko6Oj6dK9e3e8NL1INWJiYipUqJAlS5bs2bNXr149Xbp0JUuWxKLgE/jLlSv3yCOPkBYgnDt37vz586MKDaQC3bp1K1u2LIMydP369XEOuH0ELl++XKVKFRxFKk4O7ti2bVuQNCQJGSgl9MWLF7Eb7ExNhlQAZX5cMnLlysUFIsg13Gr85z+Ek5ioqMMlSpQIsn7nfznX/jCa0sHJClIB+o4jR44QjyMjs3jVQMF/ekkAScDVSxH3Lu9bifSHAKK10gJ54PiQc6Y7JV0Ao9ALDtouXboEX2rFUZe4uDh9IhGmEgtoAj8CaEAGZkC79w2JpAVKGqjqmw+YmFSlStjRMhgMBsOtgcI5JXTISwgutENTErkhkoAEKBHmTg+NHuI3HKqOI0AzXLp06ZSC+GM8fKrw06ZNqyolqQalxOhOqxSmYlhyYDAYDIZbCYKuAjZQSFbM9sOL6UGZ+FAId6WiuKpAHWE6DoBJVU2uoxvCcVwp+GmNklrx83MaDAaDwfBbQrE2JCQr6CpjCGlKAq6Xqg4hHFWdWhCSiKjqFwD+KrTmFqynUlhyYDAYDAaD4SpYcmAwhEJ/ATUYDMkH7tmp/KqdymDJgcFgMBhSBMjLhWDdcOtgyYHBYDAYbj38OYFSBBCs/1rcuIbbFpYcGAyhSPVvNTIYwgW/NLp7GUVSuE6x5IUGDS9YcmAwGAyGsEcwDnv49xWIFhOEiN08aHQQrHvQPMMFlhwYDAaD4daA8En5L9/PG4pWKFUpmaQhGco7vK9UAhCixfQrccKUNF2+fJnyp59+ch3Vqu6uFCfQ34O+o8nREoAWk6qYanX8MIL9tsL1gm2WiUBjRvbbCqkPbK5+W0Ffw2JIIbDfVkgVCO5UyG8rsJsKond6P7WsCEq0xsciRtWFZFqT+KoDJF1rVFTUpEmTsmfPjpem7+7du3/44YcCBQpwrg8ePDhv3rxVq1adPn06a9asd911F73g0P3YsWMQ27Ztw7FHRETo6xDOnj27Zs2aBQsWHDhwgPmgEHl9s/LOnTuRX79+PdXIyEg4jLV48eLY2NijR4/Onj2bLlmyZEmXLh18tOlbmQPzCxPYbytcL9hgZ6b22wqpD8r87LcVUhoIFvbbCmENxXslB5Ahv62gF+CJuAq6Fy5cWL58+YoVK+hVvHjxFi1acBhp4mwqXfBUJQDkBSSJza+88krJkiX/z//5P/jqf/zjH2fOnOnXrx/8jz/+mCSDEQnVxYoVe+655wjeL730EqOQE5w7d+748eNp0qT5r//6r4IFC5IujBgxYt++fcohLl269MQTT1SvXp3wP3/+fPIPhoPPEA0aNLj//vvR8Ic//IEUhCQgJiaGxCJ37txPPvkkD8KIjJvE/FMg7GgZDKHgzAcpg8Fwk0F8dcSMGTP+9re/vf3228RyiM8++4ycwAv6Sf0eo+CObY4cOdq0aTN+/HiFcO79Xbt2JfyjnLSjXbt2Dz/8cKVKlRYtWkT8JpmIjo6eN28euUKnTp3at2/PpX/hwoVkD9OnT6d7zZo1u3Xrdu+99xLv33///dOnTyPfv39/soqOHTuimSxk8ODBGzZsQBW5xY8//li4cGH4rVu3ZrixY8eiiuQg/hdCp3BYcmAwGAyGWwOFfEqSgPPnzw8dOlQxG2zdunXAgAEHDhygVa8ucPlWr/ggMCNASYqAMMlB06ZNyTCGDRvWpUuXRo0aweTqj4YzZ86kT5++bdu2Tz/9tG75dClUqBBitWrVuu+++6pUqbJmzRqESS9q165NJlG3bt2WLVv27t171qxZu3btWrly5Y4dO/r06dOsWbN69erBv+eeeyZPnowq9JcpU6Z79+516tR54IEH0DZhwoSLFy8yt0CCE1a3DksODAaDwXDLoMwAgqv56tWrxVG5b9++vXv3EvIV9QPSiYBWZNBDyR09W7Zs3N2XLVt28ODBBx98ULlFq1atypYty1X+3XffHThw4KlTp5QZ0FSiRAk6UlVfpRHbt2+vXr26u/EXL148Xbp0x44d27ZtW44cOQoWLKgpkWqgFiZd4JBbZMiQQU3Qhw4duuy94RF4asIGlhwYDKEIu2NsMKR4ECyTiu5EaO7x/rf7EF8zZswIx72VT0lDYiA2S4COZAnr168vVKgQGvSCP63Zs2d/4oknOnfuTCw/efLkoEGD5syZgzC97r77bpIAcggNRHflBLr0Syet8NOkSQNHCuEAWuPi4vR+ArozWwSQh46NjYUGNAGYIsIClhwYDAaD4VZCIZlA/uSTT0ZGRhKDiaOE4Y4dO5YqVYomYrAirieeAJTQo0dhe+PGjV9++eXjjz/epk2bDz/88ODBg2iYNm3a2rVr27Vr17dv35dffpnAT96AToZzGgADKQmoXr36/PnzT506BROxBQsW0FSgQIFKlSqdOHFi1apVDAfn8OHDqK1atapmuGLFClqhz58/P3fu3IoVK5L0OOVhBPso4/WC3WXjtceYjn2UMfWBzbWPMqZA2EcZUxHuCPkoIw6VsM3RAwTUkiVLep9liCxdunTz5s2fffbZIkWK0ITvVeiFVscQSEDE2bNn//73v6PnL3/5S/ny5ceMGcO5rlOnzqZNmz777DNygiNHjpAWENEffvhhRkQgb9689evXl/IJEyYww7Zt20ZEREyZMoXYT7BfvHjx6NGjGzVq1KlTJ6aHqkWLFqFq27ZtdI+OjibhyJkz59ixY+HAj4qKmjVr1uzZs59++uly5cpp8pphuMCSg+uFDFTWY8lBqgSba8lBCoQlB6kICSQHXPTdjT9z5szcyytXrtygQYPWrVsXLVoUvssePPlEd1x6KPfs2TNnzpzevXuXKFEia9asnOjly5fXqlWrbNmyMTExu3fvPnbsGOG8YcOG7du3ZzLbt28vVKgQ4+Lh0YNArly5mEOBAgVopXrw4EHyA7Q9/vjjNKVJk6Z48eIkDfv27Ttw4EC6dOm6detG8sHcJk6cyIg5cuTYtWvXmTNnGOL+++9HHrXXnH9Kg33PwfWCTZWNQpMY2vccpDIo87PvOUhpwF3b9xyENRRxBQ5ZyPcc4FC5a+kP/MR17tZ+T6vbNqWUJH3zRo8E9u/fT+SuUaOGqnFxcStWrChZsmSePHlOnz5NRD916hQhvHTp0ozLoDt27OA+4F6iIK6TZOTPn5/q5cuXozC+w4fJWkggIiIiNEN6EftxFxB0JBvQWxZ69OhRsGDBvn37ooSkpFSpUggr9aFVhDfZMIAlB9cL7a621pKD1AecApur5IBTHUZnOHXDkoNwh+I6HtSjQ78EiXMmv6oDGJDzPK2rKjnwhK/9srw6iiASQyjzQBVhnhu83tt46dKlu+++GxkUUtVbCAnzMOnu7wIfoEfzkXJV4VPSnY5qhdO9e/fChQv/7//+Lxy6o1DaaCJq8ODqHhawo2UwGAyGWwNFaBEKseIDhVuYIXSCoAkgQ6imKp1Al3WNoswAmixBA6kXNHwgDcoMoAntMCUmDfABHEqqMIFjMnSdOnWqVKnCQHRhFEq0UdIKgTBEuMCSA4PBYDDcGihwKtaqqugOB1qtQkg1BK7J6aFEiaI7cGEeAScspkK7Sn+wd6ALkj9d+VADNBxVgbpo3Hbt2jVv3hyOBMSkFY5eq/B6hAcsOTAYQhHiGgwGw00CZ41Q7Y+vftCkw4iAoxODVOmCrqhPnqF4rI40UTKKXw8yblw/H1UgWLnS5ATURLynr7ozEPrz5cuXKVMm5QEAeVohvE4/v54RFrDkwGAwGAy3BiHxmKq7zfubAFUXZeNDMdiFc4RdJJYeSlpRrlHg+EM1fVWlSa0OrqrcwlWlShzH1DQoafK/VOAEwgiWHBgMBoPhloHASTRNMHyKmYRACCRDVFaVcO5CvitFOL5CfnzobweiEQMiHEeEg4QpUUirv3tiQ6RwBGdvMBgMBsNvDH+UdTRhFVoQR9CLColBvYKVqyG+vwROGxwFcgjXKsTnCOKD+LRTRenyg5BqWMCSA4PBYDAYDFfBkgODIRTuL5cGg8Fwe8KSA4PBYDAYDFfBkgODwWAwGAxXwZIDgyEUeveQwWBIPvzH+2cIG1hyYDAYDAaD4SpYcmAwGAwGg+EqWHJgMBgMBoPhKlhyYDAYDAaD4SpYcmAwhMK+58BgSG7c4f0zhA0sOTAYDAaDwXAVLDkwGAwGg8FwFSw5MBhCYd9zYDAYbnNYcmAwGAwGg+EqWHJgMBgMBoPhKlhyYDAYDAaD4SpYcmAwGAwGg+EqWHJgMITCvufAYDDc5rDkwGAwGAwGw1Ww5MBgMBgMBsNVsOTAYAiFfc+BwZDc+I/3zxA2sOTAYDAYDAbDVbDkwGAwGAwGw1Ww5MBgMBgMBsNVsOTAYDAYDAbDVbDkwGAIhX3PgcGQ3LjD+2cIG1hyYDAYDAaD4SpYcmAwGAwGg+EqWHJgMITCvufAYDDc5rDkwGAwGAwGw1Ww5MBgMBgMBsNVsOTAYDAYDAbDVbDkwGAwGAwGw1Ww5MBgCIV9z4HBYLjNYcmBwWAwGAyGq2DJgcFgMBgMhqtgyYHBEAr7ngODIbnxH++fIWxgyYHBYDAYDIarYMmBwWAwGAyGq2DJgcFgMBgMhqtgyYHBYDAYDIarYMmBwRAK+54DgyG5cYf3zxA2sOTAYDAYDAbDVbDkwGAwGAwGw1Ww5MBgCIV9z4HBYLjNYcmBwWAwGAyGq2DJwfXiP//5DxdKYO9WS61wOwthu5xiwFb82527f//731fe2mZvcAsneNvn/yc4wpDi8PsXXnghSBqSBF4JD3XnnXdi5T/99FOmTJnSp09vISTVQOHnxIkTGTNmTJs2reOo1XALERcXe+HChaxZs2pHOIVsju1MGMHbNWVy/zl37uxdd92F87zCMaRQ2CsH1wuZMikChg7ENKQaaE/ZZUEc2+hbDv++iGMIO/j3zvYxXGDJwa+B2XfqA0Hozjvv/P3vf8/m/ssDTNvolAB2wW2EcgVL2sIObJl2ze2m4xhSJu5kd+zfL/rn/W2BEGJ5VWoDrurf//43aQGE/JdKwy0EW8B2/PTTT0rXOHuUFlTCCGwWCGQE3lZyxASa4EjGkAJhycH1/iMbCOHwD/O2f+H2L2HgtoIUQj5HdnVf+/db/9O+KIooqMARMxFc1d3+/eb/EobbNW2lquDqvvYvBf27Y+3a9d7eGRxYl4TguaM77gyEjYsXL2aLzJYxY8Z//ftfd96ZiLwhhSJwZYkPok7atGn37duXLVs2CNxWYKcDKYLt763Fv+Pi4k6ePJk/f/5//etfP/300913382+sF/B9lDYS3q3FqH74mUAwZzgzjvvjI6O5nxlypQJPpt4xx2/96QMKQ53rFu3IUgahP8k7FwCWa4XMLDv2NjYyMjITJky/vvf/7I/L4QbEr50Enj8yQGcK69ge82GWwRiCrn4iRMnChQoQCxhm+666y74HEYJxIMlc7cWofuinfLy7MDbeo4fP54uXTolB8D+Ppticce2bTuCpEFIJDnAuPVXT8BVJm/evNmyZcVzmW2nDrC5eK7du3fnyJEjY8aMbLfcGWVQwnArwBacP3/+6NGjRYsW1V5QkiUodTOkNLBfQeoKxNFpgoiKiiI5yJw5s3bQzleKhR2wXwDsGIN2Ns3/zbBTDdhW+S/tsnyWSsMtB/uiTdGO6AwaUiC0R/FBkztWjnZVQwqEnbH4IL29zn8Gg8FgMKRCWHIQD3f857r/IRzsZEhNiP/SqMFgMNxWIDnwX4Xt3y/6ZzAYDAZDKoQlBzfyz2AwGAyGVAj7s4LBEAp7n5TBYLjNYcmBwWAwGAyGq3BTkgN9edmdd97pvsXsP//5jz5HTsm1jCrwvh7rZ1qSEFTFV0dKqhIWHejgIdAhSVyPjEGrpC1QKU5giX1NjulKP2G4tdBG/PTTT5ScspDN0rFyNERYIeSFHB7E/QtjaLMAm3L58mUIbY2+T8Xtl+OHO3gU/XMb6tHhAf92aIPcmQrZHbYVvpMU4S/DBcmfHLhVwNwpWZ277rqL5dNHk9UKkxgPhyqtqsK/dOnS73//e/j0dakAfYHLCUSrrwREGH4dtHrOiIE2Tp4LQm5LAiw+hPgBUUOKgdsaCHYHmh1U6d8saH81HIAfSIXJQcixchzBv0dqDX9oE7WbuO2QPQ0D6Hxpm5x7ZHegdehEw9eWOdoJU4YR7ti2bVuQTCawggR4yqVLl549e5Z1SZ8+PVFfSQArVaBAgQoVKiBJgKeKlcBXa2xsbIYMGWiil1IK8VlWCHaFLgsXLixYsGCRIkXi4uLQTAkTJLj0MJPLCtGj2UJfvHgxX7582bNnV1NYQ+vGo7GGEFrtU6dObd26tX79+nDYu7Rp08JnUxYtWlS7dm32SAsLknGFby30IDt37syVK1emTJmC3PABu6ON2O8hKiqqdOnSZcuWhcl5hM8DssVsNLT2OiyAeZ4/HxMVdbhEiRJB1lXf3h82DxICvBlb9sMPP0DgxDhilGnSpGFr2rZte/fdd2uP2C82TjsYpmD+3v8Dxgl55MgR/HZkZBZVw8h54APZCPZLUQkOh2v37t2ELc6a9oj9IkLxjDTJpWC3xDt2lioIo6P3+xdeeCFIJhPkgFi7CRMmrFy5ct++fevXr589e/bRo0ehd+3alS5dOvksgLxbcTBr1qyMGTMSe1h9/1IiIJ10eeutt7Jly1a8eHGOFitOK0xapS0ECTJ/HVDFfKSQoe+55x7lMeEOLR3rzNNRpWSdBw4cuGbNmubNm8OhSbswd+7cd955p2PHjjgycYAWxK1MWINHOHnyJBaIXYXd42j7Nm/e/Mknn3DiIJYvX86DFCtWjM2ilY2GCMf9unTp8vnz5zj1wfpVLxiEq9WxF6TdH3/88erVqzdt2kQuvn379kmTJu3YsYMjxsZpv9gpleF/voLzP3/+PKlP+vTpVA2Xx5KfFMRhU06fPt2vX78LFy7UqFEDDk2IvfrqqxxAdhNs2LABf1K1alWaFL+Auqd8JH8Ww8OzaoTzmjVr3nfffa1bty5XrtzBgwcbNGjQsmVLOBUrVpSts1gsJZKqkn+NHDmSOyuHQdcgWqWTm7p0wjlw4AAeHCbnhy6IiS9Jw68AaytAk8OxCyNGjNi7dy9rC4ftOHv27Pfffz9gwIBVq1axNTDV5KC+hlsIduTMmTODBw9msxo2bPjAAw/gldgyqqTdtLKPiNlOpRCwEcTItm3b3u+hc+fOOEZunLVr18ahSQa3xq6FnDXDLYSODyVbw1130KBBo0ePPnTokItBxC+yvXvvvffBBx/s1KlTt27dqlSpgrw66gyGC5J/rqyRPFH9+vXJDLh9kiWo2qpVK6qlS5c+ceLEDz/88N133y1YsACahYuLi5s6dSoBCT5JNPIE/o0bN06cOHHcuHGLFi2KiYm56667iEw04ey01uzKuXPndIQ0uuGXQp6IRI0yOjp64MCBS5YsyZ8/P5vIwtLK/WbUqFHsQtasWdN6v2Xs9QvmB65quLVgB3fv3s1Jefrpp8kMOGt9+/atXr06R8YdSbdZdl5uOdgRQHJAWsB+tWvXDk9IZvD4449z6NggHUz2jl1DUr0MtwpsAZvCdkBDbNu27f3339+/f39kZKTuS8KePXvSpUvXpUuX9u3bd+zYsWvXrkoO1D28vGXy+wj5Ha0jIR8TZ11YPmIMd304O3bs4G6KFyMJmDNnDpdUYjzCZAY4ONKxY8eOEf6/+uorEoV169Zt2rRpxowZX375JX2lVn8C5yzRd+fOndowi1K/Dlo39gji4sWL6dOn79Gjh3uVjJKlJjMjz+vevTtLLclAzysCfiJ1IEwfZ82aNbly5eI+SjI3YMAAqr169cqUKRMctkzHBKSyzQpTsCPuT9dsENekmTNnPvnkk9pBHCZN8qWpBTiN8HbR7IjODkfp7NmzuXPnfu655woWLMg20aRkjmhFdfr06R999NGnn366fPlyYhkcOjq3GS5IfuNT/BDNerFqLIpSBGgwevRorjjNmze///77GzRoQPifNGkS2VaTJk0iIiLglytX7vTp08uWLStRokQnD6VLlyZXOHXqlDZAmh2NZp2isFv9FALWjTUEZMHPPvts48aNWVt2SiuMC3v00Ue53xBmXHLglloETFUNtwpsE2k3PovzdeDAgYMHD37xxRfff/89m+h2J7DH3gtCbvsMtwpsgfaF7YiNjR06dGjlypU5emryRAJNCjyqGm4htFkKNKBs2bIvvvhi+fLl2Sx/JNq2bRuJ3Z49e7jirl69un///gsXLqQXYq5vuOCmTBebBqwUKTCWrXVhBS9dunThwoW5c+fed999devWLVOmDAkB9LRp0+Li4goXLoyDy5cvH7lz2rRpu3XrVrVqVYjz58/THa8HoWOjl3GIZE899VSpUqUYyx0nwy+Fs1rKDBkyZMuWDQIme6FWNjFPnjxisqdOnmWn1Jkx3HKwLxwifBOb1b17dzxX06ZNhw8fTsagVu0aBPB6GG4lXLDBQ27evHnVqlU9e/bE3bmM3IUcYKfsloNT43YEIkuWLFxldabYHTXhEqtVq/bcc8898MADffr0eeKJJ+AMHjyY5M/rF/SZ4YLkTw4URTBuFoIorlXjAIjP7Z8wX65cOZ0KSujo6GiSBonRETEOie5AkydPXrZsGdcg9JBbeCMEjwr6CxYsmD59emhtkuHXwbkeCO0LNLsgU4YJDaFFhmYvHFMcRxtuFdgC9iVz5sw9evQoUKBAoUKFunbtypHZsGEDG6oNchvq9TDcSnCa2BR2hF0bN25c3rx5iSvaGuXlkvFXDSkB7viwO9ogcdhNDlqbNm1IC0qWLEmOXqNGjYceemjFihXHjx+XTHgdvZsSU1kyVoqSxcL6MW5n9JwE+MqkuJJSkgSQCrguSNJl7dq1X331VdasWUuUKFG1atU6deq4JsQg0KPNEDMwquFXQSsPwUq6XVATtJoATFI9ZBwTWk2GlAC2A3+UMWNG0mWld9xsOFnQbJz2lJPidtnrZLhlYAvkuPQR7hYtWrB3ajKEEYhEHDGdOLaSPI90XEzOGiHs4sWLOn3uGIYLkn+uXuwIhG23EKyRgjo0N5v8+fPPnz9f+cGFCxcWLVpUsGBBvUQDEGMRt2zZQtLQrVu31q1b165d+8SJE9yBlEGjDRmVR48ejYuLgwCBkQy/HFo6rby8FZYNAWCyF5IB4lPVSWALKEU4OnWAhw1SYQVy6JiYmKVLl7JxVDdt2nT+/PkiRYq4qyfbpEcL0wdMTdAWsCNHjhzZv39/06ZN2SadrFQKXEQYewnn4vy+jk2USwTwwcSJE4cNG8a5g89h/OGHH0qWLJktWzYnFka4KckBVk6JoSvAQLNq0JT33HPP/fffP2/evNGjR0+YMGHUqFHkWR07drw78LUY6dOlS/fjjz9u27YtX758qBozZszUqVPHjh27evXqDBkysNY6UQiTo505c2b48OG7du3Sqwje4IZfA/aFUubLSiohYPv8q6rtg9CGAlUNKQRsUKVKlYgxAwcO/Pzzz/WBhUaNGpUpU4bzoj1V0uAnDLcKOkHsy8GDB9mOwoULw7QzFXbg3Cn5xmGmTZu2ffv2RCvOIMHr/fffX7JkSZ8+fSTAMZSPDRck/zckYvQuWiuiXLx4MSoqCrdF+E+TJg2Bn3U8fPjwqVOn9N1Sbdq0YeH0pUbk0eRZ1apVu3TpEr1IwSCosu6lSpXKnTs32UDlypXz5s2L8LRp0/B9erucRr95pwvNLiJypFPNNyTquUJodocHbNCgARx2U0999uxZdqRDhw7sFAsuYSBCMmENHiGsvyGRQ1S8ePGjR48eOnSIMleuXL169SpUqBDPwkkMOSNh9ICp8hsSBXaNneJktWvXDqvjrAUbUiGCO4VLx1DD7hsSE8POnTuLFStGXq5TVqRIEQ7a3r17jx07RuBr0qRJly5d2FkdQP8xTPlI/t9WwNxFkC5xv2c5KInoRHFoZU9xcXHR0dExMTGkC8T7dOnSwUQeJkeFpWS5z507h49DW44cOfALu3fvjoiIwN+xGZkzZ86aNSsHacuWLXQnjLmk7Oa5PO299LPrqey3FYAeELAR+/btIwFiFyiV9gJc2J49e8qWLSsO8vQFmDvZXrj7NR6EJwrf31Zg43gECLaJg8PGFSxYkJPCQwHJAGhv035+Z0kKB8+UKn9bQbvAdpBw4/TKlSvHDnIFCjanIvCY3v8DRggZpr+toM0KVq6ALdu+fTuPw1mjyqFDBibRihyIyEV4IpzRF6Y8ZHwlKRbJnxwAnp9oQSnIOHBGrJ1ckhZaS0Zcv+T9tA98EaQOCj8ooYQW4dYXkHCwJZTooaohgKo3A2hmAtKfypIDt4ZaRqoQ2ikX9d2zAy0FAuoCYcnBLYd2hI3QxvEsSux4LlW1g0AyEF6/lA6mn1qTAxHaDoA3Y7/CZV+uH1eeVE4mtSUHbJxOFgLQlH5n6Pyk+kpGTSkfN2WiLARgXUSzItAsGbQ4rJ1alQQAqkq7EJNHcy4MGiCjFYeGSRPyXteAQhGGGwSrCoIVD/6Qr3X2l44I6WX47aEt8O+XOP7T4fbOzzTcErhdcD6Qa5IIQ7jAnaMQIqSMfxLDAjfFpxPpWQj5KdGsDiWAQ3SHKY5oZQNUYUIAxNyCUpUwVceRcjGpQgieiOEXwC2an9Di//927iAFQBgGAqD+/9EqDQQTPQpanKFIW48LskjpWcYRy5gcz5yMbd6XoWSIbXkNl7fcJsUH3UZzji9DjLYXr7Kst6Cn4DMBABTKAXTx7wrgt5QDAKBQDgCAQjmAzrkweNo2BtNQDgCAQjkAAArlAAAolAMAoFAOoHPPATxtHYNpKAcAQKEcAACFcgCdew6AX1uWHU9JB3PDzUG/AAAAAElFTkSuQmCC)"
   ]
  },
  {
   "cell_type": "code",
   "execution_count": null,
   "id": "f4638af7",
   "metadata": {
    "execution": {
     "iopub.execute_input": "2021-12-22T10:13:54.206105Z",
     "iopub.status.busy": "2021-12-22T10:13:54.205332Z",
     "iopub.status.idle": "2021-12-22T10:13:54.206861Z",
     "shell.execute_reply": "2021-12-22T10:13:54.207388Z",
     "shell.execute_reply.started": "2021-12-22T08:57:52.236877Z"
    },
    "id": "gt2Q4Dw5koQ8",
    "papermill": {
     "duration": 0.164774,
     "end_time": "2021-12-22T10:13:54.207561",
     "exception": false,
     "start_time": "2021-12-22T10:13:54.042787",
     "status": "completed"
    },
    "tags": []
   },
   "outputs": [],
   "source": [
    "# changing attack labels to their respective attack class\n",
    "def change_label(df):\n",
    "  df.label.replace(['apache2','back','land','neptune','mailbomb','pod','processtable','smurf','teardrop','udpstorm','worm'],'Dos',inplace=True)\n",
    "  df.label.replace(['ftp_write','guess_passwd','httptunnel','imap','multihop','named','phf','sendmail','snmpgetattack','snmpguess','spy','warezclient','warezmaster','xlock','xsnoop'],'R2L',inplace=True)      \n",
    "  df.label.replace(['ipsweep','mscan','nmap','portsweep','saint','satan'],'Probe',inplace=True)\n",
    "  df.label.replace(['buffer_overflow','loadmodule','perl','ps','rootkit','sqlattack','xterm'],'U2R',inplace=True)\n",
    "\n"
   ]
  },
  {
   "cell_type": "code",
   "execution_count": null,
   "id": "ee362750",
   "metadata": {
    "execution": {
     "iopub.execute_input": "2021-12-22T10:13:54.552113Z",
     "iopub.status.busy": "2021-12-22T10:13:54.545035Z",
     "iopub.status.idle": "2021-12-22T10:13:54.820599Z",
     "shell.execute_reply": "2021-12-22T10:13:54.819855Z",
     "shell.execute_reply.started": "2021-12-22T08:57:52.766490Z"
    },
    "id": "RVlBCLBilCOn",
    "papermill": {
     "duration": 0.454426,
     "end_time": "2021-12-22T10:13:54.820760",
     "exception": false,
     "start_time": "2021-12-22T10:13:54.366334",
     "status": "completed"
    },
    "tags": []
   },
   "outputs": [],
   "source": [
    "change_label(train_data)"
   ]
  },
  {
   "cell_type": "code",
   "execution_count": null,
   "id": "e344323b",
   "metadata": {
    "execution": {
     "iopub.execute_input": "2021-12-22T10:13:55.168070Z",
     "iopub.status.busy": "2021-12-22T10:13:55.165678Z",
     "iopub.status.idle": "2021-12-22T10:13:55.173057Z",
     "shell.execute_reply": "2021-12-22T10:13:55.172459Z",
     "shell.execute_reply.started": "2021-12-22T08:57:53.265477Z"
    },
    "id": "vW9z2HMdlI-2",
    "outputId": "a61a759e-e522-4e58-c2f6-01eda1461c23",
    "papermill": {
     "duration": 0.195356,
     "end_time": "2021-12-22T10:13:55.173215",
     "exception": false,
     "start_time": "2021-12-22T10:13:54.977859",
     "status": "completed"
    },
    "tags": []
   },
   "outputs": [],
   "source": [
    "# distribution of attack classes\n",
    "train_data.label.value_counts()"
   ]
  },
  {
   "cell_type": "code",
   "execution_count": null,
   "id": "9f6c4669",
   "metadata": {
    "execution": {
     "iopub.execute_input": "2021-12-22T10:13:55.531548Z",
     "iopub.status.busy": "2021-12-22T10:13:55.513558Z",
     "iopub.status.idle": "2021-12-22T10:13:55.729088Z",
     "shell.execute_reply": "2021-12-22T10:13:55.729629Z",
     "shell.execute_reply.started": "2021-12-22T08:57:53.765292Z"
    },
    "id": "EhMvOhZulPZo",
    "outputId": "5dda0278-9a83-4ba3-d446-65d35d0d02b5",
    "papermill": {
     "duration": 0.395521,
     "end_time": "2021-12-22T10:13:55.729836",
     "exception": false,
     "start_time": "2021-12-22T10:13:55.334315",
     "status": "completed"
    },
    "tags": []
   },
   "outputs": [],
   "source": [
    "bar_graph('label')"
   ]
  },
  {
   "cell_type": "code",
   "execution_count": null,
   "id": "4592256f",
   "metadata": {
    "execution": {
     "iopub.execute_input": "2021-12-22T10:13:56.050180Z",
     "iopub.status.busy": "2021-12-22T10:13:56.049474Z",
     "iopub.status.idle": "2021-12-22T10:13:56.074741Z",
     "shell.execute_reply": "2021-12-22T10:13:56.075218Z",
     "shell.execute_reply.started": "2021-12-22T08:57:54.254104Z"
    },
    "id": "SXKCj0ivuHKu",
    "outputId": "9a2c5941-2ec8-49bf-a889-041eae6cdb53",
    "papermill": {
     "duration": 0.187644,
     "end_time": "2021-12-22T10:13:56.075420",
     "exception": false,
     "start_time": "2021-12-22T10:13:55.887776",
     "status": "completed"
    },
    "tags": []
   },
   "outputs": [],
   "source": [
    "# distribution of attack classes\n",
    "train_data.label.value_counts()"
   ]
  },
  {
   "cell_type": "markdown",
   "id": "7abcaea6",
   "metadata": {
    "id": "9A0rnj3tgg-3",
    "papermill": {
     "duration": 0.160004,
     "end_time": "2021-12-22T10:13:56.395914",
     "exception": false,
     "start_time": "2021-12-22T10:13:56.235910",
     "status": "completed"
    },
    "tags": []
   },
   "source": [
    "### Protocol"
   ]
  },
  {
   "cell_type": "markdown",
   "id": "e4587ddc",
   "metadata": {
    "id": "KfBpZ7z1fvfp",
    "papermill": {
     "duration": 0.155937,
     "end_time": "2021-12-22T10:13:56.711808",
     "exception": false,
     "start_time": "2021-12-22T10:13:56.555871",
     "status": "completed"
    },
    "tags": []
   },
   "source": [
    "\n",
    "*   **Attribute No.** : 2\n",
    "\n",
    "*   **Attribute Name.** : Protocol_type\n",
    "\n",
    "*   **Description** : Protocol used in the connection\n",
    "\n",
    "\n",
    "\n"
   ]
  },
  {
   "cell_type": "code",
   "execution_count": null,
   "id": "6bbb32e3",
   "metadata": {
    "execution": {
     "iopub.execute_input": "2021-12-22T10:13:57.096903Z",
     "iopub.status.busy": "2021-12-22T10:13:57.094908Z",
     "iopub.status.idle": "2021-12-22T10:13:57.245518Z",
     "shell.execute_reply": "2021-12-22T10:13:57.243789Z",
     "shell.execute_reply.started": "2021-12-22T08:57:56.054058Z"
    },
    "id": "3tnQRWof7F3Y",
    "outputId": "024fc5bc-bc90-46de-8533-82b500c8cdc4",
    "papermill": {
     "duration": 0.312728,
     "end_time": "2021-12-22T10:13:57.245783",
     "exception": false,
     "start_time": "2021-12-22T10:13:56.933055",
     "status": "completed"
    },
    "tags": []
   },
   "outputs": [],
   "source": [
    "bar_graph('protocol_type')"
   ]
  },
  {
   "cell_type": "markdown",
   "id": "9250af1c",
   "metadata": {
    "id": "pevJBlD_gtp2",
    "papermill": {
     "duration": 0.156241,
     "end_time": "2021-12-22T10:13:57.566709",
     "exception": false,
     "start_time": "2021-12-22T10:13:57.410468",
     "status": "completed"
    },
    "tags": []
   },
   "source": [
    "### Services"
   ]
  },
  {
   "cell_type": "markdown",
   "id": "99a98c44",
   "metadata": {
    "id": "ohATEHkLgx4z",
    "papermill": {
     "duration": 0.159987,
     "end_time": "2021-12-22T10:13:57.892823",
     "exception": false,
     "start_time": "2021-12-22T10:13:57.732836",
     "status": "completed"
    },
    "tags": []
   },
   "source": [
    "\n",
    "*   **Attribute No.** : 3\n",
    "\n",
    "*   **Attribute Name.** : Service\n",
    "\n",
    "*   **Description** : Destination network service used\n",
    "\n",
    "\n",
    "\n"
   ]
  },
  {
   "cell_type": "code",
   "execution_count": null,
   "id": "dc1d01e7",
   "metadata": {
    "execution": {
     "iopub.execute_input": "2021-12-22T10:13:58.223151Z",
     "iopub.status.busy": "2021-12-22T10:13:58.222474Z",
     "iopub.status.idle": "2021-12-22T10:13:58.250142Z",
     "shell.execute_reply": "2021-12-22T10:13:58.250711Z",
     "shell.execute_reply.started": "2021-12-22T08:57:57.812457Z"
    },
    "id": "VqJah1zoAsPy",
    "outputId": "94d05b1f-9934-4f9b-bc2b-a3b4f125beda",
    "papermill": {
     "duration": 0.197338,
     "end_time": "2021-12-22T10:13:58.250886",
     "exception": false,
     "start_time": "2021-12-22T10:13:58.053548",
     "status": "completed"
    },
    "tags": []
   },
   "outputs": [],
   "source": [
    "services_frequency = train_data['service'].value_counts()\n",
    "subsetServices= list(services_frequency[:30].index)\n",
    "services_frequency"
   ]
  },
  {
   "cell_type": "code",
   "execution_count": null,
   "id": "11e803e5",
   "metadata": {
    "execution": {
     "iopub.execute_input": "2021-12-22T10:13:58.579412Z",
     "iopub.status.busy": "2021-12-22T10:13:58.578671Z",
     "iopub.status.idle": "2021-12-22T10:13:59.102355Z",
     "shell.execute_reply": "2021-12-22T10:13:59.101769Z",
     "shell.execute_reply.started": "2021-12-22T08:57:58.335993Z"
    },
    "id": "YmO7zX51GMFt",
    "outputId": "74916fa6-b1cc-40a4-eb7b-e0cebed903cc",
    "papermill": {
     "duration": 0.69025,
     "end_time": "2021-12-22T10:13:59.102526",
     "exception": false,
     "start_time": "2021-12-22T10:13:58.412276",
     "status": "completed"
    },
    "tags": []
   },
   "outputs": [],
   "source": [
    "import matplotlib.pyplot as plt\n",
    "\n",
    "f, ax = plt.subplots(figsize=(30,15)) # set the size that you'd like (width, height)\n",
    "plt.bar(subsetServices, services_frequency[:30], label = 'Services frequency')\n",
    "ax.legend(fontsize = 20)"
   ]
  },
  {
   "cell_type": "markdown",
   "id": "97c4827e",
   "metadata": {
    "id": "KstQwSsAiXMG",
    "papermill": {
     "duration": 0.161037,
     "end_time": "2021-12-22T10:13:59.426019",
     "exception": false,
     "start_time": "2021-12-22T10:13:59.264982",
     "status": "completed"
    },
    "tags": []
   },
   "source": [
    "### Duration"
   ]
  },
  {
   "cell_type": "markdown",
   "id": "a8c0d18a",
   "metadata": {
    "id": "TVXhT1qGiZLs",
    "papermill": {
     "duration": 0.16314,
     "end_time": "2021-12-22T10:13:59.748419",
     "exception": false,
     "start_time": "2021-12-22T10:13:59.585279",
     "status": "completed"
    },
    "tags": []
   },
   "source": [
    "*   **Attribute No.** : 1\n",
    "\n",
    "*   **Attribute Name.** : Duration\n",
    "\n",
    "*   **Description** : Length of time duration of the connection \n"
   ]
  },
  {
   "cell_type": "code",
   "execution_count": null,
   "id": "83cf76fb",
   "metadata": {
    "execution": {
     "iopub.execute_input": "2021-12-22T10:14:00.083030Z",
     "iopub.status.busy": "2021-12-22T10:14:00.082148Z",
     "iopub.status.idle": "2021-12-22T10:14:00.912991Z",
     "shell.execute_reply": "2021-12-22T10:14:00.912395Z",
     "shell.execute_reply.started": "2021-12-22T08:58:00.134061Z"
    },
    "id": "DYAy-CW3RfcU",
    "outputId": "fb9a8de9-c5d2-4726-da68-31fdde84f6d5",
    "papermill": {
     "duration": 0.999723,
     "end_time": "2021-12-22T10:14:00.913139",
     "exception": false,
     "start_time": "2021-12-22T10:13:59.913416",
     "status": "completed"
    },
    "tags": []
   },
   "outputs": [],
   "source": [
    "import seaborn as sns\n",
    "df = train_data['duration']\n",
    "df = pd.DataFrame(df)\n",
    "data_feature = df.columns\n",
    "\n",
    "for feature in data_feature:\n",
    "    p = sns.distplot(a = df[feature])\n",
    "    plt.show()"
   ]
  },
  {
   "cell_type": "code",
   "execution_count": null,
   "id": "2e6d18f0",
   "metadata": {
    "execution": {
     "iopub.execute_input": "2021-12-22T10:14:01.245428Z",
     "iopub.status.busy": "2021-12-22T10:14:01.244204Z",
     "iopub.status.idle": "2021-12-22T10:14:01.265481Z",
     "shell.execute_reply": "2021-12-22T10:14:01.264693Z",
     "shell.execute_reply.started": "2021-12-22T08:58:01.044130Z"
    },
    "id": "S-rvTgW4qi71",
    "outputId": "a319e7a2-5cbd-48c9-95c0-83ae3d150834",
    "papermill": {
     "duration": 0.192098,
     "end_time": "2021-12-22T10:14:01.265630",
     "exception": false,
     "start_time": "2021-12-22T10:14:01.073532",
     "status": "completed"
    },
    "tags": []
   },
   "outputs": [],
   "source": [
    "df['binned']=pd.cut(df['duration'], bins=[-0.1, 0 , 10000, 20000, 30000, 40000])\n",
    "df.head()"
   ]
  },
  {
   "cell_type": "code",
   "execution_count": null,
   "id": "67474912",
   "metadata": {
    "execution": {
     "iopub.execute_input": "2021-12-22T10:14:01.589920Z",
     "iopub.status.busy": "2021-12-22T10:14:01.589159Z",
     "iopub.status.idle": "2021-12-22T10:14:01.609702Z",
     "shell.execute_reply": "2021-12-22T10:14:01.610501Z",
     "shell.execute_reply.started": "2021-12-22T08:58:01.432892Z"
    },
    "id": "X4n4rAL6oK6F",
    "outputId": "bc19f64f-0f0e-49f1-8ca1-a2310971f96e",
    "papermill": {
     "duration": 0.184828,
     "end_time": "2021-12-22T10:14:01.610699",
     "exception": false,
     "start_time": "2021-12-22T10:14:01.425871",
     "status": "completed"
    },
    "tags": []
   },
   "outputs": [],
   "source": [
    "df['duration_bin']=pd.cut(df['duration'], bins=[-0.1, 0 , 10000, 20000, 30000, 40000], labels=[\"0\", \" (0, 10000]\", \"(10000, 20000]\",\"(20000, 30000]\", \"(30000, 40000]\"])\n",
    "df"
   ]
  },
  {
   "cell_type": "code",
   "execution_count": null,
   "id": "5bb99d8e",
   "metadata": {
    "execution": {
     "iopub.execute_input": "2021-12-22T10:14:01.944906Z",
     "iopub.status.busy": "2021-12-22T10:14:01.944165Z",
     "iopub.status.idle": "2021-12-22T10:14:01.950808Z",
     "shell.execute_reply": "2021-12-22T10:14:01.951351Z",
     "shell.execute_reply.started": "2021-12-22T08:58:02.876722Z"
    },
    "id": "X-Ys8HmRtN9g",
    "outputId": "40131af9-d0d3-473a-9e9b-8b786dfc3510",
    "papermill": {
     "duration": 0.174089,
     "end_time": "2021-12-22T10:14:01.951531",
     "exception": false,
     "start_time": "2021-12-22T10:14:01.777442",
     "status": "completed"
    },
    "tags": []
   },
   "outputs": [],
   "source": [
    "duration_frequency = df['duration_bin'].value_counts()\n",
    "#subsetServices= list(duration_frequency[:].index)\n",
    "duration_frequency"
   ]
  },
  {
   "cell_type": "code",
   "execution_count": null,
   "id": "35dc16d9",
   "metadata": {
    "execution": {
     "iopub.execute_input": "2021-12-22T10:14:02.286797Z",
     "iopub.status.busy": "2021-12-22T10:14:02.286014Z",
     "iopub.status.idle": "2021-12-22T10:14:02.532784Z",
     "shell.execute_reply": "2021-12-22T10:14:02.533314Z",
     "shell.execute_reply.started": "2021-12-22T08:58:03.514652Z"
    },
    "id": "bbN5IEHlt3tA",
    "outputId": "3852e625-51ab-4f52-db62-92ee2b9642e5",
    "papermill": {
     "duration": 0.413089,
     "end_time": "2021-12-22T10:14:02.533505",
     "exception": false,
     "start_time": "2021-12-22T10:14:02.120416",
     "status": "completed"
    },
    "tags": []
   },
   "outputs": [],
   "source": [
    "f, ax = plt.subplots(figsize=(15,10)) # set the size that you'd like (width, height)\n",
    "plt.bar(duration_frequency.index, duration_frequency, label = 'Duration frequency')\n",
    "ax.legend(fontsize = 20)"
   ]
  },
  {
   "cell_type": "markdown",
   "id": "bb599c69",
   "metadata": {
    "id": "yY62XrMw9NpJ",
    "papermill": {
     "duration": 0.166697,
     "end_time": "2021-12-22T10:14:02.869592",
     "exception": false,
     "start_time": "2021-12-22T10:14:02.702895",
     "status": "completed"
    },
    "tags": []
   },
   "source": []
  },
  {
   "cell_type": "markdown",
   "id": "56bd2d3f",
   "metadata": {
    "id": "JSKhbxG49PYL",
    "papermill": {
     "duration": 0.165127,
     "end_time": "2021-12-22T10:14:03.201553",
     "exception": false,
     "start_time": "2021-12-22T10:14:03.036426",
     "status": "completed"
    },
    "tags": []
   },
   "source": [
    "### Flag"
   ]
  },
  {
   "cell_type": "code",
   "execution_count": null,
   "id": "64168639",
   "metadata": {
    "execution": {
     "iopub.execute_input": "2021-12-22T10:14:03.582644Z",
     "iopub.status.busy": "2021-12-22T10:14:03.581319Z",
     "iopub.status.idle": "2021-12-22T10:14:03.819204Z",
     "shell.execute_reply": "2021-12-22T10:14:03.819785Z",
     "shell.execute_reply.started": "2021-12-22T08:58:06.185481Z"
    },
    "id": "lxPV7s3a9TJQ",
    "outputId": "0ab916c1-5f9b-4420-e82c-218992b47931",
    "papermill": {
     "duration": 0.454763,
     "end_time": "2021-12-22T10:14:03.819971",
     "exception": false,
     "start_time": "2021-12-22T10:14:03.365208",
     "status": "completed"
    },
    "tags": []
   },
   "outputs": [],
   "source": [
    "bar_graph('flag')"
   ]
  },
  {
   "cell_type": "markdown",
   "id": "97db14ee",
   "metadata": {
    "id": "QOQVYYEufY64",
    "papermill": {
     "duration": 0.165102,
     "end_time": "2021-12-22T10:14:04.151965",
     "exception": false,
     "start_time": "2021-12-22T10:14:03.986863",
     "status": "completed"
    },
    "tags": []
   },
   "source": [
    "## **Bivariate Analysis**"
   ]
  },
  {
   "cell_type": "markdown",
   "id": "3552ebd1",
   "metadata": {
    "id": "4QNkAnhi94de",
    "papermill": {
     "duration": 0.162269,
     "end_time": "2021-12-22T10:14:04.476402",
     "exception": false,
     "start_time": "2021-12-22T10:14:04.314133",
     "status": "completed"
    },
    "tags": []
   },
   "source": [
    "### Protocol, Attack Types"
   ]
  },
  {
   "cell_type": "code",
   "execution_count": null,
   "id": "f2bddd29",
   "metadata": {
    "execution": {
     "iopub.execute_input": "2021-12-22T10:14:04.810061Z",
     "iopub.status.busy": "2021-12-22T10:14:04.808957Z",
     "iopub.status.idle": "2021-12-22T10:14:04.815239Z",
     "shell.execute_reply": "2021-12-22T10:14:04.815755Z",
     "shell.execute_reply.started": "2021-12-22T08:58:11.013241Z"
    },
    "id": "VqjBg_xh99ay",
    "papermill": {
     "duration": 0.174302,
     "end_time": "2021-12-22T10:14:04.815940",
     "exception": false,
     "start_time": "2021-12-22T10:14:04.641638",
     "status": "completed"
    },
    "tags": []
   },
   "outputs": [],
   "source": [
    "df= pd.DataFrame(columns=['protocol', 'Attack_class', 'number of sample in Dataset'])"
   ]
  },
  {
   "cell_type": "code",
   "execution_count": null,
   "id": "a18eca33",
   "metadata": {
    "execution": {
     "iopub.execute_input": "2021-12-22T10:14:05.150221Z",
     "iopub.status.busy": "2021-12-22T10:14:05.149065Z",
     "iopub.status.idle": "2021-12-22T10:14:05.174600Z",
     "shell.execute_reply": "2021-12-22T10:14:05.175113Z",
     "shell.execute_reply.started": "2021-12-22T08:58:11.509932Z"
    },
    "id": "HUThwSSE-Lc8",
    "papermill": {
     "duration": 0.194947,
     "end_time": "2021-12-22T10:14:05.175319",
     "exception": false,
     "start_time": "2021-12-22T10:14:04.980372",
     "status": "completed"
    },
    "tags": []
   },
   "outputs": [],
   "source": [
    "protocols = pd.Series(train_data['protocol_type']).unique()\n",
    "Label = pd.Series(train_data['label']).unique() \n",
    "Label= np.delete(Label, np.where(Label == 'normal'))"
   ]
  },
  {
   "cell_type": "code",
   "execution_count": null,
   "id": "29858c5d",
   "metadata": {
    "execution": {
     "iopub.execute_input": "2021-12-22T10:14:05.503906Z",
     "iopub.status.busy": "2021-12-22T10:14:05.502896Z",
     "iopub.status.idle": "2021-12-22T10:14:06.021088Z",
     "shell.execute_reply": "2021-12-22T10:14:06.021776Z",
     "shell.execute_reply.started": "2021-12-22T08:58:12.227162Z"
    },
    "id": "eBlo3uT7_f4g",
    "papermill": {
     "duration": 0.684367,
     "end_time": "2021-12-22T10:14:06.021982",
     "exception": false,
     "start_time": "2021-12-22T10:14:05.337615",
     "status": "completed"
    },
    "tags": []
   },
   "outputs": [],
   "source": [
    "for pro in protocols:\n",
    "  for lab in Label:\n",
    "    i = len(train_data.loc[(train_data['protocol_type']== pro) & (train_data['label']==lab)])\n",
    "    if (i != 0):\n",
    "      df= df.append({'protocol': pro, 'Attack_class': lab, 'number of sample in Dataset': i}, ignore_index=True)"
   ]
  },
  {
   "cell_type": "code",
   "execution_count": null,
   "id": "d847ff59",
   "metadata": {
    "execution": {
     "iopub.execute_input": "2021-12-22T10:14:06.369000Z",
     "iopub.status.busy": "2021-12-22T10:14:06.368308Z",
     "iopub.status.idle": "2021-12-22T10:14:06.380067Z",
     "shell.execute_reply": "2021-12-22T10:14:06.379409Z",
     "shell.execute_reply.started": "2021-12-22T08:58:12.759678Z"
    },
    "id": "BSnE2fC-__az",
    "outputId": "abfffc18-2d25-4c78-fe9e-cbf5912eae1f",
    "papermill": {
     "duration": 0.185735,
     "end_time": "2021-12-22T10:14:06.380217",
     "exception": false,
     "start_time": "2021-12-22T10:14:06.194482",
     "status": "completed"
    },
    "tags": []
   },
   "outputs": [],
   "source": [
    "df.sort_values(by=['number of sample in Dataset'], ascending=False, ignore_index=True)"
   ]
  },
  {
   "cell_type": "markdown",
   "id": "0bf8aa50",
   "metadata": {
    "id": "c_deqkvCBIz9",
    "papermill": {
     "duration": 0.168127,
     "end_time": "2021-12-22T10:14:06.718891",
     "exception": false,
     "start_time": "2021-12-22T10:14:06.550764",
     "status": "completed"
    },
    "tags": []
   },
   "source": [
    "### Service, Attack Types"
   ]
  },
  {
   "cell_type": "code",
   "execution_count": null,
   "id": "258c97b9",
   "metadata": {
    "execution": {
     "iopub.execute_input": "2021-12-22T10:14:07.055911Z",
     "iopub.status.busy": "2021-12-22T10:14:07.055226Z",
     "iopub.status.idle": "2021-12-22T10:14:07.060811Z",
     "shell.execute_reply": "2021-12-22T10:14:07.061374Z",
     "shell.execute_reply.started": "2021-12-22T08:58:14.006564Z"
    },
    "id": "QDMi2pDTBQ4P",
    "papermill": {
     "duration": 0.177008,
     "end_time": "2021-12-22T10:14:07.061555",
     "exception": false,
     "start_time": "2021-12-22T10:14:06.884547",
     "status": "completed"
    },
    "tags": []
   },
   "outputs": [],
   "source": [
    "df_service= pd.DataFrame(columns=['service', 'Attack_class', 'number of sample in Dataset'])"
   ]
  },
  {
   "cell_type": "code",
   "execution_count": null,
   "id": "0e972206",
   "metadata": {
    "execution": {
     "iopub.execute_input": "2021-12-22T10:14:07.393316Z",
     "iopub.status.busy": "2021-12-22T10:14:07.392611Z",
     "iopub.status.idle": "2021-12-22T10:14:07.408032Z",
     "shell.execute_reply": "2021-12-22T10:14:07.408629Z",
     "shell.execute_reply.started": "2021-12-22T08:58:14.618082Z"
    },
    "id": "0fiIOOYxBY3P",
    "papermill": {
     "duration": 0.181873,
     "end_time": "2021-12-22T10:14:07.408807",
     "exception": false,
     "start_time": "2021-12-22T10:14:07.226934",
     "status": "completed"
    },
    "tags": []
   },
   "outputs": [],
   "source": [
    "services = list(services_frequency.index)\n",
    "Label = pd.Series(train_data['label']).unique() \n",
    "Label= np.delete(Label, np.where(Label == 'normal'))"
   ]
  },
  {
   "cell_type": "code",
   "execution_count": null,
   "id": "d6ddb0ac",
   "metadata": {
    "execution": {
     "iopub.execute_input": "2021-12-22T10:14:07.743386Z",
     "iopub.status.busy": "2021-12-22T10:14:07.742665Z",
     "iopub.status.idle": "2021-12-22T10:14:18.845379Z",
     "shell.execute_reply": "2021-12-22T10:14:18.845924Z",
     "shell.execute_reply.started": "2021-12-22T08:58:14.992770Z"
    },
    "id": "XGu-k8xtBhu7",
    "papermill": {
     "duration": 11.271318,
     "end_time": "2021-12-22T10:14:18.846104",
     "exception": false,
     "start_time": "2021-12-22T10:14:07.574786",
     "status": "completed"
    },
    "tags": []
   },
   "outputs": [],
   "source": [
    "for ser in services:\n",
    "  for lab in Label:\n",
    "    i = len(train_data.loc[(train_data['service']== ser) & (train_data['label']==lab)])\n",
    "    if (i != 0):\n",
    "      df_service= df_service.append({'service': ser, 'Attack_class': lab, 'number of sample in Dataset': i}, ignore_index=True)"
   ]
  },
  {
   "cell_type": "code",
   "execution_count": null,
   "id": "8ecad10b",
   "metadata": {
    "execution": {
     "iopub.execute_input": "2021-12-22T10:14:19.181119Z",
     "iopub.status.busy": "2021-12-22T10:14:19.180366Z",
     "iopub.status.idle": "2021-12-22T10:14:19.192866Z",
     "shell.execute_reply": "2021-12-22T10:14:19.193485Z",
     "shell.execute_reply.started": "2021-12-22T08:58:24.712407Z"
    },
    "id": "-Frqxa_0BvyC",
    "outputId": "dc6d09dc-a368-4f1e-d80a-c7c0e3253bd2",
    "papermill": {
     "duration": 0.181026,
     "end_time": "2021-12-22T10:14:19.193662",
     "exception": false,
     "start_time": "2021-12-22T10:14:19.012636",
     "status": "completed"
    },
    "tags": []
   },
   "outputs": [],
   "source": [
    "df_service.sort_values(by=['number of sample in Dataset'], ascending=False)"
   ]
  },
  {
   "cell_type": "markdown",
   "id": "19145df5",
   "metadata": {
    "id": "drEyzvWA6lqe",
    "papermill": {
     "duration": 0.163925,
     "end_time": "2021-12-22T10:14:19.521112",
     "exception": false,
     "start_time": "2021-12-22T10:14:19.357187",
     "status": "completed"
    },
    "tags": []
   },
   "source": [
    "### Protocol, Services"
   ]
  },
  {
   "cell_type": "code",
   "execution_count": null,
   "id": "134347e7",
   "metadata": {
    "execution": {
     "iopub.execute_input": "2021-12-22T10:14:19.855352Z",
     "iopub.status.busy": "2021-12-22T10:14:19.854589Z",
     "iopub.status.idle": "2021-12-22T10:14:20.187395Z",
     "shell.execute_reply": "2021-12-22T10:14:20.186726Z",
     "shell.execute_reply.started": "2021-12-22T08:58:24.732270Z"
    },
    "id": "vkyOCpN06KYw",
    "outputId": "87c2a3f5-8fbd-413e-b6b0-adcb94e349b4",
    "papermill": {
     "duration": 0.502426,
     "end_time": "2021-12-22T10:14:20.187550",
     "exception": false,
     "start_time": "2021-12-22T10:14:19.685124",
     "status": "completed"
    },
    "tags": []
   },
   "outputs": [],
   "source": [
    "SP= pd.crosstab(train_data.service,train_data['protocol_type'],margins=True).T.style.background_gradient(cmap='summer_r')\n",
    "SP"
   ]
  },
  {
   "cell_type": "markdown",
   "id": "b6bdbbfc",
   "metadata": {
    "id": "7onCeO6ZhJH_",
    "papermill": {
     "duration": 0.166617,
     "end_time": "2021-12-22T10:14:20.521085",
     "exception": false,
     "start_time": "2021-12-22T10:14:20.354468",
     "status": "completed"
    },
    "tags": []
   },
   "source": [
    "## **Multivariate Analysis**"
   ]
  },
  {
   "cell_type": "markdown",
   "id": "68da0a75",
   "metadata": {
    "id": "SnbbXH4ZhNca",
    "papermill": {
     "duration": 0.164674,
     "end_time": "2021-12-22T10:14:20.856758",
     "exception": false,
     "start_time": "2021-12-22T10:14:20.692084",
     "status": "completed"
    },
    "tags": []
   },
   "source": [
    "### Protocol Type, Services, Label"
   ]
  },
  {
   "cell_type": "code",
   "execution_count": null,
   "id": "84fb7c0a",
   "metadata": {
    "execution": {
     "iopub.execute_input": "2021-12-22T10:14:21.197827Z",
     "iopub.status.busy": "2021-12-22T10:14:21.197128Z",
     "iopub.status.idle": "2021-12-22T10:14:21.203689Z",
     "shell.execute_reply": "2021-12-22T10:14:21.204176Z",
     "shell.execute_reply.started": "2021-12-22T08:58:25.086698Z"
    },
    "id": "eXqsnCsjw2zY",
    "papermill": {
     "duration": 0.179921,
     "end_time": "2021-12-22T10:14:21.204377",
     "exception": false,
     "start_time": "2021-12-22T10:14:21.024456",
     "status": "completed"
    },
    "tags": []
   },
   "outputs": [],
   "source": [
    "df= pd.DataFrame(columns=['protocol', 'service', 'label', 'number of sample in Dataset'])"
   ]
  },
  {
   "cell_type": "code",
   "execution_count": null,
   "id": "4c8091bd",
   "metadata": {
    "execution": {
     "iopub.execute_input": "2021-12-22T10:14:21.542369Z",
     "iopub.status.busy": "2021-12-22T10:14:21.541390Z",
     "iopub.status.idle": "2021-12-22T10:15:23.612128Z",
     "shell.execute_reply": "2021-12-22T10:15:23.611542Z",
     "shell.execute_reply.started": "2021-12-22T08:58:25.095263Z"
    },
    "id": "kNg2xgA5Oyuu",
    "papermill": {
     "duration": 62.241026,
     "end_time": "2021-12-22T10:15:23.612316",
     "exception": false,
     "start_time": "2021-12-22T10:14:21.371290",
     "status": "completed"
    },
    "tags": []
   },
   "outputs": [],
   "source": [
    "services = list(services_frequency.index)\n",
    "protocols = pd.Series(train_data['protocol_type']).unique()\n",
    "Label = pd.Series(train_data['label']).unique() \n",
    "\n",
    "for ser in services:\n",
    "  for pro in protocols:\n",
    "    for lab in Label:\n",
    "      i = len(train_data.loc[(train_data['service']== ser) & (train_data['protocol_type']== pro) & (train_data['label']==lab)])\n",
    "      if (i != 0):\n",
    "        df= df.append({'protocol': pro, 'service': ser, 'label': lab, 'number of sample in Dataset': i}, ignore_index=True)\n",
    "        \n",
    "\n",
    " \n"
   ]
  },
  {
   "cell_type": "code",
   "execution_count": null,
   "id": "c5dcd938",
   "metadata": {
    "execution": {
     "iopub.execute_input": "2021-12-22T10:15:23.950364Z",
     "iopub.status.busy": "2021-12-22T10:15:23.949492Z",
     "iopub.status.idle": "2021-12-22T10:15:23.963584Z",
     "shell.execute_reply": "2021-12-22T10:15:23.964146Z",
     "shell.execute_reply.started": "2021-12-22T08:59:18.280809Z"
    },
    "id": "MG-gijUG0lym",
    "outputId": "8807a1bc-7ee8-439e-bb9a-4714eeeefd06",
    "papermill": {
     "duration": 0.182288,
     "end_time": "2021-12-22T10:15:23.964345",
     "exception": false,
     "start_time": "2021-12-22T10:15:23.782057",
     "status": "completed"
    },
    "tags": []
   },
   "outputs": [],
   "source": [
    "df.sort_values(by=['number of sample in Dataset'], ascending=False)"
   ]
  },
  {
   "cell_type": "markdown",
   "id": "4b0a31cf",
   "metadata": {
    "id": "WOzORO3aMCTA",
    "papermill": {
     "duration": 0.167235,
     "end_time": "2021-12-22T10:15:24.297142",
     "exception": false,
     "start_time": "2021-12-22T10:15:24.129907",
     "status": "completed"
    },
    "tags": []
   },
   "source": [
    "# **Data Prepration** \n",
    "\n",
    "\n",
    "*   For Binary and Multi-class Classification\n",
    "*   **Label encoding** with One-Hot\n",
    "\n",
    "\n",
    "\n",
    "\n"
   ]
  },
  {
   "cell_type": "markdown",
   "id": "1167166c",
   "metadata": {
    "id": "UJ6QkQzQvG4G",
    "papermill": {
     "duration": 0.170955,
     "end_time": "2021-12-22T10:15:24.636674",
     "exception": false,
     "start_time": "2021-12-22T10:15:24.465719",
     "status": "completed"
    },
    "tags": []
   },
   "source": [
    "## Binary Classification\n",
    "\n",
    "\n",
    "*   bin_data_train -> ready dataframe for Modeling\n",
    "*   numeric_bin_data -> just numeric features for feature selection\n",
    "\n",
    "\n",
    "\n"
   ]
  },
  {
   "cell_type": "code",
   "execution_count": null,
   "id": "897c1621",
   "metadata": {
    "execution": {
     "iopub.execute_input": "2021-12-22T10:15:24.979323Z",
     "iopub.status.busy": "2021-12-22T10:15:24.978632Z",
     "iopub.status.idle": "2021-12-22T10:15:25.037334Z",
     "shell.execute_reply": "2021-12-22T10:15:25.036613Z",
     "shell.execute_reply.started": "2021-12-22T08:59:18.299683Z"
    },
    "id": "psr7lI51qu5e",
    "outputId": "5c4849f1-49d7-45c3-dc74-e36cd9b6c42c",
    "papermill": {
     "duration": 0.233119,
     "end_time": "2021-12-22T10:15:25.037493",
     "exception": false,
     "start_time": "2021-12-22T10:15:24.804374",
     "status": "completed"
    },
    "tags": []
   },
   "outputs": [],
   "source": [
    "train_data"
   ]
  },
  {
   "cell_type": "code",
   "execution_count": null,
   "id": "5fe4cefb",
   "metadata": {
    "execution": {
     "iopub.execute_input": "2021-12-22T10:15:25.388550Z",
     "iopub.status.busy": "2021-12-22T10:15:25.378060Z",
     "iopub.status.idle": "2021-12-22T10:15:25.416671Z",
     "shell.execute_reply": "2021-12-22T10:15:25.416015Z",
     "shell.execute_reply.started": "2021-12-22T08:59:18.381520Z"
    },
    "id": "hpMITWJCvJsy",
    "papermill": {
     "duration": 0.211613,
     "end_time": "2021-12-22T10:15:25.416830",
     "exception": false,
     "start_time": "2021-12-22T10:15:25.205217",
     "status": "completed"
    },
    "tags": []
   },
   "outputs": [],
   "source": [
    "# changing attack labels into two categories 'normal' and 'abnormal'\n",
    "bin_label = pd.DataFrame(train_data.label.map(lambda x:'normal' if x=='normal' else 'abnormal'))"
   ]
  },
  {
   "cell_type": "code",
   "execution_count": null,
   "id": "058e9628",
   "metadata": {
    "execution": {
     "iopub.execute_input": "2021-12-22T10:15:25.764319Z",
     "iopub.status.busy": "2021-12-22T10:15:25.762086Z",
     "iopub.status.idle": "2021-12-22T10:15:25.849348Z",
     "shell.execute_reply": "2021-12-22T10:15:25.848695Z",
     "shell.execute_reply.started": "2021-12-22T08:59:18.424370Z"
    },
    "id": "SNtem2m4vN61",
    "outputId": "a201a13b-66f1-4afe-fa50-d6dd84401c8e",
    "papermill": {
     "duration": 0.263829,
     "end_time": "2021-12-22T10:15:25.849509",
     "exception": false,
     "start_time": "2021-12-22T10:15:25.585680",
     "status": "completed"
    },
    "tags": []
   },
   "outputs": [],
   "source": [
    "# creating a dataframe with binary labels (normal,abnormal)\n",
    "bin_data = train_data.copy()\n",
    "bin_data['label'] = bin_label\n",
    "bin_data"
   ]
  },
  {
   "cell_type": "code",
   "execution_count": null,
   "id": "db836c36",
   "metadata": {
    "execution": {
     "iopub.execute_input": "2021-12-22T10:15:26.234390Z",
     "iopub.status.busy": "2021-12-22T10:15:26.233681Z",
     "iopub.status.idle": "2021-12-22T10:15:26.295208Z",
     "shell.execute_reply": "2021-12-22T10:15:26.294653Z",
     "shell.execute_reply.started": "2021-12-22T08:59:18.525617Z"
    },
    "id": "KGVZEZz2vQB1",
    "outputId": "b08e5cce-2a77-439d-852c-046a3e2410ec",
    "papermill": {
     "duration": 0.276417,
     "end_time": "2021-12-22T10:15:26.295377",
     "exception": false,
     "start_time": "2021-12-22T10:15:26.018960",
     "status": "completed"
    },
    "tags": []
   },
   "outputs": [],
   "source": [
    "# label encoding (0,1) binary labels (abnormal,normal)\n",
    "le1 = preprocessing.LabelEncoder()\n",
    "enc_label = bin_label.apply(le1.fit_transform)\n",
    "bin_data['intrusion'] = enc_label\n",
    "bin_data"
   ]
  },
  {
   "cell_type": "code",
   "execution_count": null,
   "id": "8e8c6493",
   "metadata": {
    "execution": {
     "iopub.execute_input": "2021-12-22T10:15:26.655696Z",
     "iopub.status.busy": "2021-12-22T10:15:26.640630Z",
     "iopub.status.idle": "2021-12-22T10:15:26.776183Z",
     "shell.execute_reply": "2021-12-22T10:15:26.775614Z",
     "shell.execute_reply.started": "2021-12-22T08:59:18.635640Z"
    },
    "id": "FvzbHacivgRE",
    "outputId": "c929884e-15fa-4310-8f1c-216923e29966",
    "papermill": {
     "duration": 0.312243,
     "end_time": "2021-12-22T10:15:26.776347",
     "exception": false,
     "start_time": "2021-12-22T10:15:26.464104",
     "status": "completed"
    },
    "tags": []
   },
   "outputs": [],
   "source": [
    "# one-hot-encoding attack label\n",
    "#numeric_bin_data = pd.get_dummies(bin_data,columns=['label'],prefix=\"\",prefix_sep=\"\") \n",
    "bin_data = pd.get_dummies(train_data,columns=['protocol_type','service','flag'],prefix=\"\",prefix_sep=\"\") \n",
    "#bin_data['label'] = bin_label\n",
    "bin_data['intrusion'] =enc_label\n",
    "\n",
    "bin_data"
   ]
  },
  {
   "cell_type": "code",
   "execution_count": null,
   "id": "8c7f4379",
   "metadata": {
    "execution": {
     "iopub.execute_input": "2021-12-22T10:15:27.205193Z",
     "iopub.status.busy": "2021-12-22T10:15:27.204521Z",
     "iopub.status.idle": "2021-12-22T10:15:27.437335Z",
     "shell.execute_reply": "2021-12-22T10:15:27.436668Z",
     "shell.execute_reply.started": "2021-12-22T08:59:18.782750Z"
    },
    "id": "9KUhlrzGvmf5",
    "outputId": "531556e9-9c9d-4622-85ae-f56db4a7abd7",
    "papermill": {
     "duration": 0.435473,
     "end_time": "2021-12-22T10:15:27.437485",
     "exception": false,
     "start_time": "2021-12-22T10:15:27.002012",
     "status": "completed"
    },
    "tags": []
   },
   "outputs": [],
   "source": [
    "# pie chart distribution of normal and abnormal labels\n",
    "plt.figure(figsize=(8,8))\n",
    "plt.pie(bin_data.label.value_counts(),labels=bin_data.label.unique(),autopct='%0.2f%%')\n",
    "plt.title(\"Pie chart distribution of normal and abnormal labels\")\n",
    "plt.legend()\n",
    "plt.show()"
   ]
  },
  {
   "cell_type": "code",
   "execution_count": null,
   "id": "74aeefd3",
   "metadata": {
    "execution": {
     "iopub.execute_input": "2021-12-22T10:15:27.790294Z",
     "iopub.status.busy": "2021-12-22T10:15:27.789594Z",
     "iopub.status.idle": "2021-12-22T10:15:27.892199Z",
     "shell.execute_reply": "2021-12-22T10:15:27.891534Z",
     "shell.execute_reply.started": "2021-12-22T08:59:19.097657Z"
    },
    "id": "JJopdfZFGaHe",
    "outputId": "c4cbae49-30aa-4dd1-b8fc-b35e9cd3c31e",
    "papermill": {
     "duration": 0.28077,
     "end_time": "2021-12-22T10:15:27.892362",
     "exception": false,
     "start_time": "2021-12-22T10:15:27.611592",
     "status": "completed"
    },
    "tags": []
   },
   "outputs": [],
   "source": [
    "#bin_data_train is dataset that is ready for modeling ... X=bin_data_train[:,:122] / y=bin_data_train[:,:-1]\n",
    "bin_data_train = bin_data.copy()\n",
    "bin_data_train.drop(labels= [ 'label'], axis=1, inplace=True)\n",
    "bin_data_train"
   ]
  },
  {
   "cell_type": "code",
   "execution_count": null,
   "id": "f5d65f54",
   "metadata": {
    "execution": {
     "iopub.execute_input": "2021-12-22T10:15:28.264517Z",
     "iopub.status.busy": "2021-12-22T10:15:28.263836Z",
     "iopub.status.idle": "2021-12-22T10:15:28.267552Z",
     "shell.execute_reply": "2021-12-22T10:15:28.266990Z",
     "shell.execute_reply.started": "2021-12-22T08:59:19.212248Z"
    },
    "id": "1z3Fbio3Ix5A",
    "outputId": "9e3d3b2e-f509-4fdb-88e3-193487c1e665",
    "papermill": {
     "duration": 0.201554,
     "end_time": "2021-12-22T10:15:28.267687",
     "exception": false,
     "start_time": "2021-12-22T10:15:28.066133",
     "status": "completed"
    },
    "tags": []
   },
   "outputs": [],
   "source": [
    "# this data set is include just numeric features with multi labels \n",
    "#created for feature selection\n",
    "# creating a dataframe with only numeric attributes of binary class dataset and encoded label attribute \n",
    "numeric_col = train_data.select_dtypes(include='number').columns\n",
    "numeric_bin_data = train_data[numeric_col]\n",
    "numeric_bin_data['intrusion'] = bin_data['intrusion']"
   ]
  },
  {
   "cell_type": "code",
   "execution_count": null,
   "id": "f5e234d0",
   "metadata": {
    "execution": {
     "iopub.execute_input": "2021-12-22T10:15:28.633398Z",
     "iopub.status.busy": "2021-12-22T10:15:28.632627Z",
     "iopub.status.idle": "2021-12-22T10:15:28.673698Z",
     "shell.execute_reply": "2021-12-22T10:15:28.674423Z",
     "shell.execute_reply.started": "2021-12-22T08:59:19.246796Z"
    },
    "id": "-4OC2yiGle8S",
    "outputId": "b8386e96-c3e8-49ca-9ee3-cfa6fcde8803",
    "papermill": {
     "duration": 0.232328,
     "end_time": "2021-12-22T10:15:28.674607",
     "exception": false,
     "start_time": "2021-12-22T10:15:28.442279",
     "status": "completed"
    },
    "tags": []
   },
   "outputs": [],
   "source": [
    "numeric_bin_data"
   ]
  },
  {
   "cell_type": "markdown",
   "id": "7950f6aa",
   "metadata": {
    "id": "ULceARLbvrkJ",
    "papermill": {
     "duration": 0.19688,
     "end_time": "2021-12-22T10:15:29.045829",
     "exception": false,
     "start_time": "2021-12-22T10:15:28.848949",
     "status": "completed"
    },
    "tags": []
   },
   "source": [
    "## Multi-class Classification\n",
    "\n",
    "*   multi_data_train -> ready dataframe for Modeling\n",
    "*   numeric_multi_data -> just numeric features for feature selection"
   ]
  },
  {
   "cell_type": "code",
   "execution_count": null,
   "id": "9a1c48ca",
   "metadata": {
    "execution": {
     "iopub.execute_input": "2021-12-22T10:15:29.437209Z",
     "iopub.status.busy": "2021-12-22T10:15:29.436140Z",
     "iopub.status.idle": "2021-12-22T10:15:29.460927Z",
     "shell.execute_reply": "2021-12-22T10:15:29.460006Z",
     "shell.execute_reply.started": "2021-12-22T08:59:19.310865Z"
    },
    "id": "jomCt764vtrc",
    "outputId": "4531c8d5-b384-45c6-9d76-e0c7c14b8143",
    "papermill": {
     "duration": 0.218402,
     "end_time": "2021-12-22T10:15:29.461128",
     "exception": false,
     "start_time": "2021-12-22T10:15:29.242726",
     "status": "completed"
    },
    "tags": []
   },
   "outputs": [],
   "source": [
    "# creating a dataframe with multi-class labels (Dos,Probe,R2L,U2R,normal)\n",
    "multi_data = train_data.copy()\n",
    "multi_label = pd.DataFrame(multi_data.label)\n",
    "multi_label"
   ]
  },
  {
   "cell_type": "code",
   "execution_count": null,
   "id": "04bb6fe2",
   "metadata": {
    "execution": {
     "iopub.execute_input": "2021-12-22T10:15:29.881956Z",
     "iopub.status.busy": "2021-12-22T10:15:29.881231Z",
     "iopub.status.idle": "2021-12-22T10:15:29.953544Z",
     "shell.execute_reply": "2021-12-22T10:15:29.952906Z",
     "shell.execute_reply.started": "2021-12-22T08:59:19.340816Z"
    },
    "id": "k8nmwYMmvzX5",
    "outputId": "3e98df5f-096e-4079-c4e7-9f271018b39d",
    "papermill": {
     "duration": 0.303527,
     "end_time": "2021-12-22T10:15:29.953698",
     "exception": false,
     "start_time": "2021-12-22T10:15:29.650171",
     "status": "completed"
    },
    "tags": []
   },
   "outputs": [],
   "source": [
    "# label encoding (0,1,2,3,4) multi-class labels (Dos,normal,Probe,R2L,U2R)\n",
    "le2 = preprocessing.LabelEncoder()\n",
    "enc_label = multi_label.apply(le2.fit_transform)\n",
    "multi_data['intrusion'] = enc_label\n",
    "#y_mul = multi_data['intrusion']\n",
    "multi_data"
   ]
  },
  {
   "cell_type": "code",
   "execution_count": null,
   "id": "e0feff5d",
   "metadata": {
    "execution": {
     "iopub.execute_input": "2021-12-22T10:15:30.320905Z",
     "iopub.status.busy": "2021-12-22T10:15:30.319860Z",
     "iopub.status.idle": "2021-12-22T10:15:30.474962Z",
     "shell.execute_reply": "2021-12-22T10:15:30.475538Z",
     "shell.execute_reply.started": "2021-12-22T08:59:19.719410Z"
    },
    "id": "Ex5VH-NYv0D9",
    "outputId": "4ed81f2b-954b-4c8c-8d18-25cc4da611b9",
    "papermill": {
     "duration": 0.342759,
     "end_time": "2021-12-22T10:15:30.475716",
     "exception": false,
     "start_time": "2021-12-22T10:15:30.132957",
     "status": "completed"
    },
    "tags": []
   },
   "outputs": [],
   "source": [
    "# one-hot-encoding attack label\n",
    "\n",
    "multi_data = pd.get_dummies(multi_data,columns=['protocol_type','service','flag','label'],prefix=\"\",prefix_sep=\"\")  \n",
    "multi_data['label'] = multi_label\n",
    "multi_data\n"
   ]
  },
  {
   "cell_type": "code",
   "execution_count": null,
   "id": "d3c971bc",
   "metadata": {
    "execution": {
     "iopub.execute_input": "2021-12-22T10:15:30.836188Z",
     "iopub.status.busy": "2021-12-22T10:15:30.835528Z",
     "iopub.status.idle": "2021-12-22T10:15:31.089030Z",
     "shell.execute_reply": "2021-12-22T10:15:31.089531Z",
     "shell.execute_reply.started": "2021-12-22T08:59:19.877460Z"
    },
    "id": "Vp9_eoLDvz8H",
    "outputId": "6b229157-75b3-4164-bed0-908d64c833a5",
    "papermill": {
     "duration": 0.434033,
     "end_time": "2021-12-22T10:15:31.089715",
     "exception": false,
     "start_time": "2021-12-22T10:15:30.655682",
     "status": "completed"
    },
    "tags": []
   },
   "outputs": [],
   "source": [
    "# pie chart distribution of multi-class labels\n",
    "plt.figure(figsize=(8,8))\n",
    "plt.pie(multi_data.label.value_counts(),labels=multi_data.label.unique(),autopct='%0.2f%%')\n",
    "plt.title('Pie chart distribution of multi-class labels')\n",
    "plt.legend()\n",
    "plt.show()"
   ]
  },
  {
   "cell_type": "code",
   "execution_count": null,
   "id": "e0304075",
   "metadata": {
    "execution": {
     "iopub.execute_input": "2021-12-22T10:15:31.449507Z",
     "iopub.status.busy": "2021-12-22T10:15:31.448828Z",
     "iopub.status.idle": "2021-12-22T10:15:31.559551Z",
     "shell.execute_reply": "2021-12-22T10:15:31.560113Z",
     "shell.execute_reply.started": "2021-12-22T08:59:20.177946Z"
    },
    "id": "vwHEaCs30BIh",
    "outputId": "b0115521-9e21-4e41-a101-1ca6e9e6b731",
    "papermill": {
     "duration": 0.291907,
     "end_time": "2021-12-22T10:15:31.560318",
     "exception": false,
     "start_time": "2021-12-22T10:15:31.268411",
     "status": "completed"
    },
    "tags": []
   },
   "outputs": [],
   "source": [
    "# multi_data_train is dataset that is ready for modeling ... X=bin_data_train[:,:122] / y=bin_data_train[:,:-5]\n",
    "multi_data_train = multi_data.copy()\n",
    "multi_data_train.drop(labels= [ 'label', 'intrusion' ], axis=1, inplace=True)\n",
    "multi_data_train"
   ]
  },
  {
   "cell_type": "code",
   "execution_count": null,
   "id": "c624fa54",
   "metadata": {
    "execution": {
     "iopub.execute_input": "2021-12-22T10:15:31.965375Z",
     "iopub.status.busy": "2021-12-22T10:15:31.964678Z",
     "iopub.status.idle": "2021-12-22T10:15:32.061193Z",
     "shell.execute_reply": "2021-12-22T10:15:32.061752Z",
     "shell.execute_reply.started": "2021-12-22T08:59:20.291091Z"
    },
    "id": "y1hhqs40LHCV",
    "outputId": "b50fac09-febf-4349-ccb9-165f80a96417",
    "papermill": {
     "duration": 0.276779,
     "end_time": "2021-12-22T10:15:32.061936",
     "exception": false,
     "start_time": "2021-12-22T10:15:31.785157",
     "status": "completed"
    },
    "tags": []
   },
   "outputs": [],
   "source": [
    "# this data set is include just numeric features with multi labels \n",
    "#created for feature selection\n",
    "numeric_multi_data = train_data[numeric_col]\n",
    "numeric_multi_data['label'] = multi_label\n",
    "numeric_multi_data = pd.get_dummies(numeric_multi_data,columns=['label'],prefix=\"\",prefix_sep=\"\")\n",
    "numeric_multi_data"
   ]
  },
  {
   "cell_type": "markdown",
   "id": "c0d211e3",
   "metadata": {
    "id": "4UlmVvlsZnwW",
    "papermill": {
     "duration": 0.185572,
     "end_time": "2021-12-22T10:15:32.433594",
     "exception": false,
     "start_time": "2021-12-22T10:15:32.248022",
     "status": "completed"
    },
    "tags": []
   },
   "source": [
    "# **Feature Selection**\n",
    "we do this because we prefer that train models with significant features and get reliable model to classify test set"
   ]
  },
  {
   "cell_type": "code",
   "execution_count": null,
   "id": "88a1f26c",
   "metadata": {
    "execution": {
     "iopub.execute_input": "2021-12-22T10:15:32.813927Z",
     "iopub.status.busy": "2021-12-22T10:15:32.813141Z",
     "iopub.status.idle": "2021-12-22T10:15:32.851673Z",
     "shell.execute_reply": "2021-12-22T10:15:32.852367Z",
     "shell.execute_reply.started": "2021-12-22T08:59:20.400081Z"
    },
    "id": "uEpkzd_bdWo6",
    "outputId": "f94882d5-8fb6-4e9a-d44e-edeb996c0ec1",
    "papermill": {
     "duration": 0.230325,
     "end_time": "2021-12-22T10:15:32.852547",
     "exception": false,
     "start_time": "2021-12-22T10:15:32.622222",
     "status": "completed"
    },
    "tags": []
   },
   "outputs": [],
   "source": [
    "#num_dataset_bin is just include numeric features with binary labels\n",
    "num_dataset_bin = numeric_bin_data.copy()\n",
    "y_train_num_bin= num_dataset_bin[['intrusion']]\n",
    "X_train_num_bin= num_dataset_bin.drop(labels=['intrusion'], axis=1)\n",
    "\n",
    "print('X_train has shape:',X_train_num_bin.shape,'\\ny_train has shape:',y_train_num_bin.shape)"
   ]
  },
  {
   "cell_type": "code",
   "execution_count": null,
   "id": "4b7ab70a",
   "metadata": {
    "execution": {
     "iopub.execute_input": "2021-12-22T10:15:33.218745Z",
     "iopub.status.busy": "2021-12-22T10:15:33.217320Z",
     "iopub.status.idle": "2021-12-22T10:15:33.283512Z",
     "shell.execute_reply": "2021-12-22T10:15:33.284015Z",
     "shell.execute_reply.started": "2021-12-22T08:59:20.446177Z"
    },
    "id": "AYNuF70ImtIV",
    "outputId": "c1472406-056f-4ebf-c0ba-6b24a1db7811",
    "papermill": {
     "duration": 0.251753,
     "end_time": "2021-12-22T10:15:33.284204",
     "exception": false,
     "start_time": "2021-12-22T10:15:33.032451",
     "status": "completed"
    },
    "tags": []
   },
   "outputs": [],
   "source": [
    "#dataset_bin is include hole features (with encoded non numeric features like services, protocol and flag) with binary labels\n",
    "dataset_bin = bin_data_train.copy()\n",
    "y_train_bin= dataset_bin[['intrusion']]\n",
    "X_train_bin= dataset_bin.drop(labels=['intrusion'], axis=1)\n",
    "\n",
    "print('X_train has shape:',X_train_bin.shape,'\\ny_train has shape:',y_train_bin.shape)"
   ]
  },
  {
   "cell_type": "code",
   "execution_count": null,
   "id": "8776ae49",
   "metadata": {
    "execution": {
     "iopub.execute_input": "2021-12-22T10:15:33.651054Z",
     "iopub.status.busy": "2021-12-22T10:15:33.649996Z",
     "iopub.status.idle": "2021-12-22T10:15:33.719143Z",
     "shell.execute_reply": "2021-12-22T10:15:33.719697Z",
     "shell.execute_reply.started": "2021-12-22T08:59:20.518943Z"
    },
    "id": "IgJsGBTs14FR",
    "outputId": "caab4767-d828-4fef-8ae1-48bb7d1902e4",
    "papermill": {
     "duration": 0.253977,
     "end_time": "2021-12-22T10:15:33.719963",
     "exception": false,
     "start_time": "2021-12-22T10:15:33.465986",
     "status": "completed"
    },
    "tags": []
   },
   "outputs": [],
   "source": [
    "#num_dataset_multi is just include numeric features with multi-class labels\n",
    "num_dataset_multi = numeric_multi_data.copy()\n",
    "y_train_num_multi= num_dataset_multi.loc[:, 'Dos':]\n",
    "X_train_num_multi= num_dataset_multi.loc[:, :'dst_host_srv_rerror_rate']\n",
    "\n",
    "print('X_train has shape:',X_train_num_multi.shape,'\\ny_train has shape:',y_train_num_multi.shape)"
   ]
  },
  {
   "cell_type": "code",
   "execution_count": null,
   "id": "2b818643",
   "metadata": {
    "execution": {
     "iopub.execute_input": "2021-12-22T10:15:34.092393Z",
     "iopub.status.busy": "2021-12-22T10:15:34.091710Z",
     "iopub.status.idle": "2021-12-22T10:15:34.371268Z",
     "shell.execute_reply": "2021-12-22T10:15:34.371866Z",
     "shell.execute_reply.started": "2021-12-22T08:59:20.599076Z"
    },
    "id": "VvTuXEJ54K-q",
    "outputId": "99623027-d183-4501-da38-44c0e1a6572e",
    "papermill": {
     "duration": 0.469941,
     "end_time": "2021-12-22T10:15:34.372047",
     "exception": false,
     "start_time": "2021-12-22T10:15:33.902106",
     "status": "completed"
    },
    "tags": []
   },
   "outputs": [],
   "source": [
    "#dataset_multi is include hole features (with encoded non numeric features like services, protocol and flag) with multi-class labels\n",
    "dataset_multi = multi_data_train.copy()\n",
    "y_train_multi= dataset_multi.loc[:, 'Dos':]\n",
    "X_train_multi= dataset_multi.loc[:, :'SH']\n",
    "\n",
    "print('X_train has shape:',X_train_multi.shape,'\\ny_train has shape:',y_train_multi.shape)"
   ]
  },
  {
   "cell_type": "markdown",
   "id": "28eba5e9",
   "metadata": {
    "id": "APrno6H7iRkM",
    "papermill": {
     "duration": 0.183152,
     "end_time": "2021-12-22T10:15:34.736651",
     "exception": false,
     "start_time": "2021-12-22T10:15:34.553499",
     "status": "completed"
    },
    "tags": []
   },
   "source": [
    "## Feature Importance"
   ]
  },
  {
   "cell_type": "markdown",
   "id": "b2a59130",
   "metadata": {
    "id": "GjJNehspFOHt",
    "papermill": {
     "duration": 0.183528,
     "end_time": "2021-12-22T10:15:35.102698",
     "exception": false,
     "start_time": "2021-12-22T10:15:34.919170",
     "status": "completed"
    },
    "tags": []
   },
   "source": [
    "### pearson corrolation for binary class dataset\n",
    "\n",
    "\n",
    "\n",
    "*   feature extraction from numeric_bin_data \n",
    "*   pearson_bin_dataset is binary-class dataset based on pearson corrolation between numeric features and binary-class ( Intrusion-> yes(1)/no(0))\n",
    "\n"
   ]
  },
  {
   "cell_type": "code",
   "execution_count": null,
   "id": "0c1ee2dc",
   "metadata": {
    "execution": {
     "iopub.execute_input": "2021-12-22T10:15:35.477525Z",
     "iopub.status.busy": "2021-12-22T10:15:35.476747Z",
     "iopub.status.idle": "2021-12-22T10:15:36.055220Z",
     "shell.execute_reply": "2021-12-22T10:15:36.055729Z",
     "shell.execute_reply.started": "2021-12-22T08:59:28.491479Z"
    },
    "id": "IqlvUWznwIQz",
    "outputId": "54b6aea5-70ed-4484-c8e7-5bed1c70cbb1",
    "papermill": {
     "duration": 0.771075,
     "end_time": "2021-12-22T10:15:36.055896",
     "exception": false,
     "start_time": "2021-12-22T10:15:35.284821",
     "status": "completed"
    },
    "tags": []
   },
   "outputs": [],
   "source": [
    "# finding the attributes which have more than 0.5 correlation with encoded attack label attribute \n",
    "corr= numeric_bin_data.corr()\n",
    "corr_y = abs(corr['intrusion'])\n",
    "highest_corr = corr_y[corr_y >0.5]\n",
    "highest_corr.sort_values(ascending=True)"
   ]
  },
  {
   "cell_type": "code",
   "execution_count": null,
   "id": "e46f88a3",
   "metadata": {
    "execution": {
     "iopub.execute_input": "2021-12-22T10:15:36.427587Z",
     "iopub.status.busy": "2021-12-22T10:15:36.426817Z",
     "iopub.status.idle": "2021-12-22T10:15:36.431185Z",
     "shell.execute_reply": "2021-12-22T10:15:36.431752Z",
     "shell.execute_reply.started": "2021-12-22T08:59:29.007317Z"
    },
    "id": "yPnfTOqCwQ2H",
    "papermill": {
     "duration": 0.191205,
     "end_time": "2021-12-22T10:15:36.431929",
     "exception": false,
     "start_time": "2021-12-22T10:15:36.240724",
     "status": "completed"
    },
    "tags": []
   },
   "outputs": [],
   "source": [
    "highest_corr_columns= highest_corr.index"
   ]
  },
  {
   "cell_type": "code",
   "execution_count": null,
   "id": "ab1af0d0",
   "metadata": {
    "execution": {
     "iopub.execute_input": "2021-12-22T10:15:36.802715Z",
     "iopub.status.busy": "2021-12-22T10:15:36.801873Z",
     "iopub.status.idle": "2021-12-22T10:15:37.827454Z",
     "shell.execute_reply": "2021-12-22T10:15:37.827913Z",
     "shell.execute_reply.started": "2021-12-22T08:59:29.418752Z"
    },
    "id": "PcMj18PgOY5-",
    "outputId": "5ef8eb7d-096c-4b3c-ad3a-917a5e940a9c",
    "papermill": {
     "duration": 1.214812,
     "end_time": "2021-12-22T10:15:37.828103",
     "exception": false,
     "start_time": "2021-12-22T10:15:36.613291",
     "status": "completed"
    },
    "tags": []
   },
   "outputs": [],
   "source": [
    "plt.figure(figsize=(15,10))\n",
    "g=sns.heatmap(bin_data[highest_corr.index].corr(),annot=True,cmap=\"RdYlGn\")"
   ]
  },
  {
   "cell_type": "code",
   "execution_count": null,
   "id": "3c198fba",
   "metadata": {
    "execution": {
     "iopub.execute_input": "2021-12-22T10:15:38.204017Z",
     "iopub.status.busy": "2021-12-22T10:15:38.202040Z",
     "iopub.status.idle": "2021-12-22T10:15:38.238278Z",
     "shell.execute_reply": "2021-12-22T10:15:38.238790Z",
     "shell.execute_reply.started": "2021-12-22T08:59:30.585353Z"
    },
    "id": "MDXouK9IwH-D",
    "outputId": "84540582-5496-4ea9-9e41-f0eb6765fa71",
    "papermill": {
     "duration": 0.221915,
     "end_time": "2021-12-22T10:15:38.238958",
     "exception": false,
     "start_time": "2021-12-22T10:15:38.017043",
     "status": "completed"
    },
    "tags": []
   },
   "outputs": [],
   "source": [
    "# then joining encoded, one-hot-encoded, and original attack label attribute\n",
    "pearson_bin_dataset = numeric_bin_data[highest_corr_columns]\n",
    "pearson_bin_dataset"
   ]
  },
  {
   "cell_type": "markdown",
   "id": "8b82b40e",
   "metadata": {
    "id": "vE8066oQFQbo",
    "papermill": {
     "duration": 0.185403,
     "end_time": "2021-12-22T10:15:38.608550",
     "exception": false,
     "start_time": "2021-12-22T10:15:38.423147",
     "status": "completed"
    },
    "tags": []
   },
   "source": [
    "### pearson corrolation for multi-class dataset\n",
    "\n",
    "*   feature selection from numeric_multi_data\n",
    "*   pearson_multi_dataset is multi-class dataset based on pearson corrolation between numeric features and multi-class ( Types of Attacks)\n",
    "\n"
   ]
  },
  {
   "cell_type": "code",
   "execution_count": null,
   "id": "4ffd69d8",
   "metadata": {
    "execution": {
     "iopub.execute_input": "2021-12-22T10:15:38.982201Z",
     "iopub.status.busy": "2021-12-22T10:15:38.981483Z",
     "iopub.status.idle": "2021-12-22T10:15:39.692718Z",
     "shell.execute_reply": "2021-12-22T10:15:39.693371Z",
     "shell.execute_reply.started": "2021-12-22T08:59:31.812738Z"
    },
    "id": "a9_JswE2w0RK",
    "outputId": "75fedc57-458b-47a9-c604-56805cfdf534",
    "papermill": {
     "duration": 0.898881,
     "end_time": "2021-12-22T10:15:39.693553",
     "exception": false,
     "start_time": "2021-12-22T10:15:38.794672",
     "status": "completed"
    },
    "tags": []
   },
   "outputs": [],
   "source": [
    "# finding the attributes which have more than 0.5 correlation with encoded attack label attribute \n",
    "corr = numeric_multi_data.corr()\n",
    "corr_y = abs(corr[y_train_num_multi.columns])\n",
    "highest_corr = corr_y[corr_y >0.5]\n",
    "highest_corr"
   ]
  },
  {
   "cell_type": "code",
   "execution_count": null,
   "id": "899096d4",
   "metadata": {
    "execution": {
     "iopub.execute_input": "2021-12-22T10:15:40.065485Z",
     "iopub.status.busy": "2021-12-22T10:15:40.064721Z",
     "iopub.status.idle": "2021-12-22T10:15:40.072584Z",
     "shell.execute_reply": "2021-12-22T10:15:40.073155Z",
     "shell.execute_reply.started": "2021-12-22T08:59:32.722907Z"
    },
    "id": "grxQhDx8A14f",
    "papermill": {
     "duration": 0.196233,
     "end_time": "2021-12-22T10:15:40.073353",
     "exception": false,
     "start_time": "2021-12-22T10:15:39.877120",
     "status": "completed"
    },
    "tags": []
   },
   "outputs": [],
   "source": [
    "Dos_features= highest_corr[highest_corr.Dos.notnull()].index\n",
    "Probe_features= highest_corr[highest_corr.Probe.notnull()].index\n",
    "R2L_features= highest_corr[highest_corr.R2L.notnull()].index\n",
    "U2R_features= highest_corr[highest_corr.U2R.notnull()].index\n",
    "normal_features= highest_corr[highest_corr.normal.notnull()].index\n"
   ]
  },
  {
   "cell_type": "code",
   "execution_count": null,
   "id": "c0288e9f",
   "metadata": {
    "execution": {
     "iopub.execute_input": "2021-12-22T10:15:40.447611Z",
     "iopub.status.busy": "2021-12-22T10:15:40.446923Z",
     "iopub.status.idle": "2021-12-22T10:15:40.452867Z",
     "shell.execute_reply": "2021-12-22T10:15:40.453491Z",
     "shell.execute_reply.started": "2021-12-22T08:59:33.686692Z"
    },
    "id": "qkTyge9oC58K",
    "outputId": "9eeab0e3-ff42-4cf0-e1b7-f1d6901c3e74",
    "papermill": {
     "duration": 0.192916,
     "end_time": "2021-12-22T10:15:40.453676",
     "exception": false,
     "start_time": "2021-12-22T10:15:40.260760",
     "status": "completed"
    },
    "tags": []
   },
   "outputs": [],
   "source": [
    "Dos_features.intersection(Probe_features)"
   ]
  },
  {
   "cell_type": "code",
   "execution_count": null,
   "id": "088d5f59",
   "metadata": {
    "execution": {
     "iopub.execute_input": "2021-12-22T10:15:40.827231Z",
     "iopub.status.busy": "2021-12-22T10:15:40.826511Z",
     "iopub.status.idle": "2021-12-22T10:15:40.837599Z",
     "shell.execute_reply": "2021-12-22T10:15:40.838142Z",
     "shell.execute_reply.started": "2021-12-22T08:59:34.277827Z"
    },
    "id": "VLWwWdtTCbb0",
    "outputId": "402f308c-a1e9-4283-c963-88eda6f8de6e",
    "papermill": {
     "duration": 0.199965,
     "end_time": "2021-12-22T10:15:40.838342",
     "exception": false,
     "start_time": "2021-12-22T10:15:40.638377",
     "status": "completed"
    },
    "tags": []
   },
   "outputs": [],
   "source": [
    "pearson_multi_features = list(set(Dos_features.union(normal_features).union(Probe_features).union(R2L_features).union(U2R_features)))\n",
    "for lab in y_train_num_multi.columns:\n",
    "  pearson_multi_features.remove(lab)\n",
    "pearson_multi_features\n"
   ]
  },
  {
   "cell_type": "code",
   "execution_count": null,
   "id": "34b5ce29",
   "metadata": {
    "execution": {
     "iopub.execute_input": "2021-12-22T10:15:41.210600Z",
     "iopub.status.busy": "2021-12-22T10:15:41.209940Z",
     "iopub.status.idle": "2021-12-22T10:15:41.254461Z",
     "shell.execute_reply": "2021-12-22T10:15:41.254921Z",
     "shell.execute_reply.started": "2021-12-22T08:59:35.534116Z"
    },
    "id": "uWjnuKEvD9tV",
    "outputId": "2262e34e-13d5-46be-aa6f-0317d8d8d205",
    "papermill": {
     "duration": 0.23144,
     "end_time": "2021-12-22T10:15:41.255110",
     "exception": false,
     "start_time": "2021-12-22T10:15:41.023670",
     "status": "completed"
    },
    "tags": []
   },
   "outputs": [],
   "source": [
    "# then joining encoded, one-hot-encoded, and original attack label attribute\n",
    "pearson_multi_dataset = numeric_multi_data[pearson_multi_features]\n",
    "pearson_multi_dataset"
   ]
  },
  {
   "cell_type": "code",
   "execution_count": null,
   "id": "20507377",
   "metadata": {
    "execution": {
     "iopub.execute_input": "2021-12-22T10:15:41.635354Z",
     "iopub.status.busy": "2021-12-22T10:15:41.634623Z",
     "iopub.status.idle": "2021-12-22T10:15:41.664220Z",
     "shell.execute_reply": "2021-12-22T10:15:41.664756Z",
     "shell.execute_reply.started": "2021-12-22T08:59:40.965647Z"
    },
    "id": "qUNBMbtbE-rF",
    "outputId": "8e244906-1b28-41b7-fe58-fa7585e151f2",
    "papermill": {
     "duration": 0.220669,
     "end_time": "2021-12-22T10:15:41.664938",
     "exception": false,
     "start_time": "2021-12-22T10:15:41.444269",
     "status": "completed"
    },
    "tags": []
   },
   "outputs": [],
   "source": [
    "pearson_multi_dataset = pearson_multi_dataset.join(y_train_num_multi)\n",
    "pearson_multi_dataset"
   ]
  },
  {
   "cell_type": "markdown",
   "id": "3a9664b6",
   "metadata": {
    "id": "vJmRNKyfZqmQ",
    "papermill": {
     "duration": 0.189632,
     "end_time": "2021-12-22T10:15:42.044338",
     "exception": false,
     "start_time": "2021-12-22T10:15:41.854706",
     "status": "completed"
    },
    "tags": []
   },
   "source": [
    "### Chi Square\n",
    "\n",
    "used for feature selection (binary classification)"
   ]
  },
  {
   "cell_type": "markdown",
   "id": "106cc4f8",
   "metadata": {
    "id": "OcWff_7GWniZ",
    "papermill": {
     "duration": 0.187304,
     "end_time": "2021-12-22T10:15:42.418327",
     "exception": false,
     "start_time": "2021-12-22T10:15:42.231023",
     "status": "completed"
    },
    "tags": []
   },
   "source": [
    "\n",
    "\n",
    "1.   Define Hypothesis.\n",
    "\n",
    "*   Null Hypothesis (H0): Two variables are independent.\n",
    "*   Alternate Hypothesis (H1): Two variables are not independent.\n",
    "\n",
    "\n",
    "2.   Build a Contingency table.\n",
    "\n",
    "\n",
    "*   number of sample in dataset that use tcp protocol type and led to intusion\n",
    "*   number of sample in dataset that use tcp protocol type and led to normal situation\n",
    "\n",
    "\n",
    "*   Degrees of freedom for contingency table is given as (r-1) * (c-1) where r,c are rows and columns.\n",
    "\n",
    "\n",
    "\n",
    "\n",
    "\n",
    "3.   Find the expected values.\n",
    "\n",
    "\n",
    "\n",
    "*   Based on the null hypothesis that the two variables are independent. We can say if A, B are two independent events P(A^B)= P(A)*P(B)\n",
    "\n",
    "*   Let’s calculate the expected value for the first cell that is those who are Males and are Exited from the bank. E1= n*p\n",
    "\n",
    "\n",
    "4.   Calculate the Chi-Square statistic.\n",
    "\n",
    "\n",
    "*   O- Observed Valued / E- Expected Values\n",
    "*   (Square of O-E)/E\n",
    "\n",
    "5.   Accept or Reject the Null Hypothesis.\n",
    "\n",
    "\n"
   ]
  },
  {
   "cell_type": "code",
   "execution_count": null,
   "id": "e1b25b07",
   "metadata": {
    "execution": {
     "iopub.execute_input": "2021-12-22T10:15:42.823921Z",
     "iopub.status.busy": "2021-12-22T10:15:42.823234Z",
     "iopub.status.idle": "2021-12-22T10:15:42.986175Z",
     "shell.execute_reply": "2021-12-22T10:15:42.987359Z",
     "shell.execute_reply.started": "2021-12-22T08:59:45.285483Z"
    },
    "id": "PEP6ZfalEaoE",
    "outputId": "76e05b33-e675-4605-a06f-78d38fa6f9f2",
    "papermill": {
     "duration": 0.377306,
     "end_time": "2021-12-22T10:15:42.987698",
     "exception": false,
     "start_time": "2021-12-22T10:15:42.610392",
     "status": "completed"
    },
    "tags": []
   },
   "outputs": [],
   "source": [
    "from sklearn.feature_selection import chi2\n",
    "from sklearn.feature_selection import SelectKBest\n",
    "\n",
    "#feature selection of all features (numeric and categorical features)\n",
    "chi_scores = chi2(X_train_bin,y_train_bin)\n",
    "chi_scores"
   ]
  },
  {
   "cell_type": "code",
   "execution_count": null,
   "id": "c3a9b3c4",
   "metadata": {
    "execution": {
     "iopub.execute_input": "2021-12-22T10:15:43.414505Z",
     "iopub.status.busy": "2021-12-22T10:15:43.413722Z",
     "iopub.status.idle": "2021-12-22T10:15:43.416039Z",
     "shell.execute_reply": "2021-12-22T10:15:43.416624Z",
     "shell.execute_reply.started": "2021-12-22T09:00:03.631573Z"
    },
    "id": "wdLvYZpcE34B",
    "papermill": {
     "duration": 0.19674,
     "end_time": "2021-12-22T10:15:43.416801",
     "exception": false,
     "start_time": "2021-12-22T10:15:43.220061",
     "status": "completed"
    },
    "tags": []
   },
   "outputs": [],
   "source": [
    "p_values = pd.Series(chi_scores[1],index = X_train_bin.columns)\n",
    "\n",
    "p_values.sort_values(ascending = False , inplace = True)"
   ]
  },
  {
   "cell_type": "code",
   "execution_count": null,
   "id": "a44a790e",
   "metadata": {
    "execution": {
     "iopub.execute_input": "2021-12-22T10:15:43.810700Z",
     "iopub.status.busy": "2021-12-22T10:15:43.809803Z",
     "iopub.status.idle": "2021-12-22T10:15:43.812699Z",
     "shell.execute_reply": "2021-12-22T10:15:43.812013Z",
     "shell.execute_reply.started": "2021-12-22T09:00:05.514726Z"
    },
    "id": "g8D-os4SFG02",
    "papermill": {
     "duration": 0.202075,
     "end_time": "2021-12-22T10:15:43.812844",
     "exception": false,
     "start_time": "2021-12-22T10:15:43.610769",
     "status": "completed"
    },
    "tags": []
   },
   "outputs": [],
   "source": [
    "#select 20 best features\n",
    "p_values = p_values[:20]"
   ]
  },
  {
   "cell_type": "code",
   "execution_count": null,
   "id": "e2c114c4",
   "metadata": {
    "execution": {
     "iopub.execute_input": "2021-12-22T10:15:44.202517Z",
     "iopub.status.busy": "2021-12-22T10:15:44.201770Z",
     "iopub.status.idle": "2021-12-22T10:15:44.525468Z",
     "shell.execute_reply": "2021-12-22T10:15:44.524464Z",
     "shell.execute_reply.started": "2021-12-22T09:00:07.496742Z"
    },
    "id": "QljOFfeCE5VE",
    "outputId": "d00971eb-be88-460b-b0ca-eb4455db839b",
    "papermill": {
     "duration": 0.518716,
     "end_time": "2021-12-22T10:15:44.525615",
     "exception": false,
     "start_time": "2021-12-22T10:15:44.006899",
     "status": "completed"
    },
    "tags": []
   },
   "outputs": [],
   "source": [
    "p_values.plot.bar()"
   ]
  },
  {
   "cell_type": "code",
   "execution_count": null,
   "id": "e2f01af4",
   "metadata": {
    "execution": {
     "iopub.execute_input": "2021-12-22T10:15:44.915821Z",
     "iopub.status.busy": "2021-12-22T10:15:44.914620Z",
     "iopub.status.idle": "2021-12-22T10:15:45.001403Z",
     "shell.execute_reply": "2021-12-22T10:15:45.000320Z",
     "shell.execute_reply.started": "2021-12-22T09:00:10.867645Z"
    },
    "id": "xEYyn9SeZtOV",
    "papermill": {
     "duration": 0.282438,
     "end_time": "2021-12-22T10:15:45.001662",
     "exception": false,
     "start_time": "2021-12-22T10:15:44.719224",
     "status": "completed"
    },
    "tags": []
   },
   "outputs": [],
   "source": [
    "#feature selection of numeric features\n",
    "\n",
    "bestfeatures = SelectKBest(score_func=chi2, k=10)\n",
    "fit = bestfeatures.fit(X_train_num_bin,y_train_num_bin)"
   ]
  },
  {
   "cell_type": "code",
   "execution_count": null,
   "id": "51338de0",
   "metadata": {
    "execution": {
     "iopub.execute_input": "2021-12-22T10:15:45.444135Z",
     "iopub.status.busy": "2021-12-22T10:15:45.443391Z",
     "iopub.status.idle": "2021-12-22T10:15:45.446682Z",
     "shell.execute_reply": "2021-12-22T10:15:45.446107Z",
     "shell.execute_reply.started": "2021-12-22T09:00:11.567249Z"
    },
    "id": "vSybxYUKd6rZ",
    "papermill": {
     "duration": 0.203899,
     "end_time": "2021-12-22T10:15:45.446860",
     "exception": false,
     "start_time": "2021-12-22T10:15:45.242961",
     "status": "completed"
    },
    "tags": []
   },
   "outputs": [],
   "source": [
    "dfscores = pd.DataFrame(fit.scores_)\n",
    "dfcolumns = pd.DataFrame(X_train_num_bin.columns)"
   ]
  },
  {
   "cell_type": "code",
   "execution_count": null,
   "id": "a2531cbb",
   "metadata": {
    "execution": {
     "iopub.execute_input": "2021-12-22T10:15:45.847577Z",
     "iopub.status.busy": "2021-12-22T10:15:45.846594Z",
     "iopub.status.idle": "2021-12-22T10:15:45.850649Z",
     "shell.execute_reply": "2021-12-22T10:15:45.850140Z",
     "shell.execute_reply.started": "2021-12-22T09:00:12.398239Z"
    },
    "id": "jqzArMIteBkR",
    "outputId": "0c4892cd-8b1f-4d0c-a06d-7553ed47a416",
    "papermill": {
     "duration": 0.209897,
     "end_time": "2021-12-22T10:15:45.850790",
     "exception": false,
     "start_time": "2021-12-22T10:15:45.640893",
     "status": "completed"
    },
    "tags": []
   },
   "outputs": [],
   "source": [
    "#concat two dataframes for better visualization \n",
    "featureScores = pd.concat([dfcolumns,dfscores],axis=1)\n",
    "featureScores.columns = ['Specs','Score']  #naming the dataframe columns\n",
    "featureScores"
   ]
  },
  {
   "cell_type": "code",
   "execution_count": null,
   "id": "438cfeae",
   "metadata": {
    "execution": {
     "iopub.execute_input": "2021-12-22T10:15:46.239682Z",
     "iopub.status.busy": "2021-12-22T10:15:46.238997Z",
     "iopub.status.idle": "2021-12-22T10:15:46.250054Z",
     "shell.execute_reply": "2021-12-22T10:15:46.250553Z",
     "shell.execute_reply.started": "2021-12-22T09:00:18.408143Z"
    },
    "id": "f12oNMzzew6y",
    "outputId": "3d8a1e0c-2889-4ce1-f17e-e163de617c50",
    "papermill": {
     "duration": 0.207724,
     "end_time": "2021-12-22T10:15:46.250733",
     "exception": false,
     "start_time": "2021-12-22T10:15:46.043009",
     "status": "completed"
    },
    "tags": []
   },
   "outputs": [],
   "source": [
    "data_chi2_10best = pd.DataFrame(featureScores.nlargest(10,'Score'))  #print 10 best features\n",
    "data_chi2_10best"
   ]
  },
  {
   "cell_type": "code",
   "execution_count": null,
   "id": "82482f7f",
   "metadata": {
    "execution": {
     "iopub.execute_input": "2021-12-22T10:15:46.641790Z",
     "iopub.status.busy": "2021-12-22T10:15:46.641043Z",
     "iopub.status.idle": "2021-12-22T10:15:46.644623Z",
     "shell.execute_reply": "2021-12-22T10:15:46.645115Z",
     "shell.execute_reply.started": "2021-12-22T09:00:19.046106Z"
    },
    "id": "I7yX3J4dhX-9",
    "papermill": {
     "duration": 0.20171,
     "end_time": "2021-12-22T10:15:46.645326",
     "exception": false,
     "start_time": "2021-12-22T10:15:46.443616",
     "status": "completed"
    },
    "tags": []
   },
   "outputs": [],
   "source": [
    "data_chi2_10best = list(data_chi2_10best['Specs'])"
   ]
  },
  {
   "cell_type": "code",
   "execution_count": null,
   "id": "3fa15e4b",
   "metadata": {
    "execution": {
     "iopub.execute_input": "2021-12-22T10:15:47.036806Z",
     "iopub.status.busy": "2021-12-22T10:15:47.036123Z",
     "iopub.status.idle": "2021-12-22T10:15:47.059191Z",
     "shell.execute_reply": "2021-12-22T10:15:47.058637Z",
     "shell.execute_reply.started": "2021-12-22T09:00:19.951542Z"
    },
    "id": "8OnFSf5Bhs-4",
    "outputId": "556e80f6-da8c-477f-ad2f-a3b4f02bbb3d",
    "papermill": {
     "duration": 0.219637,
     "end_time": "2021-12-22T10:15:47.059363",
     "exception": false,
     "start_time": "2021-12-22T10:15:46.839726",
     "status": "completed"
    },
    "tags": []
   },
   "outputs": [],
   "source": [
    "Chi2_dataset = X_train_num_bin[data_chi2_10best]\n",
    "Chi2_dataset"
   ]
  },
  {
   "cell_type": "markdown",
   "id": "2aa34581",
   "metadata": {
    "id": "MJfQlFxEivjq",
    "papermill": {
     "duration": 0.192843,
     "end_time": "2021-12-22T10:15:47.445903",
     "exception": false,
     "start_time": "2021-12-22T10:15:47.253060",
     "status": "completed"
    },
    "tags": []
   },
   "source": [
    "### Tree Based Classifiers"
   ]
  },
  {
   "cell_type": "code",
   "execution_count": null,
   "id": "f7087236",
   "metadata": {
    "execution": {
     "iopub.execute_input": "2021-12-22T10:15:47.835689Z",
     "iopub.status.busy": "2021-12-22T10:15:47.835017Z",
     "iopub.status.idle": "2021-12-22T10:16:12.419235Z",
     "shell.execute_reply": "2021-12-22T10:16:12.419734Z",
     "shell.execute_reply.started": "2021-12-22T09:00:21.597550Z"
    },
    "id": "MRYuvBcCiQuE",
    "outputId": "7813f2b0-4ad2-4c50-8444-394a60e94c80",
    "papermill": {
     "duration": 24.781073,
     "end_time": "2021-12-22T10:16:12.419914",
     "exception": false,
     "start_time": "2021-12-22T10:15:47.638841",
     "status": "completed"
    },
    "tags": []
   },
   "outputs": [],
   "source": [
    "from sklearn.ensemble import ExtraTreesClassifier\n",
    "import matplotlib.pyplot as plt\n",
    "model = ExtraTreesClassifier()\n",
    "model.fit(X_train_multi,y_train_multi)"
   ]
  },
  {
   "cell_type": "code",
   "execution_count": null,
   "id": "30414f25",
   "metadata": {
    "execution": {
     "iopub.execute_input": "2021-12-22T10:16:12.806334Z",
     "iopub.status.busy": "2021-12-22T10:16:12.805693Z",
     "iopub.status.idle": "2021-12-22T10:16:12.826367Z",
     "shell.execute_reply": "2021-12-22T10:16:12.827100Z",
     "shell.execute_reply.started": "2021-12-22T09:00:50.375125Z"
    },
    "id": "CuiNK_Rdiggy",
    "outputId": "67d91fd0-940a-44db-aee7-1f0b863f1553",
    "papermill": {
     "duration": 0.216686,
     "end_time": "2021-12-22T10:16:12.827363",
     "exception": false,
     "start_time": "2021-12-22T10:16:12.610677",
     "status": "completed"
    },
    "tags": []
   },
   "outputs": [],
   "source": [
    "print(model.feature_importances_) #use inbuilt class feature_importances of tree based classifiers"
   ]
  },
  {
   "cell_type": "code",
   "execution_count": null,
   "id": "b1e55318",
   "metadata": {
    "execution": {
     "iopub.execute_input": "2021-12-22T10:16:13.216442Z",
     "iopub.status.busy": "2021-12-22T10:16:13.215715Z",
     "iopub.status.idle": "2021-12-22T10:16:13.464979Z",
     "shell.execute_reply": "2021-12-22T10:16:13.464313Z",
     "shell.execute_reply.started": "2021-12-22T09:00:50.404237Z"
    },
    "id": "VpuSXkHfikfi",
    "outputId": "dffc116c-de98-475e-f248-29744bcda35e",
    "papermill": {
     "duration": 0.44495,
     "end_time": "2021-12-22T10:16:13.465124",
     "exception": false,
     "start_time": "2021-12-22T10:16:13.020174",
     "status": "completed"
    },
    "tags": []
   },
   "outputs": [],
   "source": [
    "#plot graph of feature importances for better visualization\n",
    "feat_importances = pd.Series(model.feature_importances_, index=X_train_multi.columns)\n",
    "feat_importances.nlargest(10).plot(kind='barh')\n",
    "plt.show()"
   ]
  },
  {
   "cell_type": "code",
   "execution_count": null,
   "id": "21062d4d",
   "metadata": {
    "execution": {
     "iopub.execute_input": "2021-12-22T10:16:13.863144Z",
     "iopub.status.busy": "2021-12-22T10:16:13.862447Z",
     "iopub.status.idle": "2021-12-22T10:16:31.825180Z",
     "shell.execute_reply": "2021-12-22T10:16:31.825749Z",
     "shell.execute_reply.started": "2021-12-22T09:00:50.619320Z"
    },
    "id": "SQ_qdHhXTUAo",
    "outputId": "9ad85c4e-6b98-44e9-8db8-e7a49108990f",
    "papermill": {
     "duration": 18.165403,
     "end_time": "2021-12-22T10:16:31.825931",
     "exception": false,
     "start_time": "2021-12-22T10:16:13.660528",
     "status": "completed"
    },
    "tags": []
   },
   "outputs": [],
   "source": [
    "from sklearn.ensemble import ExtraTreesClassifier\n",
    "import matplotlib.pyplot as plt\n",
    "model = ExtraTreesClassifier()\n",
    "model.fit(X_train_num_multi,y_train_num_multi)"
   ]
  },
  {
   "cell_type": "code",
   "execution_count": null,
   "id": "0014802f",
   "metadata": {
    "execution": {
     "iopub.execute_input": "2021-12-22T10:16:32.220020Z",
     "iopub.status.busy": "2021-12-22T10:16:32.219289Z",
     "iopub.status.idle": "2021-12-22T10:16:32.466767Z",
     "shell.execute_reply": "2021-12-22T10:16:32.466162Z",
     "shell.execute_reply.started": "2021-12-22T09:01:07.986629Z"
    },
    "id": "poHmboAjTXfT",
    "outputId": "611a37ef-5474-4b8c-ccd1-0f46fafa4960",
    "papermill": {
     "duration": 0.44575,
     "end_time": "2021-12-22T10:16:32.466925",
     "exception": false,
     "start_time": "2021-12-22T10:16:32.021175",
     "status": "completed"
    },
    "tags": []
   },
   "outputs": [],
   "source": [
    "#plot graph of feature importances for better visualization\n",
    "feat_importances = pd.Series(model.feature_importances_, index=X_train_num_multi.columns)\n",
    "feat_importances.nlargest(10).plot(kind='barh')\n",
    "plt.show()"
   ]
  },
  {
   "cell_type": "markdown",
   "id": "6239ab87",
   "metadata": {
    "id": "_x0tLIJGixnx",
    "papermill": {
     "duration": 0.26151,
     "end_time": "2021-12-22T10:16:32.923848",
     "exception": false,
     "start_time": "2021-12-22T10:16:32.662338",
     "status": "completed"
    },
    "tags": []
   },
   "source": [
    "### xgboost"
   ]
  },
  {
   "cell_type": "code",
   "execution_count": null,
   "id": "b0a85db9",
   "metadata": {
    "execution": {
     "iopub.execute_input": "2021-12-22T10:16:33.315911Z",
     "iopub.status.busy": "2021-12-22T10:16:33.315217Z",
     "iopub.status.idle": "2021-12-22T10:17:01.960054Z",
     "shell.execute_reply": "2021-12-22T10:17:01.960633Z",
     "shell.execute_reply.started": "2021-12-22T09:03:22.159269Z"
    },
    "id": "EPTCwIESi0qZ",
    "outputId": "5591a44f-3bd0-43d8-c2fa-090b8fe750d4",
    "papermill": {
     "duration": 28.841755,
     "end_time": "2021-12-22T10:17:01.960835",
     "exception": false,
     "start_time": "2021-12-22T10:16:33.119080",
     "status": "completed"
    },
    "tags": []
   },
   "outputs": [],
   "source": [
    "import xgboost\n",
    "import matplotlib.pyplot as plt\n",
    "\n",
    "model = xgboost.XGBClassifier()\n",
    "model.fit(X_train_bin,y_train_bin)\n",
    "print(model.feature_importances_) "
   ]
  },
  {
   "cell_type": "code",
   "execution_count": null,
   "id": "0a345b65",
   "metadata": {
    "execution": {
     "iopub.execute_input": "2021-12-22T10:17:02.359468Z",
     "iopub.status.busy": "2021-12-22T10:17:02.358649Z",
     "iopub.status.idle": "2021-12-22T10:17:02.595016Z",
     "shell.execute_reply": "2021-12-22T10:17:02.594484Z",
     "shell.execute_reply.started": "2021-12-22T09:03:52.082952Z"
    },
    "id": "oViayATxi-0V",
    "outputId": "4bc2bfe1-6b7f-432d-b3c0-f12cf20e9787",
    "papermill": {
     "duration": 0.433985,
     "end_time": "2021-12-22T10:17:02.595159",
     "exception": false,
     "start_time": "2021-12-22T10:17:02.161174",
     "status": "completed"
    },
    "tags": []
   },
   "outputs": [],
   "source": [
    "# plot the graph of feature importances for better visualization \n",
    "#feature selection of numeric dataser\n",
    "\n",
    "feat_imp = pd.Series(model.feature_importances_, index=X_train_bin.columns)\n",
    "feat_imp.nlargest(10).plot(kind='barh')\n",
    "\n",
    "plt.figure(figsize=(8,6))\n",
    "plt.show()"
   ]
  },
  {
   "cell_type": "code",
   "execution_count": null,
   "id": "85ef1401",
   "metadata": {
    "execution": {
     "iopub.execute_input": "2021-12-22T10:17:02.994167Z",
     "iopub.status.busy": "2021-12-22T10:17:02.992791Z",
     "iopub.status.idle": "2021-12-22T10:17:14.665561Z",
     "shell.execute_reply": "2021-12-22T10:17:14.666325Z",
     "shell.execute_reply.started": "2021-12-22T09:03:52.306852Z"
    },
    "id": "nTvd5yUUul0b",
    "outputId": "65d5af64-a72f-48f6-fc68-7b5730e6ba68",
    "papermill": {
     "duration": 11.877088,
     "end_time": "2021-12-22T10:17:14.666573",
     "exception": false,
     "start_time": "2021-12-22T10:17:02.789485",
     "status": "completed"
    },
    "tags": []
   },
   "outputs": [],
   "source": [
    "model = xgboost.XGBClassifier()\n",
    "model.fit(X_train_num_bin,y_train_num_bin)\n",
    "print(model.feature_importances_) "
   ]
  },
  {
   "cell_type": "code",
   "execution_count": null,
   "id": "9f714674",
   "metadata": {
    "execution": {
     "iopub.execute_input": "2021-12-22T10:17:15.073068Z",
     "iopub.status.busy": "2021-12-22T10:17:15.070375Z",
     "iopub.status.idle": "2021-12-22T10:17:15.302378Z",
     "shell.execute_reply": "2021-12-22T10:17:15.301683Z",
     "shell.execute_reply.started": "2021-12-22T09:04:04.397519Z"
    },
    "id": "2QGNrNlLuorZ",
    "outputId": "40fa465a-d8f6-4fc6-b3bd-c3416719c0c8",
    "papermill": {
     "duration": 0.436536,
     "end_time": "2021-12-22T10:17:15.302524",
     "exception": false,
     "start_time": "2021-12-22T10:17:14.865988",
     "status": "completed"
    },
    "tags": []
   },
   "outputs": [],
   "source": [
    "# plot the graph of feature importances for better visualization \n",
    "#feature selection of hole dataset\n",
    "\n",
    "feat_imp = pd.Series(model.feature_importances_, index=X_train_num_bin.columns)\n",
    "feat_imp.nlargest(10).plot(kind='barh')\n",
    "\n",
    "plt.figure(figsize=(8,6))\n",
    "plt.show()"
   ]
  },
  {
   "cell_type": "markdown",
   "id": "fe9bd335",
   "metadata": {
    "id": "bPhDQPsiuT_R",
    "papermill": {
     "duration": 0.199531,
     "end_time": "2021-12-22T10:17:15.707354",
     "exception": false,
     "start_time": "2021-12-22T10:17:15.507823",
     "status": "completed"
    },
    "tags": []
   },
   "source": [
    "# **Data Standardization**\n",
    "\n",
    "\n",
    "\n",
    "\n",
    "\n",
    "\n"
   ]
  },
  {
   "cell_type": "markdown",
   "id": "50664458",
   "metadata": {
    "id": "PLFKyH4oGO40",
    "papermill": {
     "duration": 0.204747,
     "end_time": "2021-12-22T10:17:16.117387",
     "exception": false,
     "start_time": "2021-12-22T10:17:15.912640",
     "status": "completed"
    },
    "tags": []
   },
   "source": [
    "*   Formula = z = x  -mean / standard deviation\n",
    "* **Scaling vs. Normalization**: What's the difference? The difference is that, in **scaling, you're changing the range of your data**. When you standardize a normal distribution, the mean becomes 0 and the standard deviation becomes 1. This allows you to **easily calculate the probability** of certain values occurring in your distribution, or to compare data sets with different means and standard deviations... while in **normalization you're changing the shape of the distribution** of your data.\n",
    "\n",
    "* **Standardization is useful** when your data has varying scales and the **algorithm you are using does make assumptions about your data having a Gaussian distribution**, such as linear regression, logistic regression and linear discriminant analysis\n",
    "\n",
    "* **Normalization is useful** when your data has varying scales and the **algorithm you are using does not make assumptions about the distribution** of your data, such as k-nearest neighbors and artificial neural networks. Standardization assumes that your data has a Gaussian (bell curve) distribution\n",
    "\n",
    "*   X for data\n",
    "*   y_bin for binary classification label\n",
    "*   y_multi for multi-class classification label"
   ]
  },
  {
   "cell_type": "code",
   "execution_count": null,
   "id": "635e9a04",
   "metadata": {
    "execution": {
     "iopub.execute_input": "2021-12-22T10:17:16.537169Z",
     "iopub.status.busy": "2021-12-22T10:17:16.536492Z",
     "iopub.status.idle": "2021-12-22T10:17:16.538273Z",
     "shell.execute_reply": "2021-12-22T10:17:16.538801Z",
     "shell.execute_reply.started": "2021-12-22T09:04:04.608402Z"
    },
    "id": "Fn_752fauXif",
    "papermill": {
     "duration": 0.218748,
     "end_time": "2021-12-22T10:17:16.538969",
     "exception": false,
     "start_time": "2021-12-22T10:17:16.320221",
     "status": "completed"
    },
    "tags": []
   },
   "outputs": [],
   "source": [
    "# selecting numeric attributes columns from data\n",
    "numeric_col = train_data.select_dtypes(include='number').columns"
   ]
  },
  {
   "cell_type": "code",
   "execution_count": null,
   "id": "b669fa9f",
   "metadata": {
    "execution": {
     "iopub.execute_input": "2021-12-22T10:17:16.945891Z",
     "iopub.status.busy": "2021-12-22T10:17:16.945198Z",
     "iopub.status.idle": "2021-12-22T10:17:16.947078Z",
     "shell.execute_reply": "2021-12-22T10:17:16.947661Z",
     "shell.execute_reply.started": "2021-12-22T09:04:04.630969Z"
    },
    "id": "GlomL-WjugZ-",
    "papermill": {
     "duration": 0.21025,
     "end_time": "2021-12-22T10:17:16.947828",
     "exception": false,
     "start_time": "2021-12-22T10:17:16.737578",
     "status": "completed"
    },
    "tags": []
   },
   "outputs": [],
   "source": [
    "# using standard scaler for normalizing\n",
    "std_scaler = StandardScaler()\n",
    "def standardization(df,col):\n",
    "  for i in col:\n",
    "    arr = df[i]\n",
    "    arr = np.array(arr)\n",
    "    df[i] = std_scaler.fit_transform(arr.reshape(len(arr),1))\n",
    "  return df"
   ]
  },
  {
   "cell_type": "code",
   "execution_count": null,
   "id": "845ab727",
   "metadata": {
    "execution": {
     "iopub.execute_input": "2021-12-22T10:17:17.355810Z",
     "iopub.status.busy": "2021-12-22T10:17:17.355096Z",
     "iopub.status.idle": "2021-12-22T10:17:17.412637Z",
     "shell.execute_reply": "2021-12-22T10:17:17.412002Z",
     "shell.execute_reply.started": "2021-12-22T09:04:04.644579Z"
    },
    "id": "2S3nvRfnuist",
    "outputId": "4dbd4b9e-cabc-43ae-86fe-7cf9e0b52a68",
    "papermill": {
     "duration": 0.265974,
     "end_time": "2021-12-22T10:17:17.412794",
     "exception": false,
     "start_time": "2021-12-22T10:17:17.146820",
     "status": "completed"
    },
    "tags": []
   },
   "outputs": [],
   "source": [
    "# data before normalization\n",
    "train_data"
   ]
  },
  {
   "cell_type": "code",
   "execution_count": null,
   "id": "eff396d1",
   "metadata": {
    "execution": {
     "iopub.execute_input": "2021-12-22T10:17:17.822955Z",
     "iopub.status.busy": "2021-12-22T10:17:17.821991Z",
     "iopub.status.idle": "2021-12-22T10:17:18.007966Z",
     "shell.execute_reply": "2021-12-22T10:17:18.007388Z",
     "shell.execute_reply.started": "2021-12-22T09:04:04.721156Z"
    },
    "id": "KoG-NQ4purIb",
    "papermill": {
     "duration": 0.395384,
     "end_time": "2021-12-22T10:17:18.008126",
     "exception": false,
     "start_time": "2021-12-22T10:17:17.612742",
     "status": "completed"
    },
    "tags": []
   },
   "outputs": [],
   "source": [
    "# calling the normalization() function\n",
    "data = standardization(train_data.copy(),numeric_col)"
   ]
  },
  {
   "cell_type": "code",
   "execution_count": null,
   "id": "2bd4299d",
   "metadata": {
    "execution": {
     "iopub.execute_input": "2021-12-22T10:17:18.419475Z",
     "iopub.status.busy": "2021-12-22T10:17:18.418527Z",
     "iopub.status.idle": "2021-12-22T10:17:18.444205Z",
     "shell.execute_reply": "2021-12-22T10:17:18.443510Z",
     "shell.execute_reply.started": "2021-12-22T09:04:04.921434Z"
    },
    "id": "BBI8HI8huvaU",
    "outputId": "51548b58-f03d-493f-e82c-17ad83c1350a",
    "papermill": {
     "duration": 0.235817,
     "end_time": "2021-12-22T10:17:18.444369",
     "exception": false,
     "start_time": "2021-12-22T10:17:18.208552",
     "status": "completed"
    },
    "tags": []
   },
   "outputs": [],
   "source": [
    "# data after normalization\n",
    "data.head()"
   ]
  },
  {
   "cell_type": "code",
   "execution_count": null,
   "id": "af23bcff",
   "metadata": {
    "execution": {
     "iopub.execute_input": "2021-12-22T10:17:18.850708Z",
     "iopub.status.busy": "2021-12-22T10:17:18.849785Z",
     "iopub.status.idle": "2021-12-22T10:17:18.852891Z",
     "shell.execute_reply": "2021-12-22T10:17:18.852206Z",
     "shell.execute_reply.started": "2021-12-22T09:04:04.957491Z"
    },
    "id": "P3wtMCAPu3V7",
    "papermill": {
     "duration": 0.204201,
     "end_time": "2021-12-22T10:17:18.853039",
     "exception": false,
     "start_time": "2021-12-22T10:17:18.648838",
     "status": "completed"
    },
    "tags": []
   },
   "outputs": [],
   "source": [
    "# selecting categorical data attributes\n",
    "cat_col = ['protocol_type','service','flag']"
   ]
  },
  {
   "cell_type": "code",
   "execution_count": null,
   "id": "b44e36fb",
   "metadata": {
    "execution": {
     "iopub.execute_input": "2021-12-22T10:17:19.257545Z",
     "iopub.status.busy": "2021-12-22T10:17:19.256833Z",
     "iopub.status.idle": "2021-12-22T10:17:19.294055Z",
     "shell.execute_reply": "2021-12-22T10:17:19.293523Z",
     "shell.execute_reply.started": "2021-12-22T09:04:04.964081Z"
    },
    "id": "E-7OhyTbu7XH",
    "outputId": "632349d2-2314-4032-ef6e-e42444847a99",
    "papermill": {
     "duration": 0.240996,
     "end_time": "2021-12-22T10:17:19.294202",
     "exception": false,
     "start_time": "2021-12-22T10:17:19.053206",
     "status": "completed"
    },
    "tags": []
   },
   "outputs": [],
   "source": [
    "# creating a dataframe with only categorical attributes\n",
    "categorical = data[cat_col]\n",
    "categorical.head()"
   ]
  },
  {
   "cell_type": "code",
   "execution_count": null,
   "id": "d3e72cb3",
   "metadata": {
    "execution": {
     "iopub.execute_input": "2021-12-22T10:17:19.709114Z",
     "iopub.status.busy": "2021-12-22T10:17:19.708095Z",
     "iopub.status.idle": "2021-12-22T10:17:19.780335Z",
     "shell.execute_reply": "2021-12-22T10:17:19.779484Z",
     "shell.execute_reply.started": "2021-12-22T09:04:05.017980Z"
    },
    "id": "KLSaBVa0u-DP",
    "outputId": "96d8ad9f-d585-420e-b720-f4719ad29d3e",
    "papermill": {
     "duration": 0.286174,
     "end_time": "2021-12-22T10:17:19.780584",
     "exception": false,
     "start_time": "2021-12-22T10:17:19.494410",
     "status": "completed"
    },
    "tags": []
   },
   "outputs": [],
   "source": [
    "# one-hot-encoding categorical attributes using pandas.get_dummies() function\n",
    "categorical = pd.get_dummies(categorical,columns=cat_col)\n",
    "categorical.head()"
   ]
  },
  {
   "cell_type": "code",
   "execution_count": null,
   "id": "57bacbb3",
   "metadata": {
    "execution": {
     "iopub.execute_input": "2021-12-22T10:17:20.202581Z",
     "iopub.status.busy": "2021-12-22T10:17:20.201825Z",
     "iopub.status.idle": "2021-12-22T10:17:20.294292Z",
     "shell.execute_reply": "2021-12-22T10:17:20.293599Z",
     "shell.execute_reply.started": "2021-12-22T09:04:05.092660Z"
    },
    "id": "lgjX09cfQRQM",
    "papermill": {
     "duration": 0.30583,
     "end_time": "2021-12-22T10:17:20.294439",
     "exception": false,
     "start_time": "2021-12-22T10:17:19.988609",
     "status": "completed"
    },
    "tags": []
   },
   "outputs": [],
   "source": [
    "Normalized_dataset = pd.concat([categorical, data],axis=1)\n",
    "Normalized_dataset.drop(labels=cat_col, axis=1, inplace=True)"
   ]
  },
  {
   "cell_type": "code",
   "execution_count": null,
   "id": "a1aa72ba",
   "metadata": {
    "execution": {
     "iopub.execute_input": "2021-12-22T10:17:20.705330Z",
     "iopub.status.busy": "2021-12-22T10:17:20.704571Z",
     "iopub.status.idle": "2021-12-22T10:17:20.728264Z",
     "shell.execute_reply": "2021-12-22T10:17:20.727699Z",
     "shell.execute_reply.started": "2021-12-22T09:04:05.198468Z"
    },
    "id": "g2T-bIRAQ0rU",
    "papermill": {
     "duration": 0.232931,
     "end_time": "2021-12-22T10:17:20.728421",
     "exception": false,
     "start_time": "2021-12-22T10:17:20.495490",
     "status": "completed"
    },
    "tags": []
   },
   "outputs": [],
   "source": [
    "#Normalized_dataset = pd.get_dummies(Normalized_dataset, columns=Normalized_dataset['label'])\n",
    "#Normalized_dataset\n",
    "X = Normalized_dataset.loc[:,:'dst_host_srv_rerror_rate']\n",
    "y_bin = numeric_bin_data['intrusion']"
   ]
  },
  {
   "cell_type": "code",
   "execution_count": null,
   "id": "7650c1ac",
   "metadata": {
    "execution": {
     "iopub.execute_input": "2021-12-22T10:17:21.140025Z",
     "iopub.status.busy": "2021-12-22T10:17:21.139215Z",
     "iopub.status.idle": "2021-12-22T10:17:21.142338Z",
     "shell.execute_reply": "2021-12-22T10:17:21.141670Z",
     "shell.execute_reply.started": "2021-12-22T09:04:05.226806Z"
    },
    "id": "_Lhqti2jv-nV",
    "papermill": {
     "duration": 0.210303,
     "end_time": "2021-12-22T10:17:21.142482",
     "exception": false,
     "start_time": "2021-12-22T10:17:20.932179",
     "status": "completed"
    },
    "tags": []
   },
   "outputs": [],
   "source": [
    "#multi_data.loc[multi_data['label']=='normal','intrusion']"
   ]
  },
  {
   "cell_type": "code",
   "execution_count": null,
   "id": "c57e1d2c",
   "metadata": {
    "execution": {
     "iopub.execute_input": "2021-12-22T10:17:21.547558Z",
     "iopub.status.busy": "2021-12-22T10:17:21.546651Z",
     "iopub.status.idle": "2021-12-22T10:17:21.549807Z",
     "shell.execute_reply": "2021-12-22T10:17:21.549242Z",
     "shell.execute_reply.started": "2021-12-22T09:04:05.232634Z"
    },
    "id": "rgJTjxIZxPNR",
    "papermill": {
     "duration": 0.207214,
     "end_time": "2021-12-22T10:17:21.549965",
     "exception": false,
     "start_time": "2021-12-22T10:17:21.342751",
     "status": "completed"
    },
    "tags": []
   },
   "outputs": [],
   "source": [
    "y_multi = multi_data['label']"
   ]
  },
  {
   "cell_type": "code",
   "execution_count": null,
   "id": "6e290e32",
   "metadata": {
    "execution": {
     "iopub.execute_input": "2021-12-22T10:17:21.994113Z",
     "iopub.status.busy": "2021-12-22T10:17:21.992236Z",
     "iopub.status.idle": "2021-12-22T10:17:22.772176Z",
     "shell.execute_reply": "2021-12-22T10:17:22.772769Z",
     "shell.execute_reply.started": "2021-12-22T09:04:37.141887Z"
    },
    "id": "djMFReMO2oMx",
    "papermill": {
     "duration": 0.985792,
     "end_time": "2021-12-22T10:17:22.772980",
     "exception": false,
     "start_time": "2021-12-22T10:17:21.787188",
     "status": "completed"
    },
    "tags": []
   },
   "outputs": [],
   "source": [
    "from sklearn.preprocessing import LabelBinarizer\n",
    "\n",
    "y_multi = LabelBinarizer().fit_transform(y_multi)"
   ]
  },
  {
   "cell_type": "code",
   "execution_count": null,
   "id": "f15985c2",
   "metadata": {
    "execution": {
     "iopub.execute_input": "2021-12-22T10:17:23.192347Z",
     "iopub.status.busy": "2021-12-22T10:17:23.190623Z",
     "iopub.status.idle": "2021-12-22T10:17:23.196554Z",
     "shell.execute_reply": "2021-12-22T10:17:23.197021Z",
     "shell.execute_reply.started": "2021-12-22T09:04:40.059872Z"
    },
    "id": "oKo-jj743GZ0",
    "outputId": "7a1de388-2ce8-4830-cc14-2ea8c36aa49a",
    "papermill": {
     "duration": 0.214298,
     "end_time": "2021-12-22T10:17:23.197200",
     "exception": false,
     "start_time": "2021-12-22T10:17:22.982902",
     "status": "completed"
    },
    "tags": []
   },
   "outputs": [],
   "source": [
    "y_multi"
   ]
  },
  {
   "cell_type": "markdown",
   "id": "b6173c13",
   "metadata": {
    "id": "22ylZFiJ4tc0",
    "papermill": {
     "duration": 0.201802,
     "end_time": "2021-12-22T10:17:23.598315",
     "exception": false,
     "start_time": "2021-12-22T10:17:23.396513",
     "status": "completed"
    },
    "tags": []
   },
   "source": [
    "# **Modelind**\n",
    "\n",
    "\n",
    "*   Binary Classification\n",
    "*   Multi-class Classification\n",
    "\n"
   ]
  },
  {
   "cell_type": "markdown",
   "id": "931e6910",
   "metadata": {
    "id": "kfgy2ZiE65Pd",
    "papermill": {
     "duration": 0.202294,
     "end_time": "2021-12-22T10:17:24.002494",
     "exception": false,
     "start_time": "2021-12-22T10:17:23.800200",
     "status": "completed"
    },
    "tags": []
   },
   "source": [
    "![download.png](data:image/png;base64,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)"
   ]
  },
  {
   "cell_type": "markdown",
   "id": "4924c27b",
   "metadata": {
    "id": "Z0ECOKCE1nMV",
    "papermill": {
     "duration": 0.202926,
     "end_time": "2021-12-22T10:17:24.411034",
     "exception": false,
     "start_time": "2021-12-22T10:17:24.208108",
     "status": "completed"
    },
    "tags": []
   },
   "source": [
    "## Binary Classification"
   ]
  },
  {
   "cell_type": "markdown",
   "id": "7ac11c28",
   "metadata": {
    "id": "gKnUOf3AxDtG",
    "papermill": {
     "duration": 0.200283,
     "end_time": "2021-12-22T10:17:24.815581",
     "exception": false,
     "start_time": "2021-12-22T10:17:24.615298",
     "status": "completed"
    },
    "tags": []
   },
   "source": [
    "###  Linear Support Vector Machine Classifier with Linear Kernel (Binary Classification)"
   ]
  },
  {
   "cell_type": "code",
   "execution_count": null,
   "id": "677474f9",
   "metadata": {
    "execution": {
     "iopub.execute_input": "2021-12-22T10:17:25.226648Z",
     "iopub.status.busy": "2021-12-22T10:17:25.224702Z",
     "iopub.status.idle": "2021-12-22T10:17:25.298799Z",
     "shell.execute_reply": "2021-12-22T10:17:25.299357Z",
     "shell.execute_reply.started": "2021-12-22T09:04:54.665959Z"
    },
    "id": "vxzodhj-xJmp",
    "papermill": {
     "duration": 0.280892,
     "end_time": "2021-12-22T10:17:25.299537",
     "exception": false,
     "start_time": "2021-12-22T10:17:25.018645",
     "status": "completed"
    },
    "tags": []
   },
   "outputs": [],
   "source": [
    "# splitting the dataset 75% for training and 25% testing\n",
    "X_train, X_test, y_train, y_test = train_test_split(X,y_bin, test_size=0.25, random_state=42)"
   ]
  },
  {
   "cell_type": "code",
   "execution_count": null,
   "id": "9f3bebab",
   "metadata": {
    "execution": {
     "iopub.execute_input": "2021-12-22T10:17:25.706277Z",
     "iopub.status.busy": "2021-12-22T10:17:25.705274Z",
     "iopub.status.idle": "2021-12-22T10:23:01.385508Z",
     "shell.execute_reply": "2021-12-22T10:23:01.386044Z",
     "shell.execute_reply.started": "2021-12-22T09:10:04.239754Z"
    },
    "id": "w-yo-ekmxK48",
    "outputId": "0a582518-019a-4433-9bc8-7688cfbbfa17",
    "papermill": {
     "duration": 335.883164,
     "end_time": "2021-12-22T10:23:01.386229",
     "exception": false,
     "start_time": "2021-12-22T10:17:25.503065",
     "status": "completed"
    },
    "tags": []
   },
   "outputs": [],
   "source": [
    "# using kernel as linear \n",
    "svm = SVC(kernel='linear',gamma='auto') \n",
    "svm.fit(X_train,y_train) # training model on training dataset"
   ]
  },
  {
   "cell_type": "code",
   "execution_count": null,
   "id": "fdbec7f2",
   "metadata": {
    "execution": {
     "iopub.execute_input": "2021-12-22T10:23:01.795029Z",
     "iopub.status.busy": "2021-12-22T10:23:01.793942Z",
     "iopub.status.idle": "2021-12-22T10:23:31.039611Z",
     "shell.execute_reply": "2021-12-22T10:23:31.038988Z",
     "shell.execute_reply.started": "2021-12-22T09:16:25.000904Z"
    },
    "id": "dLfEe-z_xMKr",
    "outputId": "80c603af-386e-44e2-fe8c-00e005d8b864",
    "papermill": {
     "duration": 29.452406,
     "end_time": "2021-12-22T10:23:31.039760",
     "exception": false,
     "start_time": "2021-12-22T10:23:01.587354",
     "status": "completed"
    },
    "tags": []
   },
   "outputs": [],
   "source": [
    "y_pred = svm.predict(X_test) # predicting target attribute on testing dataset\n",
    "ac = accuracy_score(y_test, y_pred)*100 # calculating accuracy of predicted data\n",
    "print(\"LSVM-Classifier Binary Set-Accuracy is \", ac)"
   ]
  },
  {
   "cell_type": "code",
   "execution_count": null,
   "id": "d3d2bddc",
   "metadata": {
    "execution": {
     "iopub.execute_input": "2021-12-22T10:23:31.454306Z",
     "iopub.status.busy": "2021-12-22T10:23:31.453532Z",
     "iopub.status.idle": "2021-12-22T10:23:31.514368Z",
     "shell.execute_reply": "2021-12-22T10:23:31.513622Z",
     "shell.execute_reply.started": "2021-12-22T09:16:47.256078Z"
    },
    "id": "UjvPN33fxQga",
    "outputId": "815b7975-ac32-49e5-9937-bb6bab5b5b13",
    "papermill": {
     "duration": 0.272967,
     "end_time": "2021-12-22T10:23:31.514528",
     "exception": false,
     "start_time": "2021-12-22T10:23:31.241561",
     "status": "completed"
    },
    "tags": []
   },
   "outputs": [],
   "source": [
    "# classification report\n",
    "print(classification_report(y_test, y_pred,target_names=le1.classes_))"
   ]
  },
  {
   "cell_type": "code",
   "execution_count": null,
   "id": "32ae22b8",
   "metadata": {
    "execution": {
     "iopub.execute_input": "2021-12-22T10:23:31.932526Z",
     "iopub.status.busy": "2021-12-22T10:23:31.931404Z",
     "iopub.status.idle": "2021-12-22T10:23:31.942832Z",
     "shell.execute_reply": "2021-12-22T10:23:31.942285Z",
     "shell.execute_reply.started": "2021-12-22T09:16:47.311982Z"
    },
    "id": "kxNfr28WxSgh",
    "outputId": "78c8db2b-13e3-4de8-9cc7-1406ab428ea3",
    "papermill": {
     "duration": 0.222562,
     "end_time": "2021-12-22T10:23:31.942980",
     "exception": false,
     "start_time": "2021-12-22T10:23:31.720418",
     "status": "completed"
    },
    "tags": []
   },
   "outputs": [],
   "source": [
    "print(\"Mean Absolute Error - \" , metrics.mean_absolute_error(y_test, y_pred))\n",
    "print(\"Mean Squared Error - \" , metrics.mean_squared_error(y_test, y_pred))\n",
    "print(\"Root Mean Squared Error - \" , np.sqrt(metrics.mean_squared_error(y_test, y_pred)))\n",
    "print(\"R2 Score - \" , metrics.explained_variance_score(y_test, y_pred)*100)\n",
    "print(\"Accuracy - \",accuracy_score(y_test,y_pred)*100)"
   ]
  },
  {
   "cell_type": "code",
   "execution_count": null,
   "id": "b53193ef",
   "metadata": {
    "execution": {
     "iopub.execute_input": "2021-12-22T10:23:32.365867Z",
     "iopub.status.busy": "2021-12-22T10:23:32.365171Z",
     "iopub.status.idle": "2021-12-22T10:23:32.636877Z",
     "shell.execute_reply": "2021-12-22T10:23:32.637418Z",
     "shell.execute_reply.started": "2021-12-22T09:16:47.330141Z"
    },
    "id": "J1NkdaHzxYo6",
    "outputId": "058075e0-cda6-4538-8eb5-aa11b2ab67d7",
    "papermill": {
     "duration": 0.490387,
     "end_time": "2021-12-22T10:23:32.637610",
     "exception": false,
     "start_time": "2021-12-22T10:23:32.147223",
     "status": "completed"
    },
    "tags": []
   },
   "outputs": [],
   "source": [
    "plt.figure(figsize=(20,8))\n",
    "plt.plot(y_pred[400:600], label=\"prediction\", linewidth=2.0,color='blue')\n",
    "plt.plot(y_test[400:600].values, label=\"real_values\", linewidth=2.0,color='lightcoral')\n",
    "plt.legend(loc=\"best\")\n",
    "plt.ylim((-1,2))\n",
    "plt.title(\"Quadratic SVM Binary Classification\")\n",
    "plt.show()"
   ]
  },
  {
   "cell_type": "markdown",
   "id": "762d94b4",
   "metadata": {
    "id": "hMiiwa9PW0os",
    "papermill": {
     "duration": 0.208941,
     "end_time": "2021-12-22T10:23:33.057110",
     "exception": false,
     "start_time": "2021-12-22T10:23:32.848169",
     "status": "completed"
    },
    "tags": []
   },
   "source": [
    "### Quadratic Support Vector Machine Classifier (Binary Classification)"
   ]
  },
  {
   "cell_type": "code",
   "execution_count": null,
   "id": "c1ba40e2",
   "metadata": {
    "execution": {
     "iopub.execute_input": "2021-12-22T10:23:33.486696Z",
     "iopub.status.busy": "2021-12-22T10:23:33.485944Z",
     "iopub.status.idle": "2021-12-22T10:41:54.854797Z",
     "shell.execute_reply": "2021-12-22T10:41:54.855386Z",
     "shell.execute_reply.started": "2021-12-22T09:29:21.037746Z"
    },
    "id": "3nxXdoT4W3Yu",
    "outputId": "ceabd38c-81b2-42ed-c25f-a709e60f5680",
    "papermill": {
     "duration": 1101.590454,
     "end_time": "2021-12-22T10:41:54.855578",
     "exception": false,
     "start_time": "2021-12-22T10:23:33.265124",
     "status": "completed"
    },
    "tags": []
   },
   "outputs": [],
   "source": [
    "qsvm=SVC(kernel='poly',gamma='auto') # using kernal as polynomial for quadratic svm\n",
    "qsvm.fit(X_train,y_train) # training model on training dataset"
   ]
  },
  {
   "cell_type": "code",
   "execution_count": null,
   "id": "e59b71f4",
   "metadata": {
    "execution": {
     "iopub.execute_input": "2021-12-22T10:41:55.286834Z",
     "iopub.status.busy": "2021-12-22T10:41:55.285327Z",
     "iopub.status.idle": "2021-12-22T10:42:56.726551Z",
     "shell.execute_reply": "2021-12-22T10:42:56.727131Z",
     "shell.execute_reply.started": "2021-12-22T09:42:29.660475Z"
    },
    "id": "_6L4ox39XEv1",
    "outputId": "9be0b734-cac9-476f-aa41-17f7f4d9560f",
    "papermill": {
     "duration": 61.661606,
     "end_time": "2021-12-22T10:42:56.727336",
     "exception": false,
     "start_time": "2021-12-22T10:41:55.065730",
     "status": "completed"
    },
    "tags": []
   },
   "outputs": [],
   "source": [
    "y_pred=qsvm.predict(X_test) # predicting target attribute on testing dataset\n",
    "ac=accuracy_score(y_test, y_pred)*100 # calculating accuracy of predicted data\n",
    "print(\"QSVM-Classifier Binary Set-Accuracy is \", ac)"
   ]
  },
  {
   "cell_type": "code",
   "execution_count": null,
   "id": "228355a4",
   "metadata": {
    "execution": {
     "iopub.execute_input": "2021-12-22T10:42:57.151115Z",
     "iopub.status.busy": "2021-12-22T10:42:57.150426Z",
     "iopub.status.idle": "2021-12-22T10:42:57.208263Z",
     "shell.execute_reply": "2021-12-22T10:42:57.208772Z",
     "shell.execute_reply.started": "2021-12-22T09:43:13.201112Z"
    },
    "id": "3kxID3U6XGig",
    "outputId": "b0c10426-3881-4a24-fc29-487e822f206e",
    "papermill": {
     "duration": 0.272048,
     "end_time": "2021-12-22T10:42:57.208935",
     "exception": false,
     "start_time": "2021-12-22T10:42:56.936887",
     "status": "completed"
    },
    "tags": []
   },
   "outputs": [],
   "source": [
    "# classification report\n",
    "print(classification_report(y_test, y_pred,target_names=le1.classes_))"
   ]
  },
  {
   "cell_type": "code",
   "execution_count": null,
   "id": "48b41c2b",
   "metadata": {
    "execution": {
     "iopub.execute_input": "2021-12-22T10:42:57.631475Z",
     "iopub.status.busy": "2021-12-22T10:42:57.630118Z",
     "iopub.status.idle": "2021-12-22T10:42:57.643674Z",
     "shell.execute_reply": "2021-12-22T10:42:57.644198Z",
     "shell.execute_reply.started": "2021-12-22T09:43:13.259139Z"
    },
    "id": "4HhpzoEgXL7n",
    "outputId": "3472d0a7-7e2e-4f21-a1e3-6cf91370cb39",
    "papermill": {
     "duration": 0.226384,
     "end_time": "2021-12-22T10:42:57.644405",
     "exception": false,
     "start_time": "2021-12-22T10:42:57.418021",
     "status": "completed"
    },
    "tags": []
   },
   "outputs": [],
   "source": [
    "print(\"Mean Absolute Error - \" , metrics.mean_absolute_error(y_test, y_pred))\n",
    "print(\"Mean Squared Error - \" , metrics.mean_squared_error(y_test, y_pred))\n",
    "print(\"Root Mean Squared Error - \" , np.sqrt(metrics.mean_squared_error(y_test, y_pred)))\n",
    "print(\"R2 Score - \" , metrics.explained_variance_score(y_test, y_pred)*100)\n",
    "print(\"Accuracy - \",accuracy_score(y_test,y_pred)*100)"
   ]
  },
  {
   "cell_type": "code",
   "execution_count": null,
   "id": "383cbdcd",
   "metadata": {
    "execution": {
     "iopub.execute_input": "2021-12-22T10:42:58.080376Z",
     "iopub.status.busy": "2021-12-22T10:42:58.079241Z",
     "iopub.status.idle": "2021-12-22T10:42:58.366580Z",
     "shell.execute_reply": "2021-12-22T10:42:58.365981Z",
     "shell.execute_reply.started": "2021-12-22T09:43:13.278363Z"
    },
    "id": "Y21K4vtDXWJy",
    "outputId": "73994501-5d96-4e3e-ac63-2a8531a79832",
    "papermill": {
     "duration": 0.508806,
     "end_time": "2021-12-22T10:42:58.366769",
     "exception": false,
     "start_time": "2021-12-22T10:42:57.857963",
     "status": "completed"
    },
    "tags": []
   },
   "outputs": [],
   "source": [
    "plt.figure(figsize=(20,8))\n",
    "plt.plot(y_pred[400:600], label=\"prediction\", linewidth=2.0,color='blue')\n",
    "plt.plot(y_test[400:600].values, label=\"real_values\", linewidth=2.0,color='lightcoral')\n",
    "plt.legend(loc=\"best\")\n",
    "plt.ylim((-1,2))\n",
    "plt.title(\"Quadratic SVM Binary Classification\")\n",
    "plt.show()"
   ]
  },
  {
   "cell_type": "markdown",
   "id": "932f2193",
   "metadata": {
    "id": "c6DdtYt6XYgS",
    "papermill": {
     "duration": 0.223184,
     "end_time": "2021-12-22T10:42:58.811774",
     "exception": false,
     "start_time": "2021-12-22T10:42:58.588590",
     "status": "completed"
    },
    "tags": []
   },
   "source": [
    "### K-nearest-neighbor Classifier (Binary Classification)"
   ]
  },
  {
   "cell_type": "code",
   "execution_count": null,
   "id": "fe91804e",
   "metadata": {
    "execution": {
     "iopub.execute_input": "2021-12-22T10:42:59.255164Z",
     "iopub.status.busy": "2021-12-22T10:42:59.253573Z",
     "iopub.status.idle": "2021-12-22T10:43:18.696461Z",
     "shell.execute_reply": "2021-12-22T10:43:18.695741Z",
     "shell.execute_reply.started": "2021-12-22T09:43:13.578689Z"
    },
    "id": "7_tdfZWcXa13",
    "outputId": "781081a9-00c6-487d-85c0-46f557f04db7",
    "papermill": {
     "duration": 19.665006,
     "end_time": "2021-12-22T10:43:18.696655",
     "exception": false,
     "start_time": "2021-12-22T10:42:59.031649",
     "status": "completed"
    },
    "tags": []
   },
   "outputs": [],
   "source": [
    "knn=KNeighborsClassifier(n_neighbors=5) # creating model for 5 neighbors\n",
    "knn.fit(X_train,y_train) # training model on training dataset"
   ]
  },
  {
   "cell_type": "code",
   "execution_count": null,
   "id": "23af9e64",
   "metadata": {
    "execution": {
     "iopub.execute_input": "2021-12-22T10:43:19.143293Z",
     "iopub.status.busy": "2021-12-22T10:43:19.142112Z",
     "iopub.status.idle": "2021-12-22T10:50:13.993106Z",
     "shell.execute_reply": "2021-12-22T10:50:13.994131Z",
     "shell.execute_reply.started": "2021-12-22T09:43:33.266971Z"
    },
    "id": "Kzs41k11Xdpd",
    "outputId": "371d3c90-6534-45ac-e626-82d0f2dbd873",
    "papermill": {
     "duration": 415.074703,
     "end_time": "2021-12-22T10:50:13.994457",
     "exception": false,
     "start_time": "2021-12-22T10:43:18.919754",
     "status": "completed"
    },
    "tags": []
   },
   "outputs": [],
   "source": [
    "y_pred=knn.predict(X_test) # predicting target attribute on testing dataset\n",
    "ac=accuracy_score(y_test, y_pred)*100 # calculating accuracy of predicted data\n",
    "print(\"KNN-Classifier Binary Set-Accuracy is \", ac)"
   ]
  },
  {
   "cell_type": "code",
   "execution_count": null,
   "id": "0234a5b7",
   "metadata": {
    "execution": {
     "iopub.execute_input": "2021-12-22T10:50:14.418976Z",
     "iopub.status.busy": "2021-12-22T10:50:14.418329Z",
     "iopub.status.idle": "2021-12-22T10:50:14.476193Z",
     "shell.execute_reply": "2021-12-22T10:50:14.476705Z",
     "shell.execute_reply.started": "2021-12-22T09:50:07.801752Z"
    },
    "id": "6a5fo7vTXfEt",
    "outputId": "775008f8-f02a-472f-9c3b-9e6239aac50f",
    "papermill": {
     "duration": 0.270781,
     "end_time": "2021-12-22T10:50:14.476873",
     "exception": false,
     "start_time": "2021-12-22T10:50:14.206092",
     "status": "completed"
    },
    "tags": []
   },
   "outputs": [],
   "source": [
    "# classification report\n",
    "print(classification_report(y_test, y_pred,target_names=le1.classes_))"
   ]
  },
  {
   "cell_type": "code",
   "execution_count": null,
   "id": "d378dd3d",
   "metadata": {
    "execution": {
     "iopub.execute_input": "2021-12-22T10:50:14.906555Z",
     "iopub.status.busy": "2021-12-22T10:50:14.905875Z",
     "iopub.status.idle": "2021-12-22T10:50:14.916523Z",
     "shell.execute_reply": "2021-12-22T10:50:14.917027Z",
     "shell.execute_reply.started": "2021-12-22T09:50:07.859052Z"
    },
    "id": "gIqWDM9yXhHX",
    "outputId": "a2401122-033e-4abc-8303-84c8aa2d7887",
    "papermill": {
     "duration": 0.228564,
     "end_time": "2021-12-22T10:50:14.917196",
     "exception": false,
     "start_time": "2021-12-22T10:50:14.688632",
     "status": "completed"
    },
    "tags": []
   },
   "outputs": [],
   "source": [
    "print(\"Mean Absolute Error - \" , metrics.mean_absolute_error(y_test, y_pred))\n",
    "print(\"Mean Squared Error - \" , metrics.mean_squared_error(y_test, y_pred))\n",
    "print(\"Root Mean Squared Error - \" , np.sqrt(metrics.mean_squared_error(y_test, y_pred)))\n",
    "print(\"R2 Score - \" , metrics.explained_variance_score(y_test, y_pred)*100)\n",
    "print(\"Accuracy - \",accuracy_score(y_test,y_pred)*100)"
   ]
  },
  {
   "cell_type": "code",
   "execution_count": null,
   "id": "00c70cbb",
   "metadata": {
    "execution": {
     "iopub.execute_input": "2021-12-22T10:50:15.347656Z",
     "iopub.status.busy": "2021-12-22T10:50:15.346979Z",
     "iopub.status.idle": "2021-12-22T10:50:15.590199Z",
     "shell.execute_reply": "2021-12-22T10:50:15.589584Z",
     "shell.execute_reply.started": "2021-12-22T09:50:07.877566Z"
    },
    "id": "Dx6G4_wTXjUd",
    "outputId": "65ce32a0-a5cb-49fb-d141-05897e9ad8d7",
    "papermill": {
     "duration": 0.459655,
     "end_time": "2021-12-22T10:50:15.590359",
     "exception": false,
     "start_time": "2021-12-22T10:50:15.130704",
     "status": "completed"
    },
    "tags": []
   },
   "outputs": [],
   "source": [
    "plt.figure(figsize=(20,8))\n",
    "plt.plot(y_pred[500:600], label=\"prediction\", linewidth=2.0,color='blue')\n",
    "plt.plot(y_test[500:600].values, label=\"real_values\", linewidth=2.0,color='lightcoral')\n",
    "plt.legend(loc=\"best\")\n",
    "plt.ylim((-1,2))\n",
    "plt.title(\"KNN Binary Classification\")\n",
    "plt.show()"
   ]
  },
  {
   "cell_type": "markdown",
   "id": "61439cf5",
   "metadata": {
    "id": "Ze5_HkNJYSZT",
    "papermill": {
     "duration": 0.22,
     "end_time": "2021-12-22T10:50:16.028613",
     "exception": false,
     "start_time": "2021-12-22T10:50:15.808613",
     "status": "completed"
    },
    "tags": []
   },
   "source": [
    "### Long Short-Term Memory Classifier (Binary Classification)"
   ]
  },
  {
   "cell_type": "code",
   "execution_count": null,
   "id": "104e0d65",
   "metadata": {
    "execution": {
     "iopub.execute_input": "2021-12-22T10:50:16.469643Z",
     "iopub.status.busy": "2021-12-22T10:50:16.468950Z",
     "iopub.status.idle": "2021-12-22T10:50:16.513231Z",
     "shell.execute_reply": "2021-12-22T10:50:16.512681Z",
     "shell.execute_reply.started": "2021-12-22T09:50:39.736448Z"
    },
    "id": "5rdoqLg7YVpI",
    "papermill": {
     "duration": 0.262674,
     "end_time": "2021-12-22T10:50:16.513410",
     "exception": false,
     "start_time": "2021-12-22T10:50:16.250736",
     "status": "completed"
    },
    "tags": []
   },
   "outputs": [],
   "source": [
    "X_train = X_train.values"
   ]
  },
  {
   "cell_type": "code",
   "execution_count": null,
   "id": "6e7e1dd6",
   "metadata": {
    "execution": {
     "iopub.execute_input": "2021-12-22T10:50:16.947657Z",
     "iopub.status.busy": "2021-12-22T10:50:16.947002Z",
     "iopub.status.idle": "2021-12-22T10:50:16.950813Z",
     "shell.execute_reply": "2021-12-22T10:50:16.951345Z",
     "shell.execute_reply.started": "2021-12-22T09:50:40.149051Z"
    },
    "id": "oj6BjkA9YgLL",
    "papermill": {
     "duration": 0.2214,
     "end_time": "2021-12-22T10:50:16.951516",
     "exception": false,
     "start_time": "2021-12-22T10:50:16.730116",
     "status": "completed"
    },
    "tags": []
   },
   "outputs": [],
   "source": [
    "y_train = np.array(y_train)"
   ]
  },
  {
   "cell_type": "code",
   "execution_count": null,
   "id": "90582ae0",
   "metadata": {
    "execution": {
     "iopub.execute_input": "2021-12-22T10:50:17.387063Z",
     "iopub.status.busy": "2021-12-22T10:50:17.386404Z",
     "iopub.status.idle": "2021-12-22T10:50:17.389373Z",
     "shell.execute_reply": "2021-12-22T10:50:17.388711Z",
     "shell.execute_reply.started": "2021-12-22T09:50:40.575970Z"
    },
    "id": "Qn2FpVkXYiAO",
    "papermill": {
     "duration": 0.223632,
     "end_time": "2021-12-22T10:50:17.389516",
     "exception": false,
     "start_time": "2021-12-22T10:50:17.165884",
     "status": "completed"
    },
    "tags": []
   },
   "outputs": [],
   "source": [
    "x_train = np.reshape(X_train, (X_train.shape[0],1,X_train.shape[1]))"
   ]
  },
  {
   "cell_type": "code",
   "execution_count": null,
   "id": "eee39259",
   "metadata": {
    "execution": {
     "iopub.execute_input": "2021-12-22T10:50:17.826831Z",
     "iopub.status.busy": "2021-12-22T10:50:17.826118Z",
     "iopub.status.idle": "2021-12-22T10:50:17.831679Z",
     "shell.execute_reply": "2021-12-22T10:50:17.831087Z",
     "shell.execute_reply.started": "2021-12-22T09:50:40.913459Z"
    },
    "id": "bCRMTHhKYjH9",
    "outputId": "dc75cc70-a681-4a14-99cf-78e4923b161f",
    "papermill": {
     "duration": 0.226933,
     "end_time": "2021-12-22T10:50:17.831845",
     "exception": false,
     "start_time": "2021-12-22T10:50:17.604912",
     "status": "completed"
    },
    "tags": []
   },
   "outputs": [],
   "source": [
    "x_train.shape"
   ]
  },
  {
   "cell_type": "code",
   "execution_count": null,
   "id": "e79caff0",
   "metadata": {
    "execution": {
     "iopub.execute_input": "2021-12-22T10:50:18.278654Z",
     "iopub.status.busy": "2021-12-22T10:50:18.277305Z",
     "iopub.status.idle": "2021-12-22T10:50:18.706851Z",
     "shell.execute_reply": "2021-12-22T10:50:18.706280Z",
     "shell.execute_reply.started": "2021-12-22T09:50:41.316625Z"
    },
    "id": "8F-Y_oWYYkja",
    "papermill": {
     "duration": 0.657985,
     "end_time": "2021-12-22T10:50:18.707012",
     "exception": false,
     "start_time": "2021-12-22T10:50:18.049027",
     "status": "completed"
    },
    "tags": []
   },
   "outputs": [],
   "source": [
    "lst = Sequential()\n",
    "# input layer and LSTM layer with 50 neurons\n",
    "lst.add(LSTM(50,input_dim=122))\n",
    "\n",
    "# outpute layer with sigmoid activation\n",
    "lst.add(Dense(1,activation='sigmoid'))"
   ]
  },
  {
   "cell_type": "code",
   "execution_count": null,
   "id": "f0b668ec",
   "metadata": {
    "execution": {
     "iopub.execute_input": "2021-12-22T10:50:19.144062Z",
     "iopub.status.busy": "2021-12-22T10:50:19.143401Z",
     "iopub.status.idle": "2021-12-22T10:50:19.157499Z",
     "shell.execute_reply": "2021-12-22T10:50:19.158067Z",
     "shell.execute_reply.started": "2021-12-22T09:50:41.789561Z"
    },
    "id": "O25bFL9NYmui",
    "papermill": {
     "duration": 0.235359,
     "end_time": "2021-12-22T10:50:19.158262",
     "exception": false,
     "start_time": "2021-12-22T10:50:18.922903",
     "status": "completed"
    },
    "tags": []
   },
   "outputs": [],
   "source": [
    "# defining loss function, optimizer, metrics and then compiling model\n",
    "lst.compile(loss='binary_crossentropy',optimizer='adam',metrics=['accuracy'])"
   ]
  },
  {
   "cell_type": "code",
   "execution_count": null,
   "id": "e23c5fb1",
   "metadata": {
    "execution": {
     "iopub.execute_input": "2021-12-22T10:50:19.586345Z",
     "iopub.status.busy": "2021-12-22T10:50:19.585681Z",
     "iopub.status.idle": "2021-12-22T10:50:19.592659Z",
     "shell.execute_reply": "2021-12-22T10:50:19.593381Z",
     "shell.execute_reply.started": "2021-12-22T09:50:42.048460Z"
    },
    "id": "tGseK98BYn7d",
    "outputId": "335e688d-a695-42a2-bcac-07e533218425",
    "papermill": {
     "duration": 0.223213,
     "end_time": "2021-12-22T10:50:19.593601",
     "exception": false,
     "start_time": "2021-12-22T10:50:19.370388",
     "status": "completed"
    },
    "tags": []
   },
   "outputs": [],
   "source": [
    "# summary of model layers\n",
    "lst.summary()"
   ]
  },
  {
   "cell_type": "code",
   "execution_count": null,
   "id": "f8d1520f",
   "metadata": {
    "execution": {
     "iopub.execute_input": "2021-12-22T10:50:20.027419Z",
     "iopub.status.busy": "2021-12-22T10:50:20.026388Z",
     "iopub.status.idle": "2021-12-22T10:50:31.592137Z",
     "shell.execute_reply": "2021-12-22T10:50:31.591171Z",
     "shell.execute_reply.started": "2021-12-22T09:50:42.499674Z"
    },
    "id": "yvRvw8RSYpPO",
    "outputId": "6d566e31-c101-4e2f-bb7c-f5c7959348fe",
    "papermill": {
     "duration": 11.785291,
     "end_time": "2021-12-22T10:50:31.592410",
     "exception": false,
     "start_time": "2021-12-22T10:50:19.807119",
     "status": "completed"
    },
    "tags": []
   },
   "outputs": [],
   "source": [
    "# training the model on training dataset\n",
    "history = lst.fit(x_train, y_train, epochs=20, batch_size=5000,validation_split=0.2)"
   ]
  },
  {
   "cell_type": "code",
   "execution_count": null,
   "id": "12b72158",
   "metadata": {
    "execution": {
     "iopub.execute_input": "2021-12-22T10:50:32.118107Z",
     "iopub.status.busy": "2021-12-22T10:50:32.117454Z",
     "iopub.status.idle": "2021-12-22T10:50:32.126556Z",
     "shell.execute_reply": "2021-12-22T10:50:32.127113Z",
     "shell.execute_reply.started": "2021-12-22T09:50:54.357689Z"
    },
    "id": "mknNYiUiaWtm",
    "papermill": {
     "duration": 0.273413,
     "end_time": "2021-12-22T10:50:32.127312",
     "exception": false,
     "start_time": "2021-12-22T10:50:31.853899",
     "status": "completed"
    },
    "tags": []
   },
   "outputs": [],
   "source": [
    "X_test = X_test.to_numpy()"
   ]
  },
  {
   "cell_type": "code",
   "execution_count": null,
   "id": "194ad42e",
   "metadata": {
    "execution": {
     "iopub.execute_input": "2021-12-22T10:50:32.673837Z",
     "iopub.status.busy": "2021-12-22T10:50:32.672874Z",
     "iopub.status.idle": "2021-12-22T10:50:32.676670Z",
     "shell.execute_reply": "2021-12-22T10:50:32.677231Z",
     "shell.execute_reply.started": "2021-12-22T09:50:54.375805Z"
    },
    "id": "Pc76Xi9baX0m",
    "papermill": {
     "duration": 0.285711,
     "end_time": "2021-12-22T10:50:32.677441",
     "exception": false,
     "start_time": "2021-12-22T10:50:32.391730",
     "status": "completed"
    },
    "tags": []
   },
   "outputs": [],
   "source": [
    "x_test = np.reshape(X_test, (X_test.shape[0],1,X_test.shape[1]))"
   ]
  },
  {
   "cell_type": "code",
   "execution_count": null,
   "id": "3873f534",
   "metadata": {
    "execution": {
     "iopub.execute_input": "2021-12-22T10:50:33.210883Z",
     "iopub.status.busy": "2021-12-22T10:50:33.210169Z",
     "iopub.status.idle": "2021-12-22T10:50:33.219687Z",
     "shell.execute_reply": "2021-12-22T10:50:33.220272Z",
     "shell.execute_reply.started": "2021-12-22T09:50:54.385383Z"
    },
    "id": "nCYem_xzadnV",
    "papermill": {
     "duration": 0.275869,
     "end_time": "2021-12-22T10:50:33.220472",
     "exception": false,
     "start_time": "2021-12-22T10:50:32.944603",
     "status": "completed"
    },
    "tags": []
   },
   "outputs": [],
   "source": [
    "# defining loss function, optimizer, metrics and then compiling model\n",
    "lst.compile(loss='binary_crossentropy',optimizer='adam',metrics=['accuracy'])"
   ]
  },
  {
   "cell_type": "code",
   "execution_count": null,
   "id": "bc75fbae",
   "metadata": {
    "execution": {
     "iopub.execute_input": "2021-12-22T10:50:33.751763Z",
     "iopub.status.busy": "2021-12-22T10:50:33.750670Z",
     "iopub.status.idle": "2021-12-22T10:50:37.277667Z",
     "shell.execute_reply": "2021-12-22T10:50:37.278171Z",
     "shell.execute_reply.started": "2021-12-22T09:50:54.402953Z"
    },
    "id": "aEbI9lzOaeCg",
    "outputId": "503b6c13-5b0a-4b0b-85e5-8e7bcbd7c7c4",
    "papermill": {
     "duration": 3.799097,
     "end_time": "2021-12-22T10:50:37.278377",
     "exception": false,
     "start_time": "2021-12-22T10:50:33.479280",
     "status": "completed"
    },
    "tags": []
   },
   "outputs": [],
   "source": [
    "# predicting target attribute on testing dataset\n",
    "test_results = lst.evaluate(x_test, y_test, verbose=1)\n",
    "print(f'Test results - Loss: {test_results[0]} - Accuracy: {test_results[1]*100}%')"
   ]
  },
  {
   "cell_type": "code",
   "execution_count": null,
   "id": "20ee5e02",
   "metadata": {
    "execution": {
     "iopub.execute_input": "2021-12-22T10:50:37.831946Z",
     "iopub.status.busy": "2021-12-22T10:50:37.831226Z",
     "iopub.status.idle": "2021-12-22T10:50:38.062982Z",
     "shell.execute_reply": "2021-12-22T10:50:38.063630Z",
     "shell.execute_reply.started": "2021-12-22T09:50:56.919906Z"
    },
    "id": "yihMy5a_agUA",
    "outputId": "85922af4-d203-4544-f288-e773d03f8ef8",
    "papermill": {
     "duration": 0.512793,
     "end_time": "2021-12-22T10:50:38.063806",
     "exception": false,
     "start_time": "2021-12-22T10:50:37.551013",
     "status": "completed"
    },
    "tags": []
   },
   "outputs": [],
   "source": [
    "# Plot of accuracy vs epoch of train and test dataset\n",
    "plt.plot(history.history['accuracy'])\n",
    "plt.plot(history.history['val_accuracy'])\n",
    "plt.title(\"Plot of accuracy vs epoch for train and test dataset\")\n",
    "plt.ylabel('accuracy')\n",
    "plt.xlabel('epoch')\n",
    "plt.legend(['train', 'test'], loc='best')\n",
    "plt.show()"
   ]
  },
  {
   "cell_type": "code",
   "execution_count": null,
   "id": "87e80df0",
   "metadata": {
    "execution": {
     "iopub.execute_input": "2021-12-22T10:50:38.614430Z",
     "iopub.status.busy": "2021-12-22T10:50:38.613708Z",
     "iopub.status.idle": "2021-12-22T10:50:38.837495Z",
     "shell.execute_reply": "2021-12-22T10:50:38.836835Z",
     "shell.execute_reply.started": "2021-12-22T09:50:57.182870Z"
    },
    "id": "qJ42N6Q3ai6Q",
    "outputId": "d40846d0-8299-4d99-f370-7f2eb71dde49",
    "papermill": {
     "duration": 0.503199,
     "end_time": "2021-12-22T10:50:38.837646",
     "exception": false,
     "start_time": "2021-12-22T10:50:38.334447",
     "status": "completed"
    },
    "tags": []
   },
   "outputs": [],
   "source": [
    "# Plot of loss vs epoch of train and test dataset\n",
    "plt.plot(history.history['loss'])\n",
    "plt.plot(history.history['val_loss'])\n",
    "plt.title(\"Plot of loss vs epoch for train and test dataset\")\n",
    "plt.ylabel('loss')\n",
    "plt.xlabel('epoch')\n",
    "plt.legend(['train', 'test'], loc='best')\n",
    "plt.show()"
   ]
  },
  {
   "cell_type": "code",
   "execution_count": null,
   "id": "9f638273",
   "metadata": {
    "execution": {
     "iopub.execute_input": "2021-12-22T10:50:39.390241Z",
     "iopub.status.busy": "2021-12-22T10:50:39.389566Z",
     "iopub.status.idle": "2021-12-22T10:50:39.394472Z",
     "shell.execute_reply": "2021-12-22T10:50:39.394984Z",
     "shell.execute_reply.started": "2021-12-22T09:50:57.452782Z"
    },
    "id": "rRfkGWg3aoCo",
    "outputId": "f4fcbe14-1ecc-4e7a-9ecb-0915b60036f1",
    "papermill": {
     "duration": 0.280623,
     "end_time": "2021-12-22T10:50:39.395155",
     "exception": false,
     "start_time": "2021-12-22T10:50:39.114532",
     "status": "completed"
    },
    "tags": []
   },
   "outputs": [],
   "source": [
    "y_test.shape"
   ]
  },
  {
   "cell_type": "code",
   "execution_count": null,
   "id": "2d1b54da",
   "metadata": {
    "execution": {
     "iopub.execute_input": "2021-12-22T10:50:39.941267Z",
     "iopub.status.busy": "2021-12-22T10:50:39.940570Z",
     "iopub.status.idle": "2021-12-22T10:50:41.456737Z",
     "shell.execute_reply": "2021-12-22T10:50:41.456089Z",
     "shell.execute_reply.started": "2021-12-22T09:50:57.461137Z"
    },
    "id": "fVkQkN_iatP4",
    "papermill": {
     "duration": 1.792086,
     "end_time": "2021-12-22T10:50:41.456886",
     "exception": false,
     "start_time": "2021-12-22T10:50:39.664800",
     "status": "completed"
    },
    "tags": []
   },
   "outputs": [],
   "source": [
    "y_pred = lst.predict(x_test)"
   ]
  },
  {
   "cell_type": "code",
   "execution_count": null,
   "id": "d3073965",
   "metadata": {
    "execution": {
     "iopub.execute_input": "2021-12-22T10:50:42.008000Z",
     "iopub.status.busy": "2021-12-22T10:50:42.007345Z",
     "iopub.status.idle": "2021-12-22T10:50:42.011658Z",
     "shell.execute_reply": "2021-12-22T10:50:42.012183Z",
     "shell.execute_reply.started": "2021-12-22T09:50:59.248701Z"
    },
    "id": "e3zyoBnFau6g",
    "outputId": "b61e3cc3-8edb-427e-d316-c313ef465675",
    "papermill": {
     "duration": 0.283754,
     "end_time": "2021-12-22T10:50:42.012370",
     "exception": false,
     "start_time": "2021-12-22T10:50:41.728616",
     "status": "completed"
    },
    "tags": []
   },
   "outputs": [],
   "source": [
    "y_pred.shape"
   ]
  },
  {
   "cell_type": "code",
   "execution_count": null,
   "id": "f0973c01",
   "metadata": {
    "execution": {
     "iopub.execute_input": "2021-12-22T10:50:42.574730Z",
     "iopub.status.busy": "2021-12-22T10:50:42.572866Z",
     "iopub.status.idle": "2021-12-22T10:50:43.818857Z",
     "shell.execute_reply": "2021-12-22T10:50:43.818218Z",
     "shell.execute_reply.started": "2021-12-22T09:50:59.255884Z"
    },
    "id": "PgbKgUaKawL4",
    "papermill": {
     "duration": 1.531336,
     "end_time": "2021-12-22T10:50:43.819012",
     "exception": false,
     "start_time": "2021-12-22T10:50:42.287676",
     "status": "completed"
    },
    "tags": []
   },
   "outputs": [],
   "source": [
    "y_pred = lst.predict(x_test)\n",
    "fpr, tpr, thresholds = roc_curve(y_test, y_pred)\n",
    "auc = auc(fpr, tpr)"
   ]
  },
  {
   "cell_type": "code",
   "execution_count": null,
   "id": "f6db60e5",
   "metadata": {
    "execution": {
     "iopub.execute_input": "2021-12-22T10:50:44.383670Z",
     "iopub.status.busy": "2021-12-22T10:50:44.382966Z",
     "iopub.status.idle": "2021-12-22T10:50:44.606900Z",
     "shell.execute_reply": "2021-12-22T10:50:44.607488Z",
     "shell.execute_reply.started": "2021-12-22T09:51:00.623859Z"
    },
    "id": "o9XBavcYaxiA",
    "outputId": "e3cbf286-416b-4f4a-f554-418efa0a4dcc",
    "papermill": {
     "duration": 0.507985,
     "end_time": "2021-12-22T10:50:44.607678",
     "exception": false,
     "start_time": "2021-12-22T10:50:44.099693",
     "status": "completed"
    },
    "tags": []
   },
   "outputs": [],
   "source": [
    "plt.plot([0, 1], [0, 1], 'k--')\n",
    "plt.plot(fpr, tpr, label='Keras (area = {:.3f})'.format(auc))\n",
    "plt.xlabel('False positive rate')\n",
    "plt.ylabel('True positive rate')\n",
    "plt.title('ROC curve')\n",
    "plt.legend(loc='best')\n",
    "plt.show()"
   ]
  },
  {
   "cell_type": "code",
   "execution_count": null,
   "id": "51fa04cf",
   "metadata": {
    "execution": {
     "iopub.execute_input": "2021-12-22T10:50:45.176760Z",
     "iopub.status.busy": "2021-12-22T10:50:45.176082Z",
     "iopub.status.idle": "2021-12-22T10:50:46.519969Z",
     "shell.execute_reply": "2021-12-22T10:50:46.519212Z",
     "shell.execute_reply.started": "2021-12-22T09:51:00.893947Z"
    },
    "id": "ybdUkC52a0gg",
    "papermill": {
     "duration": 1.627975,
     "end_time": "2021-12-22T10:50:46.520134",
     "exception": false,
     "start_time": "2021-12-22T10:50:44.892159",
     "status": "completed"
    },
    "tags": []
   },
   "outputs": [],
   "source": [
    "y_classes = (lst.predict(x_test)>0.5).astype('int32')"
   ]
  },
  {
   "cell_type": "code",
   "execution_count": null,
   "id": "78b36e3e",
   "metadata": {
    "execution": {
     "iopub.execute_input": "2021-12-22T10:50:47.083272Z",
     "iopub.status.busy": "2021-12-22T10:50:47.082532Z",
     "iopub.status.idle": "2021-12-22T10:50:47.127327Z",
     "shell.execute_reply": "2021-12-22T10:50:47.126098Z",
     "shell.execute_reply.started": "2021-12-22T09:51:02.011951Z"
    },
    "id": "zY8BFvIba3OY",
    "outputId": "514d3ba8-09cc-4fef-9a2f-c116b747fe76",
    "papermill": {
     "duration": 0.32814,
     "end_time": "2021-12-22T10:50:47.127575",
     "exception": false,
     "start_time": "2021-12-22T10:50:46.799435",
     "status": "completed"
    },
    "tags": []
   },
   "outputs": [],
   "source": [
    "print(\"Recall Score - \",recall_score(y_test,y_classes))\n",
    "print(\"F1 Score - \",f1_score(y_test,y_classes))\n",
    "print(\"Precision Score - \",precision_score(y_test,y_classes))"
   ]
  },
  {
   "cell_type": "markdown",
   "id": "c4cbd890",
   "metadata": {
    "id": "AyAfeYW_1u2T",
    "papermill": {
     "duration": 0.278292,
     "end_time": "2021-12-22T10:50:47.685356",
     "exception": false,
     "start_time": "2021-12-22T10:50:47.407064",
     "status": "completed"
    },
    "tags": []
   },
   "source": [
    "## Multi-class Classification"
   ]
  },
  {
   "cell_type": "markdown",
   "id": "91b8a21e",
   "metadata": {
    "id": "UFF9xBvb3hmC",
    "papermill": {
     "duration": 0.2701,
     "end_time": "2021-12-22T10:50:48.232670",
     "exception": false,
     "start_time": "2021-12-22T10:50:47.962570",
     "status": "completed"
    },
    "tags": []
   },
   "source": [
    "### K-nearest-neighbor Classifier (Multi-class Classification)"
   ]
  },
  {
   "cell_type": "code",
   "execution_count": null,
   "id": "965a4cb3",
   "metadata": {
    "execution": {
     "iopub.execute_input": "2021-12-22T10:50:48.798516Z",
     "iopub.status.busy": "2021-12-22T10:50:48.797797Z",
     "iopub.status.idle": "2021-12-22T10:50:48.870288Z",
     "shell.execute_reply": "2021-12-22T10:50:48.869741Z",
     "shell.execute_reply.started": "2021-12-22T09:51:02.060387Z"
    },
    "id": "47O3MWwe3cAL",
    "papermill": {
     "duration": 0.356712,
     "end_time": "2021-12-22T10:50:48.870436",
     "exception": false,
     "start_time": "2021-12-22T10:50:48.513724",
     "status": "completed"
    },
    "tags": []
   },
   "outputs": [],
   "source": [
    "# splitting the dataset 75% for training and 25% testing\n",
    "X_train, X_test, y_train, y_test = train_test_split(X,y_multi, test_size=0.25, random_state=42)"
   ]
  },
  {
   "cell_type": "code",
   "execution_count": null,
   "id": "80322464",
   "metadata": {
    "execution": {
     "iopub.execute_input": "2021-12-22T10:50:49.421819Z",
     "iopub.status.busy": "2021-12-22T10:50:49.421139Z",
     "iopub.status.idle": "2021-12-22T10:51:08.044745Z",
     "shell.execute_reply": "2021-12-22T10:51:08.045279Z",
     "shell.execute_reply.started": "2021-12-22T09:51:02.154924Z"
    },
    "id": "pOmpAXAL3rMP",
    "outputId": "cd640994-d79f-4ebc-8b3e-ce2e1b7180f0",
    "papermill": {
     "duration": 18.90313,
     "end_time": "2021-12-22T10:51:08.045457",
     "exception": false,
     "start_time": "2021-12-22T10:50:49.142327",
     "status": "completed"
    },
    "tags": []
   },
   "outputs": [],
   "source": [
    "knn=KNeighborsClassifier(n_neighbors=5)\n",
    "knn.fit(X_train,y_train) # training model on training dataset"
   ]
  },
  {
   "cell_type": "code",
   "execution_count": null,
   "id": "e33a064e",
   "metadata": {
    "execution": {
     "iopub.execute_input": "2021-12-22T10:51:08.606973Z",
     "iopub.status.busy": "2021-12-22T10:51:08.605828Z",
     "iopub.status.idle": "2021-12-22T10:58:07.900182Z",
     "shell.execute_reply": "2021-12-22T10:58:07.900932Z",
     "shell.execute_reply.started": "2021-12-22T09:51:22.096023Z"
    },
    "id": "u--XVGNQ381p",
    "outputId": "e189a5ca-6358-422c-8867-837c9650f590",
    "papermill": {
     "duration": 419.57715,
     "end_time": "2021-12-22T10:58:07.901188",
     "exception": false,
     "start_time": "2021-12-22T10:51:08.324038",
     "status": "completed"
    },
    "tags": []
   },
   "outputs": [],
   "source": [
    "y_pred=knn.predict(X_test)  # predicting target attribute on testing dataset\n",
    "ac=accuracy_score(y_test, y_pred)*100  # calculating accuracy of predicted data\n",
    "print(\"KNN-Classifier Multi-class Set-Accuracy is \", ac)"
   ]
  },
  {
   "cell_type": "code",
   "execution_count": null,
   "id": "5e79294a",
   "metadata": {
    "execution": {
     "iopub.execute_input": "2021-12-22T10:58:08.464381Z",
     "iopub.status.busy": "2021-12-22T10:58:08.463715Z",
     "iopub.status.idle": "2021-12-22T10:58:08.511426Z",
     "shell.execute_reply": "2021-12-22T10:58:08.512699Z",
     "shell.execute_reply.started": "2021-12-22T09:57:46.569786Z"
    },
    "id": "Gy8XOHVS39M1",
    "outputId": "924a797d-3a37-4ab4-da1a-de594443dec7",
    "papermill": {
     "duration": 0.335116,
     "end_time": "2021-12-22T10:58:08.512955",
     "exception": false,
     "start_time": "2021-12-22T10:58:08.177839",
     "status": "completed"
    },
    "tags": []
   },
   "outputs": [],
   "source": [
    "# classification report\n",
    "print(classification_report(y_test, y_pred,target_names=le2.classes_))"
   ]
  },
  {
   "cell_type": "code",
   "execution_count": null,
   "id": "a501ca9d",
   "metadata": {
    "execution": {
     "iopub.execute_input": "2021-12-22T10:58:09.085779Z",
     "iopub.status.busy": "2021-12-22T10:58:09.082095Z",
     "iopub.status.idle": "2021-12-22T10:58:09.112891Z",
     "shell.execute_reply": "2021-12-22T10:58:09.113432Z",
     "shell.execute_reply.started": "2021-12-22T09:57:46.620965Z"
    },
    "id": "bT3PB0NL3-wt",
    "outputId": "6ea4d088-7257-4e8b-bbc5-d8ce37943266",
    "papermill": {
     "duration": 0.31406,
     "end_time": "2021-12-22T10:58:09.113619",
     "exception": false,
     "start_time": "2021-12-22T10:58:08.799559",
     "status": "completed"
    },
    "tags": []
   },
   "outputs": [],
   "source": [
    "print(\"Mean Absolute Error - \" , metrics.mean_absolute_error(y_test, y_pred))\n",
    "print(\"Mean Squared Error - \" , metrics.mean_squared_error(y_test, y_pred))\n",
    "print(\"Root Mean Squared Error - \" , np.sqrt(metrics.mean_squared_error(y_test, y_pred)))\n",
    "print(\"R2 Score - \" , metrics.explained_variance_score(y_test, y_pred)*100)\n",
    "print(\"Accuracy - \",accuracy_score(y_test,y_pred)*100)"
   ]
  },
  {
   "cell_type": "markdown",
   "id": "9dd6b7b5",
   "metadata": {
    "id": "avJBy3Y64muJ",
    "papermill": {
     "duration": 0.276632,
     "end_time": "2021-12-22T10:58:09.664892",
     "exception": false,
     "start_time": "2021-12-22T10:58:09.388260",
     "status": "completed"
    },
    "tags": []
   },
   "source": [
    "### Multi Layer Perceptron Classifier (Multi-class Classification)"
   ]
  },
  {
   "cell_type": "code",
   "execution_count": null,
   "id": "84ccd3e7",
   "metadata": {
    "execution": {
     "iopub.execute_input": "2021-12-22T10:58:10.323058Z",
     "iopub.status.busy": "2021-12-22T10:58:10.322034Z",
     "iopub.status.idle": "2021-12-22T10:58:10.396587Z",
     "shell.execute_reply": "2021-12-22T10:58:10.397124Z",
     "shell.execute_reply.started": "2021-12-22T09:57:46.654387Z"
    },
    "id": "HkxReft54oko",
    "papermill": {
     "duration": 0.376908,
     "end_time": "2021-12-22T10:58:10.397339",
     "exception": false,
     "start_time": "2021-12-22T10:58:10.020431",
     "status": "completed"
    },
    "tags": []
   },
   "outputs": [],
   "source": [
    "# splitting the dataset 75% for training and 25% testing\n",
    "X_train, X_test, y_train, y_test = train_test_split(X,y_multi, test_size=0.25, random_state=42)"
   ]
  },
  {
   "cell_type": "code",
   "execution_count": null,
   "id": "0f8ce7dd",
   "metadata": {
    "execution": {
     "iopub.execute_input": "2021-12-22T10:58:10.966045Z",
     "iopub.status.busy": "2021-12-22T10:58:10.964984Z",
     "iopub.status.idle": "2021-12-22T10:58:10.992011Z",
     "shell.execute_reply": "2021-12-22T10:58:10.992559Z",
     "shell.execute_reply.started": "2021-12-22T09:57:46.746603Z"
    },
    "id": "dPTN_h9s4tuk",
    "papermill": {
     "duration": 0.306477,
     "end_time": "2021-12-22T10:58:10.992735",
     "exception": false,
     "start_time": "2021-12-22T10:58:10.686258",
     "status": "completed"
    },
    "tags": []
   },
   "outputs": [],
   "source": [
    "mlp = Sequential() # initializing model\n",
    "# input layer and first layer with 50 neurons\n",
    "mlp.add(Dense(units=50, input_dim=X_train.shape[1], activation='relu'))\n",
    "# output layer with softmax activation\n",
    "mlp.add(Dense(units=5,activation='softmax'))"
   ]
  },
  {
   "cell_type": "code",
   "execution_count": null,
   "id": "fcf9bc43",
   "metadata": {
    "execution": {
     "iopub.execute_input": "2021-12-22T10:58:11.556225Z",
     "iopub.status.busy": "2021-12-22T10:58:11.555139Z",
     "iopub.status.idle": "2021-12-22T10:58:11.565185Z",
     "shell.execute_reply": "2021-12-22T10:58:11.565754Z",
     "shell.execute_reply.started": "2021-12-22T09:57:46.778527Z"
    },
    "id": "7vzcsDQO4wF_",
    "papermill": {
     "duration": 0.296354,
     "end_time": "2021-12-22T10:58:11.565932",
     "exception": false,
     "start_time": "2021-12-22T10:58:11.269578",
     "status": "completed"
    },
    "tags": []
   },
   "outputs": [],
   "source": [
    "# defining loss function, optimizer, metrics and then compiling model\n",
    "mlp.compile(loss='categorical_crossentropy', optimizer='adam', metrics=['accuracy'])"
   ]
  },
  {
   "cell_type": "code",
   "execution_count": null,
   "id": "c6f24502",
   "metadata": {
    "execution": {
     "iopub.execute_input": "2021-12-22T10:58:12.127024Z",
     "iopub.status.busy": "2021-12-22T10:58:12.126057Z",
     "iopub.status.idle": "2021-12-22T10:58:12.131968Z",
     "shell.execute_reply": "2021-12-22T10:58:12.132783Z",
     "shell.execute_reply.started": "2021-12-22T09:57:46.791560Z"
    },
    "id": "Fp82fp_B4xDn",
    "outputId": "74401f5c-1eed-4037-cc56-f63e0a55f04c",
    "papermill": {
     "duration": 0.285303,
     "end_time": "2021-12-22T10:58:12.133037",
     "exception": false,
     "start_time": "2021-12-22T10:58:11.847734",
     "status": "completed"
    },
    "tags": []
   },
   "outputs": [],
   "source": [
    "# summary of model layers\n",
    "mlp.summary()"
   ]
  },
  {
   "cell_type": "code",
   "execution_count": null,
   "id": "124e67a7",
   "metadata": {
    "execution": {
     "iopub.execute_input": "2021-12-22T10:58:12.701022Z",
     "iopub.status.busy": "2021-12-22T10:58:12.700344Z",
     "iopub.status.idle": "2021-12-22T10:58:36.030880Z",
     "shell.execute_reply": "2021-12-22T10:58:36.030307Z",
     "shell.execute_reply.started": "2021-12-22T09:57:46.804948Z"
    },
    "id": "Bhje-NAJ4yUX",
    "outputId": "e921a342-7107-4bf0-fb75-50f5b3384a27",
    "papermill": {
     "duration": 23.619573,
     "end_time": "2021-12-22T10:58:36.031091",
     "exception": false,
     "start_time": "2021-12-22T10:58:12.411518",
     "status": "completed"
    },
    "tags": []
   },
   "outputs": [],
   "source": [
    "# training the model on training dataset\n",
    "history = mlp.fit(X_train, y_train, epochs=100, batch_size=5000,validation_split=0.2)"
   ]
  },
  {
   "cell_type": "code",
   "execution_count": null,
   "id": "2f5f916f",
   "metadata": {
    "execution": {
     "iopub.execute_input": "2021-12-22T10:58:36.909287Z",
     "iopub.status.busy": "2021-12-22T10:58:36.908091Z",
     "iopub.status.idle": "2021-12-22T10:58:36.916758Z",
     "shell.execute_reply": "2021-12-22T10:58:36.917351Z",
     "shell.execute_reply.started": "2021-12-22T09:58:28.429583Z"
    },
    "id": "qxPVDT5Q47uD",
    "papermill": {
     "duration": 0.45866,
     "end_time": "2021-12-22T10:58:36.917559",
     "exception": false,
     "start_time": "2021-12-22T10:58:36.458899",
     "status": "completed"
    },
    "tags": []
   },
   "outputs": [],
   "source": [
    "# defining loss function, optimizer, metrics and then compiling model\n",
    "mlp.compile(loss='categorical_crossentropy', optimizer='adam', metrics=['accuracy'])"
   ]
  },
  {
   "cell_type": "code",
   "execution_count": null,
   "id": "deb59bdc",
   "metadata": {
    "execution": {
     "iopub.execute_input": "2021-12-22T10:58:37.798827Z",
     "iopub.status.busy": "2021-12-22T10:58:37.797406Z",
     "iopub.status.idle": "2021-12-22T10:58:39.504301Z",
     "shell.execute_reply": "2021-12-22T10:58:39.503695Z",
     "shell.execute_reply.started": "2021-12-22T09:58:28.442958Z"
    },
    "id": "CYZoukkr4_yu",
    "outputId": "9a32358a-05be-42f6-c6b6-02b74b12570f",
    "papermill": {
     "duration": 2.181597,
     "end_time": "2021-12-22T10:58:39.504465",
     "exception": false,
     "start_time": "2021-12-22T10:58:37.322868",
     "status": "completed"
    },
    "tags": []
   },
   "outputs": [],
   "source": [
    "# predicting target attribute on testing dataset\n",
    "test_results = mlp.evaluate(X_test, y_test, verbose=1)\n",
    "print(f'Test results - Loss: {test_results[0]} - Accuracy: {test_results[1]*100}%')"
   ]
  },
  {
   "cell_type": "code",
   "execution_count": null,
   "id": "f64f74f3",
   "metadata": {
    "execution": {
     "iopub.execute_input": "2021-12-22T10:58:40.344350Z",
     "iopub.status.busy": "2021-12-22T10:58:40.343618Z",
     "iopub.status.idle": "2021-12-22T10:58:40.543850Z",
     "shell.execute_reply": "2021-12-22T10:58:40.544367Z",
     "shell.execute_reply.started": "2021-12-22T09:58:30.111737Z"
    },
    "id": "TpCYveLe5Bbu",
    "outputId": "509f5ac3-d747-4dc7-efc6-7e665dab365d",
    "papermill": {
     "duration": 0.620048,
     "end_time": "2021-12-22T10:58:40.544556",
     "exception": false,
     "start_time": "2021-12-22T10:58:39.924508",
     "status": "completed"
    },
    "tags": []
   },
   "outputs": [],
   "source": [
    "# Plot of accuracy vs epoch for train and test dataset\n",
    "plt.plot(history.history['accuracy'])\n",
    "plt.plot(history.history['val_accuracy'])\n",
    "plt.title(\"Plot of accuracy vs epoch for train and test dataset\")\n",
    "plt.ylabel('accuracy')\n",
    "plt.xlabel('epoch')\n",
    "plt.show()"
   ]
  },
  {
   "cell_type": "code",
   "execution_count": null,
   "id": "d357e68f",
   "metadata": {
    "execution": {
     "iopub.execute_input": "2021-12-22T10:58:41.396148Z",
     "iopub.status.busy": "2021-12-22T10:58:41.390773Z",
     "iopub.status.idle": "2021-12-22T10:58:41.604084Z",
     "shell.execute_reply": "2021-12-22T10:58:41.604607Z",
     "shell.execute_reply.started": "2021-12-22T09:58:30.356218Z"
    },
    "id": "9CbS1q1C5EHn",
    "outputId": "3566efcf-6322-4dbb-eee9-cd59fad0bc88",
    "papermill": {
     "duration": 0.643924,
     "end_time": "2021-12-22T10:58:41.604806",
     "exception": false,
     "start_time": "2021-12-22T10:58:40.960882",
     "status": "completed"
    },
    "tags": []
   },
   "outputs": [],
   "source": [
    "# Plot of loss vs epoch for train and test dataset\n",
    "plt.plot(history.history['loss'])\n",
    "plt.plot(history.history['val_loss'])\n",
    "plt.title(\"Plot of loss vs epoch for train and test dataset\")\n",
    "plt.ylabel('loss')\n",
    "plt.xlabel('epoch')\n",
    "plt.legend(['train', 'test'], loc='upper right')\n",
    "plt.show()"
   ]
  }
 ],
 "metadata": {
  "kernelspec": {
   "display_name": "Python 3",
   "language": "python",
   "name": "python3"
  },
  "language_info": {
   "codemirror_mode": {
    "name": "ipython",
    "version": 3
   },
   "file_extension": ".py",
   "mimetype": "text/x-python",
   "name": "python",
   "nbconvert_exporter": "python",
   "pygments_lexer": "ipython3",
   "version": "3.10.11"
  },
  "papermill": {
   "default_parameters": {},
   "duration": 2724.265669,
   "end_time": "2021-12-22T10:58:45.575435",
   "environment_variables": {},
   "exception": null,
   "input_path": "__notebook__.ipynb",
   "output_path": "__notebook__.ipynb",
   "parameters": {},
   "start_time": "2021-12-22T10:13:21.309766",
   "version": "2.3.3"
  }
 },
 "nbformat": 4,
 "nbformat_minor": 5
}
