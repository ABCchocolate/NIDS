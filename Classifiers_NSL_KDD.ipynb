{
  "cells": [
    {
      "cell_type": "code",
      "execution_count": 1,
      "metadata": {
        "id": "7MblIbMu31gO"
      },
      "outputs": [],
      "source": [
        "from sklearn.metrics import accuracy_score # for calculating accuracy of model\n",
        "from sklearn.model_selection import train_test_split # for splitting the dataset for training and testing\n",
        "from sklearn.metrics import classification_report # for generating a classification report of model\n",
        "import pickle # saving and loading trained model\n",
        "from os import path\n",
        "import numpy as np\n",
        "import pandas as pd\n",
        "import matplotlib.pyplot as plt"
      ]
    },
    {
      "cell_type": "code",
      "execution_count": 2,
      "metadata": {
        "id": "DriCvhiI4JTH"
      },
      "outputs": [],
      "source": [
        "bin_data = pd.read_csv('datasets/bin_data.csv')\n",
        "bin_data.drop(bin_data.columns[0],axis=1,inplace=True)\n",
        "multi_data = pd.read_csv('datasets/multi_data.csv')\n",
        "multi_data.drop(multi_data.columns[0],axis=1,inplace=True)\n",
        "le1_classes_ = np.load('labels/le1_classes.npy',allow_pickle=True)\n",
        "le2_classes_ = np.load('labels/le2_classes.npy',allow_pickle=True)"
      ]
    },
    {
      "cell_type": "markdown",
      "metadata": {
        "id": "X6gO0-O_ev95"
      },
      "source": [
        "# **Linear Support Vector Machine Classifier (Binary Classification)**"
      ]
    },
    {
      "cell_type": "code",
      "execution_count": 3,
      "metadata": {
        "id": "i46cQs7J9sR8"
      },
      "outputs": [],
      "source": [
        "# importing library for support vector machine classifier\n",
        "from sklearn.svm import SVC"
      ]
    },
    {
      "cell_type": "code",
      "execution_count": 4,
      "metadata": {
        "id": "G73DgDbpfHdP"
      },
      "outputs": [],
      "source": [
        "X = bin_data.iloc[:,0:93].to_numpy() # dataset excluding target attribute (encoded, one-hot-encoded,original)\n",
        "Y = bin_data['intrusion'] # target attribute"
      ]
    },
    {
      "cell_type": "code",
      "execution_count": 5,
      "metadata": {
        "id": "-8CHud3rbmEB"
      },
      "outputs": [],
      "source": [
        "# splitting the dataset 75% for training and 25% testing\n",
        "X_train, X_test, y_train, y_test = train_test_split(X,Y, test_size=0.25, random_state=42) "
      ]
    },
    {
      "cell_type": "code",
      "execution_count": 6,
      "metadata": {
        "colab": {
          "base_uri": "https://localhost:8080/"
        },
        "id": "OOg12Nn7e8do",
        "outputId": "e35d9091-3abb-4a6c-8225-229046890d66"
      },
      "outputs": [
        {
          "data": {
            "text/html": [
              "<style>#sk-container-id-1 {color: black;background-color: white;}#sk-container-id-1 pre{padding: 0;}#sk-container-id-1 div.sk-toggleable {background-color: white;}#sk-container-id-1 label.sk-toggleable__label {cursor: pointer;display: block;width: 100%;margin-bottom: 0;padding: 0.3em;box-sizing: border-box;text-align: center;}#sk-container-id-1 label.sk-toggleable__label-arrow:before {content: \"▸\";float: left;margin-right: 0.25em;color: #696969;}#sk-container-id-1 label.sk-toggleable__label-arrow:hover:before {color: black;}#sk-container-id-1 div.sk-estimator:hover label.sk-toggleable__label-arrow:before {color: black;}#sk-container-id-1 div.sk-toggleable__content {max-height: 0;max-width: 0;overflow: hidden;text-align: left;background-color: #f0f8ff;}#sk-container-id-1 div.sk-toggleable__content pre {margin: 0.2em;color: black;border-radius: 0.25em;background-color: #f0f8ff;}#sk-container-id-1 input.sk-toggleable__control:checked~div.sk-toggleable__content {max-height: 200px;max-width: 100%;overflow: auto;}#sk-container-id-1 input.sk-toggleable__control:checked~label.sk-toggleable__label-arrow:before {content: \"▾\";}#sk-container-id-1 div.sk-estimator input.sk-toggleable__control:checked~label.sk-toggleable__label {background-color: #d4ebff;}#sk-container-id-1 div.sk-label input.sk-toggleable__control:checked~label.sk-toggleable__label {background-color: #d4ebff;}#sk-container-id-1 input.sk-hidden--visually {border: 0;clip: rect(1px 1px 1px 1px);clip: rect(1px, 1px, 1px, 1px);height: 1px;margin: -1px;overflow: hidden;padding: 0;position: absolute;width: 1px;}#sk-container-id-1 div.sk-estimator {font-family: monospace;background-color: #f0f8ff;border: 1px dotted black;border-radius: 0.25em;box-sizing: border-box;margin-bottom: 0.5em;}#sk-container-id-1 div.sk-estimator:hover {background-color: #d4ebff;}#sk-container-id-1 div.sk-parallel-item::after {content: \"\";width: 100%;border-bottom: 1px solid gray;flex-grow: 1;}#sk-container-id-1 div.sk-label:hover label.sk-toggleable__label {background-color: #d4ebff;}#sk-container-id-1 div.sk-serial::before {content: \"\";position: absolute;border-left: 1px solid gray;box-sizing: border-box;top: 0;bottom: 0;left: 50%;z-index: 0;}#sk-container-id-1 div.sk-serial {display: flex;flex-direction: column;align-items: center;background-color: white;padding-right: 0.2em;padding-left: 0.2em;position: relative;}#sk-container-id-1 div.sk-item {position: relative;z-index: 1;}#sk-container-id-1 div.sk-parallel {display: flex;align-items: stretch;justify-content: center;background-color: white;position: relative;}#sk-container-id-1 div.sk-item::before, #sk-container-id-1 div.sk-parallel-item::before {content: \"\";position: absolute;border-left: 1px solid gray;box-sizing: border-box;top: 0;bottom: 0;left: 50%;z-index: -1;}#sk-container-id-1 div.sk-parallel-item {display: flex;flex-direction: column;z-index: 1;position: relative;background-color: white;}#sk-container-id-1 div.sk-parallel-item:first-child::after {align-self: flex-end;width: 50%;}#sk-container-id-1 div.sk-parallel-item:last-child::after {align-self: flex-start;width: 50%;}#sk-container-id-1 div.sk-parallel-item:only-child::after {width: 0;}#sk-container-id-1 div.sk-dashed-wrapped {border: 1px dashed gray;margin: 0 0.4em 0.5em 0.4em;box-sizing: border-box;padding-bottom: 0.4em;background-color: white;}#sk-container-id-1 div.sk-label label {font-family: monospace;font-weight: bold;display: inline-block;line-height: 1.2em;}#sk-container-id-1 div.sk-label-container {text-align: center;}#sk-container-id-1 div.sk-container {/* jupyter's `normalize.less` sets `[hidden] { display: none; }` but bootstrap.min.css set `[hidden] { display: none !important; }` so we also need the `!important` here to be able to override the default hidden behavior on the sphinx rendered scikit-learn.org. See: https://github.com/scikit-learn/scikit-learn/issues/21755 */display: inline-block !important;position: relative;}#sk-container-id-1 div.sk-text-repr-fallback {display: none;}</style><div id=\"sk-container-id-1\" class=\"sk-top-container\"><div class=\"sk-text-repr-fallback\"><pre>SVC(gamma=&#x27;auto&#x27;, kernel=&#x27;linear&#x27;)</pre><b>In a Jupyter environment, please rerun this cell to show the HTML representation or trust the notebook. <br />On GitHub, the HTML representation is unable to render, please try loading this page with nbviewer.org.</b></div><div class=\"sk-container\" hidden><div class=\"sk-item\"><div class=\"sk-estimator sk-toggleable\"><input class=\"sk-toggleable__control sk-hidden--visually\" id=\"sk-estimator-id-1\" type=\"checkbox\" checked><label for=\"sk-estimator-id-1\" class=\"sk-toggleable__label sk-toggleable__label-arrow\">SVC</label><div class=\"sk-toggleable__content\"><pre>SVC(gamma=&#x27;auto&#x27;, kernel=&#x27;linear&#x27;)</pre></div></div></div></div></div>"
            ],
            "text/plain": [
              "SVC(gamma='auto', kernel='linear')"
            ]
          },
          "execution_count": 6,
          "metadata": {},
          "output_type": "execute_result"
        }
      ],
      "source": [
        "# using kernel as linear \n",
        "lsvm = SVC(kernel='linear',gamma='auto') \n",
        "lsvm.fit(X_train,y_train) # training model on training dataset"
      ]
    },
    {
      "cell_type": "code",
      "execution_count": 7,
      "metadata": {
        "colab": {
          "base_uri": "https://localhost:8080/"
        },
        "id": "40emxT1YEW1B",
        "outputId": "51238a89-2564-4341-c04e-5078ce99976b"
      },
      "outputs": [],
      "source": [
        "pkl_filename = \"./models/lsvm_binary.pkl\"\n",
        "if (not path.isfile(pkl_filename)):\n",
        "  # saving the trained model to disk\n",
        "  with open(pkl_filename, 'wb') as file:\n",
        "    pickle.dump(lsvm, file)\n",
        "  print(\"Saved model to disk\")\n",
        "  # loading the trained model from disk\n",
        "  with open(pkl_filename, 'rb') as file:\n",
        "    lsvm = pickle.load(file)\n",
        "  print(\"Loaded model from disk\") "
      ]
    },
    {
      "cell_type": "code",
      "execution_count": 8,
      "metadata": {
        "colab": {
          "base_uri": "https://localhost:8080/"
        },
        "id": "NmtWOt9ZipS2",
        "outputId": "f28290f8-7937-487b-c057-85147e4e91a5"
      },
      "outputs": [
        {
          "name": "stdout",
          "output_type": "stream",
          "text": [
            "LSVM-Classifier Binary Set-Accuracy is  96.69460849685655\n"
          ]
        }
      ],
      "source": [
        "y_pred = lsvm.predict(X_test) # predicting target attribute on testing dataset\n",
        "ac = accuracy_score(y_test, y_pred)*100 # calculating accuracy of predicted data\n",
        "print(\"LSVM-Classifier Binary Set-Accuracy is \", ac)"
      ]
    },
    {
      "cell_type": "code",
      "execution_count": 9,
      "metadata": {
        "colab": {
          "base_uri": "https://localhost:8080/"
        },
        "id": "T_-KRKlrg8gS",
        "outputId": "aa6ae973-f345-4a01-d68f-942b102d07ba"
      },
      "outputs": [
        {
          "name": "stdout",
          "output_type": "stream",
          "text": [
            "              precision    recall  f1-score   support\n",
            "\n",
            "    abnormal       0.97      0.96      0.96     14720\n",
            "      normal       0.96      0.97      0.97     16774\n",
            "\n",
            "    accuracy                           0.97     31494\n",
            "   macro avg       0.97      0.97      0.97     31494\n",
            "weighted avg       0.97      0.97      0.97     31494\n",
            "\n"
          ]
        }
      ],
      "source": [
        "# classification report\n",
        "print(classification_report(y_test, y_pred,target_names=le1_classes_))"
      ]
    },
    {
      "cell_type": "markdown",
      "metadata": {
        "id": "FD827OpHPVkl"
      },
      "source": [
        "# **Quadratic Support Vector Machine Classifier (Binary Classification)**"
      ]
    },
    {
      "cell_type": "code",
      "execution_count": 10,
      "metadata": {
        "colab": {
          "base_uri": "https://localhost:8080/"
        },
        "id": "jvIqsl-8PSBw",
        "outputId": "0d3bcea4-5eb2-4ee7-c1bf-4efe29ca8a0b"
      },
      "outputs": [
        {
          "data": {
            "text/html": [
              "<style>#sk-container-id-2 {color: black;background-color: white;}#sk-container-id-2 pre{padding: 0;}#sk-container-id-2 div.sk-toggleable {background-color: white;}#sk-container-id-2 label.sk-toggleable__label {cursor: pointer;display: block;width: 100%;margin-bottom: 0;padding: 0.3em;box-sizing: border-box;text-align: center;}#sk-container-id-2 label.sk-toggleable__label-arrow:before {content: \"▸\";float: left;margin-right: 0.25em;color: #696969;}#sk-container-id-2 label.sk-toggleable__label-arrow:hover:before {color: black;}#sk-container-id-2 div.sk-estimator:hover label.sk-toggleable__label-arrow:before {color: black;}#sk-container-id-2 div.sk-toggleable__content {max-height: 0;max-width: 0;overflow: hidden;text-align: left;background-color: #f0f8ff;}#sk-container-id-2 div.sk-toggleable__content pre {margin: 0.2em;color: black;border-radius: 0.25em;background-color: #f0f8ff;}#sk-container-id-2 input.sk-toggleable__control:checked~div.sk-toggleable__content {max-height: 200px;max-width: 100%;overflow: auto;}#sk-container-id-2 input.sk-toggleable__control:checked~label.sk-toggleable__label-arrow:before {content: \"▾\";}#sk-container-id-2 div.sk-estimator input.sk-toggleable__control:checked~label.sk-toggleable__label {background-color: #d4ebff;}#sk-container-id-2 div.sk-label input.sk-toggleable__control:checked~label.sk-toggleable__label {background-color: #d4ebff;}#sk-container-id-2 input.sk-hidden--visually {border: 0;clip: rect(1px 1px 1px 1px);clip: rect(1px, 1px, 1px, 1px);height: 1px;margin: -1px;overflow: hidden;padding: 0;position: absolute;width: 1px;}#sk-container-id-2 div.sk-estimator {font-family: monospace;background-color: #f0f8ff;border: 1px dotted black;border-radius: 0.25em;box-sizing: border-box;margin-bottom: 0.5em;}#sk-container-id-2 div.sk-estimator:hover {background-color: #d4ebff;}#sk-container-id-2 div.sk-parallel-item::after {content: \"\";width: 100%;border-bottom: 1px solid gray;flex-grow: 1;}#sk-container-id-2 div.sk-label:hover label.sk-toggleable__label {background-color: #d4ebff;}#sk-container-id-2 div.sk-serial::before {content: \"\";position: absolute;border-left: 1px solid gray;box-sizing: border-box;top: 0;bottom: 0;left: 50%;z-index: 0;}#sk-container-id-2 div.sk-serial {display: flex;flex-direction: column;align-items: center;background-color: white;padding-right: 0.2em;padding-left: 0.2em;position: relative;}#sk-container-id-2 div.sk-item {position: relative;z-index: 1;}#sk-container-id-2 div.sk-parallel {display: flex;align-items: stretch;justify-content: center;background-color: white;position: relative;}#sk-container-id-2 div.sk-item::before, #sk-container-id-2 div.sk-parallel-item::before {content: \"\";position: absolute;border-left: 1px solid gray;box-sizing: border-box;top: 0;bottom: 0;left: 50%;z-index: -1;}#sk-container-id-2 div.sk-parallel-item {display: flex;flex-direction: column;z-index: 1;position: relative;background-color: white;}#sk-container-id-2 div.sk-parallel-item:first-child::after {align-self: flex-end;width: 50%;}#sk-container-id-2 div.sk-parallel-item:last-child::after {align-self: flex-start;width: 50%;}#sk-container-id-2 div.sk-parallel-item:only-child::after {width: 0;}#sk-container-id-2 div.sk-dashed-wrapped {border: 1px dashed gray;margin: 0 0.4em 0.5em 0.4em;box-sizing: border-box;padding-bottom: 0.4em;background-color: white;}#sk-container-id-2 div.sk-label label {font-family: monospace;font-weight: bold;display: inline-block;line-height: 1.2em;}#sk-container-id-2 div.sk-label-container {text-align: center;}#sk-container-id-2 div.sk-container {/* jupyter's `normalize.less` sets `[hidden] { display: none; }` but bootstrap.min.css set `[hidden] { display: none !important; }` so we also need the `!important` here to be able to override the default hidden behavior on the sphinx rendered scikit-learn.org. See: https://github.com/scikit-learn/scikit-learn/issues/21755 */display: inline-block !important;position: relative;}#sk-container-id-2 div.sk-text-repr-fallback {display: none;}</style><div id=\"sk-container-id-2\" class=\"sk-top-container\"><div class=\"sk-text-repr-fallback\"><pre>SVC(gamma=&#x27;auto&#x27;, kernel=&#x27;poly&#x27;)</pre><b>In a Jupyter environment, please rerun this cell to show the HTML representation or trust the notebook. <br />On GitHub, the HTML representation is unable to render, please try loading this page with nbviewer.org.</b></div><div class=\"sk-container\" hidden><div class=\"sk-item\"><div class=\"sk-estimator sk-toggleable\"><input class=\"sk-toggleable__control sk-hidden--visually\" id=\"sk-estimator-id-2\" type=\"checkbox\" checked><label for=\"sk-estimator-id-2\" class=\"sk-toggleable__label sk-toggleable__label-arrow\">SVC</label><div class=\"sk-toggleable__content\"><pre>SVC(gamma=&#x27;auto&#x27;, kernel=&#x27;poly&#x27;)</pre></div></div></div></div></div>"
            ],
            "text/plain": [
              "SVC(gamma='auto', kernel='poly')"
            ]
          },
          "execution_count": 10,
          "metadata": {},
          "output_type": "execute_result"
        }
      ],
      "source": [
        "qsvm=SVC(kernel='poly',gamma='auto') # using kernal as polynomial for quadratic svm\n",
        "qsvm.fit(X_train,y_train) # training model on training dataset"
      ]
    },
    {
      "cell_type": "code",
      "execution_count": 11,
      "metadata": {
        "colab": {
          "base_uri": "https://localhost:8080/"
        },
        "id": "fx6kRBvlE-RI",
        "outputId": "f3dbecc9-17fd-42b2-a51e-be0860d3a436"
      },
      "outputs": [],
      "source": [
        "pkl_filename = \"./models/qsvm_binary.pkl\"\n",
        "if (not path.isfile(pkl_filename)):\n",
        "  # saving the trained model to disk \n",
        "  with open(pkl_filename, 'wb') as file:\n",
        "    pickle.dump(qsvm, file)\n",
        "  print(\"Saved model to disk\")\n",
        "  # loading the trained model from disk\n",
        "  with open(pkl_filename, 'rb') as file:\n",
        "    qsvm = pickle.load(file)\n",
        "  print(\"Loaded model from disk\")"
      ]
    },
    {
      "cell_type": "code",
      "execution_count": 12,
      "metadata": {
        "colab": {
          "base_uri": "https://localhost:8080/"
        },
        "id": "i8uUCqtAPAKw",
        "outputId": "895da3ff-7c5f-4576-c832-6c18ba21cb14"
      },
      "outputs": [
        {
          "name": "stdout",
          "output_type": "stream",
          "text": [
            "QSVM-Classifier Binary Set-Accuracy is  95.71029402425859\n"
          ]
        }
      ],
      "source": [
        "y_pred=qsvm.predict(X_test) # predicting target attribute on testing dataset\n",
        "ac=accuracy_score(y_test, y_pred)*100 # calculating accuracy of predicted data\n",
        "print(\"QSVM-Classifier Binary Set-Accuracy is \", ac)"
      ]
    },
    {
      "cell_type": "code",
      "execution_count": 13,
      "metadata": {
        "colab": {
          "base_uri": "https://localhost:8080/"
        },
        "id": "zfDbF9XNg6Bp",
        "outputId": "06717cbb-c99f-4757-e80c-7f3761b1274c"
      },
      "outputs": [
        {
          "name": "stdout",
          "output_type": "stream",
          "text": [
            "              precision    recall  f1-score   support\n",
            "\n",
            "    abnormal       0.99      0.92      0.95     14720\n",
            "      normal       0.93      0.99      0.96     16774\n",
            "\n",
            "    accuracy                           0.96     31494\n",
            "   macro avg       0.96      0.95      0.96     31494\n",
            "weighted avg       0.96      0.96      0.96     31494\n",
            "\n"
          ]
        }
      ],
      "source": [
        "# classification report\n",
        "print(classification_report(y_test, y_pred,target_names=le1_classes_))"
      ]
    },
    {
      "cell_type": "markdown",
      "metadata": {
        "id": "7bnFgn5XB_mD"
      },
      "source": [
        "# **K-nearest-neighbor Classifier (Binary Classification)**"
      ]
    },
    {
      "cell_type": "code",
      "execution_count": 14,
      "metadata": {
        "id": "CmdUXiaiB8K9"
      },
      "outputs": [],
      "source": [
        "# importing library for K-neares-neighbor classifier\n",
        "from sklearn.neighbors import KNeighborsClassifier"
      ]
    },
    {
      "cell_type": "code",
      "execution_count": 15,
      "metadata": {
        "colab": {
          "base_uri": "https://localhost:8080/"
        },
        "id": "AlJRTC_MCjoZ",
        "outputId": "ab206f5b-99f5-44ee-811f-c20ea715cde7"
      },
      "outputs": [
        {
          "data": {
            "text/html": [
              "<style>#sk-container-id-3 {color: black;background-color: white;}#sk-container-id-3 pre{padding: 0;}#sk-container-id-3 div.sk-toggleable {background-color: white;}#sk-container-id-3 label.sk-toggleable__label {cursor: pointer;display: block;width: 100%;margin-bottom: 0;padding: 0.3em;box-sizing: border-box;text-align: center;}#sk-container-id-3 label.sk-toggleable__label-arrow:before {content: \"▸\";float: left;margin-right: 0.25em;color: #696969;}#sk-container-id-3 label.sk-toggleable__label-arrow:hover:before {color: black;}#sk-container-id-3 div.sk-estimator:hover label.sk-toggleable__label-arrow:before {color: black;}#sk-container-id-3 div.sk-toggleable__content {max-height: 0;max-width: 0;overflow: hidden;text-align: left;background-color: #f0f8ff;}#sk-container-id-3 div.sk-toggleable__content pre {margin: 0.2em;color: black;border-radius: 0.25em;background-color: #f0f8ff;}#sk-container-id-3 input.sk-toggleable__control:checked~div.sk-toggleable__content {max-height: 200px;max-width: 100%;overflow: auto;}#sk-container-id-3 input.sk-toggleable__control:checked~label.sk-toggleable__label-arrow:before {content: \"▾\";}#sk-container-id-3 div.sk-estimator input.sk-toggleable__control:checked~label.sk-toggleable__label {background-color: #d4ebff;}#sk-container-id-3 div.sk-label input.sk-toggleable__control:checked~label.sk-toggleable__label {background-color: #d4ebff;}#sk-container-id-3 input.sk-hidden--visually {border: 0;clip: rect(1px 1px 1px 1px);clip: rect(1px, 1px, 1px, 1px);height: 1px;margin: -1px;overflow: hidden;padding: 0;position: absolute;width: 1px;}#sk-container-id-3 div.sk-estimator {font-family: monospace;background-color: #f0f8ff;border: 1px dotted black;border-radius: 0.25em;box-sizing: border-box;margin-bottom: 0.5em;}#sk-container-id-3 div.sk-estimator:hover {background-color: #d4ebff;}#sk-container-id-3 div.sk-parallel-item::after {content: \"\";width: 100%;border-bottom: 1px solid gray;flex-grow: 1;}#sk-container-id-3 div.sk-label:hover label.sk-toggleable__label {background-color: #d4ebff;}#sk-container-id-3 div.sk-serial::before {content: \"\";position: absolute;border-left: 1px solid gray;box-sizing: border-box;top: 0;bottom: 0;left: 50%;z-index: 0;}#sk-container-id-3 div.sk-serial {display: flex;flex-direction: column;align-items: center;background-color: white;padding-right: 0.2em;padding-left: 0.2em;position: relative;}#sk-container-id-3 div.sk-item {position: relative;z-index: 1;}#sk-container-id-3 div.sk-parallel {display: flex;align-items: stretch;justify-content: center;background-color: white;position: relative;}#sk-container-id-3 div.sk-item::before, #sk-container-id-3 div.sk-parallel-item::before {content: \"\";position: absolute;border-left: 1px solid gray;box-sizing: border-box;top: 0;bottom: 0;left: 50%;z-index: -1;}#sk-container-id-3 div.sk-parallel-item {display: flex;flex-direction: column;z-index: 1;position: relative;background-color: white;}#sk-container-id-3 div.sk-parallel-item:first-child::after {align-self: flex-end;width: 50%;}#sk-container-id-3 div.sk-parallel-item:last-child::after {align-self: flex-start;width: 50%;}#sk-container-id-3 div.sk-parallel-item:only-child::after {width: 0;}#sk-container-id-3 div.sk-dashed-wrapped {border: 1px dashed gray;margin: 0 0.4em 0.5em 0.4em;box-sizing: border-box;padding-bottom: 0.4em;background-color: white;}#sk-container-id-3 div.sk-label label {font-family: monospace;font-weight: bold;display: inline-block;line-height: 1.2em;}#sk-container-id-3 div.sk-label-container {text-align: center;}#sk-container-id-3 div.sk-container {/* jupyter's `normalize.less` sets `[hidden] { display: none; }` but bootstrap.min.css set `[hidden] { display: none !important; }` so we also need the `!important` here to be able to override the default hidden behavior on the sphinx rendered scikit-learn.org. See: https://github.com/scikit-learn/scikit-learn/issues/21755 */display: inline-block !important;position: relative;}#sk-container-id-3 div.sk-text-repr-fallback {display: none;}</style><div id=\"sk-container-id-3\" class=\"sk-top-container\"><div class=\"sk-text-repr-fallback\"><pre>KNeighborsClassifier()</pre><b>In a Jupyter environment, please rerun this cell to show the HTML representation or trust the notebook. <br />On GitHub, the HTML representation is unable to render, please try loading this page with nbviewer.org.</b></div><div class=\"sk-container\" hidden><div class=\"sk-item\"><div class=\"sk-estimator sk-toggleable\"><input class=\"sk-toggleable__control sk-hidden--visually\" id=\"sk-estimator-id-3\" type=\"checkbox\" checked><label for=\"sk-estimator-id-3\" class=\"sk-toggleable__label sk-toggleable__label-arrow\">KNeighborsClassifier</label><div class=\"sk-toggleable__content\"><pre>KNeighborsClassifier()</pre></div></div></div></div></div>"
            ],
            "text/plain": [
              "KNeighborsClassifier()"
            ]
          },
          "execution_count": 15,
          "metadata": {},
          "output_type": "execute_result"
        }
      ],
      "source": [
        "knn=KNeighborsClassifier(n_neighbors=5) # creating model for 5 neighbors\n",
        "knn.fit(X_train,y_train) # training model on training dataset"
      ]
    },
    {
      "cell_type": "code",
      "execution_count": 16,
      "metadata": {
        "colab": {
          "base_uri": "https://localhost:8080/"
        },
        "id": "b7sDNWHBFG49",
        "outputId": "b2b57879-1ca9-4991-c669-f6dcbced70a2"
      },
      "outputs": [],
      "source": [
        "pkl_filename = \"./models/knn_binary.pkl\"\n",
        "if (not path.isfile(pkl_filename)):\n",
        "  # saving the trained model to disk\n",
        "  with open(pkl_filename, 'wb') as file:\n",
        "    pickle.dump(knn, file)\n",
        "  print(\"Saved model to disk\")\n",
        "  # loading the trained model from disk\n",
        "  with open(pkl_filename, 'rb') as file:\n",
        "    knn = pickle.load(file)\n",
        "  print(\"Loaded model from disk\")"
      ]
    },
    {
      "cell_type": "code",
      "execution_count": 17,
      "metadata": {
        "colab": {
          "base_uri": "https://localhost:8080/"
        },
        "id": "VhDTePIsBm-t",
        "outputId": "036555c6-90a4-4cab-fada-9c55491864b7"
      },
      "outputs": [
        {
          "name": "stdout",
          "output_type": "stream",
          "text": [
            "KNN-Classifier Binary Set-Accuracy is  98.5552803708643\n"
          ]
        }
      ],
      "source": [
        "y_pred=knn.predict(X_test) # predicting target attribute on testing dataset\n",
        "ac=accuracy_score(y_test, y_pred)*100 # calculating accuracy of predicted data\n",
        "print(\"KNN-Classifier Binary Set-Accuracy is \", ac)"
      ]
    },
    {
      "cell_type": "code",
      "execution_count": 18,
      "metadata": {
        "colab": {
          "base_uri": "https://localhost:8080/"
        },
        "id": "cSzvTXikg2pA",
        "outputId": "d3d01b41-937f-459f-8f9b-6a0c7e99d63b"
      },
      "outputs": [
        {
          "name": "stdout",
          "output_type": "stream",
          "text": [
            "              precision    recall  f1-score   support\n",
            "\n",
            "    abnormal       0.99      0.98      0.98     14720\n",
            "      normal       0.99      0.99      0.99     16774\n",
            "\n",
            "    accuracy                           0.99     31494\n",
            "   macro avg       0.99      0.99      0.99     31494\n",
            "weighted avg       0.99      0.99      0.99     31494\n",
            "\n"
          ]
        }
      ],
      "source": [
        "# classification report\n",
        "print(classification_report(y_test, y_pred,target_names=le1_classes_))"
      ]
    },
    {
      "cell_type": "markdown",
      "metadata": {
        "id": "0mfnQh0jtn8a"
      },
      "source": [
        "# **Linear Discriminant Analysis Classifier (Binary Classification)**"
      ]
    },
    {
      "cell_type": "code",
      "execution_count": 19,
      "metadata": {
        "id": "3YtnOUXatx4V"
      },
      "outputs": [],
      "source": [
        "# importing library for Linear Discriminant Analysis Model\n",
        "from sklearn.discriminant_analysis import LinearDiscriminantAnalysis"
      ]
    },
    {
      "cell_type": "code",
      "execution_count": 20,
      "metadata": {
        "colab": {
          "base_uri": "https://localhost:8080/"
        },
        "id": "11-UNM_atzpz",
        "outputId": "3d301502-7b07-4832-a9d2-fc3db24d22d7"
      },
      "outputs": [
        {
          "data": {
            "text/html": [
              "<style>#sk-container-id-4 {color: black;background-color: white;}#sk-container-id-4 pre{padding: 0;}#sk-container-id-4 div.sk-toggleable {background-color: white;}#sk-container-id-4 label.sk-toggleable__label {cursor: pointer;display: block;width: 100%;margin-bottom: 0;padding: 0.3em;box-sizing: border-box;text-align: center;}#sk-container-id-4 label.sk-toggleable__label-arrow:before {content: \"▸\";float: left;margin-right: 0.25em;color: #696969;}#sk-container-id-4 label.sk-toggleable__label-arrow:hover:before {color: black;}#sk-container-id-4 div.sk-estimator:hover label.sk-toggleable__label-arrow:before {color: black;}#sk-container-id-4 div.sk-toggleable__content {max-height: 0;max-width: 0;overflow: hidden;text-align: left;background-color: #f0f8ff;}#sk-container-id-4 div.sk-toggleable__content pre {margin: 0.2em;color: black;border-radius: 0.25em;background-color: #f0f8ff;}#sk-container-id-4 input.sk-toggleable__control:checked~div.sk-toggleable__content {max-height: 200px;max-width: 100%;overflow: auto;}#sk-container-id-4 input.sk-toggleable__control:checked~label.sk-toggleable__label-arrow:before {content: \"▾\";}#sk-container-id-4 div.sk-estimator input.sk-toggleable__control:checked~label.sk-toggleable__label {background-color: #d4ebff;}#sk-container-id-4 div.sk-label input.sk-toggleable__control:checked~label.sk-toggleable__label {background-color: #d4ebff;}#sk-container-id-4 input.sk-hidden--visually {border: 0;clip: rect(1px 1px 1px 1px);clip: rect(1px, 1px, 1px, 1px);height: 1px;margin: -1px;overflow: hidden;padding: 0;position: absolute;width: 1px;}#sk-container-id-4 div.sk-estimator {font-family: monospace;background-color: #f0f8ff;border: 1px dotted black;border-radius: 0.25em;box-sizing: border-box;margin-bottom: 0.5em;}#sk-container-id-4 div.sk-estimator:hover {background-color: #d4ebff;}#sk-container-id-4 div.sk-parallel-item::after {content: \"\";width: 100%;border-bottom: 1px solid gray;flex-grow: 1;}#sk-container-id-4 div.sk-label:hover label.sk-toggleable__label {background-color: #d4ebff;}#sk-container-id-4 div.sk-serial::before {content: \"\";position: absolute;border-left: 1px solid gray;box-sizing: border-box;top: 0;bottom: 0;left: 50%;z-index: 0;}#sk-container-id-4 div.sk-serial {display: flex;flex-direction: column;align-items: center;background-color: white;padding-right: 0.2em;padding-left: 0.2em;position: relative;}#sk-container-id-4 div.sk-item {position: relative;z-index: 1;}#sk-container-id-4 div.sk-parallel {display: flex;align-items: stretch;justify-content: center;background-color: white;position: relative;}#sk-container-id-4 div.sk-item::before, #sk-container-id-4 div.sk-parallel-item::before {content: \"\";position: absolute;border-left: 1px solid gray;box-sizing: border-box;top: 0;bottom: 0;left: 50%;z-index: -1;}#sk-container-id-4 div.sk-parallel-item {display: flex;flex-direction: column;z-index: 1;position: relative;background-color: white;}#sk-container-id-4 div.sk-parallel-item:first-child::after {align-self: flex-end;width: 50%;}#sk-container-id-4 div.sk-parallel-item:last-child::after {align-self: flex-start;width: 50%;}#sk-container-id-4 div.sk-parallel-item:only-child::after {width: 0;}#sk-container-id-4 div.sk-dashed-wrapped {border: 1px dashed gray;margin: 0 0.4em 0.5em 0.4em;box-sizing: border-box;padding-bottom: 0.4em;background-color: white;}#sk-container-id-4 div.sk-label label {font-family: monospace;font-weight: bold;display: inline-block;line-height: 1.2em;}#sk-container-id-4 div.sk-label-container {text-align: center;}#sk-container-id-4 div.sk-container {/* jupyter's `normalize.less` sets `[hidden] { display: none; }` but bootstrap.min.css set `[hidden] { display: none !important; }` so we also need the `!important` here to be able to override the default hidden behavior on the sphinx rendered scikit-learn.org. See: https://github.com/scikit-learn/scikit-learn/issues/21755 */display: inline-block !important;position: relative;}#sk-container-id-4 div.sk-text-repr-fallback {display: none;}</style><div id=\"sk-container-id-4\" class=\"sk-top-container\"><div class=\"sk-text-repr-fallback\"><pre>LinearDiscriminantAnalysis()</pre><b>In a Jupyter environment, please rerun this cell to show the HTML representation or trust the notebook. <br />On GitHub, the HTML representation is unable to render, please try loading this page with nbviewer.org.</b></div><div class=\"sk-container\" hidden><div class=\"sk-item\"><div class=\"sk-estimator sk-toggleable\"><input class=\"sk-toggleable__control sk-hidden--visually\" id=\"sk-estimator-id-4\" type=\"checkbox\" checked><label for=\"sk-estimator-id-4\" class=\"sk-toggleable__label sk-toggleable__label-arrow\">LinearDiscriminantAnalysis</label><div class=\"sk-toggleable__content\"><pre>LinearDiscriminantAnalysis()</pre></div></div></div></div></div>"
            ],
            "text/plain": [
              "LinearDiscriminantAnalysis()"
            ]
          },
          "execution_count": 20,
          "metadata": {},
          "output_type": "execute_result"
        }
      ],
      "source": [
        "lda = LinearDiscriminantAnalysis() \n",
        "lda.fit(X_train, y_train)  # training model on training dataset"
      ]
    },
    {
      "cell_type": "code",
      "execution_count": 21,
      "metadata": {
        "colab": {
          "base_uri": "https://localhost:8080/"
        },
        "id": "dRY09jVFEJRy",
        "outputId": "1d17764b-b692-438e-a131-e43981045ee9"
      },
      "outputs": [],
      "source": [
        "pkl_filename = \"./models/lda_binary.pkl\"\n",
        "if (not path.isfile(pkl_filename)):\n",
        "  # saving trained model to disk\n",
        "  with open(pkl_filename, 'wb') as file:\n",
        "    pickle.dump(lda, file)\n",
        "  print(\"Saved model to disk\")\n",
        "  # loading trained model from disk\n",
        "  with open(pkl_filename, 'rb') as file:\n",
        "    lda = pickle.load(file)\n",
        "  print(\"Loaded model from disk\")"
      ]
    },
    {
      "cell_type": "code",
      "execution_count": 22,
      "metadata": {
        "colab": {
          "base_uri": "https://localhost:8080/"
        },
        "id": "hP0SNgdytqCA",
        "outputId": "8af55a76-ef24-4655-fae8-fbc3dea284fe"
      },
      "outputs": [
        {
          "name": "stdout",
          "output_type": "stream",
          "text": [
            "LDA-Classifier Set-Accuracy is  96.70730932876104\n"
          ]
        }
      ],
      "source": [
        "y_pred = lda.predict(X_test) # predicting target attribute on testing dataset\n",
        "ac=accuracy_score(y_test, y_pred)*100 # calculating accuracy of predicted data\n",
        "print(\"LDA-Classifier Set-Accuracy is \", ac)"
      ]
    },
    {
      "cell_type": "code",
      "execution_count": 23,
      "metadata": {
        "colab": {
          "base_uri": "https://localhost:8080/"
        },
        "id": "mYnAzR9xuJ7Q",
        "outputId": "759e4e5d-c600-4fe8-8179-ba8bade8bed6"
      },
      "outputs": [
        {
          "name": "stdout",
          "output_type": "stream",
          "text": [
            "              precision    recall  f1-score   support\n",
            "\n",
            "    abnormal       0.97      0.96      0.96     14720\n",
            "      normal       0.96      0.98      0.97     16774\n",
            "\n",
            "    accuracy                           0.97     31494\n",
            "   macro avg       0.97      0.97      0.97     31494\n",
            "weighted avg       0.97      0.97      0.97     31494\n",
            "\n"
          ]
        }
      ],
      "source": [
        "# classification report\n",
        "print(classification_report(y_test, y_pred,target_names=le1_classes_))"
      ]
    },
    {
      "cell_type": "markdown",
      "metadata": {
        "id": "fOETMr33uwN0"
      },
      "source": [
        "# **Quadratic Discriminant Analysis Classifier (Binary Classification)**"
      ]
    },
    {
      "cell_type": "code",
      "execution_count": 24,
      "metadata": {
        "id": "7kmCNlw_uvoL"
      },
      "outputs": [],
      "source": [
        "# importing library for Quadratic Discriminant Analysis Model\n",
        "from sklearn.discriminant_analysis import QuadraticDiscriminantAnalysis"
      ]
    },
    {
      "cell_type": "code",
      "execution_count": 25,
      "metadata": {
        "colab": {
          "base_uri": "https://localhost:8080/"
        },
        "id": "ALsaiYPYu9uV",
        "outputId": "d934a17d-d439-4c15-fb15-20a780202d35"
      },
      "outputs": [
        {
          "name": "stderr",
          "output_type": "stream",
          "text": [
            "c:\\Users\\qrkdb\\AppData\\Local\\Programs\\Python\\Python311\\Lib\\site-packages\\sklearn\\discriminant_analysis.py:926: UserWarning: Variables are collinear\n",
            "  warnings.warn(\"Variables are collinear\")\n"
          ]
        },
        {
          "data": {
            "text/html": [
              "<style>#sk-container-id-5 {color: black;background-color: white;}#sk-container-id-5 pre{padding: 0;}#sk-container-id-5 div.sk-toggleable {background-color: white;}#sk-container-id-5 label.sk-toggleable__label {cursor: pointer;display: block;width: 100%;margin-bottom: 0;padding: 0.3em;box-sizing: border-box;text-align: center;}#sk-container-id-5 label.sk-toggleable__label-arrow:before {content: \"▸\";float: left;margin-right: 0.25em;color: #696969;}#sk-container-id-5 label.sk-toggleable__label-arrow:hover:before {color: black;}#sk-container-id-5 div.sk-estimator:hover label.sk-toggleable__label-arrow:before {color: black;}#sk-container-id-5 div.sk-toggleable__content {max-height: 0;max-width: 0;overflow: hidden;text-align: left;background-color: #f0f8ff;}#sk-container-id-5 div.sk-toggleable__content pre {margin: 0.2em;color: black;border-radius: 0.25em;background-color: #f0f8ff;}#sk-container-id-5 input.sk-toggleable__control:checked~div.sk-toggleable__content {max-height: 200px;max-width: 100%;overflow: auto;}#sk-container-id-5 input.sk-toggleable__control:checked~label.sk-toggleable__label-arrow:before {content: \"▾\";}#sk-container-id-5 div.sk-estimator input.sk-toggleable__control:checked~label.sk-toggleable__label {background-color: #d4ebff;}#sk-container-id-5 div.sk-label input.sk-toggleable__control:checked~label.sk-toggleable__label {background-color: #d4ebff;}#sk-container-id-5 input.sk-hidden--visually {border: 0;clip: rect(1px 1px 1px 1px);clip: rect(1px, 1px, 1px, 1px);height: 1px;margin: -1px;overflow: hidden;padding: 0;position: absolute;width: 1px;}#sk-container-id-5 div.sk-estimator {font-family: monospace;background-color: #f0f8ff;border: 1px dotted black;border-radius: 0.25em;box-sizing: border-box;margin-bottom: 0.5em;}#sk-container-id-5 div.sk-estimator:hover {background-color: #d4ebff;}#sk-container-id-5 div.sk-parallel-item::after {content: \"\";width: 100%;border-bottom: 1px solid gray;flex-grow: 1;}#sk-container-id-5 div.sk-label:hover label.sk-toggleable__label {background-color: #d4ebff;}#sk-container-id-5 div.sk-serial::before {content: \"\";position: absolute;border-left: 1px solid gray;box-sizing: border-box;top: 0;bottom: 0;left: 50%;z-index: 0;}#sk-container-id-5 div.sk-serial {display: flex;flex-direction: column;align-items: center;background-color: white;padding-right: 0.2em;padding-left: 0.2em;position: relative;}#sk-container-id-5 div.sk-item {position: relative;z-index: 1;}#sk-container-id-5 div.sk-parallel {display: flex;align-items: stretch;justify-content: center;background-color: white;position: relative;}#sk-container-id-5 div.sk-item::before, #sk-container-id-5 div.sk-parallel-item::before {content: \"\";position: absolute;border-left: 1px solid gray;box-sizing: border-box;top: 0;bottom: 0;left: 50%;z-index: -1;}#sk-container-id-5 div.sk-parallel-item {display: flex;flex-direction: column;z-index: 1;position: relative;background-color: white;}#sk-container-id-5 div.sk-parallel-item:first-child::after {align-self: flex-end;width: 50%;}#sk-container-id-5 div.sk-parallel-item:last-child::after {align-self: flex-start;width: 50%;}#sk-container-id-5 div.sk-parallel-item:only-child::after {width: 0;}#sk-container-id-5 div.sk-dashed-wrapped {border: 1px dashed gray;margin: 0 0.4em 0.5em 0.4em;box-sizing: border-box;padding-bottom: 0.4em;background-color: white;}#sk-container-id-5 div.sk-label label {font-family: monospace;font-weight: bold;display: inline-block;line-height: 1.2em;}#sk-container-id-5 div.sk-label-container {text-align: center;}#sk-container-id-5 div.sk-container {/* jupyter's `normalize.less` sets `[hidden] { display: none; }` but bootstrap.min.css set `[hidden] { display: none !important; }` so we also need the `!important` here to be able to override the default hidden behavior on the sphinx rendered scikit-learn.org. See: https://github.com/scikit-learn/scikit-learn/issues/21755 */display: inline-block !important;position: relative;}#sk-container-id-5 div.sk-text-repr-fallback {display: none;}</style><div id=\"sk-container-id-5\" class=\"sk-top-container\"><div class=\"sk-text-repr-fallback\"><pre>QuadraticDiscriminantAnalysis()</pre><b>In a Jupyter environment, please rerun this cell to show the HTML representation or trust the notebook. <br />On GitHub, the HTML representation is unable to render, please try loading this page with nbviewer.org.</b></div><div class=\"sk-container\" hidden><div class=\"sk-item\"><div class=\"sk-estimator sk-toggleable\"><input class=\"sk-toggleable__control sk-hidden--visually\" id=\"sk-estimator-id-5\" type=\"checkbox\" checked><label for=\"sk-estimator-id-5\" class=\"sk-toggleable__label sk-toggleable__label-arrow\">QuadraticDiscriminantAnalysis</label><div class=\"sk-toggleable__content\"><pre>QuadraticDiscriminantAnalysis()</pre></div></div></div></div></div>"
            ],
            "text/plain": [
              "QuadraticDiscriminantAnalysis()"
            ]
          },
          "execution_count": 25,
          "metadata": {},
          "output_type": "execute_result"
        }
      ],
      "source": [
        "qda = QuadraticDiscriminantAnalysis()\n",
        "qda.fit(X_train, y_train) # training model on training dataset"
      ]
    },
    {
      "cell_type": "code",
      "execution_count": 26,
      "metadata": {
        "colab": {
          "base_uri": "https://localhost:8080/"
        },
        "id": "qeJNXcxjFrjS",
        "outputId": "ae8250e5-b4db-4aa7-a3af-7bf472ab6b39"
      },
      "outputs": [],
      "source": [
        "pkl_filename = \"./models/qda_binary.pkl\"\n",
        "if (not path.isfile(pkl_filename)):\n",
        "  # saving trained model to disk\n",
        "  with open(pkl_filename, 'wb') as file:\n",
        "    pickle.dump(qda, file)\n",
        "  print(\"Saved model to disk\")\n",
        "  # loading trained model from disk\n",
        "  with open(pkl_filename, 'rb') as file:\n",
        "    qda = pickle.load(file)\n",
        "  print(\"Loaded model from disk\")"
      ]
    },
    {
      "cell_type": "code",
      "execution_count": 27,
      "metadata": {
        "colab": {
          "base_uri": "https://localhost:8080/"
        },
        "id": "NJ2ja7JpvFUg",
        "outputId": "9f58e21d-939e-4a01-de0c-54dad8513022"
      },
      "outputs": [
        {
          "name": "stdout",
          "output_type": "stream",
          "text": [
            "QDA-Classifier Set-Accuracy is  81.69175080967803\n"
          ]
        }
      ],
      "source": [
        "y_pred = qda.predict(X_test) # predicting target attribute on testing dataset\n",
        "ac=accuracy_score(y_test, y_pred)*100  # calculating accuracy of predicted data\n",
        "print(\"QDA-Classifier Set-Accuracy is \", ac)"
      ]
    },
    {
      "cell_type": "code",
      "execution_count": 28,
      "metadata": {
        "colab": {
          "base_uri": "https://localhost:8080/"
        },
        "id": "0XYW6VI-vIQn",
        "outputId": "19ecb554-26f4-4178-ffd8-07010fed6a73"
      },
      "outputs": [
        {
          "name": "stdout",
          "output_type": "stream",
          "text": [
            "              precision    recall  f1-score   support\n",
            "\n",
            "    abnormal       1.00      0.61      0.76     14720\n",
            "      normal       0.74      1.00      0.85     16774\n",
            "\n",
            "    accuracy                           0.82     31494\n",
            "   macro avg       0.87      0.80      0.80     31494\n",
            "weighted avg       0.86      0.82      0.81     31494\n",
            "\n"
          ]
        }
      ],
      "source": [
        "# classification report\n",
        "print(classification_report(y_test, y_pred,target_names=le1_classes_))"
      ]
    },
    {
      "cell_type": "markdown",
      "metadata": {
        "id": "UcAd_oyaD4C6"
      },
      "source": [
        "# **Multi Layer Perceptron Classifier (Binary Classification)**"
      ]
    },
    {
      "cell_type": "code",
      "execution_count": 29,
      "metadata": {
        "id": "MXZbJB9HESF4"
      },
      "outputs": [],
      "source": [
        "from keras.layers import Dense # importing dense layer\n",
        "from keras.models import Sequential #importing Sequential layer\n",
        "from keras.models import model_from_json # saving and loading trained model"
      ]
    },
    {
      "cell_type": "code",
      "execution_count": 30,
      "metadata": {
        "id": "Imkkjtu_Fnzr"
      },
      "outputs": [],
      "source": [
        "X = bin_data.iloc[:,0:93].values # dataset excluding target attribute (encoded, one-hot-encoded,original)\n",
        "Y = bin_data[['intrusion']].values # target attribute"
      ]
    },
    {
      "cell_type": "code",
      "execution_count": 31,
      "metadata": {
        "id": "gNx0tOV7FwfO"
      },
      "outputs": [],
      "source": [
        "# splitting the dataset 75% for training and 25% testing\n",
        "X_train, X_test, y_train, y_test = train_test_split(X,Y, test_size=0.25, random_state=42)"
      ]
    },
    {
      "cell_type": "code",
      "execution_count": 32,
      "metadata": {
        "id": "9-5ChLnLEVqn"
      },
      "outputs": [],
      "source": [
        "mlp = Sequential() # creating model\n",
        "\n",
        "# adding input layer and first layer with 50 neurons\n",
        "mlp.add(Dense(units=50, input_dim=X_train.shape[1], activation='relu'))\n",
        "# output layer with sigmoid activation\n",
        "mlp.add(Dense(units=1,activation='sigmoid'))"
      ]
    },
    {
      "cell_type": "code",
      "execution_count": 33,
      "metadata": {
        "id": "9ttL9NnuEsvL"
      },
      "outputs": [],
      "source": [
        "# defining loss function, optimizer, metrics and then compiling model\n",
        "mlp.compile(loss='binary_crossentropy', optimizer='adam', metrics=['accuracy'])"
      ]
    },
    {
      "cell_type": "code",
      "execution_count": 34,
      "metadata": {
        "colab": {
          "base_uri": "https://localhost:8080/"
        },
        "id": "GBlm3w0EzM24",
        "outputId": "1cce1b08-2d2a-4b13-d5f1-eecf9733a618"
      },
      "outputs": [
        {
          "name": "stdout",
          "output_type": "stream",
          "text": [
            "Model: \"sequential\"\n",
            "_________________________________________________________________\n",
            " Layer (type)                Output Shape              Param #   \n",
            "=================================================================\n",
            " dense (Dense)               (None, 50)                4700      \n",
            "                                                                 \n",
            " dense_1 (Dense)             (None, 1)                 51        \n",
            "                                                                 \n",
            "=================================================================\n",
            "Total params: 4,751\n",
            "Trainable params: 4,751\n",
            "Non-trainable params: 0\n",
            "_________________________________________________________________\n"
          ]
        }
      ],
      "source": [
        "# summary of model layers\n",
        "mlp.summary()"
      ]
    },
    {
      "cell_type": "code",
      "execution_count": 35,
      "metadata": {
        "colab": {
          "base_uri": "https://localhost:8080/"
        },
        "id": "TeIHduwLEzec",
        "outputId": "5dcbc619-340b-42af-9357-6d6ad88f930f"
      },
      "outputs": [
        {
          "name": "stdout",
          "output_type": "stream",
          "text": [
            "Epoch 1/100\n",
            "16/16 [==============================] - 1s 20ms/step - loss: 0.5272 - accuracy: 0.8534 - val_loss: 0.4093 - val_accuracy: 0.8906\n",
            "Epoch 2/100\n",
            "16/16 [==============================] - 0s 7ms/step - loss: 0.3566 - accuracy: 0.9024 - val_loss: 0.3016 - val_accuracy: 0.9161\n",
            "Epoch 3/100\n",
            "16/16 [==============================] - 0s 7ms/step - loss: 0.2756 - accuracy: 0.9148 - val_loss: 0.2452 - val_accuracy: 0.9210\n",
            "Epoch 4/100\n",
            "16/16 [==============================] - 0s 7ms/step - loss: 0.2289 - accuracy: 0.9203 - val_loss: 0.2092 - val_accuracy: 0.9236\n",
            "Epoch 5/100\n",
            "16/16 [==============================] - 0s 7ms/step - loss: 0.1974 - accuracy: 0.9266 - val_loss: 0.1839 - val_accuracy: 0.9410\n",
            "Epoch 6/100\n",
            "16/16 [==============================] - 0s 7ms/step - loss: 0.1744 - accuracy: 0.9480 - val_loss: 0.1653 - val_accuracy: 0.9559\n",
            "Epoch 7/100\n",
            "16/16 [==============================] - 0s 7ms/step - loss: 0.1575 - accuracy: 0.9581 - val_loss: 0.1513 - val_accuracy: 0.9618\n",
            "Epoch 8/100\n",
            "16/16 [==============================] - 0s 7ms/step - loss: 0.1449 - accuracy: 0.9623 - val_loss: 0.1409 - val_accuracy: 0.9635\n",
            "Epoch 9/100\n",
            "16/16 [==============================] - 0s 7ms/step - loss: 0.1354 - accuracy: 0.9644 - val_loss: 0.1330 - val_accuracy: 0.9654\n",
            "Epoch 10/100\n",
            "16/16 [==============================] - 0s 7ms/step - loss: 0.1282 - accuracy: 0.9665 - val_loss: 0.1269 - val_accuracy: 0.9663\n",
            "Epoch 11/100\n",
            "16/16 [==============================] - 0s 7ms/step - loss: 0.1226 - accuracy: 0.9673 - val_loss: 0.1220 - val_accuracy: 0.9675\n",
            "Epoch 12/100\n",
            "16/16 [==============================] - 0s 8ms/step - loss: 0.1180 - accuracy: 0.9687 - val_loss: 0.1179 - val_accuracy: 0.9689\n",
            "Epoch 13/100\n",
            "16/16 [==============================] - 0s 7ms/step - loss: 0.1141 - accuracy: 0.9697 - val_loss: 0.1143 - val_accuracy: 0.9693\n",
            "Epoch 14/100\n",
            "16/16 [==============================] - 0s 6ms/step - loss: 0.1108 - accuracy: 0.9700 - val_loss: 0.1112 - val_accuracy: 0.9696\n",
            "Epoch 15/100\n",
            "16/16 [==============================] - 0s 7ms/step - loss: 0.1078 - accuracy: 0.9701 - val_loss: 0.1085 - val_accuracy: 0.9697\n",
            "Epoch 16/100\n",
            "16/16 [==============================] - 0s 6ms/step - loss: 0.1052 - accuracy: 0.9703 - val_loss: 0.1059 - val_accuracy: 0.9698\n",
            "Epoch 17/100\n",
            "16/16 [==============================] - 0s 7ms/step - loss: 0.1028 - accuracy: 0.9704 - val_loss: 0.1036 - val_accuracy: 0.9699\n",
            "Epoch 18/100\n",
            "16/16 [==============================] - 0s 7ms/step - loss: 0.1006 - accuracy: 0.9705 - val_loss: 0.1015 - val_accuracy: 0.9702\n",
            "Epoch 19/100\n",
            "16/16 [==============================] - 0s 7ms/step - loss: 0.0986 - accuracy: 0.9708 - val_loss: 0.0996 - val_accuracy: 0.9703\n",
            "Epoch 20/100\n",
            "16/16 [==============================] - 0s 7ms/step - loss: 0.0968 - accuracy: 0.9713 - val_loss: 0.0978 - val_accuracy: 0.9705\n",
            "Epoch 21/100\n",
            "16/16 [==============================] - 0s 7ms/step - loss: 0.0951 - accuracy: 0.9713 - val_loss: 0.0960 - val_accuracy: 0.9705\n",
            "Epoch 22/100\n",
            "16/16 [==============================] - 0s 9ms/step - loss: 0.0935 - accuracy: 0.9714 - val_loss: 0.0945 - val_accuracy: 0.9707\n",
            "Epoch 23/100\n",
            "16/16 [==============================] - 0s 7ms/step - loss: 0.0919 - accuracy: 0.9715 - val_loss: 0.0930 - val_accuracy: 0.9708\n",
            "Epoch 24/100\n",
            "16/16 [==============================] - 0s 7ms/step - loss: 0.0905 - accuracy: 0.9716 - val_loss: 0.0917 - val_accuracy: 0.9711\n",
            "Epoch 25/100\n",
            "16/16 [==============================] - 0s 7ms/step - loss: 0.0893 - accuracy: 0.9717 - val_loss: 0.0905 - val_accuracy: 0.9711\n",
            "Epoch 26/100\n",
            "16/16 [==============================] - 0s 7ms/step - loss: 0.0881 - accuracy: 0.9717 - val_loss: 0.0894 - val_accuracy: 0.9709\n",
            "Epoch 27/100\n",
            "16/16 [==============================] - 0s 7ms/step - loss: 0.0871 - accuracy: 0.9719 - val_loss: 0.0883 - val_accuracy: 0.9712\n",
            "Epoch 28/100\n",
            "16/16 [==============================] - 0s 7ms/step - loss: 0.0860 - accuracy: 0.9720 - val_loss: 0.0874 - val_accuracy: 0.9711\n",
            "Epoch 29/100\n",
            "16/16 [==============================] - 0s 7ms/step - loss: 0.0851 - accuracy: 0.9719 - val_loss: 0.0864 - val_accuracy: 0.9706\n",
            "Epoch 30/100\n",
            "16/16 [==============================] - 0s 7ms/step - loss: 0.0842 - accuracy: 0.9719 - val_loss: 0.0855 - val_accuracy: 0.9706\n",
            "Epoch 31/100\n",
            "16/16 [==============================] - 0s 6ms/step - loss: 0.0834 - accuracy: 0.9718 - val_loss: 0.0847 - val_accuracy: 0.9705\n",
            "Epoch 32/100\n",
            "16/16 [==============================] - 0s 7ms/step - loss: 0.0825 - accuracy: 0.9719 - val_loss: 0.0839 - val_accuracy: 0.9707\n",
            "Epoch 33/100\n",
            "16/16 [==============================] - 0s 7ms/step - loss: 0.0818 - accuracy: 0.9719 - val_loss: 0.0832 - val_accuracy: 0.9707\n",
            "Epoch 34/100\n",
            "16/16 [==============================] - 0s 7ms/step - loss: 0.0811 - accuracy: 0.9720 - val_loss: 0.0825 - val_accuracy: 0.9706\n",
            "Epoch 35/100\n",
            "16/16 [==============================] - 0s 7ms/step - loss: 0.0804 - accuracy: 0.9720 - val_loss: 0.0819 - val_accuracy: 0.9706\n",
            "Epoch 36/100\n",
            "16/16 [==============================] - 0s 7ms/step - loss: 0.0798 - accuracy: 0.9721 - val_loss: 0.0813 - val_accuracy: 0.9706\n",
            "Epoch 37/100\n",
            "16/16 [==============================] - 0s 7ms/step - loss: 0.0792 - accuracy: 0.9722 - val_loss: 0.0807 - val_accuracy: 0.9706\n",
            "Epoch 38/100\n",
            "16/16 [==============================] - 0s 8ms/step - loss: 0.0787 - accuracy: 0.9721 - val_loss: 0.0802 - val_accuracy: 0.9706\n",
            "Epoch 39/100\n",
            "16/16 [==============================] - 0s 8ms/step - loss: 0.0781 - accuracy: 0.9722 - val_loss: 0.0796 - val_accuracy: 0.9706\n",
            "Epoch 40/100\n",
            "16/16 [==============================] - 0s 7ms/step - loss: 0.0776 - accuracy: 0.9722 - val_loss: 0.0792 - val_accuracy: 0.9705\n",
            "Epoch 41/100\n",
            "16/16 [==============================] - 0s 7ms/step - loss: 0.0771 - accuracy: 0.9725 - val_loss: 0.0787 - val_accuracy: 0.9708\n",
            "Epoch 42/100\n",
            "16/16 [==============================] - 0s 7ms/step - loss: 0.0766 - accuracy: 0.9727 - val_loss: 0.0782 - val_accuracy: 0.9708\n",
            "Epoch 43/100\n",
            "16/16 [==============================] - 0s 7ms/step - loss: 0.0761 - accuracy: 0.9727 - val_loss: 0.0777 - val_accuracy: 0.9709\n",
            "Epoch 44/100\n",
            "16/16 [==============================] - 0s 7ms/step - loss: 0.0756 - accuracy: 0.9728 - val_loss: 0.0773 - val_accuracy: 0.9708\n",
            "Epoch 45/100\n",
            "16/16 [==============================] - 0s 8ms/step - loss: 0.0752 - accuracy: 0.9730 - val_loss: 0.0769 - val_accuracy: 0.9714\n",
            "Epoch 46/100\n",
            "16/16 [==============================] - 0s 7ms/step - loss: 0.0748 - accuracy: 0.9736 - val_loss: 0.0765 - val_accuracy: 0.9724\n",
            "Epoch 47/100\n",
            "16/16 [==============================] - 0s 7ms/step - loss: 0.0744 - accuracy: 0.9739 - val_loss: 0.0761 - val_accuracy: 0.9725\n",
            "Epoch 48/100\n",
            "16/16 [==============================] - 0s 7ms/step - loss: 0.0739 - accuracy: 0.9742 - val_loss: 0.0757 - val_accuracy: 0.9728\n",
            "Epoch 49/100\n",
            "16/16 [==============================] - 0s 7ms/step - loss: 0.0736 - accuracy: 0.9743 - val_loss: 0.0753 - val_accuracy: 0.9729\n",
            "Epoch 50/100\n",
            "16/16 [==============================] - 0s 7ms/step - loss: 0.0732 - accuracy: 0.9749 - val_loss: 0.0750 - val_accuracy: 0.9736\n",
            "Epoch 51/100\n",
            "16/16 [==============================] - 0s 7ms/step - loss: 0.0728 - accuracy: 0.9752 - val_loss: 0.0747 - val_accuracy: 0.9736\n",
            "Epoch 52/100\n",
            "16/16 [==============================] - 0s 7ms/step - loss: 0.0725 - accuracy: 0.9750 - val_loss: 0.0743 - val_accuracy: 0.9739\n",
            "Epoch 53/100\n",
            "16/16 [==============================] - 0s 7ms/step - loss: 0.0722 - accuracy: 0.9757 - val_loss: 0.0740 - val_accuracy: 0.9741\n",
            "Epoch 54/100\n",
            "16/16 [==============================] - 0s 7ms/step - loss: 0.0718 - accuracy: 0.9757 - val_loss: 0.0737 - val_accuracy: 0.9745\n",
            "Epoch 55/100\n",
            "16/16 [==============================] - 0s 7ms/step - loss: 0.0715 - accuracy: 0.9763 - val_loss: 0.0734 - val_accuracy: 0.9746\n",
            "Epoch 56/100\n",
            "16/16 [==============================] - 0s 9ms/step - loss: 0.0712 - accuracy: 0.9764 - val_loss: 0.0732 - val_accuracy: 0.9745\n",
            "Epoch 57/100\n",
            "16/16 [==============================] - 0s 7ms/step - loss: 0.0710 - accuracy: 0.9760 - val_loss: 0.0728 - val_accuracy: 0.9749\n",
            "Epoch 58/100\n",
            "16/16 [==============================] - 0s 7ms/step - loss: 0.0706 - accuracy: 0.9766 - val_loss: 0.0725 - val_accuracy: 0.9749\n",
            "Epoch 59/100\n",
            "16/16 [==============================] - 0s 7ms/step - loss: 0.0704 - accuracy: 0.9767 - val_loss: 0.0723 - val_accuracy: 0.9747\n",
            "Epoch 60/100\n",
            "16/16 [==============================] - 0s 7ms/step - loss: 0.0701 - accuracy: 0.9765 - val_loss: 0.0721 - val_accuracy: 0.9749\n",
            "Epoch 61/100\n",
            "16/16 [==============================] - 0s 6ms/step - loss: 0.0699 - accuracy: 0.9765 - val_loss: 0.0719 - val_accuracy: 0.9749\n",
            "Epoch 62/100\n",
            "16/16 [==============================] - 0s 7ms/step - loss: 0.0696 - accuracy: 0.9767 - val_loss: 0.0716 - val_accuracy: 0.9752\n",
            "Epoch 63/100\n",
            "16/16 [==============================] - 0s 7ms/step - loss: 0.0695 - accuracy: 0.9773 - val_loss: 0.0715 - val_accuracy: 0.9752\n",
            "Epoch 64/100\n",
            "16/16 [==============================] - 0s 6ms/step - loss: 0.0692 - accuracy: 0.9767 - val_loss: 0.0713 - val_accuracy: 0.9754\n",
            "Epoch 65/100\n",
            "16/16 [==============================] - 0s 7ms/step - loss: 0.0690 - accuracy: 0.9773 - val_loss: 0.0711 - val_accuracy: 0.9752\n",
            "Epoch 66/100\n",
            "16/16 [==============================] - 0s 8ms/step - loss: 0.0687 - accuracy: 0.9773 - val_loss: 0.0709 - val_accuracy: 0.9757\n",
            "Epoch 67/100\n",
            "16/16 [==============================] - 0s 7ms/step - loss: 0.0686 - accuracy: 0.9775 - val_loss: 0.0707 - val_accuracy: 0.9757\n",
            "Epoch 68/100\n",
            "16/16 [==============================] - 0s 7ms/step - loss: 0.0684 - accuracy: 0.9776 - val_loss: 0.0706 - val_accuracy: 0.9755\n",
            "Epoch 69/100\n",
            "16/16 [==============================] - 0s 6ms/step - loss: 0.0682 - accuracy: 0.9774 - val_loss: 0.0703 - val_accuracy: 0.9758\n",
            "Epoch 70/100\n",
            "16/16 [==============================] - 0s 7ms/step - loss: 0.0680 - accuracy: 0.9774 - val_loss: 0.0701 - val_accuracy: 0.9759\n",
            "Epoch 71/100\n",
            "16/16 [==============================] - 0s 7ms/step - loss: 0.0678 - accuracy: 0.9775 - val_loss: 0.0700 - val_accuracy: 0.9759\n",
            "Epoch 72/100\n",
            "16/16 [==============================] - 0s 7ms/step - loss: 0.0676 - accuracy: 0.9775 - val_loss: 0.0699 - val_accuracy: 0.9758\n",
            "Epoch 73/100\n",
            "16/16 [==============================] - 0s 7ms/step - loss: 0.0675 - accuracy: 0.9776 - val_loss: 0.0697 - val_accuracy: 0.9759\n",
            "Epoch 74/100\n",
            "16/16 [==============================] - 0s 7ms/step - loss: 0.0673 - accuracy: 0.9775 - val_loss: 0.0695 - val_accuracy: 0.9759\n",
            "Epoch 75/100\n",
            "16/16 [==============================] - 0s 7ms/step - loss: 0.0671 - accuracy: 0.9775 - val_loss: 0.0693 - val_accuracy: 0.9759\n",
            "Epoch 76/100\n",
            "16/16 [==============================] - 0s 7ms/step - loss: 0.0669 - accuracy: 0.9776 - val_loss: 0.0692 - val_accuracy: 0.9759\n",
            "Epoch 77/100\n",
            "16/16 [==============================] - 0s 7ms/step - loss: 0.0668 - accuracy: 0.9776 - val_loss: 0.0691 - val_accuracy: 0.9759\n",
            "Epoch 78/100\n",
            "16/16 [==============================] - 0s 7ms/step - loss: 0.0666 - accuracy: 0.9776 - val_loss: 0.0690 - val_accuracy: 0.9757\n",
            "Epoch 79/100\n",
            "16/16 [==============================] - 0s 7ms/step - loss: 0.0665 - accuracy: 0.9776 - val_loss: 0.0688 - val_accuracy: 0.9756\n",
            "Epoch 80/100\n",
            "16/16 [==============================] - 0s 9ms/step - loss: 0.0664 - accuracy: 0.9777 - val_loss: 0.0688 - val_accuracy: 0.9758\n",
            "Epoch 81/100\n",
            "16/16 [==============================] - 0s 7ms/step - loss: 0.0662 - accuracy: 0.9777 - val_loss: 0.0685 - val_accuracy: 0.9757\n",
            "Epoch 82/100\n",
            "16/16 [==============================] - 0s 7ms/step - loss: 0.0661 - accuracy: 0.9778 - val_loss: 0.0684 - val_accuracy: 0.9756\n",
            "Epoch 83/100\n",
            "16/16 [==============================] - 0s 7ms/step - loss: 0.0660 - accuracy: 0.9776 - val_loss: 0.0684 - val_accuracy: 0.9759\n",
            "Epoch 84/100\n",
            "16/16 [==============================] - 0s 7ms/step - loss: 0.0660 - accuracy: 0.9780 - val_loss: 0.0682 - val_accuracy: 0.9758\n",
            "Epoch 85/100\n",
            "16/16 [==============================] - 0s 7ms/step - loss: 0.0656 - accuracy: 0.9778 - val_loss: 0.0681 - val_accuracy: 0.9757\n",
            "Epoch 86/100\n",
            "16/16 [==============================] - 0s 7ms/step - loss: 0.0655 - accuracy: 0.9779 - val_loss: 0.0679 - val_accuracy: 0.9759\n",
            "Epoch 87/100\n",
            "16/16 [==============================] - 0s 7ms/step - loss: 0.0655 - accuracy: 0.9779 - val_loss: 0.0679 - val_accuracy: 0.9760\n",
            "Epoch 88/100\n",
            "16/16 [==============================] - 0s 6ms/step - loss: 0.0653 - accuracy: 0.9780 - val_loss: 0.0677 - val_accuracy: 0.9759\n",
            "Epoch 89/100\n",
            "16/16 [==============================] - 0s 8ms/step - loss: 0.0651 - accuracy: 0.9780 - val_loss: 0.0676 - val_accuracy: 0.9759\n",
            "Epoch 90/100\n",
            "16/16 [==============================] - 0s 7ms/step - loss: 0.0651 - accuracy: 0.9782 - val_loss: 0.0674 - val_accuracy: 0.9760\n",
            "Epoch 91/100\n",
            "16/16 [==============================] - 0s 6ms/step - loss: 0.0649 - accuracy: 0.9780 - val_loss: 0.0676 - val_accuracy: 0.9765\n",
            "Epoch 92/100\n",
            "16/16 [==============================] - 0s 7ms/step - loss: 0.0649 - accuracy: 0.9782 - val_loss: 0.0673 - val_accuracy: 0.9760\n",
            "Epoch 93/100\n",
            "16/16 [==============================] - 0s 7ms/step - loss: 0.0647 - accuracy: 0.9781 - val_loss: 0.0673 - val_accuracy: 0.9765\n",
            "Epoch 94/100\n",
            "16/16 [==============================] - 0s 7ms/step - loss: 0.0646 - accuracy: 0.9783 - val_loss: 0.0671 - val_accuracy: 0.9760\n",
            "Epoch 95/100\n",
            "16/16 [==============================] - 0s 9ms/step - loss: 0.0645 - accuracy: 0.9781 - val_loss: 0.0671 - val_accuracy: 0.9764\n",
            "Epoch 96/100\n",
            "16/16 [==============================] - 0s 7ms/step - loss: 0.0644 - accuracy: 0.9784 - val_loss: 0.0670 - val_accuracy: 0.9765\n",
            "Epoch 97/100\n",
            "16/16 [==============================] - 0s 7ms/step - loss: 0.0643 - accuracy: 0.9783 - val_loss: 0.0669 - val_accuracy: 0.9766\n",
            "Epoch 98/100\n",
            "16/16 [==============================] - 0s 8ms/step - loss: 0.0642 - accuracy: 0.9782 - val_loss: 0.0668 - val_accuracy: 0.9763\n",
            "Epoch 99/100\n",
            "16/16 [==============================] - 0s 7ms/step - loss: 0.0642 - accuracy: 0.9783 - val_loss: 0.0666 - val_accuracy: 0.9765\n",
            "Epoch 100/100\n",
            "16/16 [==============================] - 0s 6ms/step - loss: 0.0640 - accuracy: 0.9783 - val_loss: 0.0665 - val_accuracy: 0.9766\n"
          ]
        }
      ],
      "source": [
        "# training the model on training dataset\n",
        "history = mlp.fit(X_train, y_train, epochs=100, batch_size=5000,validation_split=0.2)"
      ]
    },
    {
      "cell_type": "code",
      "execution_count": 36,
      "metadata": {
        "colab": {
          "base_uri": "https://localhost:8080/"
        },
        "id": "Nn4cYSDKx1-o",
        "outputId": "dfdbefc7-758e-4837-9371-ad18e8408a18"
      },
      "outputs": [],
      "source": [
        "filepath = './models/mlp_binary.json'\n",
        "weightspath = './weights/mlp_binary.h5'\n",
        "if (not path.isfile(filepath)):\n",
        "  # serialize model to JSON\n",
        "  mlp_json = mlp.to_json()\n",
        "  with open(filepath, \"w\") as json_file:\n",
        "    json_file.write(mlp_json)\n",
        "\n",
        "  # serialize weights to HDF5\n",
        "  mlp.save_weights(weightspath)\n",
        "  print(\"Saved model to disk\")\n",
        "\n",
        "  # load json and create model\n",
        "  json_file = open(filepath, 'r')\n",
        "  loaded_model_json = json_file.read()\n",
        "  json_file.close()\n",
        "  mlp = model_from_json(loaded_model_json)\n",
        "\n",
        "  # load weights into new model\n",
        "  mlp.load_weights(weightspath)\n",
        "  print(\"Loaded model from disk\")"
      ]
    },
    {
      "cell_type": "code",
      "execution_count": 37,
      "metadata": {
        "id": "HRCboXxT04NZ"
      },
      "outputs": [],
      "source": [
        "# defining loss function, optimizer, metrics and then compiling model\n",
        "mlp.compile(loss='binary_crossentropy', optimizer='adam', metrics=['accuracy'])"
      ]
    },
    {
      "cell_type": "code",
      "execution_count": 38,
      "metadata": {
        "colab": {
          "base_uri": "https://localhost:8080/"
        },
        "id": "XYkgc0V6E2Cy",
        "outputId": "7b2d37c6-95c3-45e4-fc8e-9ff0ed63faea"
      },
      "outputs": [
        {
          "name": "stdout",
          "output_type": "stream",
          "text": [
            "985/985 [==============================] - 1s 1ms/step - loss: 0.0649 - accuracy: 0.9781\n",
            "Test results - Loss: 0.06490139663219452 - Accuracy: 97.81228303909302\n"
          ]
        }
      ],
      "source": [
        "# predicting target attribute on testing dataset\n",
        "test_results = mlp.evaluate(X_test, y_test, verbose=1)\n",
        "print(f'Test results - Loss: {test_results[0]} - Accuracy: {test_results[1]*100}')"
      ]
    },
    {
      "cell_type": "code",
      "execution_count": 39,
      "metadata": {
        "colab": {
          "base_uri": "https://localhost:8080/",
          "height": 295
        },
        "id": "8t6-ytIJE7th",
        "outputId": "9a8c68d0-8e6f-4a6c-c2a7-381cfcad4f85"
      },
      "outputs": [
        {
          "data": {
            "image/png": "[encoded data removed]",
            "text/plain": [
              "<Figure size 640x480 with 1 Axes>"
            ]
          },
          "metadata": {},
          "output_type": "display_data"
        }
      ],
      "source": [
        "# Plot of accuracy vs epoch of train and test dataset\n",
        "plt.plot(history.history['accuracy'])\n",
        "plt.plot(history.history['val_accuracy'])\n",
        "plt.title(\"Plot of accuracy vs epoch for train and test dataset\")\n",
        "plt.ylabel('accuracy')\n",
        "plt.xlabel('epoch')\n",
        "plt.legend(['train', 'test'], loc='best')\n",
        "plt.savefig('plots/mlp_binary_accuracy.png')\n",
        "plt.show()"
      ]
    },
    {
      "cell_type": "code",
      "execution_count": 40,
      "metadata": {
        "colab": {
          "base_uri": "https://localhost:8080/",
          "height": 295
        },
        "id": "hun0u-pxE_q1",
        "outputId": "7d09e9d0-d89c-4413-bda3-1c37d71cb83f"
      },
      "outputs": [
        {
          "data": {
            "image/png": "[encoded data removed]",
            "text/plain": [
              "<Figure size 640x480 with 1 Axes>"
            ]
          },
          "metadata": {},
          "output_type": "display_data"
        }
      ],
      "source": [
        "# Plot of loss vs epoch of train and test dataset\n",
        "plt.plot(history.history['loss'])\n",
        "plt.plot(history.history['val_loss'])\n",
        "plt.title('Plot of loss vs epoch for train and test dataset')\n",
        "plt.ylabel('loss')\n",
        "plt.xlabel('epoch')\n",
        "plt.legend(['train', 'test'], loc='best')\n",
        "plt.savefig('plots/mlp_binary_loss.png')\n",
        "plt.show()"
      ]
    },
    {
      "cell_type": "code",
      "execution_count": 41,
      "metadata": {
        "colab": {
          "base_uri": "https://localhost:8080/",
          "height": 312
        },
        "id": "BFiX0p1dy4BB",
        "outputId": "96fe5d29-dc47-4ae7-ffaa-001fa9b932fe"
      },
      "outputs": [
        {
          "name": "stdout",
          "output_type": "stream",
          "text": [
            "You must install pydot (`pip install pydot`) and install graphviz (see instructions at https://graphviz.gitlab.io/download/) for plot_model to work.\n"
          ]
        }
      ],
      "source": [
        "# representation of model layers\n",
        "from keras.utils import plot_model\n",
        "plot_model(mlp, to_file='plots/mlp_binary.png', show_shapes=True,)"
      ]
    },
    {
      "cell_type": "markdown",
      "metadata": {
        "id": "ZOUNj1J8Hhzo"
      },
      "source": [
        "# **Long Short-Term Memory Classifier (Binary Classification)**"
      ]
    },
    {
      "cell_type": "code",
      "execution_count": 42,
      "metadata": {
        "id": "7Twh09eaIMIs"
      },
      "outputs": [],
      "source": [
        "# importing library for LSTM layers\n",
        "from keras.layers import LSTM"
      ]
    },
    {
      "cell_type": "code",
      "execution_count": 43,
      "metadata": {
        "id": "0NuShoBumsdn"
      },
      "outputs": [],
      "source": [
        "X = bin_data.iloc[:,0:93] # dataset excluding target attribute (encoded, one-hot-encoded,original)\n",
        "Y = bin_data[['intrusion']].values # target attribute"
      ]
    },
    {
      "cell_type": "code",
      "execution_count": 44,
      "metadata": {
        "id": "rlH9mkLimrYW"
      },
      "outputs": [],
      "source": [
        "# splitting the dataset 75% for training and 25% testing\n",
        "X_train, X_test, y_train, y_test = train_test_split(X,Y, test_size=0.25, random_state=42)"
      ]
    },
    {
      "cell_type": "code",
      "execution_count": 45,
      "metadata": {
        "id": "15q5ptxAIWGt"
      },
      "outputs": [],
      "source": [
        "X_train = X_train.to_numpy()"
      ]
    },
    {
      "cell_type": "code",
      "execution_count": 46,
      "metadata": {
        "id": "nJA6scawIW6U"
      },
      "outputs": [],
      "source": [
        "x_train = np.reshape(X_train, (X_train.shape[0],X_train.shape[1],1))"
      ]
    },
    {
      "cell_type": "code",
      "execution_count": 47,
      "metadata": {
        "id": "o8piatdjHo4w"
      },
      "outputs": [],
      "source": [
        "lst = Sequential() # initializing model\n",
        "\n",
        "# input layer and LSTM layer with 50 neurons\n",
        "lst.add(LSTM(units=50, return_sequences=True, input_shape=(x_train.shape[1],1)))\n",
        "# outpute layer with sigmoid activation\n",
        "lst.add(Dense(1, activation='sigmoid'))"
      ]
    },
    {
      "cell_type": "code",
      "execution_count": 48,
      "metadata": {
        "id": "6ekKF6NFH_Iw"
      },
      "outputs": [],
      "source": [
        "# defining loss function, optimizer, metrics and then compiling model\n",
        "lst.compile(loss='binary_crossentropy',optimizer='adam',metrics=['accuracy'])"
      ]
    },
    {
      "cell_type": "code",
      "execution_count": 49,
      "metadata": {
        "colab": {
          "base_uri": "https://localhost:8080/"
        },
        "id": "nXF6pt7JlKxO",
        "outputId": "ec196c0a-72bf-4cc0-b8a3-95feff47cdb9"
      },
      "outputs": [
        {
          "name": "stdout",
          "output_type": "stream",
          "text": [
            "Model: \"sequential_1\"\n",
            "_________________________________________________________________\n",
            " Layer (type)                Output Shape              Param #   \n",
            "=================================================================\n",
            " lstm (LSTM)                 (None, 93, 50)            10400     \n",
            "                                                                 \n",
            " dense_2 (Dense)             (None, 93, 1)             51        \n",
            "                                                                 \n",
            "=================================================================\n",
            "Total params: 10,451\n",
            "Trainable params: 10,451\n",
            "Non-trainable params: 0\n",
            "_________________________________________________________________\n"
          ]
        }
      ],
      "source": [
        "# summary of model layers\n",
        "lst.summary()"
      ]
    },
    {
      "cell_type": "code",
      "execution_count": 50,
      "metadata": {
        "colab": {
          "base_uri": "https://localhost:8080/"
        },
        "id": "peataArRecpK",
        "outputId": "01a36ce0-163b-4ac3-c0bf-fd6c0c4a608b"
      },
      "outputs": [
        {
          "name": "stdout",
          "output_type": "stream",
          "text": [
            "Epoch 1/100\n",
            "16/16 [==============================] - 30s 2s/step - loss: 0.6915 - accuracy: 0.5432 - val_loss: 0.6892 - val_accuracy: 0.5580\n",
            "Epoch 2/100\n",
            "16/16 [==============================] - 25s 2s/step - loss: 0.6884 - accuracy: 0.5568 - val_loss: 0.6812 - val_accuracy: 0.5776\n",
            "Epoch 3/100\n",
            "16/16 [==============================] - 26s 2s/step - loss: 0.5652 - accuracy: 0.6941 - val_loss: 0.4507 - val_accuracy: 0.8157\n",
            "Epoch 4/100\n",
            "16/16 [==============================] - 29s 2s/step - loss: 0.4424 - accuracy: 0.8158 - val_loss: 0.4243 - val_accuracy: 0.8247\n",
            "Epoch 5/100\n",
            "16/16 [==============================] - 29s 2s/step - loss: 0.4267 - accuracy: 0.8230 - val_loss: 0.4164 - val_accuracy: 0.8288\n",
            "Epoch 6/100\n",
            "16/16 [==============================] - 29s 2s/step - loss: 0.4224 - accuracy: 0.8248 - val_loss: 0.4135 - val_accuracy: 0.8295\n",
            "Epoch 7/100\n",
            "16/16 [==============================] - 30s 2s/step - loss: 0.4198 - accuracy: 0.8253 - val_loss: 0.4116 - val_accuracy: 0.8298\n",
            "Epoch 8/100\n",
            "16/16 [==============================] - 30s 2s/step - loss: 0.4179 - accuracy: 0.8256 - val_loss: 0.4100 - val_accuracy: 0.8304\n",
            "Epoch 9/100\n",
            "16/16 [==============================] - 31s 2s/step - loss: 0.4161 - accuracy: 0.8258 - val_loss: 0.4070 - val_accuracy: 0.8304\n",
            "Epoch 10/100\n",
            "16/16 [==============================] - 31s 2s/step - loss: 0.4131 - accuracy: 0.8262 - val_loss: 0.4027 - val_accuracy: 0.8312\n",
            "Epoch 11/100\n",
            "16/16 [==============================] - 33s 2s/step - loss: 0.3733 - accuracy: 0.8269 - val_loss: 0.3221 - val_accuracy: 0.8314\n",
            "Epoch 12/100\n",
            "16/16 [==============================] - 33s 2s/step - loss: 0.3183 - accuracy: 0.8411 - val_loss: 0.3136 - val_accuracy: 0.8597\n",
            "Epoch 13/100\n",
            "16/16 [==============================] - 34s 2s/step - loss: 0.3127 - accuracy: 0.8550 - val_loss: 0.3125 - val_accuracy: 0.8603\n",
            "Epoch 14/100\n",
            "16/16 [==============================] - 33s 2s/step - loss: 0.3299 - accuracy: 0.8177 - val_loss: 0.3294 - val_accuracy: 0.8019\n",
            "Epoch 15/100\n",
            "16/16 [==============================] - 34s 2s/step - loss: 0.3502 - accuracy: 0.8259 - val_loss: 0.3393 - val_accuracy: 0.8654\n",
            "Epoch 16/100\n",
            "16/16 [==============================] - 33s 2s/step - loss: 0.3349 - accuracy: 0.8713 - val_loss: 0.3274 - val_accuracy: 0.8689\n",
            "Epoch 17/100\n",
            "16/16 [==============================] - 34s 2s/step - loss: 0.3486 - accuracy: 0.8198 - val_loss: 0.3453 - val_accuracy: 0.7916\n",
            "Epoch 18/100\n",
            "16/16 [==============================] - 33s 2s/step - loss: 0.3483 - accuracy: 0.8164 - val_loss: 0.3269 - val_accuracy: 0.8321\n",
            "Epoch 19/100\n",
            "16/16 [==============================] - 35s 2s/step - loss: 0.3203 - accuracy: 0.8273 - val_loss: 0.3111 - val_accuracy: 0.8299\n",
            "Epoch 20/100\n",
            "16/16 [==============================] - 34s 2s/step - loss: 0.3203 - accuracy: 0.8319 - val_loss: 0.3207 - val_accuracy: 0.8615\n",
            "Epoch 21/100\n",
            "16/16 [==============================] - 33s 2s/step - loss: 0.3116 - accuracy: 0.8629 - val_loss: 0.3052 - val_accuracy: 0.8561\n",
            "Epoch 22/100\n",
            "16/16 [==============================] - 33s 2s/step - loss: 0.3187 - accuracy: 0.8334 - val_loss: 0.3411 - val_accuracy: 0.7860\n",
            "Epoch 23/100\n",
            "16/16 [==============================] - 31s 2s/step - loss: 0.3301 - accuracy: 0.8036 - val_loss: 0.3201 - val_accuracy: 0.8293\n",
            "Epoch 24/100\n",
            "16/16 [==============================] - 30s 2s/step - loss: 0.3171 - accuracy: 0.8260 - val_loss: 0.3102 - val_accuracy: 0.8300\n",
            "Epoch 25/100\n",
            "16/16 [==============================] - 30s 2s/step - loss: 0.3090 - accuracy: 0.8285 - val_loss: 0.3032 - val_accuracy: 0.8602\n",
            "Epoch 26/100\n",
            "16/16 [==============================] - 29s 2s/step - loss: 0.3040 - accuracy: 0.8632 - val_loss: 0.2980 - val_accuracy: 0.8579\n",
            "Epoch 27/100\n",
            "16/16 [==============================] - 31s 2s/step - loss: 0.2999 - accuracy: 0.8602 - val_loss: 0.2977 - val_accuracy: 0.8575\n",
            "Epoch 28/100\n",
            "16/16 [==============================] - 30s 2s/step - loss: 0.2991 - accuracy: 0.8612 - val_loss: 0.2974 - val_accuracy: 0.8588\n",
            "Epoch 29/100\n",
            "16/16 [==============================] - 32s 2s/step - loss: 0.2990 - accuracy: 0.8643 - val_loss: 0.2963 - val_accuracy: 0.8613\n",
            "Epoch 30/100\n",
            "16/16 [==============================] - 31s 2s/step - loss: 0.2974 - accuracy: 0.8640 - val_loss: 0.2962 - val_accuracy: 0.8628\n",
            "Epoch 31/100\n",
            "16/16 [==============================] - 31s 2s/step - loss: 0.2985 - accuracy: 0.8658 - val_loss: 0.2956 - val_accuracy: 0.8624\n",
            "Epoch 32/100\n",
            "16/16 [==============================] - 32s 2s/step - loss: 0.3009 - accuracy: 0.8687 - val_loss: 0.2966 - val_accuracy: 0.8667\n",
            "Epoch 33/100\n",
            "16/16 [==============================] - 29s 2s/step - loss: 0.2978 - accuracy: 0.8645 - val_loss: 0.2963 - val_accuracy: 0.8595\n",
            "Epoch 34/100\n",
            "16/16 [==============================] - 27s 2s/step - loss: 0.3028 - accuracy: 0.8692 - val_loss: 0.3084 - val_accuracy: 0.8701\n",
            "Epoch 35/100\n",
            "16/16 [==============================] - 27s 2s/step - loss: 0.3031 - accuracy: 0.8666 - val_loss: 0.3025 - val_accuracy: 0.8514\n",
            "Epoch 36/100\n",
            "16/16 [==============================] - 25s 2s/step - loss: 0.3001 - accuracy: 0.8653 - val_loss: 0.3030 - val_accuracy: 0.8707\n",
            "Epoch 37/100\n",
            "16/16 [==============================] - 27s 2s/step - loss: 0.3011 - accuracy: 0.8714 - val_loss: 0.2985 - val_accuracy: 0.8553\n",
            "Epoch 38/100\n",
            "16/16 [==============================] - 24s 1s/step - loss: 0.3077 - accuracy: 0.8440 - val_loss: 0.2998 - val_accuracy: 0.8699\n",
            "Epoch 39/100\n",
            "16/16 [==============================] - 24s 2s/step - loss: 0.3211 - accuracy: 0.8299 - val_loss: 0.4089 - val_accuracy: 0.6715\n",
            "Epoch 40/100\n",
            "16/16 [==============================] - 24s 2s/step - loss: 0.3383 - accuracy: 0.8024 - val_loss: 0.3136 - val_accuracy: 0.8333\n",
            "Epoch 41/100\n",
            "16/16 [==============================] - 24s 2s/step - loss: 0.3130 - accuracy: 0.8290 - val_loss: 0.3096 - val_accuracy: 0.8333\n",
            "Epoch 42/100\n",
            "16/16 [==============================] - 25s 2s/step - loss: 0.3116 - accuracy: 0.8292 - val_loss: 0.3107 - val_accuracy: 0.8335\n",
            "Epoch 43/100\n",
            "16/16 [==============================] - 23s 1s/step - loss: 0.3077 - accuracy: 0.8315 - val_loss: 0.3076 - val_accuracy: 0.8297\n",
            "Epoch 44/100\n",
            "16/16 [==============================] - 22s 1s/step - loss: 0.3083 - accuracy: 0.8295 - val_loss: 0.3105 - val_accuracy: 0.8129\n",
            "Epoch 45/100\n",
            "16/16 [==============================] - 23s 1s/step - loss: 0.3133 - accuracy: 0.8292 - val_loss: 0.3109 - val_accuracy: 0.8336\n",
            "Epoch 46/100\n",
            "16/16 [==============================] - 22s 1s/step - loss: 0.3098 - accuracy: 0.8320 - val_loss: 0.3090 - val_accuracy: 0.8667\n",
            "Epoch 47/100\n",
            "16/16 [==============================] - 21s 1s/step - loss: 0.3008 - accuracy: 0.8676 - val_loss: 0.2962 - val_accuracy: 0.8592\n",
            "Epoch 48/100\n",
            "16/16 [==============================] - 21s 1s/step - loss: 0.2977 - accuracy: 0.8581 - val_loss: 0.2952 - val_accuracy: 0.8553\n",
            "Epoch 49/100\n",
            "16/16 [==============================] - 21s 1s/step - loss: 0.2966 - accuracy: 0.8582 - val_loss: 0.2953 - val_accuracy: 0.8535\n",
            "Epoch 50/100\n",
            "16/16 [==============================] - 21s 1s/step - loss: 0.2969 - accuracy: 0.8562 - val_loss: 0.2945 - val_accuracy: 0.8551\n",
            "Epoch 51/100\n",
            "16/16 [==============================] - 24s 1s/step - loss: 0.2951 - accuracy: 0.8656 - val_loss: 0.2965 - val_accuracy: 0.8529\n",
            "Epoch 52/100\n",
            "16/16 [==============================] - 22s 1s/step - loss: 0.2966 - accuracy: 0.8586 - val_loss: 0.2940 - val_accuracy: 0.8693\n",
            "Epoch 53/100\n",
            "16/16 [==============================] - 23s 1s/step - loss: 0.3021 - accuracy: 0.8733 - val_loss: 0.3218 - val_accuracy: 0.8735\n",
            "Epoch 54/100\n",
            "16/16 [==============================] - 24s 2s/step - loss: 0.3204 - accuracy: 0.8777 - val_loss: 0.3145 - val_accuracy: 0.8758\n",
            "Epoch 55/100\n",
            "16/16 [==============================] - 23s 1s/step - loss: 0.3169 - accuracy: 0.8789 - val_loss: 0.3157 - val_accuracy: 0.8766\n",
            "Epoch 56/100\n",
            "16/16 [==============================] - 23s 1s/step - loss: 0.3177 - accuracy: 0.8790 - val_loss: 0.3142 - val_accuracy: 0.8769\n",
            "Epoch 57/100\n",
            "16/16 [==============================] - 22s 1s/step - loss: 0.3156 - accuracy: 0.8799 - val_loss: 0.3135 - val_accuracy: 0.8778\n",
            "Epoch 58/100\n",
            "16/16 [==============================] - 22s 1s/step - loss: 0.3152 - accuracy: 0.8798 - val_loss: 0.3138 - val_accuracy: 0.8768\n",
            "Epoch 59/100\n",
            "16/16 [==============================] - 24s 1s/step - loss: 0.3147 - accuracy: 0.8797 - val_loss: 0.3132 - val_accuracy: 0.8772\n",
            "Epoch 60/100\n",
            "13/16 [=======================>......] - ETA: 3s - loss: 0.3127 - accuracy: 0.8803"
          ]
        }
      ],
      "source": [
        "# training the model on training dataset\n",
        "history = lst.fit(x_train, y_train, epochs=100, batch_size=5000,validation_split=0.2)"
      ]
    },
    {
      "cell_type": "code",
      "execution_count": null,
      "metadata": {
        "id": "F7RKBuhZpM1s"
      },
      "outputs": [],
      "source": [
        "x_test = np.reshape(X_test, (X_test.shape[0],X_test.shape[1],1))"
      ]
    },
    {
      "cell_type": "code",
      "execution_count": null,
      "metadata": {
        "colab": {
          "base_uri": "https://localhost:8080/"
        },
        "id": "wEvPvD0N1BoA",
        "outputId": "6ee7d239-4426-466c-92b4-5855b5227099"
      },
      "outputs": [
        {
          "name": "stdout",
          "output_type": "stream",
          "text": [
            "Saved model to disk\n",
            "Loaded model from disk\n"
          ]
        }
      ],
      "source": [
        "filepath = './models/lst_binary.json'\n",
        "weightspath = './weights/lst_binary.h5'\n",
        "if (not path.isfile(filepath)):\n",
        "  # serialize model to JSON\n",
        "  lst_json = lst.to_json()\n",
        "  with open(filepath, \"w\") as json_file:\n",
        "    json_file.write(lst_json)\n",
        "\n",
        "  # serialize weights to HDF5\n",
        "  lst.save_weights(weightspath)\n",
        "  print(\"Saved model to disk\")\n",
        "\n",
        "  # load json and create model\n",
        "  json_file = open(filepath, 'r')\n",
        "  loaded_model_json = json_file.read()\n",
        "  json_file.close()\n",
        "  lst = model_from_json(loaded_model_json)\n",
        "\n",
        "  # load weights into new model\n",
        "  lst.load_weights(weightspath)\n",
        "  print(\"Loaded model from disk\")"
      ]
    },
    {
      "cell_type": "code",
      "execution_count": null,
      "metadata": {
        "id": "ElLuZrYc1PCC"
      },
      "outputs": [],
      "source": [
        "# defining loss function, optimizer, metrics and then compiling model\n",
        "lst.compile(loss='binary_crossentropy',optimizer='adam',metrics=['accuracy'])"
      ]
    },
    {
      "cell_type": "code",
      "execution_count": null,
      "metadata": {
        "colab": {
          "base_uri": "https://localhost:8080/"
        },
        "id": "h0x7huDdpA0q",
        "outputId": "8c0a8451-9056-454b-aec4-2f51f0adfcb5"
      },
      "outputs": [
        {
          "name": "stdout",
          "output_type": "stream",
          "text": [
            "985/985 [==============================] - 10s 10ms/step - loss: 0.3087 - accuracy: 0.8306\n",
            "Test results - Loss: 0.3086586892604828 - Accuracy: 83.05730819702148%\n"
          ]
        }
      ],
      "source": [
        "# predicting target attribute on testing dataset\n",
        "test_results = lst.evaluate(x_test, y_test, verbose=1)\n",
        "print(f'Test results - Loss: {test_results[0]} - Accuracy: {test_results[1]*100}%')"
      ]
    },
    {
      "cell_type": "code",
      "execution_count": null,
      "metadata": {
        "colab": {
          "base_uri": "https://localhost:8080/",
          "height": 295
        },
        "id": "pJfKAHM0Ndpv",
        "outputId": "da1a6431-632a-4f6a-ce17-f93123f7dad9"
      },
      "outputs": [
        {
          "data": {
            "image/png": "[encoded data removed]",
            "text/plain": [
              "<Figure size 432x288 with 1 Axes>"
            ]
          },
          "metadata": {
            "needs_background": "light",
            "tags": []
          },
          "output_type": "display_data"
        }
      ],
      "source": [
        "# Plot of accuracy vs epoch of train and test dataset\n",
        "plt.plot(history.history['accuracy'])\n",
        "plt.plot(history.history['val_accuracy'])\n",
        "plt.title(\"Plot of accuracy vs epoch for train and test dataset\")\n",
        "plt.ylabel('accuracy')\n",
        "plt.xlabel('epoch')\n",
        "plt.legend(['train', 'test'], loc='best')\n",
        "plt.savefig('plots/lstm_binary_accuracy.png')\n",
        "plt.show()"
      ]
    },
    {
      "cell_type": "code",
      "execution_count": null,
      "metadata": {
        "colab": {
          "base_uri": "https://localhost:8080/",
          "height": 295
        },
        "id": "kd0qPmceNdAr",
        "outputId": "98ecf942-e282-4d63-9d15-af43d4bff193"
      },
      "outputs": [
        {
          "data": {
            "image/png": "[encoded data removed]",
            "text/plain": [
              "<Figure size 432x288 with 1 Axes>"
            ]
          },
          "metadata": {
            "needs_background": "light",
            "tags": []
          },
          "output_type": "display_data"
        }
      ],
      "source": [
        "# Plot of loss vs epoch of train and test dataset\n",
        "plt.plot(history.history['loss'])\n",
        "plt.plot(history.history['val_loss'])\n",
        "plt.title(\"Plot of loss vs epoch for train and test dataset\")\n",
        "plt.ylabel('loss')\n",
        "plt.xlabel('epoch')\n",
        "plt.legend(['train', 'test'], loc='best')\n",
        "plt.savefig('plots/lstm_binary_loss.png')\n",
        "plt.show()"
      ]
    },
    {
      "cell_type": "code",
      "execution_count": null,
      "metadata": {
        "colab": {
          "base_uri": "https://localhost:8080/",
          "height": 312
        },
        "id": "RULmRxZ5zkkF",
        "outputId": "f8da3e6d-77d1-46ff-8808-aebc0a57c853"
      },
      "outputs": [
        {
          "data": {
            "image/png": "[encoded data removed]",
            "text/plain": [
              "<IPython.core.display.Image object>"
            ]
          },
          "execution_count": 152,
          "metadata": {
            "tags": []
          },
          "output_type": "execute_result"
        }
      ],
      "source": [
        "# representation of model layers\n",
        "plot_model(lst, to_file='plots/lstm_binary.png', show_shapes=True,)"
      ]
    },
    {
      "cell_type": "markdown",
      "metadata": {
        "id": "A2mFGsLLkzvr"
      },
      "source": [
        "# **Auto Encoder Classifier (Binary Classification)**"
      ]
    },
    {
      "cell_type": "code",
      "execution_count": null,
      "metadata": {
        "id": "Jteo7lYCC9eV"
      },
      "outputs": [],
      "source": [
        "from keras.layers import Input\n",
        "from keras.models import Model"
      ]
    },
    {
      "cell_type": "code",
      "execution_count": null,
      "metadata": {
        "id": "7uaj0DBK6HkN"
      },
      "outputs": [],
      "source": [
        "# splitting the dataset 75% for training and 25% testing\n",
        "X_train, X_test = train_test_split(bin_data, test_size=0.25, random_state=42)"
      ]
    },
    {
      "cell_type": "code",
      "execution_count": null,
      "metadata": {
        "id": "-12iPEfcGzHi"
      },
      "outputs": [],
      "source": [
        "# dataset excluding target attribute (encoded, one-hot-encoded,original)\n",
        "X_train = X_train.drop(['intrusion','abnormal','normal','label'],axis=1) \n",
        "\n",
        "y_test = X_test['intrusion'] # target attribute\n",
        "\n",
        "# dataset excluding target attribute (encoded, one-hot-encoded,original)\n",
        "X_test = X_test.drop(['intrusion','abnormal','normal','label'],axis=1)"
      ]
    },
    {
      "cell_type": "code",
      "execution_count": null,
      "metadata": {
        "id": "347gsEWqAQHJ"
      },
      "outputs": [],
      "source": [
        "X_train = X_train.values\n",
        "X_test = X_test.values\n",
        "y_test = y_test.values"
      ]
    },
    {
      "cell_type": "code",
      "execution_count": null,
      "metadata": {
        "id": "wxoezCMzlC0-"
      },
      "outputs": [],
      "source": [
        "input_dim = X_train.shape[1]\n",
        "encoding_dim = 50\n",
        "\n",
        "#input layer\n",
        "input_layer = Input(shape=(input_dim, ))\n",
        "#encoding layer with 50 neurons\n",
        "encoder = Dense(encoding_dim, activation=\"relu\")(input_layer)           \n",
        "#decoding and output layer\n",
        "output_layer = Dense(input_dim, activation='softmax')(encoder)"
      ]
    },
    {
      "cell_type": "code",
      "execution_count": null,
      "metadata": {
        "id": "SMS9roLx09rn"
      },
      "outputs": [],
      "source": [
        "# creating model with input, encoding, decoding, output layers\n",
        "autoencoder = Model(inputs=input_layer, outputs=output_layer)\n",
        "\n",
        "# defining loss function, optimizer, metrics and then compiling model\n",
        "autoencoder.compile(optimizer='adam', loss='mean_squared_error',metrics=['accuracy'])"
      ]
    },
    {
      "cell_type": "code",
      "execution_count": null,
      "metadata": {
        "colab": {
          "base_uri": "https://localhost:8080/"
        },
        "id": "oEBUVTQG9rMa",
        "outputId": "bd676303-d1dc-49b7-c246-2566950cbb51"
      },
      "outputs": [
        {
          "name": "stdout",
          "output_type": "stream",
          "text": [
            "Model: \"model\"\n",
            "_________________________________________________________________\n",
            "Layer (type)                 Output Shape              Param #   \n",
            "=================================================================\n",
            "input_1 (InputLayer)         [(None, 93)]              0         \n",
            "_________________________________________________________________\n",
            "dense_4 (Dense)              (None, 50)                4700      \n",
            "_________________________________________________________________\n",
            "dense_5 (Dense)              (None, 93)                4743      \n",
            "=================================================================\n",
            "Total params: 9,443\n",
            "Trainable params: 9,443\n",
            "Non-trainable params: 0\n",
            "_________________________________________________________________\n"
          ]
        }
      ],
      "source": [
        "# summary of model layers\n",
        "autoencoder.summary()"
      ]
    },
    {
      "cell_type": "code",
      "execution_count": null,
      "metadata": {
        "colab": {
          "base_uri": "https://localhost:8080/"
        },
        "id": "UChFX8029tsb",
        "outputId": "88a670c2-2872-4c35-a2fb-18ba5185336a"
      },
      "outputs": [
        {
          "name": "stdout",
          "output_type": "stream",
          "text": [
            "Epoch 1/100\n",
            "189/189 [==============================] - 1s 4ms/step - loss: 0.1214 - accuracy: 0.0525 - val_loss: 0.1063 - val_accuracy: 0.4071\n",
            "Epoch 2/100\n",
            "189/189 [==============================] - 1s 3ms/step - loss: 0.1056 - accuracy: 0.6072 - val_loss: 0.1051 - val_accuracy: 0.6891\n",
            "Epoch 3/100\n",
            "189/189 [==============================] - 1s 3ms/step - loss: 0.1048 - accuracy: 0.7082 - val_loss: 0.1049 - val_accuracy: 0.7015\n",
            "Epoch 4/100\n",
            "189/189 [==============================] - 1s 4ms/step - loss: 0.1048 - accuracy: 0.7324 - val_loss: 0.1048 - val_accuracy: 0.7213\n",
            "Epoch 5/100\n",
            "189/189 [==============================] - 1s 4ms/step - loss: 0.1046 - accuracy: 0.7678 - val_loss: 0.1047 - val_accuracy: 0.8029\n",
            "Epoch 6/100\n",
            "189/189 [==============================] - 1s 4ms/step - loss: 0.1043 - accuracy: 0.8180 - val_loss: 0.1047 - val_accuracy: 0.8578\n",
            "Epoch 7/100\n",
            "189/189 [==============================] - 1s 4ms/step - loss: 0.1044 - accuracy: 0.8400 - val_loss: 0.1047 - val_accuracy: 0.8321\n",
            "Epoch 8/100\n",
            "189/189 [==============================] - 1s 4ms/step - loss: 0.1042 - accuracy: 0.8502 - val_loss: 0.1047 - val_accuracy: 0.8539\n",
            "Epoch 9/100\n",
            "189/189 [==============================] - 1s 4ms/step - loss: 0.1043 - accuracy: 0.8635 - val_loss: 0.1047 - val_accuracy: 0.8890\n",
            "Epoch 10/100\n",
            "189/189 [==============================] - 1s 4ms/step - loss: 0.1043 - accuracy: 0.8722 - val_loss: 0.1046 - val_accuracy: 0.8444\n",
            "Epoch 11/100\n",
            "189/189 [==============================] - 1s 4ms/step - loss: 0.1042 - accuracy: 0.8681 - val_loss: 0.1046 - val_accuracy: 0.8839\n",
            "Epoch 12/100\n",
            "189/189 [==============================] - 1s 3ms/step - loss: 0.1045 - accuracy: 0.8747 - val_loss: 0.1046 - val_accuracy: 0.8875\n",
            "Epoch 13/100\n",
            "189/189 [==============================] - 1s 3ms/step - loss: 0.1044 - accuracy: 0.8776 - val_loss: 0.1046 - val_accuracy: 0.8489\n",
            "Epoch 14/100\n",
            "189/189 [==============================] - 1s 3ms/step - loss: 0.1042 - accuracy: 0.8744 - val_loss: 0.1046 - val_accuracy: 0.8619\n",
            "Epoch 15/100\n",
            "189/189 [==============================] - 1s 3ms/step - loss: 0.1044 - accuracy: 0.8765 - val_loss: 0.1046 - val_accuracy: 0.8391\n",
            "Epoch 16/100\n",
            "189/189 [==============================] - 1s 4ms/step - loss: 0.1045 - accuracy: 0.8715 - val_loss: 0.1046 - val_accuracy: 0.8563\n",
            "Epoch 17/100\n",
            "189/189 [==============================] - 1s 4ms/step - loss: 0.1043 - accuracy: 0.8716 - val_loss: 0.1046 - val_accuracy: 0.8907\n",
            "Epoch 18/100\n",
            "189/189 [==============================] - 1s 3ms/step - loss: 0.1043 - accuracy: 0.8744 - val_loss: 0.1046 - val_accuracy: 0.9041\n",
            "Epoch 19/100\n",
            "189/189 [==============================] - 1s 4ms/step - loss: 0.1044 - accuracy: 0.8761 - val_loss: 0.1046 - val_accuracy: 0.8860\n",
            "Epoch 20/100\n",
            "189/189 [==============================] - 1s 3ms/step - loss: 0.1044 - accuracy: 0.8711 - val_loss: 0.1046 - val_accuracy: 0.8490\n",
            "Epoch 21/100\n",
            "189/189 [==============================] - 1s 3ms/step - loss: 0.1042 - accuracy: 0.8771 - val_loss: 0.1046 - val_accuracy: 0.9056\n",
            "Epoch 22/100\n",
            "189/189 [==============================] - 1s 4ms/step - loss: 0.1045 - accuracy: 0.8786 - val_loss: 0.1046 - val_accuracy: 0.8829\n",
            "Epoch 23/100\n",
            "189/189 [==============================] - 1s 3ms/step - loss: 0.1043 - accuracy: 0.8769 - val_loss: 0.1046 - val_accuracy: 0.8751\n",
            "Epoch 24/100\n",
            "189/189 [==============================] - 1s 3ms/step - loss: 0.1045 - accuracy: 0.8795 - val_loss: 0.1046 - val_accuracy: 0.8784\n",
            "Epoch 25/100\n",
            "189/189 [==============================] - 1s 4ms/step - loss: 0.1045 - accuracy: 0.8809 - val_loss: 0.1046 - val_accuracy: 0.8768\n",
            "Epoch 26/100\n",
            "189/189 [==============================] - 1s 4ms/step - loss: 0.1044 - accuracy: 0.8824 - val_loss: 0.1046 - val_accuracy: 0.8703\n",
            "Epoch 27/100\n",
            "189/189 [==============================] - 1s 4ms/step - loss: 0.1043 - accuracy: 0.8782 - val_loss: 0.1046 - val_accuracy: 0.8776\n",
            "Epoch 28/100\n",
            "189/189 [==============================] - 1s 4ms/step - loss: 0.1045 - accuracy: 0.8723 - val_loss: 0.1046 - val_accuracy: 0.9076\n",
            "Epoch 29/100\n",
            "189/189 [==============================] - 1s 4ms/step - loss: 0.1046 - accuracy: 0.8749 - val_loss: 0.1046 - val_accuracy: 0.8692\n",
            "Epoch 30/100\n",
            "189/189 [==============================] - 1s 4ms/step - loss: 0.1043 - accuracy: 0.8825 - val_loss: 0.1046 - val_accuracy: 0.8964\n",
            "Epoch 31/100\n",
            "189/189 [==============================] - 1s 4ms/step - loss: 0.1042 - accuracy: 0.8895 - val_loss: 0.1046 - val_accuracy: 0.8889\n",
            "Epoch 32/100\n",
            "189/189 [==============================] - 1s 4ms/step - loss: 0.1044 - accuracy: 0.8868 - val_loss: 0.1046 - val_accuracy: 0.8901\n",
            "Epoch 33/100\n",
            "189/189 [==============================] - 1s 4ms/step - loss: 0.1043 - accuracy: 0.8891 - val_loss: 0.1046 - val_accuracy: 0.8924\n",
            "Epoch 34/100\n",
            "189/189 [==============================] - 1s 3ms/step - loss: 0.1044 - accuracy: 0.8890 - val_loss: 0.1046 - val_accuracy: 0.8868\n",
            "Epoch 35/100\n",
            "189/189 [==============================] - 1s 4ms/step - loss: 0.1043 - accuracy: 0.8915 - val_loss: 0.1046 - val_accuracy: 0.8787\n",
            "Epoch 36/100\n",
            "189/189 [==============================] - 1s 4ms/step - loss: 0.1041 - accuracy: 0.8926 - val_loss: 0.1046 - val_accuracy: 0.8946\n",
            "Epoch 37/100\n",
            "189/189 [==============================] - 1s 4ms/step - loss: 0.1043 - accuracy: 0.8950 - val_loss: 0.1046 - val_accuracy: 0.9071\n",
            "Epoch 38/100\n",
            "189/189 [==============================] - 1s 4ms/step - loss: 0.1042 - accuracy: 0.8936 - val_loss: 0.1046 - val_accuracy: 0.8880\n",
            "Epoch 39/100\n",
            "189/189 [==============================] - 1s 4ms/step - loss: 0.1045 - accuracy: 0.8981 - val_loss: 0.1046 - val_accuracy: 0.8783\n",
            "Epoch 40/100\n",
            "189/189 [==============================] - 1s 4ms/step - loss: 0.1041 - accuracy: 0.8967 - val_loss: 0.1046 - val_accuracy: 0.9142\n",
            "Epoch 41/100\n",
            "189/189 [==============================] - 1s 4ms/step - loss: 0.1042 - accuracy: 0.8995 - val_loss: 0.1046 - val_accuracy: 0.9112\n",
            "Epoch 42/100\n",
            "189/189 [==============================] - 1s 4ms/step - loss: 0.1046 - accuracy: 0.8972 - val_loss: 0.1046 - val_accuracy: 0.8945\n",
            "Epoch 43/100\n",
            "189/189 [==============================] - 1s 4ms/step - loss: 0.1041 - accuracy: 0.8989 - val_loss: 0.1046 - val_accuracy: 0.9053\n",
            "Epoch 44/100\n",
            "189/189 [==============================] - 1s 4ms/step - loss: 0.1045 - accuracy: 0.9008 - val_loss: 0.1046 - val_accuracy: 0.9423\n",
            "Epoch 45/100\n",
            "189/189 [==============================] - 1s 4ms/step - loss: 0.1042 - accuracy: 0.9011 - val_loss: 0.1046 - val_accuracy: 0.9121\n",
            "Epoch 46/100\n",
            "189/189 [==============================] - 1s 4ms/step - loss: 0.1042 - accuracy: 0.9046 - val_loss: 0.1046 - val_accuracy: 0.9086\n",
            "Epoch 47/100\n",
            "189/189 [==============================] - 1s 4ms/step - loss: 0.1042 - accuracy: 0.9010 - val_loss: 0.1046 - val_accuracy: 0.9046\n",
            "Epoch 48/100\n",
            "189/189 [==============================] - 1s 4ms/step - loss: 0.1044 - accuracy: 0.9018 - val_loss: 0.1046 - val_accuracy: 0.9101\n",
            "Epoch 49/100\n",
            "189/189 [==============================] - 1s 4ms/step - loss: 0.1041 - accuracy: 0.9052 - val_loss: 0.1046 - val_accuracy: 0.9005\n",
            "Epoch 50/100\n",
            "189/189 [==============================] - 1s 4ms/step - loss: 0.1045 - accuracy: 0.9021 - val_loss: 0.1046 - val_accuracy: 0.9002\n",
            "Epoch 51/100\n",
            "189/189 [==============================] - 1s 4ms/step - loss: 0.1041 - accuracy: 0.9043 - val_loss: 0.1046 - val_accuracy: 0.9118\n",
            "Epoch 52/100\n",
            "189/189 [==============================] - 1s 4ms/step - loss: 0.1046 - accuracy: 0.9061 - val_loss: 0.1046 - val_accuracy: 0.8976\n",
            "Epoch 53/100\n",
            "189/189 [==============================] - 1s 4ms/step - loss: 0.1045 - accuracy: 0.9042 - val_loss: 0.1046 - val_accuracy: 0.9160\n",
            "Epoch 54/100\n",
            "189/189 [==============================] - 1s 3ms/step - loss: 0.1045 - accuracy: 0.9054 - val_loss: 0.1046 - val_accuracy: 0.9379\n",
            "Epoch 55/100\n",
            "189/189 [==============================] - 1s 3ms/step - loss: 0.1042 - accuracy: 0.9078 - val_loss: 0.1046 - val_accuracy: 0.9240\n",
            "Epoch 56/100\n",
            "189/189 [==============================] - 1s 4ms/step - loss: 0.1044 - accuracy: 0.9082 - val_loss: 0.1046 - val_accuracy: 0.8829\n",
            "Epoch 57/100\n",
            "189/189 [==============================] - 1s 4ms/step - loss: 0.1045 - accuracy: 0.9063 - val_loss: 0.1046 - val_accuracy: 0.9355\n",
            "Epoch 58/100\n",
            "189/189 [==============================] - 1s 4ms/step - loss: 0.1044 - accuracy: 0.9100 - val_loss: 0.1046 - val_accuracy: 0.8864\n",
            "Epoch 59/100\n",
            "189/189 [==============================] - 1s 3ms/step - loss: 0.1044 - accuracy: 0.9086 - val_loss: 0.1046 - val_accuracy: 0.8953\n",
            "Epoch 60/100\n",
            "189/189 [==============================] - 1s 4ms/step - loss: 0.1043 - accuracy: 0.9072 - val_loss: 0.1046 - val_accuracy: 0.8933\n",
            "Epoch 61/100\n",
            "189/189 [==============================] - 1s 4ms/step - loss: 0.1044 - accuracy: 0.9077 - val_loss: 0.1046 - val_accuracy: 0.9145\n",
            "Epoch 62/100\n",
            "189/189 [==============================] - 1s 4ms/step - loss: 0.1041 - accuracy: 0.9075 - val_loss: 0.1046 - val_accuracy: 0.9012\n",
            "Epoch 63/100\n",
            "189/189 [==============================] - 1s 4ms/step - loss: 0.1042 - accuracy: 0.9079 - val_loss: 0.1046 - val_accuracy: 0.9194\n",
            "Epoch 64/100\n",
            "189/189 [==============================] - 1s 4ms/step - loss: 0.1043 - accuracy: 0.9088 - val_loss: 0.1046 - val_accuracy: 0.9280\n",
            "Epoch 65/100\n",
            "189/189 [==============================] - 1s 3ms/step - loss: 0.1043 - accuracy: 0.9077 - val_loss: 0.1046 - val_accuracy: 0.9067\n",
            "Epoch 66/100\n",
            "189/189 [==============================] - 1s 4ms/step - loss: 0.1043 - accuracy: 0.9087 - val_loss: 0.1046 - val_accuracy: 0.9489\n",
            "Epoch 67/100\n",
            "189/189 [==============================] - 1s 4ms/step - loss: 0.1041 - accuracy: 0.9096 - val_loss: 0.1046 - val_accuracy: 0.8849\n",
            "Epoch 68/100\n",
            "189/189 [==============================] - 1s 4ms/step - loss: 0.1042 - accuracy: 0.9094 - val_loss: 0.1046 - val_accuracy: 0.9129\n",
            "Epoch 69/100\n",
            "189/189 [==============================] - 1s 4ms/step - loss: 0.1043 - accuracy: 0.9091 - val_loss: 0.1046 - val_accuracy: 0.9039\n",
            "Epoch 70/100\n",
            "189/189 [==============================] - 1s 4ms/step - loss: 0.1043 - accuracy: 0.9099 - val_loss: 0.1046 - val_accuracy: 0.8840\n",
            "Epoch 71/100\n",
            "189/189 [==============================] - 1s 4ms/step - loss: 0.1042 - accuracy: 0.9056 - val_loss: 0.1046 - val_accuracy: 0.9125\n",
            "Epoch 72/100\n",
            "189/189 [==============================] - 1s 4ms/step - loss: 0.1044 - accuracy: 0.9093 - val_loss: 0.1046 - val_accuracy: 0.9081\n",
            "Epoch 73/100\n",
            "189/189 [==============================] - 1s 4ms/step - loss: 0.1041 - accuracy: 0.9083 - val_loss: 0.1046 - val_accuracy: 0.9223\n",
            "Epoch 74/100\n",
            "189/189 [==============================] - 1s 4ms/step - loss: 0.1044 - accuracy: 0.9103 - val_loss: 0.1046 - val_accuracy: 0.9291\n",
            "Epoch 75/100\n",
            "189/189 [==============================] - 1s 4ms/step - loss: 0.1043 - accuracy: 0.9099 - val_loss: 0.1046 - val_accuracy: 0.9301\n",
            "Epoch 76/100\n",
            "189/189 [==============================] - 1s 4ms/step - loss: 0.1042 - accuracy: 0.9117 - val_loss: 0.1046 - val_accuracy: 0.9067\n",
            "Epoch 77/100\n",
            "189/189 [==============================] - 1s 4ms/step - loss: 0.1045 - accuracy: 0.9092 - val_loss: 0.1046 - val_accuracy: 0.9443\n",
            "Epoch 78/100\n",
            "189/189 [==============================] - 1s 4ms/step - loss: 0.1042 - accuracy: 0.9094 - val_loss: 0.1046 - val_accuracy: 0.9180\n",
            "Epoch 79/100\n",
            "189/189 [==============================] - 1s 4ms/step - loss: 0.1046 - accuracy: 0.9113 - val_loss: 0.1046 - val_accuracy: 0.9019\n",
            "Epoch 80/100\n",
            "189/189 [==============================] - 1s 4ms/step - loss: 0.1045 - accuracy: 0.9115 - val_loss: 0.1046 - val_accuracy: 0.9522\n",
            "Epoch 81/100\n",
            "189/189 [==============================] - 1s 4ms/step - loss: 0.1043 - accuracy: 0.9105 - val_loss: 0.1046 - val_accuracy: 0.9054\n",
            "Epoch 82/100\n",
            "189/189 [==============================] - 1s 4ms/step - loss: 0.1044 - accuracy: 0.9097 - val_loss: 0.1046 - val_accuracy: 0.9070\n",
            "Epoch 83/100\n",
            "189/189 [==============================] - 1s 4ms/step - loss: 0.1042 - accuracy: 0.9082 - val_loss: 0.1046 - val_accuracy: 0.9220\n",
            "Epoch 84/100\n",
            "189/189 [==============================] - 1s 4ms/step - loss: 0.1043 - accuracy: 0.9112 - val_loss: 0.1046 - val_accuracy: 0.8926\n",
            "Epoch 85/100\n",
            "189/189 [==============================] - 1s 4ms/step - loss: 0.1041 - accuracy: 0.9097 - val_loss: 0.1046 - val_accuracy: 0.8871\n",
            "Epoch 86/100\n",
            "189/189 [==============================] - 1s 4ms/step - loss: 0.1044 - accuracy: 0.9104 - val_loss: 0.1046 - val_accuracy: 0.9107\n",
            "Epoch 87/100\n",
            "189/189 [==============================] - 1s 4ms/step - loss: 0.1044 - accuracy: 0.9107 - val_loss: 0.1046 - val_accuracy: 0.8937\n",
            "Epoch 88/100\n",
            "189/189 [==============================] - 1s 4ms/step - loss: 0.1043 - accuracy: 0.9124 - val_loss: 0.1046 - val_accuracy: 0.9075\n",
            "Epoch 89/100\n",
            "189/189 [==============================] - 1s 4ms/step - loss: 0.1043 - accuracy: 0.9115 - val_loss: 0.1046 - val_accuracy: 0.8935\n",
            "Epoch 90/100\n",
            "189/189 [==============================] - 1s 4ms/step - loss: 0.1044 - accuracy: 0.9131 - val_loss: 0.1046 - val_accuracy: 0.9289\n",
            "Epoch 91/100\n",
            "189/189 [==============================] - 1s 4ms/step - loss: 0.1043 - accuracy: 0.9101 - val_loss: 0.1046 - val_accuracy: 0.8831\n",
            "Epoch 92/100\n",
            "189/189 [==============================] - 1s 3ms/step - loss: 0.1043 - accuracy: 0.9119 - val_loss: 0.1046 - val_accuracy: 0.8963\n",
            "Epoch 93/100\n",
            "189/189 [==============================] - 1s 4ms/step - loss: 0.1041 - accuracy: 0.9127 - val_loss: 0.1046 - val_accuracy: 0.9140\n",
            "Epoch 94/100\n",
            "189/189 [==============================] - 1s 4ms/step - loss: 0.1044 - accuracy: 0.9132 - val_loss: 0.1046 - val_accuracy: 0.9410\n",
            "Epoch 95/100\n",
            "189/189 [==============================] - 1s 4ms/step - loss: 0.1043 - accuracy: 0.9140 - val_loss: 0.1046 - val_accuracy: 0.8723\n",
            "Epoch 96/100\n",
            "189/189 [==============================] - 1s 4ms/step - loss: 0.1044 - accuracy: 0.9132 - val_loss: 0.1046 - val_accuracy: 0.8909\n",
            "Epoch 97/100\n",
            "189/189 [==============================] - 1s 4ms/step - loss: 0.1045 - accuracy: 0.9140 - val_loss: 0.1046 - val_accuracy: 0.9291\n",
            "Epoch 98/100\n",
            "189/189 [==============================] - 1s 4ms/step - loss: 0.1044 - accuracy: 0.9119 - val_loss: 0.1046 - val_accuracy: 0.9319\n",
            "Epoch 99/100\n",
            "189/189 [==============================] - 1s 4ms/step - loss: 0.1043 - accuracy: 0.9135 - val_loss: 0.1046 - val_accuracy: 0.9421\n",
            "Epoch 100/100\n",
            "189/189 [==============================] - 1s 4ms/step - loss: 0.1043 - accuracy: 0.9156 - val_loss: 0.1046 - val_accuracy: 0.9227\n"
          ]
        }
      ],
      "source": [
        "# training the model on training dataset\n",
        "history = autoencoder.fit(X_train, X_train, epochs=100,batch_size=500,validation_data=(X_test, X_test)).history"
      ]
    },
    {
      "cell_type": "code",
      "execution_count": null,
      "metadata": {
        "colab": {
          "base_uri": "https://localhost:8080/"
        },
        "id": "JSZ9mOeM1mc4",
        "outputId": "5aa44835-8e18-4b69-d9be-434dff3b0bf6"
      },
      "outputs": [
        {
          "name": "stdout",
          "output_type": "stream",
          "text": [
            "Saved model to disk\n",
            "Loaded model from disk\n"
          ]
        }
      ],
      "source": [
        "filepath = './models/ae_binary.json'\n",
        "weightspath = './weights/ae_binary.h5'\n",
        "if (not path.isfile(filepath)): \n",
        "  # serialize model to JSON\n",
        "  autoencoder_json = autoencoder.to_json()\n",
        "  with open(filepath, \"w\") as json_file:\n",
        "    json_file.write(autoencoder_json)\n",
        "\n",
        "  # serialize weights to HDF5\n",
        "  autoencoder.save_weights(weightspath)\n",
        "  print(\"Saved model to disk\")\n",
        "\n",
        "  # load json and create model\n",
        "  json_file = open(filepath, 'r')\n",
        "  loaded_model_json = json_file.read()\n",
        "  json_file.close()\n",
        "  autoencoder = model_from_json(loaded_model_json)\n",
        "\n",
        "  # load weights into new model\n",
        "  autoencoder.load_weights(weightspath)\n",
        "  print(\"Loaded model from disk\")"
      ]
    },
    {
      "cell_type": "code",
      "execution_count": null,
      "metadata": {
        "id": "K8yypm1Z1nHr"
      },
      "outputs": [],
      "source": [
        "# defining loss function, optimizer, metrics and then compiling model\n",
        "autoencoder.compile(optimizer='adam', loss='mean_squared_error',metrics=['accuracy'])"
      ]
    },
    {
      "cell_type": "code",
      "execution_count": null,
      "metadata": {
        "colab": {
          "base_uri": "https://localhost:8080/"
        },
        "id": "Tec3S1UI0Auz",
        "outputId": "77493bd3-114b-4993-d8e2-f1499003beb3"
      },
      "outputs": [
        {
          "name": "stdout",
          "output_type": "stream",
          "text": [
            "985/985 [==============================] - 1s 1ms/step - loss: 0.1044 - accuracy: 0.9203\n",
            "Test results - Loss: 0.10457229614257812 - Accuracy: 0.9226519465446472%\n"
          ]
        }
      ],
      "source": [
        "# predicting target attribute on testing dataset\n",
        "test_results = autoencoder.evaluate(X_test, X_test, verbose=1)\n",
        "print(f'Test results - Loss: {test_results[0]} - Accuracy: {test_results[1]}%')"
      ]
    },
    {
      "cell_type": "code",
      "execution_count": null,
      "metadata": {
        "colab": {
          "base_uri": "https://localhost:8080/",
          "height": 295
        },
        "id": "2G1lDF19gUCA",
        "outputId": "5c1ad1cc-b623-4e63-cb87-8a7e94c2019c"
      },
      "outputs": [
        {
          "data": {
            "image/png": "[encoded data removed]",
            "text/plain": [
              "<Figure size 432x288 with 1 Axes>"
            ]
          },
          "metadata": {
            "needs_background": "light",
            "tags": []
          },
          "output_type": "display_data"
        }
      ],
      "source": [
        "# Plot of loss vs epoch of train and test dataset\n",
        "plt.plot(history['loss'])\n",
        "plt.plot(history['val_loss'])\n",
        "plt.title(\"Plot of loss vs epoch for train and test dataset\")\n",
        "plt.ylabel('loss')\n",
        "plt.xlabel('epoch')\n",
        "plt.legend(['train', 'test'], loc='upper right')\n",
        "plt.savefig('plots/ae_binary_loss.png')\n",
        "plt.show()"
      ]
    },
    {
      "cell_type": "code",
      "execution_count": null,
      "metadata": {
        "colab": {
          "base_uri": "https://localhost:8080/",
          "height": 295
        },
        "id": "nF9C3reggW_z",
        "outputId": "1c77973c-e82a-4ce1-fa30-f98fe676e8d2"
      },
      "outputs": [
        {
          "data": {
            "image/png": "[encoded data removed]",
            "text/plain": [
              "<Figure size 432x288 with 1 Axes>"
            ]
          },
          "metadata": {
            "needs_background": "light",
            "tags": []
          },
          "output_type": "display_data"
        }
      ],
      "source": [
        "# Plot of accuracy vs epoch of train and test dataset\n",
        "plt.plot(history['accuracy'])\n",
        "plt.plot(history['val_accuracy'])\n",
        "plt.title(\"Plot of accuracy vs epoch for train and test dataset\")\n",
        "plt.ylabel('accuracy')\n",
        "plt.xlabel('epoch')\n",
        "plt.legend(['train', 'test'], loc='best')\n",
        "plt.savefig('plots/ae_binary_accuracy.png')\n",
        "plt.show()"
      ]
    },
    {
      "cell_type": "code",
      "execution_count": null,
      "metadata": {
        "colab": {
          "base_uri": "https://localhost:8080/",
          "height": 312
        },
        "id": "ZY2NaxgdEHSE",
        "outputId": "04e50955-eec4-44de-c1a5-decc620eca82"
      },
      "outputs": [
        {
          "data": {
            "image/png": "[encoded data removed]",
            "text/plain": [
              "<IPython.core.display.Image object>"
            ]
          },
          "execution_count": 166,
          "metadata": {
            "tags": []
          },
          "output_type": "execute_result"
        }
      ],
      "source": [
        "# representation of model layers\n",
        "plot_model(autoencoder, to_file='plots/ae_binary.png', show_shapes=True,)"
      ]
    },
    {
      "cell_type": "code",
      "execution_count": null,
      "metadata": {
        "id": "lH62ub1mz98Z"
      },
      "outputs": [],
      "source": [
        "# calculating reconstruction error \n",
        "predictions = autoencoder.predict(X_test)"
      ]
    },
    {
      "cell_type": "code",
      "execution_count": null,
      "metadata": {
        "id": "_4-pGpAJ4UbZ"
      },
      "outputs": [],
      "source": [
        "mse = np.mean(np.power(X_test - predictions, 2), axis=1)\n",
        "error_df = pd.DataFrame({'reconstruction_error': mse,\n",
        "                        'true_class': y_test})"
      ]
    },
    {
      "cell_type": "code",
      "execution_count": null,
      "metadata": {
        "colab": {
          "base_uri": "https://localhost:8080/",
          "height": 297
        },
        "id": "V7eby65W4kHn",
        "outputId": "17456604-fe71-497c-f1cd-bc0225fdf422"
      },
      "outputs": [
        {
          "data": {
            "text/html": [
              "<div>\n",
              "<style scoped>\n",
              "    .dataframe tbody tr th:only-of-type {\n",
              "        vertical-align: middle;\n",
              "    }\n",
              "\n",
              "    .dataframe tbody tr th {\n",
              "        vertical-align: top;\n",
              "    }\n",
              "\n",
              "    .dataframe thead th {\n",
              "        text-align: right;\n",
              "    }\n",
              "</style>\n",
              "<table border=\"1\" class=\"dataframe\">\n",
              "  <thead>\n",
              "    <tr style=\"text-align: right;\">\n",
              "      <th></th>\n",
              "      <th>reconstruction_error</th>\n",
              "      <th>true_class</th>\n",
              "    </tr>\n",
              "  </thead>\n",
              "  <tbody>\n",
              "    <tr>\n",
              "      <th>count</th>\n",
              "      <td>31494.000000</td>\n",
              "      <td>31494.000000</td>\n",
              "    </tr>\n",
              "    <tr>\n",
              "      <th>mean</th>\n",
              "      <td>0.104572</td>\n",
              "      <td>0.532609</td>\n",
              "    </tr>\n",
              "    <tr>\n",
              "      <th>std</th>\n",
              "      <td>0.043577</td>\n",
              "      <td>0.498943</td>\n",
              "    </tr>\n",
              "    <tr>\n",
              "      <th>min</th>\n",
              "      <td>0.040633</td>\n",
              "      <td>0.000000</td>\n",
              "    </tr>\n",
              "    <tr>\n",
              "      <th>25%</th>\n",
              "      <td>0.074506</td>\n",
              "      <td>0.000000</td>\n",
              "    </tr>\n",
              "    <tr>\n",
              "      <th>50%</th>\n",
              "      <td>0.083821</td>\n",
              "      <td>1.000000</td>\n",
              "    </tr>\n",
              "    <tr>\n",
              "      <th>75%</th>\n",
              "      <td>0.151405</td>\n",
              "      <td>1.000000</td>\n",
              "    </tr>\n",
              "    <tr>\n",
              "      <th>max</th>\n",
              "      <td>0.229802</td>\n",
              "      <td>1.000000</td>\n",
              "    </tr>\n",
              "  </tbody>\n",
              "</table>\n",
              "</div>"
            ],
            "text/plain": [
              "       reconstruction_error    true_class\n",
              "count          31494.000000  31494.000000\n",
              "mean               0.104572      0.532609\n",
              "std                0.043577      0.498943\n",
              "min                0.040633      0.000000\n",
              "25%                0.074506      0.000000\n",
              "50%                0.083821      1.000000\n",
              "75%                0.151405      1.000000\n",
              "max                0.229802      1.000000"
            ]
          },
          "execution_count": 169,
          "metadata": {
            "tags": []
          },
          "output_type": "execute_result"
        }
      ],
      "source": [
        "error_df.describe()"
      ]
    },
    {
      "cell_type": "markdown",
      "metadata": {
        "id": "GewtqonkCIgS"
      },
      "source": [
        "# **Linear Support Vector Machine Classifier (Multi-class Classification)**"
      ]
    },
    {
      "cell_type": "code",
      "execution_count": null,
      "metadata": {
        "id": "6h3UrLZkyZ6F"
      },
      "outputs": [],
      "source": [
        "X = multi_data.iloc[:,0:93].to_numpy() # dataset excluding target attribute (encoded, one-hot-encoded, original)\n",
        "Y = multi_data['intrusion'] # target attribute"
      ]
    },
    {
      "cell_type": "code",
      "execution_count": null,
      "metadata": {
        "id": "eciLJ53WycVR"
      },
      "outputs": [],
      "source": [
        "# splitting the dataset 75% for training and 25% testing\n",
        "X_train, X_test, y_train, y_test = train_test_split(X,Y, test_size=0.25, random_state=42)"
      ]
    },
    {
      "cell_type": "code",
      "execution_count": null,
      "metadata": {
        "colab": {
          "base_uri": "https://localhost:8080/"
        },
        "id": "Puaavrt7Cpb1",
        "outputId": "68568619-cd09-41b0-fe72-21edc89c4728"
      },
      "outputs": [
        {
          "data": {
            "text/plain": [
              "SVC(C=1.0, break_ties=False, cache_size=200, class_weight=None, coef0=0.0,\n",
              "    decision_function_shape='ovr', degree=3, gamma='auto', kernel='linear',\n",
              "    max_iter=-1, probability=False, random_state=None, shrinking=True,\n",
              "    tol=0.001, verbose=False)"
            ]
          },
          "execution_count": 172,
          "metadata": {
            "tags": []
          },
          "output_type": "execute_result"
        }
      ],
      "source": [
        "lsvm=SVC(kernel='linear',gamma='auto')\n",
        "lsvm.fit(X_train,y_train) # training model on training dataset"
      ]
    },
    {
      "cell_type": "code",
      "execution_count": null,
      "metadata": {
        "colab": {
          "base_uri": "https://localhost:8080/"
        },
        "id": "ju9JqNXAGBFa",
        "outputId": "d733d435-bc9c-460d-9580-821b169b3c62"
      },
      "outputs": [
        {
          "name": "stdout",
          "output_type": "stream",
          "text": [
            "Saved model to disk\n",
            "Loade model from disk\n"
          ]
        }
      ],
      "source": [
        "# saving trained model to disk\n",
        "pkl_filename = \"./models/lsvm_multi.pkl\"\n",
        "if (not path.isfile(pkl_filename)):\n",
        "  with open(pkl_filename, 'wb') as file:\n",
        "    pickle.dump(lsvm, file)\n",
        "  print(\"Saved model to disk\")\n",
        "  # loading trained model from disk\n",
        "  with open(pkl_filename, 'rb') as file:\n",
        "    lsvm = pickle.load(file)\n",
        "  print(\"Loade model from disk\")\n",
        "  "
      ]
    },
    {
      "cell_type": "code",
      "execution_count": null,
      "metadata": {
        "colab": {
          "base_uri": "https://localhost:8080/"
        },
        "id": "yGGqsHE9ConV",
        "outputId": "e6c7c391-e2f9-4850-a0ac-53c5e3d7b4c8"
      },
      "outputs": [
        {
          "name": "stdout",
          "output_type": "stream",
          "text": [
            "LSVM-Classifier Multi-class Set-Accuracy is  95.24671365974471\n"
          ]
        }
      ],
      "source": [
        "y_pred=lsvm.predict(X_test) # predicting target attribute on testing dataset\n",
        "ac=accuracy_score(y_test, y_pred)*100  # calculating accuracy of predicted data\n",
        "print(\"LSVM-Classifier Multi-class Set-Accuracy is \", ac)"
      ]
    },
    {
      "cell_type": "code",
      "execution_count": null,
      "metadata": {
        "colab": {
          "base_uri": "https://localhost:8080/"
        },
        "id": "XG2oyW5PjPIP",
        "outputId": "333d9df0-8200-4f29-f9c5-ea6bde6bf74d"
      },
      "outputs": [
        {
          "name": "stdout",
          "output_type": "stream",
          "text": [
            "              precision    recall  f1-score   support\n",
            "\n",
            "         Dos       0.95      0.96      0.96     11484\n",
            "       Probe       0.86      0.79      0.82      2947\n",
            "         R2L       0.61      0.60      0.60       274\n",
            "         U2R       0.00      0.00      0.00        15\n",
            "      normal       0.97      0.98      0.98     16774\n",
            "\n",
            "    accuracy                           0.95     31494\n",
            "   macro avg       0.68      0.67      0.67     31494\n",
            "weighted avg       0.95      0.95      0.95     31494\n",
            "\n"
          ]
        },
        {
          "name": "stderr",
          "output_type": "stream",
          "text": [
            "/usr/local/lib/python3.7/dist-packages/sklearn/metrics/_classification.py:1272: UndefinedMetricWarning: Precision and F-score are ill-defined and being set to 0.0 in labels with no predicted samples. Use `zero_division` parameter to control this behavior.\n",
            "  _warn_prf(average, modifier, msg_start, len(result))\n"
          ]
        }
      ],
      "source": [
        "# classification report\n",
        "print(classification_report(y_test, y_pred,target_names=le2_classes_))"
      ]
    },
    {
      "cell_type": "markdown",
      "metadata": {
        "id": "3M2ESEqWPqY4"
      },
      "source": [
        "# **Quadratic Support Vector Machine Classifier (Multi-class Classification)**"
      ]
    },
    {
      "cell_type": "code",
      "execution_count": null,
      "metadata": {
        "colab": {
          "base_uri": "https://localhost:8080/"
        },
        "id": "h6iRNxewPkm1",
        "outputId": "205a15e0-7eb8-49f9-f3c3-3e97b17de6ae"
      },
      "outputs": [
        {
          "data": {
            "text/plain": [
              "SVC(C=1.0, break_ties=False, cache_size=200, class_weight=None, coef0=0.0,\n",
              "    decision_function_shape='ovr', degree=3, gamma='auto', kernel='poly',\n",
              "    max_iter=-1, probability=False, random_state=None, shrinking=True,\n",
              "    tol=0.001, verbose=False)"
            ]
          },
          "execution_count": 176,
          "metadata": {
            "tags": []
          },
          "output_type": "execute_result"
        }
      ],
      "source": [
        "qsvm=SVC(kernel='poly',gamma='auto')\n",
        "qsvm.fit(X_train,y_train) # training model on training dataset"
      ]
    },
    {
      "cell_type": "code",
      "execution_count": null,
      "metadata": {
        "colab": {
          "base_uri": "https://localhost:8080/"
        },
        "id": "r-G-RZRtGUWs",
        "outputId": "22f748cc-cc4f-47f3-a2a2-05338dc20e55"
      },
      "outputs": [
        {
          "name": "stdout",
          "output_type": "stream",
          "text": [
            "Saved model to disk\n",
            "Loaded model from disk\n"
          ]
        }
      ],
      "source": [
        "pkl_filename = \"./models/qsvm_multi.pkl\"\n",
        "if (not path.isfile(pkl_filename)):\n",
        "  # saving trained model to disk\n",
        "  with open(pkl_filename, 'wb') as file:\n",
        "    pickle.dump(qsvm, file)\n",
        "  print(\"Saved model to disk\")\n",
        "  # loading trained model from disk\n",
        "  with open(pkl_filename, 'rb') as file:\n",
        "    qsvm = pickle.load(file)\n",
        "  print(\"Loaded model from disk\")"
      ]
    },
    {
      "cell_type": "code",
      "execution_count": null,
      "metadata": {
        "colab": {
          "base_uri": "https://localhost:8080/"
        },
        "id": "YyiXVxb1PnER",
        "outputId": "441497be-d703-44ce-eea5-b3f77f8f1582"
      },
      "outputs": [
        {
          "name": "stdout",
          "output_type": "stream",
          "text": [
            "QSVM-Classifier Multi-class Set-Accuracy is  92.86213246967677\n"
          ]
        }
      ],
      "source": [
        "y_pred=qsvm.predict(X_test)  # predicting target attribute on testing dataset\n",
        "ac=accuracy_score(y_test, y_pred)*100  # calculating accuracy of predicted data\n",
        "print(\"QSVM-Classifier Multi-class Set-Accuracy is \", ac)"
      ]
    },
    {
      "cell_type": "code",
      "execution_count": null,
      "metadata": {
        "colab": {
          "base_uri": "https://localhost:8080/"
        },
        "id": "mqVIJvYPjSUq",
        "outputId": "d46f5b41-934f-41c9-8804-2a1bd93cf46d"
      },
      "outputs": [
        {
          "name": "stdout",
          "output_type": "stream",
          "text": [
            "              precision    recall  f1-score   support\n",
            "\n",
            "         Dos       0.96      0.94      0.95     11484\n",
            "       Probe       0.96      0.61      0.74      2947\n",
            "         R2L       0.00      0.00      0.00       274\n",
            "         U2R       0.00      0.00      0.00        15\n",
            "      normal       0.91      1.00      0.95     16774\n",
            "\n",
            "    accuracy                           0.93     31494\n",
            "   macro avg       0.56      0.51      0.53     31494\n",
            "weighted avg       0.92      0.93      0.92     31494\n",
            "\n"
          ]
        },
        {
          "name": "stderr",
          "output_type": "stream",
          "text": [
            "/usr/local/lib/python3.7/dist-packages/sklearn/metrics/_classification.py:1272: UndefinedMetricWarning: Precision and F-score are ill-defined and being set to 0.0 in labels with no predicted samples. Use `zero_division` parameter to control this behavior.\n",
            "  _warn_prf(average, modifier, msg_start, len(result))\n"
          ]
        }
      ],
      "source": [
        "# classification report\n",
        "print(classification_report(y_test, y_pred,target_names=le2_classes_))"
      ]
    },
    {
      "cell_type": "markdown",
      "metadata": {
        "id": "-HvlLolTuV8c"
      },
      "source": [
        "# **K-nearest-neighbor Classifier (Multi-class Classification)**"
      ]
    },
    {
      "cell_type": "code",
      "execution_count": null,
      "metadata": {
        "colab": {
          "base_uri": "https://localhost:8080/"
        },
        "id": "_oUD9fTyC5TQ",
        "outputId": "5f25a207-4d44-447d-8ee2-b36b70c46464"
      },
      "outputs": [
        {
          "data": {
            "text/plain": [
              "KNeighborsClassifier(algorithm='auto', leaf_size=30, metric='minkowski',\n",
              "                     metric_params=None, n_jobs=None, n_neighbors=5, p=2,\n",
              "                     weights='uniform')"
            ]
          },
          "execution_count": 180,
          "metadata": {
            "tags": []
          },
          "output_type": "execute_result"
        }
      ],
      "source": [
        "knn=KNeighborsClassifier(n_neighbors=5)\n",
        "knn.fit(X_train,y_train) # training model on training dataset"
      ]
    },
    {
      "cell_type": "code",
      "execution_count": null,
      "metadata": {
        "colab": {
          "base_uri": "https://localhost:8080/"
        },
        "id": "Jx8TF5VMGeM3",
        "outputId": "d303a1d5-9788-40f4-93cc-9e3ceaf08f31"
      },
      "outputs": [
        {
          "name": "stdout",
          "output_type": "stream",
          "text": [
            "Saved model to disk\n",
            "Loaded model from disk\n"
          ]
        }
      ],
      "source": [
        "pkl_filename = \"./models/knn_multi.pkl\"\n",
        "if (not path.isfile(pkl_filename)):\n",
        "  # saving trained model to disk\n",
        "  with open(pkl_filename, 'wb') as file:\n",
        "    pickle.dump(knn, file)\n",
        "  print(\"Saved model to disk\")\n",
        "  # loading trained model from disk\n",
        "  with open(pkl_filename, 'rb') as file:\n",
        "    knn = pickle.load(file)\n",
        "  print(\"Loaded model from disk\")"
      ]
    },
    {
      "cell_type": "code",
      "execution_count": null,
      "metadata": {
        "colab": {
          "base_uri": "https://localhost:8080/"
        },
        "id": "S98xJiOLiqGp",
        "outputId": "d82ec7fa-270c-424d-865e-20b0ed20395d"
      },
      "outputs": [
        {
          "name": "stdout",
          "output_type": "stream",
          "text": [
            "KNN-Classifier Multi-class Set-Accuracy is  98.29173810884613\n"
          ]
        }
      ],
      "source": [
        "y_pred=knn.predict(X_test)  # predicting target attribute on testing dataset\n",
        "ac=accuracy_score(y_test, y_pred)*100  # calculating accuracy of predicted data\n",
        "print(\"KNN-Classifier Multi-class Set-Accuracy is \", ac)"
      ]
    },
    {
      "cell_type": "code",
      "execution_count": null,
      "metadata": {
        "colab": {
          "base_uri": "https://localhost:8080/"
        },
        "id": "bofv1igEjXEb",
        "outputId": "0a6d8de7-83dc-4d0b-f160-8ff908292b8b"
      },
      "outputs": [
        {
          "name": "stdout",
          "output_type": "stream",
          "text": [
            "              precision    recall  f1-score   support\n",
            "\n",
            "         Dos       0.99      0.99      0.99     11484\n",
            "       Probe       0.96      0.97      0.96      2947\n",
            "         R2L       0.92      0.87      0.89       274\n",
            "         U2R       0.40      0.13      0.20        15\n",
            "      normal       0.99      0.99      0.99     16774\n",
            "\n",
            "    accuracy                           0.98     31494\n",
            "   macro avg       0.85      0.79      0.81     31494\n",
            "weighted avg       0.98      0.98      0.98     31494\n",
            "\n"
          ]
        }
      ],
      "source": [
        "# classification report\n",
        "print(classification_report(y_test, y_pred,target_names=le2_classes_))"
      ]
    },
    {
      "cell_type": "markdown",
      "metadata": {
        "id": "cQWRqfCcJ1uu"
      },
      "source": [
        "# **Linear Discriminant Analysis Classifier (Multi-class Classification)**"
      ]
    },
    {
      "cell_type": "code",
      "execution_count": null,
      "metadata": {
        "colab": {
          "base_uri": "https://localhost:8080/"
        },
        "id": "Q-xx3vO4J086",
        "outputId": "f622fcbc-c4c8-4a97-ab24-95211c3b6879"
      },
      "outputs": [
        {
          "data": {
            "text/plain": [
              "LinearDiscriminantAnalysis(n_components=None, priors=None, shrinkage=None,\n",
              "                           solver='svd', store_covariance=False, tol=0.0001)"
            ]
          },
          "execution_count": 184,
          "metadata": {
            "tags": []
          },
          "output_type": "execute_result"
        }
      ],
      "source": [
        "lda = LinearDiscriminantAnalysis()\n",
        "lda.fit(X_train, y_train) # training model on training dataset"
      ]
    },
    {
      "cell_type": "code",
      "execution_count": null,
      "metadata": {
        "colab": {
          "base_uri": "https://localhost:8080/"
        },
        "id": "6dkH8hMDGpjh",
        "outputId": "975706b2-e01e-4d1f-9186-22744f3f1969"
      },
      "outputs": [
        {
          "name": "stdout",
          "output_type": "stream",
          "text": [
            "Saved model to disk\n",
            "Loaded model from disk\n"
          ]
        }
      ],
      "source": [
        "pkl_filename = \"./models/lda_multi.pkl\"\n",
        "if (not path.isfile(pkl_filename)):\n",
        "  # saving trained model to disk\n",
        "  with open(pkl_filename, 'wb') as file:\n",
        "    pickle.dump(lda, file)\n",
        "  print(\"Saved model to disk\")\n",
        "  # loading trained model from disk\n",
        "  with open(pkl_filename, 'rb') as file:\n",
        "    lda = pickle.load(file)\n",
        "  print(\"Loaded model from disk\")\n",
        "  "
      ]
    },
    {
      "cell_type": "code",
      "execution_count": null,
      "metadata": {
        "colab": {
          "base_uri": "https://localhost:8080/"
        },
        "id": "mk1MkfhjJ-AG",
        "outputId": "4b02935d-e8b2-40b5-c951-a4a213e5226e"
      },
      "outputs": [
        {
          "name": "stdout",
          "output_type": "stream",
          "text": [
            "LDA-Classifier Set-Accuracy is  93.1923540991935\n"
          ]
        }
      ],
      "source": [
        "y_pred = lda.predict(X_test)  # predicting target attribute on testing dataset\n",
        "ac=accuracy_score(y_test, y_pred)*100  # calculating accuracy of predicted data\n",
        "print(\"LDA-Classifier Set-Accuracy is \", ac)"
      ]
    },
    {
      "cell_type": "code",
      "execution_count": null,
      "metadata": {
        "colab": {
          "base_uri": "https://localhost:8080/"
        },
        "id": "dhq5ifZsKLJW",
        "outputId": "e13bcb59-7f2a-45d0-9b75-59168c35b58e"
      },
      "outputs": [
        {
          "name": "stdout",
          "output_type": "stream",
          "text": [
            "              precision    recall  f1-score   support\n",
            "\n",
            "         Dos       0.94      0.96      0.95     11484\n",
            "       Probe       0.88      0.73      0.80      2947\n",
            "         R2L       0.37      0.89      0.52       274\n",
            "         U2R       0.03      0.47      0.06        15\n",
            "      normal       0.97      0.95      0.96     16774\n",
            "\n",
            "    accuracy                           0.93     31494\n",
            "   macro avg       0.64      0.80      0.66     31494\n",
            "weighted avg       0.94      0.93      0.94     31494\n",
            "\n"
          ]
        }
      ],
      "source": [
        "# classification report\n",
        "print(classification_report(y_test, y_pred,target_names=le2_classes_))"
      ]
    },
    {
      "cell_type": "markdown",
      "metadata": {
        "id": "Zn573OUHJONH"
      },
      "source": [
        "# **Quadratic Discriminant Analysis Classifier (Multi-class Classification)**"
      ]
    },
    {
      "cell_type": "code",
      "execution_count": null,
      "metadata": {
        "colab": {
          "base_uri": "https://localhost:8080/"
        },
        "id": "XXFXn3910kJA",
        "outputId": "419f861f-4d67-495f-c642-80beaaca75f3"
      },
      "outputs": [
        {
          "name": "stderr",
          "output_type": "stream",
          "text": [
            "/usr/local/lib/python3.7/dist-packages/sklearn/discriminant_analysis.py:691: UserWarning: Variables are collinear\n",
            "  warnings.warn(\"Variables are collinear\")\n"
          ]
        },
        {
          "data": {
            "text/plain": [
              "QuadraticDiscriminantAnalysis(priors=None, reg_param=0.0,\n",
              "                              store_covariance=False, tol=0.0001)"
            ]
          },
          "execution_count": 188,
          "metadata": {
            "tags": []
          },
          "output_type": "execute_result"
        }
      ],
      "source": [
        "qda = QuadraticDiscriminantAnalysis()\n",
        "qda.fit(X_train, y_train) # training model on training dataset"
      ]
    },
    {
      "cell_type": "code",
      "execution_count": null,
      "metadata": {
        "colab": {
          "base_uri": "https://localhost:8080/"
        },
        "id": "BeTtsaOzG1Ra",
        "outputId": "208c7771-25b5-46b8-9f35-9071ebd84a3f"
      },
      "outputs": [
        {
          "name": "stdout",
          "output_type": "stream",
          "text": [
            "Saved model to disk\n",
            "Loaded model from disk\n"
          ]
        }
      ],
      "source": [
        "pkl_filename = \"./models/qda_multi.pkl\"\n",
        "if (not path.isfile(pkl_filename)):\n",
        "  # saving trained model to disk\n",
        "  with open(pkl_filename, 'wb') as file:\n",
        "    pickle.dump(qda, file)\n",
        "  print(\"Saved model to disk\")\n",
        "  # loading trained model from disk\n",
        "  with open(pkl_filename, 'rb') as file:\n",
        "    qda = pickle.load(file)\n",
        "  print(\"Loaded model from disk\")"
      ]
    },
    {
      "cell_type": "code",
      "execution_count": null,
      "metadata": {
        "colab": {
          "base_uri": "https://localhost:8080/"
        },
        "id": "zHCXEatcJZNj",
        "outputId": "ae5d7b60-03e8-494c-ca71-341e9eb24888"
      },
      "outputs": [
        {
          "name": "stdout",
          "output_type": "stream",
          "text": [
            "QDA-Classifier Multi-class Set-Accuracy is  44.96094494189369\n"
          ]
        }
      ],
      "source": [
        "y_pred = qda.predict(X_test)  # predicting target attribute on testing dataset\n",
        "ac=accuracy_score(y_test, y_pred)*100  # calculating accuracy of predicted data\n",
        "print(\"QDA-Classifier Multi-class Set-Accuracy is \", ac)"
      ]
    },
    {
      "cell_type": "code",
      "execution_count": null,
      "metadata": {
        "colab": {
          "base_uri": "https://localhost:8080/"
        },
        "id": "oPEaIVtYJe-P",
        "outputId": "489bac6b-f8ab-4ba1-d5a7-ed5cb5ae8b3c"
      },
      "outputs": [
        {
          "name": "stdout",
          "output_type": "stream",
          "text": [
            "              precision    recall  f1-score   support\n",
            "\n",
            "         Dos       0.99      0.42      0.59     11484\n",
            "       Probe       0.97      0.06      0.11      2947\n",
            "         R2L       0.03      1.00      0.06       274\n",
            "         U2R       0.00      0.00      0.00        15\n",
            "      normal       0.50      0.53      0.51     16774\n",
            "\n",
            "    accuracy                           0.45     31494\n",
            "   macro avg       0.50      0.40      0.26     31494\n",
            "weighted avg       0.72      0.45      0.50     31494\n",
            "\n"
          ]
        },
        {
          "name": "stderr",
          "output_type": "stream",
          "text": [
            "/usr/local/lib/python3.7/dist-packages/sklearn/metrics/_classification.py:1272: UndefinedMetricWarning: Precision and F-score are ill-defined and being set to 0.0 in labels with no predicted samples. Use `zero_division` parameter to control this behavior.\n",
            "  _warn_prf(average, modifier, msg_start, len(result))\n"
          ]
        }
      ],
      "source": [
        "# classification report\n",
        "print(classification_report(y_test, y_pred,target_names=le2_classes_))"
      ]
    },
    {
      "cell_type": "markdown",
      "metadata": {
        "id": "K5hU_51LKW-d"
      },
      "source": [
        "# **Multi Layer Perceptron Classifier (Multi-class Classification)**"
      ]
    },
    {
      "cell_type": "code",
      "execution_count": null,
      "metadata": {
        "id": "9373ZC6VKX5G"
      },
      "outputs": [],
      "source": [
        "X = multi_data.iloc[:,0:93]  # dataset excluding target attribute (encoded, one-hot-encoded,original)\n",
        "Y = multi_data[['Dos','normal','Probe','R2L','U2R']] # target attributes"
      ]
    },
    {
      "cell_type": "code",
      "execution_count": null,
      "metadata": {
        "id": "RfpZr6lyK3UG"
      },
      "outputs": [],
      "source": [
        "# splitting the dataset 75% for training and 25% testing\n",
        "X_train, X_test, y_train, y_test = train_test_split(X,Y, test_size=0.25, random_state=42)"
      ]
    },
    {
      "cell_type": "code",
      "execution_count": null,
      "metadata": {
        "id": "nlc90vl7LXqy"
      },
      "outputs": [],
      "source": [
        "mlp = Sequential() # initializing model\n",
        "# input layer and first layer with 50 neurons\n",
        "mlp.add(Dense(units=50, input_dim=X_train.shape[1], activation='relu'))\n",
        "# output layer with softmax activation\n",
        "mlp.add(Dense(units=5,activation='softmax'))"
      ]
    },
    {
      "cell_type": "code",
      "execution_count": null,
      "metadata": {
        "id": "sbjgI4YkLYFs"
      },
      "outputs": [],
      "source": [
        "# defining loss function, optimizer, metrics and then compiling model\n",
        "mlp.compile(loss='categorical_crossentropy', optimizer='adam', metrics=['accuracy'])"
      ]
    },
    {
      "cell_type": "code",
      "execution_count": null,
      "metadata": {
        "colab": {
          "base_uri": "https://localhost:8080/"
        },
        "id": "CAD9iBng6_bM",
        "outputId": "f2d021e7-6b23-4094-9f5a-215527ae4378"
      },
      "outputs": [
        {
          "name": "stdout",
          "output_type": "stream",
          "text": [
            "Model: \"sequential_3\"\n",
            "_________________________________________________________________\n",
            "Layer (type)                 Output Shape              Param #   \n",
            "=================================================================\n",
            "dense_6 (Dense)              (None, 50)                4700      \n",
            "_________________________________________________________________\n",
            "dense_7 (Dense)              (None, 5)                 255       \n",
            "=================================================================\n",
            "Total params: 4,955\n",
            "Trainable params: 4,955\n",
            "Non-trainable params: 0\n",
            "_________________________________________________________________\n"
          ]
        }
      ],
      "source": [
        "# summary of model layers\n",
        "mlp.summary()"
      ]
    },
    {
      "cell_type": "code",
      "execution_count": null,
      "metadata": {
        "colab": {
          "base_uri": "https://localhost:8080/"
        },
        "id": "0iR4f7BwLb9b",
        "outputId": "78fae018-4665-4187-d1d6-25f593660cb3"
      },
      "outputs": [
        {
          "name": "stdout",
          "output_type": "stream",
          "text": [
            "Epoch 1/100\n",
            "16/16 [==============================] - 1s 33ms/step - loss: 1.6282 - accuracy: 0.2066 - val_loss: 1.2330 - val_accuracy: 0.5749\n",
            "Epoch 2/100\n",
            "16/16 [==============================] - 0s 13ms/step - loss: 1.1306 - accuracy: 0.6717 - val_loss: 0.8474 - val_accuracy: 0.8593\n",
            "Epoch 3/100\n",
            "16/16 [==============================] - 0s 13ms/step - loss: 0.7775 - accuracy: 0.8580 - val_loss: 0.5909 - val_accuracy: 0.8665\n",
            "Epoch 4/100\n",
            "16/16 [==============================] - 0s 14ms/step - loss: 0.5489 - accuracy: 0.8655 - val_loss: 0.4435 - val_accuracy: 0.8720\n",
            "Epoch 5/100\n",
            "16/16 [==============================] - 0s 13ms/step - loss: 0.4206 - accuracy: 0.8718 - val_loss: 0.3650 - val_accuracy: 0.8760\n",
            "Epoch 6/100\n",
            "16/16 [==============================] - 0s 13ms/step - loss: 0.3533 - accuracy: 0.8797 - val_loss: 0.3201 - val_accuracy: 0.9093\n",
            "Epoch 7/100\n",
            "16/16 [==============================] - 0s 13ms/step - loss: 0.3122 - accuracy: 0.9118 - val_loss: 0.2901 - val_accuracy: 0.9267\n",
            "Epoch 8/100\n",
            "16/16 [==============================] - 0s 13ms/step - loss: 0.2817 - accuracy: 0.9273 - val_loss: 0.2679 - val_accuracy: 0.9336\n",
            "Epoch 9/100\n",
            "16/16 [==============================] - 0s 13ms/step - loss: 0.2593 - accuracy: 0.9333 - val_loss: 0.2501 - val_accuracy: 0.9363\n",
            "Epoch 10/100\n",
            "16/16 [==============================] - 0s 13ms/step - loss: 0.2423 - accuracy: 0.9365 - val_loss: 0.2353 - val_accuracy: 0.9390\n",
            "Epoch 11/100\n",
            "16/16 [==============================] - 0s 13ms/step - loss: 0.2296 - accuracy: 0.9382 - val_loss: 0.2224 - val_accuracy: 0.9410\n",
            "Epoch 12/100\n",
            "16/16 [==============================] - 0s 12ms/step - loss: 0.2155 - accuracy: 0.9433 - val_loss: 0.2113 - val_accuracy: 0.9457\n",
            "Epoch 13/100\n",
            "16/16 [==============================] - 0s 13ms/step - loss: 0.2038 - accuracy: 0.9471 - val_loss: 0.2018 - val_accuracy: 0.9468\n",
            "Epoch 14/100\n",
            "16/16 [==============================] - 0s 13ms/step - loss: 0.1955 - accuracy: 0.9478 - val_loss: 0.1932 - val_accuracy: 0.9476\n",
            "Epoch 15/100\n",
            "16/16 [==============================] - 0s 12ms/step - loss: 0.1891 - accuracy: 0.9489 - val_loss: 0.1857 - val_accuracy: 0.9499\n",
            "Epoch 16/100\n",
            "16/16 [==============================] - 0s 13ms/step - loss: 0.1827 - accuracy: 0.9499 - val_loss: 0.1791 - val_accuracy: 0.9501\n",
            "Epoch 17/100\n",
            "16/16 [==============================] - 0s 12ms/step - loss: 0.1730 - accuracy: 0.9512 - val_loss: 0.1734 - val_accuracy: 0.9509\n",
            "Epoch 18/100\n",
            "16/16 [==============================] - 0s 14ms/step - loss: 0.1691 - accuracy: 0.9509 - val_loss: 0.1683 - val_accuracy: 0.9510\n",
            "Epoch 19/100\n",
            "16/16 [==============================] - 0s 13ms/step - loss: 0.1633 - accuracy: 0.9520 - val_loss: 0.1637 - val_accuracy: 0.9511\n",
            "Epoch 20/100\n",
            "16/16 [==============================] - 0s 12ms/step - loss: 0.1602 - accuracy: 0.9515 - val_loss: 0.1595 - val_accuracy: 0.9515\n",
            "Epoch 21/100\n",
            "16/16 [==============================] - 0s 13ms/step - loss: 0.1553 - accuracy: 0.9521 - val_loss: 0.1558 - val_accuracy: 0.9516\n",
            "Epoch 22/100\n",
            "16/16 [==============================] - 0s 12ms/step - loss: 0.1516 - accuracy: 0.9527 - val_loss: 0.1525 - val_accuracy: 0.9520\n",
            "Epoch 23/100\n",
            "16/16 [==============================] - 0s 13ms/step - loss: 0.1491 - accuracy: 0.9524 - val_loss: 0.1494 - val_accuracy: 0.9524\n",
            "Epoch 24/100\n",
            "16/16 [==============================] - 0s 15ms/step - loss: 0.1443 - accuracy: 0.9536 - val_loss: 0.1466 - val_accuracy: 0.9530\n",
            "Epoch 25/100\n",
            "16/16 [==============================] - 0s 13ms/step - loss: 0.1446 - accuracy: 0.9528 - val_loss: 0.1441 - val_accuracy: 0.9529\n",
            "Epoch 26/100\n",
            "16/16 [==============================] - 0s 13ms/step - loss: 0.1409 - accuracy: 0.9537 - val_loss: 0.1417 - val_accuracy: 0.9529\n",
            "Epoch 27/100\n",
            "16/16 [==============================] - 0s 13ms/step - loss: 0.1403 - accuracy: 0.9525 - val_loss: 0.1394 - val_accuracy: 0.9530\n",
            "Epoch 28/100\n",
            "16/16 [==============================] - 0s 13ms/step - loss: 0.1352 - accuracy: 0.9541 - val_loss: 0.1373 - val_accuracy: 0.9531\n",
            "Epoch 29/100\n",
            "16/16 [==============================] - 0s 13ms/step - loss: 0.1361 - accuracy: 0.9538 - val_loss: 0.1353 - val_accuracy: 0.9535\n",
            "Epoch 30/100\n",
            "16/16 [==============================] - 0s 13ms/step - loss: 0.1349 - accuracy: 0.9534 - val_loss: 0.1334 - val_accuracy: 0.9537\n",
            "Epoch 31/100\n",
            "16/16 [==============================] - 0s 13ms/step - loss: 0.1319 - accuracy: 0.9543 - val_loss: 0.1316 - val_accuracy: 0.9539\n",
            "Epoch 32/100\n",
            "16/16 [==============================] - 0s 12ms/step - loss: 0.1305 - accuracy: 0.9541 - val_loss: 0.1299 - val_accuracy: 0.9544\n",
            "Epoch 33/100\n",
            "16/16 [==============================] - 0s 13ms/step - loss: 0.1276 - accuracy: 0.9548 - val_loss: 0.1282 - val_accuracy: 0.9549\n",
            "Epoch 34/100\n",
            "16/16 [==============================] - 0s 13ms/step - loss: 0.1264 - accuracy: 0.9562 - val_loss: 0.1267 - val_accuracy: 0.9561\n",
            "Epoch 35/100\n",
            "16/16 [==============================] - 0s 13ms/step - loss: 0.1257 - accuracy: 0.9564 - val_loss: 0.1252 - val_accuracy: 0.9569\n",
            "Epoch 36/100\n",
            "16/16 [==============================] - 0s 13ms/step - loss: 0.1219 - accuracy: 0.9579 - val_loss: 0.1238 - val_accuracy: 0.9575\n",
            "Epoch 37/100\n",
            "16/16 [==============================] - 0s 12ms/step - loss: 0.1214 - accuracy: 0.9590 - val_loss: 0.1224 - val_accuracy: 0.9589\n",
            "Epoch 38/100\n",
            "16/16 [==============================] - 0s 13ms/step - loss: 0.1203 - accuracy: 0.9599 - val_loss: 0.1211 - val_accuracy: 0.9591\n",
            "Epoch 39/100\n",
            "16/16 [==============================] - 0s 13ms/step - loss: 0.1177 - accuracy: 0.9605 - val_loss: 0.1199 - val_accuracy: 0.9596\n",
            "Epoch 40/100\n",
            "16/16 [==============================] - 0s 12ms/step - loss: 0.1162 - accuracy: 0.9607 - val_loss: 0.1188 - val_accuracy: 0.9602\n",
            "Epoch 41/100\n",
            "16/16 [==============================] - 0s 13ms/step - loss: 0.1170 - accuracy: 0.9614 - val_loss: 0.1177 - val_accuracy: 0.9609\n",
            "Epoch 42/100\n",
            "16/16 [==============================] - 0s 13ms/step - loss: 0.1160 - accuracy: 0.9601 - val_loss: 0.1166 - val_accuracy: 0.9613\n",
            "Epoch 43/100\n",
            "16/16 [==============================] - 0s 13ms/step - loss: 0.1148 - accuracy: 0.9616 - val_loss: 0.1156 - val_accuracy: 0.9614\n",
            "Epoch 44/100\n",
            "16/16 [==============================] - 0s 13ms/step - loss: 0.1146 - accuracy: 0.9618 - val_loss: 0.1146 - val_accuracy: 0.9616\n",
            "Epoch 45/100\n",
            "16/16 [==============================] - 0s 12ms/step - loss: 0.1111 - accuracy: 0.9628 - val_loss: 0.1137 - val_accuracy: 0.9619\n",
            "Epoch 46/100\n",
            "16/16 [==============================] - 0s 13ms/step - loss: 0.1125 - accuracy: 0.9629 - val_loss: 0.1128 - val_accuracy: 0.9625\n",
            "Epoch 47/100\n",
            "16/16 [==============================] - 0s 13ms/step - loss: 0.1109 - accuracy: 0.9632 - val_loss: 0.1118 - val_accuracy: 0.9628\n",
            "Epoch 48/100\n",
            "16/16 [==============================] - 0s 13ms/step - loss: 0.1105 - accuracy: 0.9631 - val_loss: 0.1110 - val_accuracy: 0.9630\n",
            "Epoch 49/100\n",
            "16/16 [==============================] - 0s 13ms/step - loss: 0.1079 - accuracy: 0.9643 - val_loss: 0.1100 - val_accuracy: 0.9639\n",
            "Epoch 50/100\n",
            "16/16 [==============================] - 0s 13ms/step - loss: 0.1085 - accuracy: 0.9644 - val_loss: 0.1091 - val_accuracy: 0.9640\n",
            "Epoch 51/100\n",
            "16/16 [==============================] - 0s 12ms/step - loss: 0.1087 - accuracy: 0.9640 - val_loss: 0.1083 - val_accuracy: 0.9642\n",
            "Epoch 52/100\n",
            "16/16 [==============================] - 0s 13ms/step - loss: 0.1061 - accuracy: 0.9647 - val_loss: 0.1077 - val_accuracy: 0.9641\n",
            "Epoch 53/100\n",
            "16/16 [==============================] - 0s 12ms/step - loss: 0.1049 - accuracy: 0.9652 - val_loss: 0.1069 - val_accuracy: 0.9642\n",
            "Epoch 54/100\n",
            "16/16 [==============================] - 0s 13ms/step - loss: 0.1067 - accuracy: 0.9643 - val_loss: 0.1062 - val_accuracy: 0.9644\n",
            "Epoch 55/100\n",
            "16/16 [==============================] - 0s 13ms/step - loss: 0.1039 - accuracy: 0.9650 - val_loss: 0.1056 - val_accuracy: 0.9644\n",
            "Epoch 56/100\n",
            "16/16 [==============================] - 0s 13ms/step - loss: 0.1016 - accuracy: 0.9663 - val_loss: 0.1049 - val_accuracy: 0.9652\n",
            "Epoch 57/100\n",
            "16/16 [==============================] - 0s 15ms/step - loss: 0.1027 - accuracy: 0.9653 - val_loss: 0.1044 - val_accuracy: 0.9651\n",
            "Epoch 58/100\n",
            "16/16 [==============================] - 0s 13ms/step - loss: 0.1002 - accuracy: 0.9662 - val_loss: 0.1037 - val_accuracy: 0.9653\n",
            "Epoch 59/100\n",
            "16/16 [==============================] - 0s 13ms/step - loss: 0.1018 - accuracy: 0.9663 - val_loss: 0.1032 - val_accuracy: 0.9653\n",
            "Epoch 60/100\n",
            "16/16 [==============================] - 0s 12ms/step - loss: 0.1006 - accuracy: 0.9665 - val_loss: 0.1026 - val_accuracy: 0.9656\n",
            "Epoch 61/100\n",
            "16/16 [==============================] - 0s 13ms/step - loss: 0.1016 - accuracy: 0.9661 - val_loss: 0.1021 - val_accuracy: 0.9662\n",
            "Epoch 62/100\n",
            "16/16 [==============================] - 0s 14ms/step - loss: 0.0981 - accuracy: 0.9672 - val_loss: 0.1016 - val_accuracy: 0.9661\n",
            "Epoch 63/100\n",
            "16/16 [==============================] - 0s 12ms/step - loss: 0.1013 - accuracy: 0.9663 - val_loss: 0.1011 - val_accuracy: 0.9664\n",
            "Epoch 64/100\n",
            "16/16 [==============================] - 0s 13ms/step - loss: 0.0984 - accuracy: 0.9675 - val_loss: 0.1007 - val_accuracy: 0.9664\n",
            "Epoch 65/100\n",
            "16/16 [==============================] - 0s 13ms/step - loss: 0.0972 - accuracy: 0.9676 - val_loss: 0.1003 - val_accuracy: 0.9664\n",
            "Epoch 66/100\n",
            "16/16 [==============================] - 0s 12ms/step - loss: 0.0968 - accuracy: 0.9678 - val_loss: 0.0998 - val_accuracy: 0.9668\n",
            "Epoch 67/100\n",
            "16/16 [==============================] - 0s 13ms/step - loss: 0.0966 - accuracy: 0.9680 - val_loss: 0.0993 - val_accuracy: 0.9669\n",
            "Epoch 68/100\n",
            "16/16 [==============================] - 0s 14ms/step - loss: 0.0989 - accuracy: 0.9677 - val_loss: 0.0990 - val_accuracy: 0.9671\n",
            "Epoch 69/100\n",
            "16/16 [==============================] - 0s 13ms/step - loss: 0.0990 - accuracy: 0.9671 - val_loss: 0.0986 - val_accuracy: 0.9670\n",
            "Epoch 70/100\n",
            "16/16 [==============================] - 0s 12ms/step - loss: 0.0967 - accuracy: 0.9680 - val_loss: 0.0981 - val_accuracy: 0.9672\n",
            "Epoch 71/100\n",
            "16/16 [==============================] - 0s 13ms/step - loss: 0.0975 - accuracy: 0.9684 - val_loss: 0.0979 - val_accuracy: 0.9675\n",
            "Epoch 72/100\n",
            "16/16 [==============================] - 0s 13ms/step - loss: 0.0963 - accuracy: 0.9678 - val_loss: 0.0973 - val_accuracy: 0.9677\n",
            "Epoch 73/100\n",
            "16/16 [==============================] - 0s 14ms/step - loss: 0.0934 - accuracy: 0.9691 - val_loss: 0.0970 - val_accuracy: 0.9678\n",
            "Epoch 74/100\n",
            "16/16 [==============================] - 0s 13ms/step - loss: 0.0938 - accuracy: 0.9690 - val_loss: 0.0966 - val_accuracy: 0.9681\n",
            "Epoch 75/100\n",
            "16/16 [==============================] - 0s 13ms/step - loss: 0.0940 - accuracy: 0.9690 - val_loss: 0.0963 - val_accuracy: 0.9682\n",
            "Epoch 76/100\n",
            "16/16 [==============================] - 0s 13ms/step - loss: 0.0937 - accuracy: 0.9689 - val_loss: 0.0959 - val_accuracy: 0.9681\n",
            "Epoch 77/100\n",
            "16/16 [==============================] - 0s 13ms/step - loss: 0.0919 - accuracy: 0.9693 - val_loss: 0.0957 - val_accuracy: 0.9682\n",
            "Epoch 78/100\n",
            "16/16 [==============================] - 0s 13ms/step - loss: 0.0943 - accuracy: 0.9688 - val_loss: 0.0953 - val_accuracy: 0.9682\n",
            "Epoch 79/100\n",
            "16/16 [==============================] - 0s 14ms/step - loss: 0.0930 - accuracy: 0.9694 - val_loss: 0.0952 - val_accuracy: 0.9683\n",
            "Epoch 80/100\n",
            "16/16 [==============================] - 0s 12ms/step - loss: 0.0915 - accuracy: 0.9701 - val_loss: 0.0946 - val_accuracy: 0.9687\n",
            "Epoch 81/100\n",
            "16/16 [==============================] - 0s 13ms/step - loss: 0.0919 - accuracy: 0.9701 - val_loss: 0.0945 - val_accuracy: 0.9684\n",
            "Epoch 82/100\n",
            "16/16 [==============================] - 0s 13ms/step - loss: 0.0917 - accuracy: 0.9696 - val_loss: 0.0941 - val_accuracy: 0.9685\n",
            "Epoch 83/100\n",
            "16/16 [==============================] - 0s 13ms/step - loss: 0.0926 - accuracy: 0.9690 - val_loss: 0.0939 - val_accuracy: 0.9686\n",
            "Epoch 84/100\n",
            "16/16 [==============================] - 0s 12ms/step - loss: 0.0913 - accuracy: 0.9700 - val_loss: 0.0935 - val_accuracy: 0.9689\n",
            "Epoch 85/100\n",
            "16/16 [==============================] - 0s 13ms/step - loss: 0.0896 - accuracy: 0.9700 - val_loss: 0.0934 - val_accuracy: 0.9688\n",
            "Epoch 86/100\n",
            "16/16 [==============================] - 0s 13ms/step - loss: 0.0910 - accuracy: 0.9698 - val_loss: 0.0930 - val_accuracy: 0.9689\n",
            "Epoch 87/100\n",
            "16/16 [==============================] - 0s 13ms/step - loss: 0.0907 - accuracy: 0.9699 - val_loss: 0.0929 - val_accuracy: 0.9686\n",
            "Epoch 88/100\n",
            "16/16 [==============================] - 0s 13ms/step - loss: 0.0903 - accuracy: 0.9702 - val_loss: 0.0924 - val_accuracy: 0.9693\n",
            "Epoch 89/100\n",
            "16/16 [==============================] - 0s 12ms/step - loss: 0.0910 - accuracy: 0.9701 - val_loss: 0.0923 - val_accuracy: 0.9691\n",
            "Epoch 90/100\n",
            "16/16 [==============================] - 0s 13ms/step - loss: 0.0879 - accuracy: 0.9707 - val_loss: 0.0920 - val_accuracy: 0.9691\n",
            "Epoch 91/100\n",
            "16/16 [==============================] - 0s 13ms/step - loss: 0.0870 - accuracy: 0.9709 - val_loss: 0.0917 - val_accuracy: 0.9694\n",
            "Epoch 92/100\n",
            "16/16 [==============================] - 0s 13ms/step - loss: 0.0882 - accuracy: 0.9705 - val_loss: 0.0914 - val_accuracy: 0.9692\n",
            "Epoch 93/100\n",
            "16/16 [==============================] - 0s 12ms/step - loss: 0.0883 - accuracy: 0.9704 - val_loss: 0.0913 - val_accuracy: 0.9691\n",
            "Epoch 94/100\n",
            "16/16 [==============================] - 0s 12ms/step - loss: 0.0900 - accuracy: 0.9701 - val_loss: 0.0910 - val_accuracy: 0.9693\n",
            "Epoch 95/100\n",
            "16/16 [==============================] - 0s 13ms/step - loss: 0.0875 - accuracy: 0.9698 - val_loss: 0.0907 - val_accuracy: 0.9697\n",
            "Epoch 96/100\n",
            "16/16 [==============================] - 0s 13ms/step - loss: 0.0901 - accuracy: 0.9696 - val_loss: 0.0906 - val_accuracy: 0.9695\n",
            "Epoch 97/100\n",
            "16/16 [==============================] - 0s 13ms/step - loss: 0.0879 - accuracy: 0.9707 - val_loss: 0.0904 - val_accuracy: 0.9694\n",
            "Epoch 98/100\n",
            "16/16 [==============================] - 0s 13ms/step - loss: 0.0890 - accuracy: 0.9702 - val_loss: 0.0900 - val_accuracy: 0.9695\n",
            "Epoch 99/100\n",
            "16/16 [==============================] - 0s 12ms/step - loss: 0.0863 - accuracy: 0.9708 - val_loss: 0.0898 - val_accuracy: 0.9697\n",
            "Epoch 100/100\n",
            "16/16 [==============================] - 0s 13ms/step - loss: 0.0852 - accuracy: 0.9712 - val_loss: 0.0896 - val_accuracy: 0.9696\n"
          ]
        }
      ],
      "source": [
        "# training the model on training dataset\n",
        "history = mlp.fit(X_train, y_train, epochs=100, batch_size=5000,validation_split=0.2)"
      ]
    },
    {
      "cell_type": "code",
      "execution_count": null,
      "metadata": {
        "colab": {
          "base_uri": "https://localhost:8080/"
        },
        "id": "sri14hur2zuN",
        "outputId": "9f948a59-930a-43da-c9ed-be7b67ce59bd"
      },
      "outputs": [
        {
          "name": "stdout",
          "output_type": "stream",
          "text": [
            "Saved model to disk\n",
            "Loaded model from disk\n"
          ]
        }
      ],
      "source": [
        "filepath = './models/mlp_multi.json'\n",
        "weightspath = './weights/mlp_multi.h5'\n",
        "if (not path.isfile(filepath)):\n",
        "  # serialize model to JSON\n",
        "  mlp_json = mlp.to_json()\n",
        "  with open(filepath, \"w\") as json_file:\n",
        "    json_file.write(mlp_json)\n",
        "\n",
        "  # serialize weights to HDF5\n",
        "  mlp.save_weights(weightspath)\n",
        "  print(\"Saved model to disk\")\n",
        "  \n",
        "  # load json and create model\n",
        "  json_file = open(filepath, 'r')\n",
        "  loaded_model_json = json_file.read()\n",
        "  json_file.close()\n",
        "  mlp = model_from_json(loaded_model_json)\n",
        "\n",
        "  # load weights into new model\n",
        "  mlp.load_weights(weightspath)\n",
        "  print(\"Loaded model from disk\")"
      ]
    },
    {
      "cell_type": "code",
      "execution_count": null,
      "metadata": {
        "id": "H29GR38R21Bl"
      },
      "outputs": [],
      "source": [
        "# defining loss function, optimizer, metrics and then compiling model\n",
        "mlp.compile(loss='categorical_crossentropy', optimizer='adam', metrics=['accuracy'])"
      ]
    },
    {
      "cell_type": "code",
      "execution_count": null,
      "metadata": {
        "colab": {
          "base_uri": "https://localhost:8080/"
        },
        "id": "zkzQb_yHLhaX",
        "outputId": "27f6ad15-d9bc-45ce-8131-01e3d0e72063"
      },
      "outputs": [
        {
          "name": "stdout",
          "output_type": "stream",
          "text": [
            "985/985 [==============================] - 1s 936us/step - loss: 0.0941 - accuracy: 0.9682\n",
            "Test results - Loss: 0.0895298421382904 - Accuracy: 96.92639708518982%\n"
          ]
        }
      ],
      "source": [
        "# predicting target attribute on testing dataset\n",
        "test_results = mlp.evaluate(X_test, y_test, verbose=1)\n",
        "print(f'Test results - Loss: {test_results[0]} - Accuracy: {test_results[1]*100}%')"
      ]
    },
    {
      "cell_type": "code",
      "execution_count": null,
      "metadata": {
        "colab": {
          "base_uri": "https://localhost:8080/",
          "height": 295
        },
        "id": "znDf_uubLuH2",
        "outputId": "8c058731-edb5-41bb-bb5b-61f1905b3cda"
      },
      "outputs": [
        {
          "data": {
            "image/png": "[encoded data removed]",
            "text/plain": [
              "<Figure size 432x288 with 1 Axes>"
            ]
          },
          "metadata": {
            "needs_background": "light",
            "tags": []
          },
          "output_type": "display_data"
        }
      ],
      "source": [
        "# Plot of accuracy vs epoch for train and test dataset\n",
        "plt.plot(history.history['accuracy'])\n",
        "plt.plot(history.history['val_accuracy'])\n",
        "plt.title(\"Plot of accuracy vs epoch for train and test dataset\")\n",
        "plt.ylabel('accuracy')\n",
        "plt.xlabel('epoch')\n",
        "plt.legend(['train', 'test'], loc='best')\n",
        "plt.savefig('plots/mlp_multi_accuracy.png')\n",
        "plt.show()"
      ]
    },
    {
      "cell_type": "code",
      "execution_count": null,
      "metadata": {
        "colab": {
          "base_uri": "https://localhost:8080/",
          "height": 295
        },
        "id": "Ncfod0AWLw7W",
        "outputId": "6a907b11-cc54-4927-8d84-46c0fb05c73f"
      },
      "outputs": [
        {
          "data": {
            "image/png": "[encoded data removed]",
            "text/plain": [
              "<Figure size 432x288 with 1 Axes>"
            ]
          },
          "metadata": {
            "needs_background": "light",
            "tags": []
          },
          "output_type": "display_data"
        }
      ],
      "source": [
        "# Plot of loss vs epoch for train and test dataset\n",
        "plt.plot(history.history['loss'])\n",
        "plt.plot(history.history['val_loss'])\n",
        "plt.title(\"Plot of loss vs epoch for train and test dataset\")\n",
        "plt.ylabel('loss')\n",
        "plt.xlabel('epoch')\n",
        "plt.legend(['train', 'test'], loc='upper right')\n",
        "plt.savefig('plots/mlp_multi_loss.png')\n",
        "plt.show()"
      ]
    },
    {
      "cell_type": "code",
      "execution_count": null,
      "metadata": {
        "colab": {
          "base_uri": "https://localhost:8080/",
          "height": 312
        },
        "id": "7AhHtm2r7T2-",
        "outputId": "cf54db0f-d769-400b-9b04-88f8c67f14f6"
      },
      "outputs": [
        {
          "data": {
            "image/png": "[encoded data removed]",
            "text/plain": [
              "<IPython.core.display.Image object>"
            ]
          },
          "execution_count": 203,
          "metadata": {
            "tags": []
          },
          "output_type": "execute_result"
        }
      ],
      "source": [
        "# representation of model layers\n",
        "plot_model(mlp, to_file='plots/mlp_multi.png', show_shapes=True,)"
      ]
    },
    {
      "cell_type": "markdown",
      "metadata": {
        "id": "RpcZ4R0m8L7N"
      },
      "source": [
        "# **Auto Encoder Classifier (Multi-class Classification)**"
      ]
    },
    {
      "cell_type": "code",
      "execution_count": null,
      "metadata": {
        "id": "VVNdyL8S8Vaw"
      },
      "outputs": [],
      "source": [
        "# splitting the dataset 75% for training and 25% testing\n",
        "X_train, X_test = train_test_split(multi_data, test_size=0.25, random_state=42)"
      ]
    },
    {
      "cell_type": "code",
      "execution_count": null,
      "metadata": {
        "id": "L03tdsFq8Wdj"
      },
      "outputs": [],
      "source": [
        "# dataset excluding target attribute (encoded, one-hot-encoded,original)\n",
        "X_train = X_train.drop(['intrusion','Dos','normal','Probe','R2L','U2R','label'],axis=1)\n",
        "\n",
        "y_test = X_test['intrusion'] # target attribute\n",
        "\n",
        "# dataset excluding target attribute (encoded, one-hot-encoded,original)\n",
        "X_test = X_test.drop(['intrusion','Dos','normal','Probe','R2L','U2R','label'],axis=1)"
      ]
    },
    {
      "cell_type": "code",
      "execution_count": null,
      "metadata": {
        "id": "4cT2cprf8bSf"
      },
      "outputs": [],
      "source": [
        "X_train = X_train.values\n",
        "X_test = X_test.values\n",
        "y_test = y_test.values"
      ]
    },
    {
      "cell_type": "code",
      "execution_count": null,
      "metadata": {
        "id": "4eKXJ5JC8dWJ"
      },
      "outputs": [],
      "source": [
        "input_dim = X_train.shape[1]\n",
        "encoding_dim = 50\n",
        "\n",
        "#input layer\n",
        "input_layer = Input(shape=(input_dim, ))\n",
        "#encoding layer with 50 neurons\n",
        "encoder = Dense(encoding_dim, activation=\"relu\")(input_layer)           \n",
        "#decoding and output layer\n",
        "output_layer = Dense(input_dim, activation='softmax')(encoder)"
      ]
    },
    {
      "cell_type": "code",
      "execution_count": null,
      "metadata": {
        "id": "jWToOFFE4cEB"
      },
      "outputs": [],
      "source": [
        "# creating model with input, encoding, decoding, output layers\n",
        "autoencoder = Model(inputs=input_layer, outputs=output_layer)\n",
        "\n",
        "# defining loss function, optimizer, metrics and then compiling model\n",
        "autoencoder.compile(optimizer='adam', loss='mean_squared_error',metrics=['accuracy'])"
      ]
    },
    {
      "cell_type": "code",
      "execution_count": null,
      "metadata": {
        "colab": {
          "base_uri": "https://localhost:8080/"
        },
        "id": "zKTV_xaK8ha8",
        "outputId": "52f998bd-01ec-4d25-e99d-9d49db04aea4"
      },
      "outputs": [
        {
          "name": "stdout",
          "output_type": "stream",
          "text": [
            "Model: \"model_1\"\n",
            "_________________________________________________________________\n",
            "Layer (type)                 Output Shape              Param #   \n",
            "=================================================================\n",
            "input_2 (InputLayer)         [(None, 93)]              0         \n",
            "_________________________________________________________________\n",
            "dense_8 (Dense)              (None, 50)                4700      \n",
            "_________________________________________________________________\n",
            "dense_9 (Dense)              (None, 93)                4743      \n",
            "=================================================================\n",
            "Total params: 9,443\n",
            "Trainable params: 9,443\n",
            "Non-trainable params: 0\n",
            "_________________________________________________________________\n"
          ]
        }
      ],
      "source": [
        "# summary of model layers\n",
        "autoencoder.summary()"
      ]
    },
    {
      "cell_type": "code",
      "execution_count": null,
      "metadata": {
        "colab": {
          "base_uri": "https://localhost:8080/"
        },
        "id": "dfO2sPjn8kCd",
        "outputId": "48d6a854-8a01-4daf-a375-955409e00edf"
      },
      "outputs": [
        {
          "name": "stdout",
          "output_type": "stream",
          "text": [
            "Epoch 1/100\n",
            "189/189 [==============================] - 1s 4ms/step - loss: 0.1211 - accuracy: 0.1116 - val_loss: 0.1060 - val_accuracy: 0.3333\n",
            "Epoch 2/100\n",
            "189/189 [==============================] - 1s 3ms/step - loss: 0.1054 - accuracy: 0.4788 - val_loss: 0.1051 - val_accuracy: 0.6918\n",
            "Epoch 3/100\n",
            "189/189 [==============================] - 1s 4ms/step - loss: 0.1048 - accuracy: 0.6864 - val_loss: 0.1049 - val_accuracy: 0.6834\n",
            "Epoch 4/100\n",
            "189/189 [==============================] - 1s 4ms/step - loss: 0.1046 - accuracy: 0.7274 - val_loss: 0.1048 - val_accuracy: 0.7741\n",
            "Epoch 5/100\n",
            "189/189 [==============================] - 1s 4ms/step - loss: 0.1044 - accuracy: 0.7674 - val_loss: 0.1048 - val_accuracy: 0.8045\n",
            "Epoch 6/100\n",
            "189/189 [==============================] - 1s 4ms/step - loss: 0.1046 - accuracy: 0.8088 - val_loss: 0.1047 - val_accuracy: 0.8379\n",
            "Epoch 7/100\n",
            "189/189 [==============================] - 1s 3ms/step - loss: 0.1047 - accuracy: 0.8389 - val_loss: 0.1047 - val_accuracy: 0.8338\n",
            "Epoch 8/100\n",
            "189/189 [==============================] - 1s 4ms/step - loss: 0.1045 - accuracy: 0.8605 - val_loss: 0.1047 - val_accuracy: 0.8636\n",
            "Epoch 9/100\n",
            "189/189 [==============================] - 1s 4ms/step - loss: 0.1046 - accuracy: 0.8686 - val_loss: 0.1047 - val_accuracy: 0.8626\n",
            "Epoch 10/100\n",
            "189/189 [==============================] - 1s 4ms/step - loss: 0.1042 - accuracy: 0.8733 - val_loss: 0.1046 - val_accuracy: 0.8757\n",
            "Epoch 11/100\n",
            "189/189 [==============================] - 1s 4ms/step - loss: 0.1042 - accuracy: 0.8749 - val_loss: 0.1046 - val_accuracy: 0.8832\n",
            "Epoch 12/100\n",
            "189/189 [==============================] - 1s 4ms/step - loss: 0.1043 - accuracy: 0.8783 - val_loss: 0.1046 - val_accuracy: 0.8705\n",
            "Epoch 13/100\n",
            "189/189 [==============================] - 1s 4ms/step - loss: 0.1041 - accuracy: 0.8807 - val_loss: 0.1046 - val_accuracy: 0.8882\n",
            "Epoch 14/100\n",
            "189/189 [==============================] - 1s 4ms/step - loss: 0.1044 - accuracy: 0.8814 - val_loss: 0.1046 - val_accuracy: 0.8894\n",
            "Epoch 15/100\n",
            "189/189 [==============================] - 1s 4ms/step - loss: 0.1043 - accuracy: 0.8765 - val_loss: 0.1046 - val_accuracy: 0.8816\n",
            "Epoch 16/100\n",
            "189/189 [==============================] - 1s 3ms/step - loss: 0.1042 - accuracy: 0.8776 - val_loss: 0.1046 - val_accuracy: 0.8882\n",
            "Epoch 17/100\n",
            "189/189 [==============================] - 1s 4ms/step - loss: 0.1044 - accuracy: 0.8809 - val_loss: 0.1046 - val_accuracy: 0.8835\n",
            "Epoch 18/100\n",
            "189/189 [==============================] - 1s 3ms/step - loss: 0.1042 - accuracy: 0.8778 - val_loss: 0.1046 - val_accuracy: 0.9059\n",
            "Epoch 19/100\n",
            "189/189 [==============================] - 1s 3ms/step - loss: 0.1043 - accuracy: 0.8784 - val_loss: 0.1046 - val_accuracy: 0.8973\n",
            "Epoch 20/100\n",
            "189/189 [==============================] - 1s 4ms/step - loss: 0.1043 - accuracy: 0.8859 - val_loss: 0.1046 - val_accuracy: 0.8976\n",
            "Epoch 21/100\n",
            "189/189 [==============================] - 1s 3ms/step - loss: 0.1045 - accuracy: 0.8822 - val_loss: 0.1046 - val_accuracy: 0.8603\n",
            "Epoch 22/100\n",
            "189/189 [==============================] - 1s 3ms/step - loss: 0.1045 - accuracy: 0.8769 - val_loss: 0.1046 - val_accuracy: 0.8695\n",
            "Epoch 23/100\n",
            "189/189 [==============================] - 1s 3ms/step - loss: 0.1043 - accuracy: 0.8720 - val_loss: 0.1046 - val_accuracy: 0.8490\n",
            "Epoch 24/100\n",
            "189/189 [==============================] - 1s 4ms/step - loss: 0.1043 - accuracy: 0.8712 - val_loss: 0.1046 - val_accuracy: 0.8844\n",
            "Epoch 25/100\n",
            "189/189 [==============================] - 1s 3ms/step - loss: 0.1045 - accuracy: 0.8726 - val_loss: 0.1046 - val_accuracy: 0.8168\n",
            "Epoch 26/100\n",
            "189/189 [==============================] - 1s 3ms/step - loss: 0.1042 - accuracy: 0.8717 - val_loss: 0.1046 - val_accuracy: 0.9182\n",
            "Epoch 27/100\n",
            "189/189 [==============================] - 1s 4ms/step - loss: 0.1043 - accuracy: 0.8834 - val_loss: 0.1046 - val_accuracy: 0.8768\n",
            "Epoch 28/100\n",
            "189/189 [==============================] - 1s 3ms/step - loss: 0.1044 - accuracy: 0.8795 - val_loss: 0.1046 - val_accuracy: 0.8779\n",
            "Epoch 29/100\n",
            "189/189 [==============================] - 1s 4ms/step - loss: 0.1042 - accuracy: 0.8802 - val_loss: 0.1046 - val_accuracy: 0.8919\n",
            "Epoch 30/100\n",
            "189/189 [==============================] - 1s 4ms/step - loss: 0.1046 - accuracy: 0.8813 - val_loss: 0.1046 - val_accuracy: 0.8715\n",
            "Epoch 31/100\n",
            "189/189 [==============================] - 1s 4ms/step - loss: 0.1043 - accuracy: 0.8850 - val_loss: 0.1046 - val_accuracy: 0.8924\n",
            "Epoch 32/100\n",
            "189/189 [==============================] - 1s 4ms/step - loss: 0.1043 - accuracy: 0.8801 - val_loss: 0.1046 - val_accuracy: 0.8982\n",
            "Epoch 33/100\n",
            "189/189 [==============================] - 1s 4ms/step - loss: 0.1044 - accuracy: 0.8824 - val_loss: 0.1046 - val_accuracy: 0.8785\n",
            "Epoch 34/100\n",
            "189/189 [==============================] - 1s 4ms/step - loss: 0.1042 - accuracy: 0.8803 - val_loss: 0.1046 - val_accuracy: 0.8947\n",
            "Epoch 35/100\n",
            "189/189 [==============================] - 1s 4ms/step - loss: 0.1042 - accuracy: 0.8812 - val_loss: 0.1046 - val_accuracy: 0.9182\n",
            "Epoch 36/100\n",
            "189/189 [==============================] - 1s 4ms/step - loss: 0.1044 - accuracy: 0.8824 - val_loss: 0.1046 - val_accuracy: 0.9256\n",
            "Epoch 37/100\n",
            "189/189 [==============================] - 1s 3ms/step - loss: 0.1044 - accuracy: 0.8805 - val_loss: 0.1046 - val_accuracy: 0.9182\n",
            "Epoch 38/100\n",
            "189/189 [==============================] - 1s 4ms/step - loss: 0.1041 - accuracy: 0.8789 - val_loss: 0.1046 - val_accuracy: 0.8771\n",
            "Epoch 39/100\n",
            "189/189 [==============================] - 1s 4ms/step - loss: 0.1044 - accuracy: 0.8778 - val_loss: 0.1046 - val_accuracy: 0.9007\n",
            "Epoch 40/100\n",
            "189/189 [==============================] - 1s 3ms/step - loss: 0.1041 - accuracy: 0.8858 - val_loss: 0.1046 - val_accuracy: 0.8668\n",
            "Epoch 41/100\n",
            "189/189 [==============================] - 1s 4ms/step - loss: 0.1043 - accuracy: 0.8817 - val_loss: 0.1046 - val_accuracy: 0.9312\n",
            "Epoch 42/100\n",
            "189/189 [==============================] - 1s 4ms/step - loss: 0.1044 - accuracy: 0.8862 - val_loss: 0.1046 - val_accuracy: 0.9068\n",
            "Epoch 43/100\n",
            "189/189 [==============================] - 1s 3ms/step - loss: 0.1043 - accuracy: 0.8879 - val_loss: 0.1046 - val_accuracy: 0.8892\n",
            "Epoch 44/100\n",
            "189/189 [==============================] - 1s 4ms/step - loss: 0.1043 - accuracy: 0.8835 - val_loss: 0.1046 - val_accuracy: 0.8528\n",
            "Epoch 45/100\n",
            "189/189 [==============================] - 1s 4ms/step - loss: 0.1044 - accuracy: 0.8863 - val_loss: 0.1046 - val_accuracy: 0.8876\n",
            "Epoch 46/100\n",
            "189/189 [==============================] - 1s 4ms/step - loss: 0.1043 - accuracy: 0.8843 - val_loss: 0.1046 - val_accuracy: 0.8754\n",
            "Epoch 47/100\n",
            "189/189 [==============================] - 1s 4ms/step - loss: 0.1040 - accuracy: 0.8867 - val_loss: 0.1046 - val_accuracy: 0.8848\n",
            "Epoch 48/100\n",
            "189/189 [==============================] - 1s 4ms/step - loss: 0.1044 - accuracy: 0.8846 - val_loss: 0.1046 - val_accuracy: 0.8829\n",
            "Epoch 49/100\n",
            "189/189 [==============================] - 1s 3ms/step - loss: 0.1044 - accuracy: 0.8845 - val_loss: 0.1046 - val_accuracy: 0.8719\n",
            "Epoch 50/100\n",
            "189/189 [==============================] - 1s 4ms/step - loss: 0.1044 - accuracy: 0.8882 - val_loss: 0.1046 - val_accuracy: 0.9105\n",
            "Epoch 51/100\n",
            "189/189 [==============================] - 1s 4ms/step - loss: 0.1046 - accuracy: 0.8899 - val_loss: 0.1046 - val_accuracy: 0.9427\n",
            "Epoch 52/100\n",
            "189/189 [==============================] - 1s 4ms/step - loss: 0.1044 - accuracy: 0.8933 - val_loss: 0.1046 - val_accuracy: 0.8755\n",
            "Epoch 53/100\n",
            "189/189 [==============================] - 1s 4ms/step - loss: 0.1044 - accuracy: 0.8904 - val_loss: 0.1046 - val_accuracy: 0.8981\n",
            "Epoch 54/100\n",
            "189/189 [==============================] - 1s 4ms/step - loss: 0.1041 - accuracy: 0.8924 - val_loss: 0.1046 - val_accuracy: 0.8621\n",
            "Epoch 55/100\n",
            "189/189 [==============================] - 1s 3ms/step - loss: 0.1042 - accuracy: 0.8902 - val_loss: 0.1046 - val_accuracy: 0.9139\n",
            "Epoch 56/100\n",
            "189/189 [==============================] - 1s 4ms/step - loss: 0.1045 - accuracy: 0.8947 - val_loss: 0.1046 - val_accuracy: 0.9121\n",
            "Epoch 57/100\n",
            "189/189 [==============================] - 1s 4ms/step - loss: 0.1044 - accuracy: 0.8964 - val_loss: 0.1046 - val_accuracy: 0.8844\n",
            "Epoch 58/100\n",
            "189/189 [==============================] - 1s 4ms/step - loss: 0.1044 - accuracy: 0.8980 - val_loss: 0.1046 - val_accuracy: 0.9275\n",
            "Epoch 59/100\n",
            "189/189 [==============================] - 1s 3ms/step - loss: 0.1044 - accuracy: 0.8995 - val_loss: 0.1046 - val_accuracy: 0.9300\n",
            "Epoch 60/100\n",
            "189/189 [==============================] - 1s 4ms/step - loss: 0.1044 - accuracy: 0.9041 - val_loss: 0.1046 - val_accuracy: 0.8990\n",
            "Epoch 61/100\n",
            "189/189 [==============================] - 1s 4ms/step - loss: 0.1046 - accuracy: 0.9032 - val_loss: 0.1046 - val_accuracy: 0.9065\n",
            "Epoch 62/100\n",
            "189/189 [==============================] - 1s 4ms/step - loss: 0.1042 - accuracy: 0.9052 - val_loss: 0.1046 - val_accuracy: 0.9297\n",
            "Epoch 63/100\n",
            "189/189 [==============================] - 1s 4ms/step - loss: 0.1046 - accuracy: 0.9066 - val_loss: 0.1046 - val_accuracy: 0.8933\n",
            "Epoch 64/100\n",
            "189/189 [==============================] - 1s 4ms/step - loss: 0.1043 - accuracy: 0.9137 - val_loss: 0.1046 - val_accuracy: 0.9557\n",
            "Epoch 65/100\n",
            "189/189 [==============================] - 1s 4ms/step - loss: 0.1044 - accuracy: 0.9122 - val_loss: 0.1046 - val_accuracy: 0.8872\n",
            "Epoch 66/100\n",
            "189/189 [==============================] - 1s 4ms/step - loss: 0.1045 - accuracy: 0.9109 - val_loss: 0.1046 - val_accuracy: 0.9039\n",
            "Epoch 67/100\n",
            "189/189 [==============================] - 1s 4ms/step - loss: 0.1042 - accuracy: 0.9150 - val_loss: 0.1046 - val_accuracy: 0.9266\n",
            "Epoch 68/100\n",
            "189/189 [==============================] - 1s 4ms/step - loss: 0.1043 - accuracy: 0.9166 - val_loss: 0.1046 - val_accuracy: 0.8617\n",
            "Epoch 69/100\n",
            "189/189 [==============================] - 1s 4ms/step - loss: 0.1042 - accuracy: 0.9117 - val_loss: 0.1046 - val_accuracy: 0.9324\n",
            "Epoch 70/100\n",
            "189/189 [==============================] - 1s 4ms/step - loss: 0.1043 - accuracy: 0.9167 - val_loss: 0.1046 - val_accuracy: 0.9322\n",
            "Epoch 71/100\n",
            "189/189 [==============================] - 1s 3ms/step - loss: 0.1043 - accuracy: 0.9182 - val_loss: 0.1046 - val_accuracy: 0.9087\n",
            "Epoch 72/100\n",
            "189/189 [==============================] - 1s 4ms/step - loss: 0.1039 - accuracy: 0.9185 - val_loss: 0.1046 - val_accuracy: 0.9133\n",
            "Epoch 73/100\n",
            "189/189 [==============================] - 1s 4ms/step - loss: 0.1045 - accuracy: 0.9195 - val_loss: 0.1046 - val_accuracy: 0.9253\n",
            "Epoch 74/100\n",
            "189/189 [==============================] - 1s 4ms/step - loss: 0.1043 - accuracy: 0.9192 - val_loss: 0.1046 - val_accuracy: 0.9410\n",
            "Epoch 75/100\n",
            "189/189 [==============================] - 1s 4ms/step - loss: 0.1044 - accuracy: 0.9196 - val_loss: 0.1046 - val_accuracy: 0.9420\n",
            "Epoch 76/100\n",
            "189/189 [==============================] - 1s 4ms/step - loss: 0.1043 - accuracy: 0.9227 - val_loss: 0.1046 - val_accuracy: 0.8929\n",
            "Epoch 77/100\n",
            "189/189 [==============================] - 1s 4ms/step - loss: 0.1041 - accuracy: 0.9206 - val_loss: 0.1046 - val_accuracy: 0.9654\n",
            "Epoch 78/100\n",
            "189/189 [==============================] - 1s 4ms/step - loss: 0.1044 - accuracy: 0.9210 - val_loss: 0.1046 - val_accuracy: 0.9148\n",
            "Epoch 79/100\n",
            "189/189 [==============================] - 1s 4ms/step - loss: 0.1043 - accuracy: 0.9199 - val_loss: 0.1046 - val_accuracy: 0.9097\n",
            "Epoch 80/100\n",
            "189/189 [==============================] - 1s 4ms/step - loss: 0.1040 - accuracy: 0.9190 - val_loss: 0.1046 - val_accuracy: 0.9011\n",
            "Epoch 81/100\n",
            "189/189 [==============================] - 1s 4ms/step - loss: 0.1044 - accuracy: 0.9192 - val_loss: 0.1046 - val_accuracy: 0.9179\n",
            "Epoch 82/100\n",
            "189/189 [==============================] - 1s 4ms/step - loss: 0.1045 - accuracy: 0.9207 - val_loss: 0.1046 - val_accuracy: 0.9341\n",
            "Epoch 83/100\n",
            "189/189 [==============================] - 1s 4ms/step - loss: 0.1042 - accuracy: 0.9214 - val_loss: 0.1046 - val_accuracy: 0.9240\n",
            "Epoch 84/100\n",
            "189/189 [==============================] - 1s 4ms/step - loss: 0.1043 - accuracy: 0.9227 - val_loss: 0.1046 - val_accuracy: 0.9378\n",
            "Epoch 85/100\n",
            "189/189 [==============================] - 1s 4ms/step - loss: 0.1045 - accuracy: 0.9238 - val_loss: 0.1046 - val_accuracy: 0.9449\n",
            "Epoch 86/100\n",
            "189/189 [==============================] - 1s 4ms/step - loss: 0.1041 - accuracy: 0.9244 - val_loss: 0.1046 - val_accuracy: 0.9167\n",
            "Epoch 87/100\n",
            "189/189 [==============================] - 1s 4ms/step - loss: 0.1044 - accuracy: 0.9221 - val_loss: 0.1046 - val_accuracy: 0.9044\n",
            "Epoch 88/100\n",
            "189/189 [==============================] - 1s 4ms/step - loss: 0.1044 - accuracy: 0.9212 - val_loss: 0.1046 - val_accuracy: 0.8906\n",
            "Epoch 89/100\n",
            "189/189 [==============================] - 1s 4ms/step - loss: 0.1043 - accuracy: 0.9210 - val_loss: 0.1046 - val_accuracy: 0.9201\n",
            "Epoch 90/100\n",
            "189/189 [==============================] - 1s 4ms/step - loss: 0.1042 - accuracy: 0.9223 - val_loss: 0.1046 - val_accuracy: 0.9461\n",
            "Epoch 91/100\n",
            "189/189 [==============================] - 1s 4ms/step - loss: 0.1042 - accuracy: 0.9221 - val_loss: 0.1046 - val_accuracy: 0.9488\n",
            "Epoch 92/100\n",
            "189/189 [==============================] - 1s 4ms/step - loss: 0.1046 - accuracy: 0.9232 - val_loss: 0.1046 - val_accuracy: 0.8920\n",
            "Epoch 93/100\n",
            "189/189 [==============================] - 1s 4ms/step - loss: 0.1044 - accuracy: 0.9221 - val_loss: 0.1046 - val_accuracy: 0.8819\n",
            "Epoch 94/100\n",
            "189/189 [==============================] - 1s 4ms/step - loss: 0.1044 - accuracy: 0.9195 - val_loss: 0.1046 - val_accuracy: 0.9473\n",
            "Epoch 95/100\n",
            "189/189 [==============================] - 1s 4ms/step - loss: 0.1041 - accuracy: 0.9203 - val_loss: 0.1046 - val_accuracy: 0.9172\n",
            "Epoch 96/100\n",
            "189/189 [==============================] - 1s 4ms/step - loss: 0.1046 - accuracy: 0.9234 - val_loss: 0.1046 - val_accuracy: 0.8926\n",
            "Epoch 97/100\n",
            "189/189 [==============================] - 1s 4ms/step - loss: 0.1043 - accuracy: 0.9232 - val_loss: 0.1046 - val_accuracy: 0.8981\n",
            "Epoch 98/100\n",
            "189/189 [==============================] - 1s 4ms/step - loss: 0.1045 - accuracy: 0.9211 - val_loss: 0.1046 - val_accuracy: 0.9458\n",
            "Epoch 99/100\n",
            "189/189 [==============================] - 1s 4ms/step - loss: 0.1042 - accuracy: 0.9226 - val_loss: 0.1046 - val_accuracy: 0.9545\n",
            "Epoch 100/100\n",
            "189/189 [==============================] - 1s 4ms/step - loss: 0.1044 - accuracy: 0.9218 - val_loss: 0.1046 - val_accuracy: 0.9123\n"
          ]
        }
      ],
      "source": [
        "# training the model on training dataset\n",
        "history = autoencoder.fit(X_train, X_train, epochs=100,batch_size=500,validation_data=(X_test, X_test)).history"
      ]
    },
    {
      "cell_type": "code",
      "execution_count": null,
      "metadata": {
        "colab": {
          "base_uri": "https://localhost:8080/"
        },
        "id": "mLGADfZb2RPo",
        "outputId": "09081ccd-ef6b-44e5-d730-a2f434d1e5a2"
      },
      "outputs": [
        {
          "name": "stdout",
          "output_type": "stream",
          "text": [
            "Saved model to disk\n",
            "Loaded model from disk\n"
          ]
        }
      ],
      "source": [
        "filepath = './models/ae_multi.json'\n",
        "weightspath = './weights/ae_multi.h5'\n",
        "if (not path.isfile(filepath)):  \n",
        "  # serialize model to JSON\n",
        "  autoencoder_json = autoencoder.to_json()\n",
        "  with open(filepath, \"w\") as json_file:\n",
        "    json_file.write(autoencoder_json)\n",
        "\n",
        "  # serialize weights to HDF5\n",
        "  autoencoder.save_weights(weightspath)\n",
        "  print(\"Saved model to disk\")\n",
        "\n",
        "  # load json and create model\n",
        "  json_file = open(filepath, 'r')\n",
        "  loaded_model_json = json_file.read()\n",
        "  json_file.close()\n",
        "  autoencoder = model_from_json(loaded_model_json)\n",
        "\n",
        "  # load weights into new model\n",
        "  autoencoder.load_weights(weightspath)\n",
        "  print(\"Loaded model from disk\")"
      ]
    },
    {
      "cell_type": "code",
      "execution_count": null,
      "metadata": {
        "id": "yZKaeUx82Plg"
      },
      "outputs": [],
      "source": [
        "# defining loss function, optimizer, metrics and then compiling model\n",
        "autoencoder.compile(optimizer='adam', loss='mean_squared_error',metrics=['accuracy'])"
      ]
    },
    {
      "cell_type": "code",
      "execution_count": null,
      "metadata": {
        "colab": {
          "base_uri": "https://localhost:8080/"
        },
        "id": "k6FP2WyL45il",
        "outputId": "346f84fc-47a4-4f00-8eb2-8330b9ffc04b"
      },
      "outputs": [
        {
          "name": "stdout",
          "output_type": "stream",
          "text": [
            "985/985 [==============================] - 1s 989us/step - loss: 0.1044 - accuracy: 0.9095\n",
            "Test results - Loss: 0.10456941276788712 - Accuracy: 91.22689962387085%\n"
          ]
        }
      ],
      "source": [
        "# predicting target attribute on testing dataset\n",
        "test_results = autoencoder.evaluate(X_test, X_test, verbose=1)\n",
        "print(f'Test results - Loss: {test_results[0]} - Accuracy: {test_results[1]*100}%')"
      ]
    },
    {
      "cell_type": "code",
      "execution_count": null,
      "metadata": {
        "colab": {
          "base_uri": "https://localhost:8080/",
          "height": 295
        },
        "id": "ozvJupCe8nd_",
        "outputId": "fda15698-b278-4682-8374-8ff1f96fd3e8"
      },
      "outputs": [
        {
          "data": {
            "image/png": "[encoded data removed]",
            "text/plain": [
              "<Figure size 432x288 with 1 Axes>"
            ]
          },
          "metadata": {
            "needs_background": "light",
            "tags": []
          },
          "output_type": "display_data"
        }
      ],
      "source": [
        "# Plot of loss vs epoch of train and test dataset\n",
        "plt.plot(history['loss'])\n",
        "plt.plot(history['val_loss'])\n",
        "plt.title(\"Plot of loss vs epoch for train and test dataset\")\n",
        "plt.ylabel('loss')\n",
        "plt.xlabel('epoch')\n",
        "plt.legend(['train', 'test'], loc='upper right')\n",
        "plt.savefig('plots/ae_multi_loss.png')\n",
        "plt.show()"
      ]
    },
    {
      "cell_type": "code",
      "execution_count": null,
      "metadata": {
        "colab": {
          "base_uri": "https://localhost:8080/",
          "height": 295
        },
        "id": "cYRK9MR-8rPN",
        "outputId": "16619e31-bd72-4091-9a0a-9e67108ec9fe"
      },
      "outputs": [
        {
          "data": {
            "image/png": "[encoded data removed]",
            "text/plain": [
              "<Figure size 432x288 with 1 Axes>"
            ]
          },
          "metadata": {
            "needs_background": "light",
            "tags": []
          },
          "output_type": "display_data"
        }
      ],
      "source": [
        "# Plot of loss vs epoch of train and test dataset\n",
        "plt.plot(history['accuracy'])\n",
        "plt.plot(history['val_accuracy'])\n",
        "plt.title(\"Plot of accuracy vs epoch for train and test dataset\")\n",
        "plt.ylabel('accuracy')\n",
        "plt.xlabel('epoch')\n",
        "plt.legend(['train', 'test'], loc='best')\n",
        "plt.savefig('plots/ae_multi_accuracy.png')\n",
        "plt.show()"
      ]
    },
    {
      "cell_type": "code",
      "execution_count": null,
      "metadata": {
        "colab": {
          "base_uri": "https://localhost:8080/",
          "height": 312
        },
        "id": "B5sSYUlU5AQd",
        "outputId": "f1f5849a-db04-4d36-ff31-03a5c501e2da"
      },
      "outputs": [
        {
          "data": {
            "image/png": "[encoded data removed]",
            "text/plain": [
              "<IPython.core.display.Image object>"
            ]
          },
          "execution_count": 216,
          "metadata": {
            "tags": []
          },
          "output_type": "execute_result"
        }
      ],
      "source": [
        "# representation of model layers\n",
        "plot_model(autoencoder, to_file='plots/ae_multi.png', show_shapes=True,)"
      ]
    },
    {
      "cell_type": "code",
      "execution_count": null,
      "metadata": {
        "id": "EL_GdCLX8xmB"
      },
      "outputs": [],
      "source": [
        "# calculating reconstruction error\n",
        "predictions = autoencoder.predict(X_test)"
      ]
    },
    {
      "cell_type": "code",
      "execution_count": null,
      "metadata": {
        "id": "HiA_107u8443"
      },
      "outputs": [],
      "source": [
        "mse = np.mean(np.power(X_test - predictions, 2), axis=1)\n",
        "error_df = pd.DataFrame({'reconstruction_error': mse,\n",
        "                        'true_class': y_test})"
      ]
    },
    {
      "cell_type": "code",
      "execution_count": null,
      "metadata": {
        "colab": {
          "base_uri": "https://localhost:8080/",
          "height": 297
        },
        "id": "7p0ih_628858",
        "outputId": "a4c5e3f3-3d2e-4d46-9e56-7b68538175a0"
      },
      "outputs": [
        {
          "data": {
            "text/html": [
              "<div>\n",
              "<style scoped>\n",
              "    .dataframe tbody tr th:only-of-type {\n",
              "        vertical-align: middle;\n",
              "    }\n",
              "\n",
              "    .dataframe tbody tr th {\n",
              "        vertical-align: top;\n",
              "    }\n",
              "\n",
              "    .dataframe thead th {\n",
              "        text-align: right;\n",
              "    }\n",
              "</style>\n",
              "<table border=\"1\" class=\"dataframe\">\n",
              "  <thead>\n",
              "    <tr style=\"text-align: right;\">\n",
              "      <th></th>\n",
              "      <th>reconstruction_error</th>\n",
              "      <th>true_class</th>\n",
              "    </tr>\n",
              "  </thead>\n",
              "  <tbody>\n",
              "    <tr>\n",
              "      <th>count</th>\n",
              "      <td>31494.000000</td>\n",
              "      <td>31494.000000</td>\n",
              "    </tr>\n",
              "    <tr>\n",
              "      <th>mean</th>\n",
              "      <td>0.104569</td>\n",
              "      <td>2.242840</td>\n",
              "    </tr>\n",
              "    <tr>\n",
              "      <th>std</th>\n",
              "      <td>0.043572</td>\n",
              "      <td>1.903732</td>\n",
              "    </tr>\n",
              "    <tr>\n",
              "      <th>min</th>\n",
              "      <td>0.040634</td>\n",
              "      <td>0.000000</td>\n",
              "    </tr>\n",
              "    <tr>\n",
              "      <th>25%</th>\n",
              "      <td>0.074501</td>\n",
              "      <td>0.000000</td>\n",
              "    </tr>\n",
              "    <tr>\n",
              "      <th>50%</th>\n",
              "      <td>0.083821</td>\n",
              "      <td>4.000000</td>\n",
              "    </tr>\n",
              "    <tr>\n",
              "      <th>75%</th>\n",
              "      <td>0.151404</td>\n",
              "      <td>4.000000</td>\n",
              "    </tr>\n",
              "    <tr>\n",
              "      <th>max</th>\n",
              "      <td>0.229786</td>\n",
              "      <td>4.000000</td>\n",
              "    </tr>\n",
              "  </tbody>\n",
              "</table>\n",
              "</div>"
            ],
            "text/plain": [
              "       reconstruction_error    true_class\n",
              "count          31494.000000  31494.000000\n",
              "mean               0.104569      2.242840\n",
              "std                0.043572      1.903732\n",
              "min                0.040634      0.000000\n",
              "25%                0.074501      0.000000\n",
              "50%                0.083821      4.000000\n",
              "75%                0.151404      4.000000\n",
              "max                0.229786      4.000000"
            ]
          },
          "execution_count": 219,
          "metadata": {
            "tags": []
          },
          "output_type": "execute_result"
        }
      ],
      "source": [
        "error_df.describe()"
      ]
    },
    {
      "cell_type": "code",
      "execution_count": null,
      "metadata": {
        "id": "aLLK_7t_r1Ey"
      },
      "outputs": [],
      "source": []
    }
  ],
  "metadata": {
    "colab": {
      "collapsed_sections": [],
      "name": "Classifiers_NSL-KDD.ipynb",
      "provenance": [],
      "toc_visible": true
    },
    "kernelspec": {
      "display_name": "Python 3",
      "name": "python3"
    },
    "language_info": {
      "codemirror_mode": {
        "name": "ipython",
        "version": 3
      },
      "file_extension": ".py",
      "mimetype": "text/x-python",
      "name": "python",
      "nbconvert_exporter": "python",
      "pygments_lexer": "ipython3",
      "version": "3.11.1"
    }
  },
  "nbformat": 4,
  "nbformat_minor": 0
}
